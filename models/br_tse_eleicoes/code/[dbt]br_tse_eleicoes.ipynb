{
  "nbformat": 4,
  "nbformat_minor": 0,
  "metadata": {
    "colab": {
      "provenance": []
    },
    "kernelspec": {
      "name": "python3",
      "display_name": "Python 3"
    },
    "language_info": {
      "name": "python"
    }
  },
  "cells": [
    {
      "cell_type": "markdown",
      "source": [
        "# Introdução"
      ],
      "metadata": {
        "id": "63fm0SdJXRhW"
      }
    },
    {
      "cell_type": "markdown",
      "source": [
        "Esse notebook serve de auxilio a atualização das tabelas vindo do [TSE](https://dadosabertos.tse.jus.br/dataset/?tags=Ano+2024)\n",
        "\n",
        "Infelizmente no momento desse notebook o TSE não aceita acessos de Ips estrangeiros. Então, aqui está concetrada o tratamento dos dados e não o download dos arquivos brutos originais.\n",
        "\n",
        "Temos algumas categorias diferente que são necessarias serem baixadas para a utilização desses codigos.\n",
        "\n",
        "Fontes necessarias de exemplo:\n",
        "\n",
        "- https://dadosabertos.tse.jus.br/dataset/candidatos-2024\n",
        "- https://dadosabertos.tse.jus.br/dataset/resultados-2024\n",
        "\n",
        "Apesar de existir duplicadas para serem tratadas e outros problemas menores com os dados originais. O tratamento é focado em deixa os dados no formato compativel com os dados já em produção e de anos mais antigos.\n",
        "\n",
        "## Ordem de execução\n",
        "\n",
        "### Celulas obrigatorias para execução do notebook\n",
        "\n",
        "- Instalação\n",
        "- Funções e utilitários\n",
        "- Constantes\n",
        "\n",
        ">  Não esqueça de atualizar caminhos de arquivos para os locais corretos da sua sessão ou local de execução e de atualizar o paramentro de `ano` das funçoes para o ano que gostaria de atualizar os dados\n",
        "\n",
        "### Extrair\n",
        "\n",
        "Conjuto de celulas não são obrigatorias. Serve mais como um auxilio caso necessite de ajuda para extrair arquivos de ZIPs. Formato o qual os arquivo vem do TSE\n",
        "\n",
        "Là apenas tem exemplo de codigo e utilização dele.\n",
        "\n",
        "### Tabelas\n",
        "\n",
        "Cada tabela tem sua celular de funçoes e logo abaixo uma celula de execução de tratamento. Elas tevem ser executadas em sequencia sempre!\n",
        "\n",
        "> Não esquecer de atualizar os caminhos de onde se encontra os arquivos CSVs originais do TSE. Existem comentarios avisando das alteraçoes necessarias\n",
        "\n",
        "\n",
        "## Consideração final\n",
        "\n",
        "Codigos não estão revisados e não são versoes finais. A ideia seria criar um `class` com a possibilidade de tratar todas as tabelas necessarias do TSE.\n",
        "Porém, essa versão está aqui como auxilio e pode vim a ser atualizada.\n",
        "\n",
        "Algumas outras tabelas são atualizadas a partir de codigos que estão no reposito de [pipelines](https://github.com/basedosdados/pipelines/blob/main/pipelines/utils/crawler_tse_eleicoes/utils.py) que podem ser rodados localmente.\n"
      ],
      "metadata": {
        "id": "mHVBAPVhXTe0"
      }
    },
    {
      "cell_type": "markdown",
      "source": [
        "# Instalação"
      ],
      "metadata": {
        "id": "fQXMTyY0xR6p"
      }
    },
    {
      "cell_type": "code",
      "execution_count": null,
      "metadata": {
        "id": "TXBfvcHqhKi2"
      },
      "outputs": [],
      "source": [
        "from IPython.display import clear_output\n",
        "import os\n",
        "import sys\n",
        "import shutil\n",
        "\n",
        "!pip install basedosdados==2.0.0b16\n",
        "clear_output()\n"
      ]
    },
    {
      "cell_type": "markdown",
      "source": [
        "#  Funções e utilitários"
      ],
      "metadata": {
        "id": "WkouKXExh9Nu"
      }
    },
    {
      "cell_type": "code",
      "source": [
        "from pathlib import Path, PurePath\n",
        "import tempfile\n",
        "import basedosdados as bd\n",
        "import pandas as pd\n",
        "import zipfile\n",
        "import glob\n",
        "import os\n",
        "import unicodedata\n",
        "from datetime import datetime\n",
        "import shutil\n",
        "\n",
        "\n",
        "def slugify(s: str) -> str:\n",
        "\n",
        "    s = s.strip().lower()\n",
        "    s = unicodedata.normalize(\"NFD\", s)\n",
        "    if \"º\" not in s:\n",
        "      s = s.encode(\"ascii\", \"ignore\")\n",
        "      s = s.decode(\"utf-8\")\n",
        "    s = s.lower().strip()\n",
        "    return s\n",
        "\n",
        "\n",
        "def conv_data(date: str, birth: bool = False) -> str:\n",
        "  try:\n",
        "    data_datetime = datetime.strptime(date, \"%d/%m/%Y\")\n",
        "    if birth:\n",
        "      idade = datetime.now().year - data_datetime.year\n",
        "      if not 18 <= idade < 120 :\n",
        "        raise Exception(\"Idade Inválida\")\n",
        "    return data_datetime.strftime('%Y-%m-%d')\n",
        "  except:\n",
        "    return \"\"\n",
        "\n",
        "\n",
        "def to_partitions(\n",
        "    data: pd.DataFrame,\n",
        "    partition_columns: list,\n",
        "    savepath: str,\n",
        "    file_type: str = \"csv\",\n",
        "    name_file: str = \"data\"\n",
        "):\n",
        "    \"\"\"Save data in to hive patitions schema, given a dataframe and a list of partition columns.\n",
        "    Args:\n",
        "        data (pandas.core.frame.DataFrame): Dataframe to be partitioned.\n",
        "        partition_columns (list): List of columns to be used as partitions.\n",
        "        savepath (str, pathlib.PosixPath): folder path to save the partitions.\n",
        "        file_type (str): default to csv. Accepts parquet.\n",
        "    Exemple:\n",
        "        data = {\n",
        "            \"ano\": [2020, 2021, 2020, 2021, 2020, 2021, 2021,2025],\n",
        "            \"mes\": [1, 2, 3, 4, 5, 6, 6,9],\n",
        "            \"sigla_uf\": [\"SP\", \"SP\", \"RJ\", \"RJ\", \"PR\", \"PR\", \"PR\",\"PR\"],\n",
        "            \"dado\": [\"a\", \"b\", \"c\", \"d\", \"e\", \"f\", \"g\",'h'],\n",
        "        }\n",
        "        to_partitions(\n",
        "            data=pd.DataFrame(data),\n",
        "            partition_columns=['ano','mes','sigla_uf'],\n",
        "            savepath='partitions/',\n",
        "        )\n",
        "    \"\"\"\n",
        "\n",
        "    if isinstance(data, (pd.core.frame.DataFrame)):\n",
        "        savepath = Path(savepath)\n",
        "        # create unique combinations between partition columns\n",
        "        unique_combinations = (\n",
        "            data[partition_columns]\n",
        "            # .astype(str)\n",
        "            .drop_duplicates(subset=partition_columns).to_dict(orient=\"records\")\n",
        "        )\n",
        "\n",
        "        for filter_combination in unique_combinations:\n",
        "            patitions_values = [\n",
        "                f\"{partition}={value}\"\n",
        "                for partition, value in filter_combination.items()\n",
        "            ]\n",
        "\n",
        "            # get filtered data\n",
        "            df_filter = data.loc[\n",
        "                data[filter_combination.keys()]\n",
        "                .isin(filter_combination.values())\n",
        "                .all(axis=1),\n",
        "                :,\n",
        "            ]\n",
        "            df_filter = df_filter.drop(columns=partition_columns)\n",
        "\n",
        "            # create folder tree\n",
        "            filter_save_path = Path(savepath / \"/\".join(patitions_values))\n",
        "            filter_save_path.mkdir(parents=True, exist_ok=True)\n",
        "\n",
        "            if file_type == \"csv\":\n",
        "                # append data to csv\n",
        "                file_filter_save_path = Path(filter_save_path) / f\"{name_file}.csv\"\n",
        "                df_filter.to_csv(\n",
        "                    file_filter_save_path,\n",
        "                    sep=\",\",\n",
        "                    encoding=\"utf-8\",\n",
        "                    na_rep=\"\",\n",
        "                    index=False,\n",
        "                    mode=\"a\",\n",
        "                    header=not file_filter_save_path.exists(),\n",
        "                )\n",
        "            elif file_type == \"parquet\":\n",
        "                # append data to parquet\n",
        "                file_filter_save_path = Path(filter_save_path) / f\"{name_file}.parquet\"\n",
        "                df_filter.to_parquet(\n",
        "                    file_filter_save_path, index=False, compression=\"gzip\"\n",
        "                )\n",
        "    else:\n",
        "        raise BaseException(\"Data need to be a pandas DataFrame\")\n",
        "\n",
        "\n",
        "def send_folder_drive(path_drive: str, path_input: str) -> None:\n",
        "\n",
        "  if not len(os.listdir(path_input)) > 0:\n",
        "    raise Exception(\"Essa Pasta vazia\")\n",
        "    return None\n",
        "\n",
        "  shutil.make_archive(path_drive,\n",
        "                      'zip',\n",
        "                      path_input)"
      ],
      "metadata": {
        "id": "nn2WlCtrh5-J"
      },
      "execution_count": 9,
      "outputs": []
    },
    {
      "cell_type": "markdown",
      "source": [
        "# Constantes"
      ],
      "metadata": {
        "id": "2MyhFk_r3Iv6"
      }
    },
    {
      "cell_type": "code",
      "source": [
        "\n",
        "QUERY_MUNIPIPIOS = \"select id_municipio, id_municipio_tse from `basedosdados.br_bd_diretorios_brasil.municipio`\"\n",
        "\n",
        "municipios = bd.read_sql(\n",
        "  QUERY_MUNIPIPIOS,\n",
        "  billing_project_id=None # Colocar o nome do seu projeto\n",
        ")\n",
        "\n",
        "path_candidatos = None # Colocar caminho para arquivo com todos os candidatos. Exemplo \"votacao_candidato_munzona_2024_BRASIL.csv\"\n",
        "candidatos = pd.read_csv(path_candidatos,  sep=\";\", encoding=\"ISO-8859-1\", dtype=str, usecols=[\"NR_PARTIDO\", \"SG_PARTIDO\", \"SQ_CANDIDATO\"])"
      ],
      "metadata": {
        "id": "RipuoDy53LAh"
      },
      "execution_count": 21,
      "outputs": []
    },
    {
      "cell_type": "markdown",
      "source": [
        "# Tabelas"
      ],
      "metadata": {
        "id": "7dvjsSGAiLFv"
      }
    },
    {
      "cell_type": "markdown",
      "source": [
        "## Extrair"
      ],
      "metadata": {
        "id": "mDc-QmVSmjsH"
      }
    },
    {
      "cell_type": "code",
      "source": [
        "def extrair_drive(zip_name: str) -> None:\n",
        "  path_base_input_zip = None # atualizar caminho base onde se encontra os ZIPs do tse\n",
        "\n",
        "  path_zip_file = path_base_input_zip + zip_name\n",
        "\n",
        "  path_base_input = Path(\"input\")\n",
        "  path_base_input.mkdir(parents=True, exist_ok=True)\n",
        "\n",
        "  path_base_input = path_base_input / zip_name.split(\".\")[0]\n",
        "\n",
        "  with zipfile.ZipFile(path_zip_file) as z:\n",
        "      z.extractall(path_base_input)"
      ],
      "metadata": {
        "id": "kni0_9J2ixZ2"
      },
      "execution_count": null,
      "outputs": []
    },
    {
      "cell_type": "code",
      "source": [
        "zip_names = [\"votacao_partido_munzona_2024.zip\",\n",
        "             \"votacao_candidato_munzona_2024.zip\",\n",
        "             \"detalhe_votacao_secao_2024.zip\",\n",
        "             \"detalhe_votacao_munzona_2024.zip\",\n",
        "             \"resultados_atualizada_2024.zip\",\n",
        "             \"resultados_atualizado_secao_2024.zip\"]\n",
        "\n",
        "for zip_name in zip_names:\n",
        "  extrair_drive(zip_name)"
      ],
      "metadata": {
        "id": "IkHXVHvYlz5Q"
      },
      "execution_count": null,
      "outputs": []
    },
    {
      "cell_type": "code",
      "source": [
        "extrair_drive(\"secao_input.zip\")"
      ],
      "metadata": {
        "id": "N-WOOq8EfDjn"
      },
      "execution_count": 23,
      "outputs": []
    },
    {
      "cell_type": "code",
      "source": [
        "extrair_drive(\"resultados_atualizado_secao_2024.zip\")"
      ],
      "metadata": {
        "id": "4MdJDO0ux4MS"
      },
      "execution_count": null,
      "outputs": []
    },
    {
      "cell_type": "markdown",
      "source": [
        "## resultados_candidato"
      ],
      "metadata": {
        "id": "Zmu8Hj3Yml4n"
      }
    },
    {
      "cell_type": "code",
      "source": [
        "ORDER = { 'turno': 'NR_TURNO',\n",
        "          'id_eleicao': 'CD_ELEICAO',\n",
        "          'tipo_eleicao': 'NM_TIPO_ELEICAO',\n",
        "          'data_eleicao': 'DT_ELEICAO',\n",
        "          'sigla_uf': 'SG_UF',\n",
        "          'id_municipio': 'id_municipio',\n",
        "          'id_municipio_tse': 'CD_MUNICIPIO',\n",
        "          'cargo': 'DS_CARGO',\n",
        "          'numero_partido': 'NR_PARTIDO',\n",
        "          'sigla_partido': 'SG_PARTIDO',\n",
        "          'numero_candidato': 'NR_CANDIDATO',\n",
        "          'sequencial_candidato': 'SQ_CANDIDATO',\n",
        "          'id_candidato_bd': 'id_candidato_bd',\n",
        "          'nome_candidato': 'NM_CANDIDATO',\n",
        "          'resultado': \"DS_SIT_TOT_TURNO\",\n",
        "          'votos': \"votos\"}\n",
        "\n",
        "\n",
        "def get_count_votos(temp_df: pd.DataFrame, turno: str|int) -> pd.DataFrame:\n",
        "\n",
        "  clone_temp = temp_df[temp_df.NR_TURNO == turno].copy()\n",
        "  clone_temp[\"QT_VOTOS_NOMINAIS\"] = clone_temp[\"QT_VOTOS_NOMINAIS\"].astype(int)\n",
        "  contagem = pd.DataFrame(\n",
        "      clone_temp.groupby(\"SQ_CANDIDATO\")['QT_VOTOS_NOMINAIS'].sum()).reset_index()\n",
        "\n",
        "  contagem.columns =  [\"sequencial_candidato_contagem\", \"votos\"]\n",
        "\n",
        "  return contagem\n",
        "\n",
        "def make_turno_table(temp_df: pd.DataFrame, turno: str|int):\n",
        "\n",
        "  df_principal = temp_df[temp_df.NR_TURNO == turno].copy()\n",
        "  df_principal['id_candidato_bd'] = \"\"\n",
        "  contagem = get_count_votos(temp_df, turno)\n",
        "\n",
        "\n",
        "  temp_merge_left = pd.merge(df_principal, contagem, left_on=\"SQ_CANDIDATO\", right_on='sequencial_candidato_contagem', how='left')\n",
        "  temp_merge_left = pd.merge(temp_merge_left, municipios, left_on=\"CD_MUNICIPIO\", right_on=\"id_municipio_tse\", how=\"left\")\n",
        "\n",
        "  temp_merge_left = temp_merge_left.loc[:, ORDER.values()]\n",
        "  temp_merge_left.columns = ORDER.keys()\n",
        "  temp_merge_left.drop_duplicates(inplace=True)\n",
        "\n",
        "  slug_columns_format = [\"tipo_eleicao\", \"cargo\", \"resultado\"]\n",
        "\n",
        "  temp_merge_left[slug_columns_format] = temp_merge_left[slug_columns_format].applymap(slugify)\n",
        "\n",
        "  temp_merge_left[\"nome_candidato\"] = temp_merge_left[\"nome_candidato\"].str.title()\n",
        "\n",
        "  temp_merge_left[\"data_eleicao\"] = temp_merge_left[\"data_eleicao\"].apply(conv_data)\n",
        "\n",
        "\n",
        "  return temp_merge_left\n",
        "\n",
        "def processing_resultados_candidato(path_csvs: list, ano: int|str = 2024) -> None:\n",
        "\n",
        "  temp_df =  pd.concat([pd.read_csv(path_csv,  sep=\";\", encoding=\"ISO-8859-1\", dtype=str) for path_csv in path_csvs], ignore_index=False)\n",
        "\n",
        "  path_output = Path(\"output\")\n",
        "  path_partition = path_output / f\"ano={ano}\"\n",
        "  path_partition.mkdir(parents=True, exist_ok=True)\n",
        "\n",
        "  tabela_resultados = pd.concat([make_turno_table(temp_df, turno) for turno in temp_df.NR_TURNO.unique()], ignore_index=True)\n",
        "  output_name_file = path_partition / \"resultados_candidato.csv\"\n",
        "\n",
        "  tabela_resultados.to_csv(output_name_file, index=False)\n"
      ],
      "metadata": {
        "id": "W_-AhX6LzB9F"
      },
      "execution_count": 11,
      "outputs": []
    },
    {
      "cell_type": "code",
      "source": [
        "csvs_match = None # Atualizar o caminho para onde está seus CSVs. Exemplo: \"/content/input/resultados_atualizada_2024/*.csv\"\n",
        "csvs_files = [csv for csv in glob.glob(csvs_match) if \"BRASIL\" not in csv]\n",
        "processing_resultados_candidato(csvs_files)"
      ],
      "metadata": {
        "id": "lA_-nSnVnQ29"
      },
      "execution_count": null,
      "outputs": []
    },
    {
      "cell_type": "markdown",
      "source": [
        "## resultados_candidato_municipio\n",
        "Precisa de ajuste caso a eleição tem presidente"
      ],
      "metadata": {
        "id": "h4R6esRY0i2F"
      }
    },
    {
      "cell_type": "code",
      "source": [
        "\n",
        "ORDER_MUNICIPIO = {'turno': 'NR_TURNO',\n",
        "          'id_eleicao': 'CD_ELEICAO',\n",
        "          'tipo_eleicao': 'NM_TIPO_ELEICAO',\n",
        "          'data_eleicao': 'DT_ELEICAO',\n",
        "          'sigla_uf': 'SG_UF',\n",
        "          'id_municipio': 'id_municipio',\n",
        "          'id_municipio_tse': 'CD_MUNICIPIO',\n",
        "          'cargo': 'DS_CARGO',\n",
        "          'numero_partido': 'NR_PARTIDO',\n",
        "          'sigla_partido': 'SG_PARTIDO',\n",
        "          'numero_candidato': 'NR_CANDIDATO',\n",
        "          'sequencial_candidato': 'SQ_CANDIDATO',\n",
        "          'id_candidato_bd': 'id_candidato_bd',\n",
        "          'resultado': \"DS_SIT_TOT_TURNO\",\n",
        "          'votos': \"votos\"}\n",
        "\n",
        "\n",
        "\n",
        "def get_count_votos_municipio(temp_df: pd.DataFrame, turno: str|int) -> pd.DataFrame:\n",
        "\n",
        "  clone_temp = temp_df[temp_df.NR_TURNO == turno].copy()\n",
        "  clone_temp[\"QT_VOTOS_NOMINAIS\"] = clone_temp[\"QT_VOTOS_NOMINAIS\"].astype(int)\n",
        "  contagem = pd.DataFrame(\n",
        "      clone_temp.groupby(\"SQ_CANDIDATO\")['QT_VOTOS_NOMINAIS'].sum()).reset_index()\n",
        "\n",
        "  contagem.columns =  [\"sequencial_candidato_contagem\", \"votos\"]\n",
        "\n",
        "  return contagem\n",
        "\n",
        "def make_turno_table_municipio(temp_df: pd.DataFrame, turno: str|int, ano: int|str = 2024):\n",
        "\n",
        "  df_principal = temp_df[temp_df.NR_TURNO == turno].copy()\n",
        "  df_principal['id_candidato_bd'] = \"\"\n",
        "  contagem = get_count_votos_municipio(temp_df, turno)\n",
        "\n",
        "\n",
        "  temp_merge_left = pd.merge(df_principal, contagem, left_on=\"SQ_CANDIDATO\", right_on='sequencial_candidato_contagem', how='left')\n",
        "  temp_merge_left = pd.merge(temp_merge_left, municipios, left_on=\"CD_MUNICIPIO\", right_on=\"id_municipio_tse\", how=\"left\")\n",
        "\n",
        "  temp_merge_left = temp_merge_left.loc[:, ORDER_MUNICIPIO.values()]\n",
        "  temp_merge_left.columns = ORDER_MUNICIPIO.keys()\n",
        "  temp_merge_left.drop_duplicates(inplace=True)\n",
        "\n",
        "  slug_columns_format = [\"tipo_eleicao\", \"cargo\", \"resultado\"]\n",
        "\n",
        "  temp_merge_left[slug_columns_format] = temp_merge_left[slug_columns_format].applymap(slugify)\n",
        "\n",
        "  temp_merge_left[\"data_eleicao\"] = temp_merge_left[\"data_eleicao\"].apply(conv_data)\n",
        "\n",
        "  temp_merge_left[\"ano\"] = str(ano)\n",
        "\n",
        "  return temp_merge_left\n",
        "\n",
        "\n",
        "def processing_resultados_candidato_municipio(path_csv: str, ano: int|str = 2024) -> None:\n",
        "\n",
        "  temp_df = pd.read_csv(path_csv,  sep=\";\", encoding=\"ISO-8859-1\", dtype=str)\n",
        "\n",
        "  path_output = Path(\"output\")\n",
        "  path_output.mkdir(parents=True, exist_ok=True)\n",
        "\n",
        "  tabela_resultados_candidato_municipio = pd.concat([make_turno_table_municipio(temp_df, turno, ano) for turno in temp_df.NR_TURNO.unique()])\n",
        "\n",
        "  to_partitions(tabela_resultados_candidato_municipio,\n",
        "                savepath=\"/content/output\", # Atualizar caminho para sua saida de dados\n",
        "                partition_columns=[\"ano\", \"sigla_uf\"],\n",
        "              name_file=\"resultados_candidato_municipio\")"
      ],
      "metadata": {
        "id": "LlpRBZh10i2H"
      },
      "execution_count": 13,
      "outputs": []
    },
    {
      "cell_type": "code",
      "source": [
        "csvs_match = None # Atualizar o caminho para onde está seus CSVs. Exemplo: \"/content/input/resultados_atualizada_2024/*.csv\"\n",
        "csvs_files = [csv for csv in glob.glob(csvs_match) if \"BRASIL\" not in csv]\n",
        "\n",
        "for csv in csvs_files:\n",
        "  processing_resultados_candidato_municipio(csv)"
      ],
      "metadata": {
        "id": "DBEX3id-chdy"
      },
      "execution_count": 14,
      "outputs": []
    },
    {
      "cell_type": "markdown",
      "source": [
        "## resultados_candidato_municipio_zona"
      ],
      "metadata": {
        "id": "DOZmjlhm_E9M"
      }
    },
    {
      "cell_type": "code",
      "source": [
        "\n",
        "ORDER_MUNICIPIO_ZONA = {'turno': 'NR_TURNO',\n",
        "          'id_eleicao': 'CD_ELEICAO',\n",
        "          'tipo_eleicao': 'NM_TIPO_ELEICAO',\n",
        "          'data_eleicao': 'DT_ELEICAO',\n",
        "          'sigla_uf': 'SG_UF',\n",
        "          'id_municipio': 'id_municipio',\n",
        "          'id_municipio_tse': 'CD_MUNICIPIO',\n",
        "          'cargo': 'DS_CARGO',\n",
        "          'zona': 'NR_ZONA',\n",
        "          'numero_partido': 'NR_PARTIDO',\n",
        "          'sigla_partido': 'SG_PARTIDO',\n",
        "          'numero_candidato': 'NR_CANDIDATO',\n",
        "          'sequencial_candidato': 'SQ_CANDIDATO',\n",
        "          'id_candidato_bd': 'id_candidato_bd',\n",
        "          'resultado': \"DS_SIT_TOT_TURNO\",\n",
        "          'votos': \"QT_VOTOS_NOMINAIS\"}\n",
        "\n",
        "\n",
        "def make_turno_table_municipio_zona(temp_df: pd.DataFrame, turno: str|int, ano: int|str = 2024):\n",
        "\n",
        "  df_principal = temp_df.copy()\n",
        "  df_principal['id_candidato_bd'] = \"\"\n",
        "\n",
        "  temp_merge_left = pd.merge(df_principal, municipios, left_on=\"CD_MUNICIPIO\", right_on=\"id_municipio_tse\", how=\"left\")\n",
        "\n",
        "  temp_merge_left = temp_merge_left.loc[:, ORDER_MUNICIPIO_ZONA.values()]\n",
        "  temp_merge_left.columns = ORDER_MUNICIPIO_ZONA.keys()\n",
        "  temp_merge_left.drop_duplicates(inplace=True)\n",
        "\n",
        "  slug_columns_format = [\"tipo_eleicao\", \"cargo\", \"resultado\"]\n",
        "\n",
        "  temp_merge_left[slug_columns_format] = temp_merge_left[slug_columns_format].applymap(slugify)\n",
        "\n",
        "  temp_merge_left[\"data_eleicao\"] = temp_merge_left[\"data_eleicao\"].apply(conv_data)\n",
        "\n",
        "  temp_merge_left[\"ano\"] = str(ano)\n",
        "\n",
        "  return temp_merge_left\n",
        "\n",
        "\n",
        "def processing_resultados_candidato_municipio_zona(path_csv: str, ano: int|str = 2024) -> None:\n",
        "\n",
        "  temp_df = pd.read_csv(path_csv,  sep=\";\", encoding=\"ISO-8859-1\", dtype=str)\n",
        "\n",
        "  path_output = Path(\"output\")\n",
        "  path_output.mkdir(parents=True, exist_ok=True)\n",
        "\n",
        "  tabela_resultados_candidato_municipio_zona = pd.concat(\n",
        "      [make_turno_table_municipio_zona(temp_df, turno, ano)\n",
        "      for turno in temp_df.NR_TURNO.unique()])\n",
        "\n",
        "  combinacao = ['ano', 'turno', 'id_eleicao', 'sigla_uf', 'id_municipio_tse', 'cargo', 'zona', 'sequencial_candidato', 'numero_candidato']\n",
        "\n",
        "  tabela_resultados_candidato_municipio_zona.drop_duplicates(subset=combinacao, inplace=True)\n",
        "\n",
        "  to_partitions(tabela_resultados_candidato_municipio_zona,\n",
        "                savepath=\"/content/output\",\n",
        "                partition_columns=[\"ano\", \"sigla_uf\"],\n",
        "                name_file=\"resultados_candidato_municipio_zona\")"
      ],
      "metadata": {
        "id": "LRLw7muE_E9M"
      },
      "execution_count": 16,
      "outputs": []
    },
    {
      "cell_type": "code",
      "source": [
        "csvs_match = None # Atualizar o caminho para onde está seus CSVs. Exemplo: \"/content/input/resultados_atualizada_2024/*.csv\"\n",
        "csvs_files = [csv for csv in glob.glob(csvs_match) if \"BRASIL\" not in csv]\n",
        "\n",
        "for csv in csvs_files:\n",
        "  processing_resultados_candidato_municipio_zona(csv)"
      ],
      "metadata": {
        "id": "CixhPZ3Yvm4a"
      },
      "execution_count": 17,
      "outputs": []
    },
    {
      "cell_type": "markdown",
      "source": [
        "## resultados_candidato_secao"
      ],
      "metadata": {
        "id": "yWrTMYCplpPU"
      }
    },
    {
      "cell_type": "code",
      "source": [
        "\n",
        "ORDER__CANDIDATO_SECAO = {'turno': 'NR_TURNO',\n",
        "          'id_eleicao': 'CD_ELEICAO',\n",
        "          'tipo_eleicao': 'NM_TIPO_ELEICAO',\n",
        "          'data_eleicao': 'DT_ELEICAO',\n",
        "          'id_municipio': 'id_municipio',\n",
        "          'id_municipio_tse': 'CD_MUNICIPIO',\n",
        "          'zona': 'NR_ZONA',\n",
        "          'secao': 'NR_SECAO',\n",
        "          'cargo': 'DS_CARGO',\n",
        "          'numero_partido': 'NR_PARTIDO',\n",
        "          'sigla_partido': 'SG_PARTIDO',\n",
        "          'numero_candidato': 'NR_VOTAVEL',\n",
        "          'sequencial_candidato': \"SQ_CANDIDATO\",\n",
        "          'id_candidato_bd': 'id_candidato_bd',\n",
        "          'votos': \"QT_VOTOS\",\n",
        "          'sigla_uf': 'SG_UF',\n",
        "}\n",
        "\n",
        "\n",
        "def make_turno_table_municipio_secao(temp_df: pd.DataFrame, turno: str|int, ano: int|str = 2024):\n",
        "\n",
        "  df_principal = temp_df[temp_df.NR_TURNO == turno].copy()\n",
        "  df_principal['id_candidato_bd'] = \"\"\n",
        "\n",
        "  temp_merge_left = pd.merge(df_principal, candidatos, left_on=\"SQ_CANDIDATO\", right_on=\"SQ_CANDIDATO\", how=\"left\")\n",
        "  temp_merge_left = pd.merge(temp_merge_left, municipios, left_on=\"CD_MUNICIPIO\", right_on=\"id_municipio_tse\", how=\"left\")\n",
        "\n",
        "  temp_merge_left = temp_merge_left.loc[:, ORDER__CANDIDATO_SECAO.values()]\n",
        "  temp_merge_left.columns = ORDER__CANDIDATO_SECAO.keys()\n",
        "  temp_merge_left.drop_duplicates(inplace=True)\n",
        "\n",
        "  slug_columns_format = [\"tipo_eleicao\", \"cargo\"]\n",
        "\n",
        "  temp_merge_left[slug_columns_format] = temp_merge_left[slug_columns_format].applymap(slugify)\n",
        "\n",
        "  temp_merge_left[\"data_eleicao\"] = temp_merge_left[\"data_eleicao\"].apply(conv_data)\n",
        "\n",
        "  temp_merge_left[\"ano\"] = str(ano)\n",
        "\n",
        "  temp_merge_left = temp_merge_left[~temp_merge_left.sequencial_candidato.isin([\"-3\", \"-1\"])]\n",
        "\n",
        "  return temp_merge_left\n",
        "\n",
        "\n",
        "def processing_chunk_partitions(path_csv: str) -> None:\n",
        "  temp_data = pd.read_csv(path_csv,  sep=\";\", encoding=\"ISO-8859-1\", dtype=str, chunksize=250000)\n",
        "\n",
        "  for data in temp_data:\n",
        "\n",
        "    ano = 2024\n",
        "\n",
        "    path_output = Path(\"output\")\n",
        "    path_output.mkdir(parents=True, exist_ok=True)\n",
        "\n",
        "    tabela_resultados_municipio_secao = pd.concat([make_turno_table_municipio_secao(data, turno, ano) for turno in data.NR_TURNO.unique()])\n",
        "\n",
        "    to_partitions(tabela_resultados_municipio_secao,\n",
        "                  savepath=\"/content/output\",\n",
        "                  partition_columns=[\"ano\", \"sigla_uf\"],\n",
        "                  name_file=\"resultados_candidato_secao\")\n"
      ],
      "metadata": {
        "id": "9j-TaCFulxwJ"
      },
      "execution_count": 18,
      "outputs": []
    },
    {
      "cell_type": "code",
      "source": [
        "csv_file_match = None # Atualizar o caminho para onde está seus CSVs. Exemplo: \"/content/input/secao_input/secao_input/*.csv\"\n",
        "csv_files = glob.glob(csv_file_match)\n",
        "\n",
        "for path_file in csv_files:\n",
        "  processing_chunk_partitions(path_file)\n",
        "  print(f\"Finalizado com sucesso {path_file}\")"
      ],
      "metadata": {
        "id": "8goTiTY-3aIy"
      },
      "execution_count": null,
      "outputs": []
    },
    {
      "cell_type": "markdown",
      "source": [
        "## resultados_partido_municipio"
      ],
      "metadata": {
        "id": "TtZjHzOMnR4J"
      }
    },
    {
      "cell_type": "code",
      "source": [
        "ORDER__PARTIDO_MUNICIPIO = {'turno': 'NR_TURNO',\n",
        "          'id_eleicao': 'CD_ELEICAO',\n",
        "          'tipo_eleicao': 'NM_TIPO_ELEICAO',\n",
        "          'data_eleicao': 'DT_ELEICAO',\n",
        "          'id_municipio': 'id_municipio',\n",
        "          'id_municipio_tse': 'CD_MUNICIPIO',\n",
        "          'cargo': 'DS_CARGO',\n",
        "          'numero_partido': 'NR_PARTIDO',\n",
        "          'sigla_partido': 'SG_PARTIDO',\n",
        "          'votos_nominais': \"votos_nominais\",\n",
        "          'votos_legenda': \"votos_legenda\",\n",
        "          'sigla_uf': 'SG_UF',\n",
        "}\n",
        "\n",
        "def get_count_votos_partido_municipio(temp_df: pd.DataFrame, turno: str|int) -> pd.DataFrame:\n",
        "\n",
        "  clone_temp = temp_df[temp_df.NR_TURNO == turno].copy()\n",
        "  clone_temp[\"QT_VOTOS_NOMINAIS_VALIDOS\"] = clone_temp[\"QT_VOTOS_NOMINAIS_VALIDOS\"].astype(int)\n",
        "  clone_temp[\"QT_VOTOS_LEGENDA_VALIDOS\"] = clone_temp[\"QT_VOTOS_LEGENDA_VALIDOS\"].astype(int)\n",
        "\n",
        "  contagem = pd.DataFrame(\n",
        "      clone_temp.groupby([\"NR_PARTIDO\", \"CD_CARGO\", \"CD_MUNICIPIO\"])[['QT_VOTOS_NOMINAIS_VALIDOS', 'QT_VOTOS_LEGENDA_VALIDOS']].sum()).reset_index()\n",
        "\n",
        "  contagem.columns =  [\"numero_partido\", \"cargo\", \"id_municipio_tse\", \"votos_nominais\", \"votos_legenda\"]\n",
        "\n",
        "  return contagem\n",
        "\n",
        "def make_turno_table_partido_municipio(temp_df: pd.DataFrame, turno: str|int, ano: int|str = 2024):\n",
        "\n",
        "  df_principal = temp_df.copy()\n",
        "\n",
        "  contagem = get_count_votos_partido_municipio(temp_df, turno)\n",
        "\n",
        "  temp_merge_left = pd.merge(\n",
        "      df_principal, contagem,\n",
        "      left_on=[\"NR_PARTIDO\", \"CD_CARGO\", \"CD_MUNICIPIO\"],\n",
        "      right_on=[\"numero_partido\", \"cargo\", \"id_municipio_tse\"], how='left')\n",
        "\n",
        "  temp_merge_left = pd.merge(temp_merge_left, municipios, left_on=\"CD_MUNICIPIO\", right_on=\"id_municipio_tse\", how=\"left\")\n",
        "\n",
        "  temp_merge_left = temp_merge_left.loc[:, ORDER__PARTIDO_MUNICIPIO.values()]\n",
        "  temp_merge_left.columns = ORDER__PARTIDO_MUNICIPIO.keys()\n",
        "\n",
        "  temp_merge_left.drop_duplicates(inplace=True)\n",
        "\n",
        "  slug_columns_format = [\"tipo_eleicao\", \"cargo\"]\n",
        "\n",
        "  temp_merge_left[slug_columns_format] = temp_merge_left[slug_columns_format].applymap(slugify)\n",
        "\n",
        "  temp_merge_left[\"data_eleicao\"] = temp_merge_left[\"data_eleicao\"].apply(conv_data)\n",
        "\n",
        "  temp_merge_left[\"ano\"] = str(ano)\n",
        "\n",
        "  return temp_merge_left\n",
        "\n"
      ],
      "metadata": {
        "id": "Pv5_oul1nR4L"
      },
      "execution_count": 28,
      "outputs": []
    },
    {
      "cell_type": "code",
      "source": [
        "csvs_match_secao = None # Atualizar o caminho para onde está seus CSVs. Exemplo: \"/content/input/resultados_atualizado_secao_2024/*.csv\"\n",
        "csvs_files_secao = [csv for csv in glob.glob(csvs_match_secao) if \"BRASIL\" not in csv]\n",
        "\n",
        "ano = 2024\n",
        "\n",
        "temp_df =  pd.concat([pd.read_csv(path_csv,  sep=\";\", encoding=\"ISO-8859-1\", dtype=str) for path_csv in csvs_files_secao], ignore_index=False)\n",
        "\n",
        "path_output = Path(\"output\")\n",
        "path_output.mkdir(parents=True, exist_ok=True)\n",
        "\n",
        "tabela_resultados_partido_municipio = pd.concat(\n",
        "    [make_turno_table_partido_municipio(temp_df, turno, ano)\n",
        "    for turno in temp_df.NR_TURNO.unique()])\n",
        "\n",
        "combinacao = ['ano', 'turno', 'id_eleicao', 'id_municipio_tse', 'cargo', 'numero_partido']\n",
        "\n",
        "tabela_resultados_partido_municipio.drop_duplicates(subset=combinacao, inplace=True)\n",
        "\n",
        "\n",
        "to_partitions(tabela_resultados_partido_municipio,\n",
        "              savepath=\"/content/output\",\n",
        "              partition_columns=[\"ano\", \"sigla_uf\"],\n",
        "              name_file=\"resultados_partido_municipio\")\n"
      ],
      "metadata": {
        "id": "FE0YuTAbnR4M"
      },
      "execution_count": 29,
      "outputs": []
    },
    {
      "cell_type": "markdown",
      "source": [
        "## resultados_partido_municipio_zona"
      ],
      "metadata": {
        "id": "wfx1fbITwT6C"
      }
    },
    {
      "cell_type": "code",
      "source": [
        "ORDER__PARTIDO_MUNICIPIO_ZONA = {'turno': 'NR_TURNO',\n",
        "          'id_eleicao': 'CD_ELEICAO',\n",
        "          'tipo_eleicao': 'NM_TIPO_ELEICAO',\n",
        "          'data_eleicao': 'DT_ELEICAO',\n",
        "          'id_municipio': 'id_municipio',\n",
        "          'id_municipio_tse': 'CD_MUNICIPIO',\n",
        "          'zona': 'NR_ZONA',\n",
        "          'cargo': 'DS_CARGO',\n",
        "          'numero_partido': 'NR_PARTIDO',\n",
        "          'sigla_partido': 'SG_PARTIDO',\n",
        "          'votos_nominais': \"QT_VOTOS_NOMINAIS_VALIDOS\",\n",
        "          'votos_legenda': \"QT_VOTOS_LEGENDA_VALIDOS\",\n",
        "          'sigla_uf': 'SG_UF',\n",
        "}\n",
        "\n",
        "\n",
        "def make_turno_table_partido_municipio_zona(temp_df: pd.DataFrame, turno: str|int, ano: int|str = 2024):\n",
        "\n",
        "  df_principal = temp_df.copy()\n",
        "\n",
        "  temp_merge_left = pd.merge(df_principal, municipios, left_on=\"CD_MUNICIPIO\", right_on=\"id_municipio_tse\", how=\"left\")\n",
        "\n",
        "  temp_merge_left = temp_merge_left.loc[:, ORDER__PARTIDO_MUNICIPIO_ZONA.values()]\n",
        "  temp_merge_left.columns = ORDER__PARTIDO_MUNICIPIO_ZONA.keys()\n",
        "  temp_merge_left.drop_duplicates(inplace=True)\n",
        "\n",
        "  slug_columns_format = [\"tipo_eleicao\", \"cargo\"]\n",
        "\n",
        "  temp_merge_left[slug_columns_format] = temp_merge_left[slug_columns_format].applymap(slugify)\n",
        "\n",
        "  temp_merge_left[\"data_eleicao\"] = temp_merge_left[\"data_eleicao\"].apply(conv_data)\n",
        "\n",
        "  temp_merge_left[\"ano\"] = str(ano)\n",
        "\n",
        "  return temp_merge_left\n",
        "\n"
      ],
      "metadata": {
        "id": "XiqpisW7wT6D"
      },
      "execution_count": 31,
      "outputs": []
    },
    {
      "cell_type": "code",
      "source": [
        "path_csv = None # Atualizar o caminho para onde está seus CSVs. Exemplo: \"/content/input/resultados_atualizado_secao_2024/votacao_partido_munzona_2024_BRASIL.csv\"\n",
        "\n",
        "temp_df = pd.read_csv(path_csv,  sep=\";\", encoding=\"ISO-8859-1\", dtype=str)\n",
        "\n",
        "ano = 2024\n",
        "\n",
        "path_output = Path(\"output\")\n",
        "path_output.mkdir(parents=True, exist_ok=True)\n",
        "\n",
        "tabela_resultados_partido_municipio_zona = pd.concat(\n",
        "    [make_turno_table_partido_municipio_zona(temp_df, turno, ano)\n",
        "    for turno in temp_df.NR_TURNO.unique()])\n",
        "\n",
        "\n",
        "combinacao = ['ano', 'turno', 'id_eleicao', 'id_municipio_tse', 'zona', 'cargo', 'numero_partido']\n",
        "\n",
        "tabela_resultados_partido_municipio_zona.drop_duplicates(subset=combinacao, inplace=True)\n",
        "\n",
        "to_partitions(tabela_resultados_partido_municipio_zona,\n",
        "              savepath=\"/content/output\",\n",
        "              partition_columns=[\"ano\", \"sigla_uf\"],\n",
        "              name_file=\"resultados_partido_municipio_zona\")\n"
      ],
      "metadata": {
        "id": "AGT2D3V6wT6E"
      },
      "execution_count": 32,
      "outputs": []
    },
    {
      "cell_type": "markdown",
      "source": [
        "## resultados_partido_secao"
      ],
      "metadata": {
        "id": "pfj1aNI4IxBF"
      }
    },
    {
      "cell_type": "code",
      "source": [
        "ORDER__PARTIDO_SECAO = {'turno': 'NR_TURNO',\n",
        "          'id_eleicao': 'CD_ELEICAO',\n",
        "          'tipo_eleicao': 'NM_TIPO_ELEICAO',\n",
        "          'data_eleicao': 'DT_ELEICAO',\n",
        "          'id_municipio': 'id_municipio',\n",
        "          'id_municipio_tse': 'CD_MUNICIPIO',\n",
        "          'zona': 'NR_ZONA',\n",
        "          'secao': 'NR_SECAO',\n",
        "          'cargo': 'DS_CARGO',\n",
        "          'numero_partido': 'NR_PARTIDO',\n",
        "          'sigla_partido': 'SG_PARTIDO',\n",
        "          'numero_candidato': 'NR_VOTAVEL',\n",
        "          'sequencial_candidato': \"SQ_CANDIDATO\",\n",
        "          'id_candidato_bd': 'id_candidato_bd',\n",
        "          'votos': \"QT_VOTOS\",\n",
        "          'sigla_uf': 'SG_UF',\n",
        "}\n",
        "\n",
        "ORDER__PARTIDO_SECAO_FINAL = ['turno',\n",
        "          'id_eleicao',\n",
        "          'tipo_eleicao',\n",
        "          'data_eleicao',\n",
        "          'id_municipio',\n",
        "          'id_municipio_tse',\n",
        "          'zona',\n",
        "          'secao',\n",
        "          'cargo',\n",
        "          'numero_partido',\n",
        "          'sigla_partido',\n",
        "          'votos_nominais',\n",
        "          'votos_legenda',\n",
        "          'sigla_uf',\n",
        "          'ano']\n",
        "\n",
        "\n",
        "def make_turno_table_partido_secao(temp_df: pd.DataFrame, turno: str|int, ano: int|str = 2024):\n",
        "\n",
        "  df_principal = temp_df[temp_df.NR_TURNO == turno].copy()\n",
        "  df_principal['id_candidato_bd'] = \"\"\n",
        "\n",
        "  temp_merge_left = pd.merge(df_principal, candidatos, left_on=\"SQ_CANDIDATO\", right_on=\"SQ_CANDIDATO\", how=\"left\")\n",
        "  temp_merge_left = pd.merge(temp_merge_left, municipios, left_on=\"CD_MUNICIPIO\", right_on=\"id_municipio_tse\", how=\"left\")\n",
        "\n",
        "  temp_merge_left = temp_merge_left.loc[:, ORDER__PARTIDO_SECAO.values()]\n",
        "  temp_merge_left.columns = ORDER__PARTIDO_SECAO.keys()\n",
        "  temp_merge_left.drop_duplicates(inplace=True)\n",
        "\n",
        "  slug_columns_format = [\"tipo_eleicao\", \"cargo\"]\n",
        "\n",
        "  temp_merge_left[slug_columns_format] = temp_merge_left[slug_columns_format].applymap(slugify)\n",
        "\n",
        "  temp_merge_left[\"data_eleicao\"] = temp_merge_left[\"data_eleicao\"].apply(conv_data)\n",
        "\n",
        "  temp_merge_left[\"ano\"] = str(ano)\n",
        "\n",
        "  # Contagem\n",
        "  clone_temp = temp_merge_left\n",
        "  clone_temp[\"votos\"] = clone_temp[\"votos\"].astype(int)\n",
        "\n",
        "  contagem = pd.DataFrame(\n",
        "      clone_temp.groupby(['turno', 'id_eleicao', 'tipo_eleicao', 'data_eleicao',\n",
        "                          'id_municipio', 'id_municipio_tse', 'zona', 'secao', 'cargo',\n",
        "                          'numero_partido', 'sigla_partido',  \"ano\", \"sigla_uf\"])[['votos']].sum()).reset_index()\n",
        "\n",
        "  contagem.columns =  ['turno', 'id_eleicao', 'tipo_eleicao', 'data_eleicao', 'id_municipio',\n",
        "                      'id_municipio_tse', 'zona', 'secao', 'cargo', 'numero_partido',\n",
        "                      'sigla_partido',  \"ano\", \"sigla_uf\", \"votos_nominais\"]\n",
        "\n",
        "  # Contagem Legenda\n",
        "  clone_temp_legenda = temp_merge_left[temp_merge_left.sequencial_candidato== \"-3\"]\n",
        "  clone_temp_legenda[\"votos\"] = clone_temp_legenda[\"votos\"].astype(int)\n",
        "\n",
        "  contagem_legenda = pd.DataFrame(\n",
        "      clone_temp_legenda.groupby(['id_municipio_tse', 'zona', 'secao', 'numero_candidato', 'cargo'])[['votos']].sum()).reset_index()\n",
        "\n",
        "  contagem_legenda.columns =  ['id_municipio_tse', 'zona', 'secao', 'numero_partido', 'cargo', \"votos_legenda\"]\n",
        "\n",
        "  contagem_temp_merge_left = pd.merge(contagem, contagem_legenda, left_on= ['id_municipio_tse', 'zona', 'secao', 'numero_partido', 'cargo'],\n",
        "                                    right_on=['id_municipio_tse', 'zona', 'secao', 'numero_partido', 'cargo'], how=\"left\")\n",
        "\n",
        "  # Tratamento\n",
        "\n",
        "  contagem_temp_merge_left['votos_legenda'] = contagem_temp_merge_left['votos_legenda'].fillna(0).astype(int)\n",
        "\n",
        "  contagem_temp_merge_left = contagem_temp_merge_left.loc[:, ORDER__PARTIDO_SECAO_FINAL]\n",
        "  contagem_temp_merge_left.columns = ORDER__PARTIDO_SECAO_FINAL\n",
        "\n",
        "  contagem_temp_merge_left.drop_duplicates(inplace=True)\n",
        "\n",
        "  return contagem_temp_merge_left\n",
        "\n",
        "\n",
        "def processing_chunk_partitions_partido_secao(path_csv: str) -> None:\n",
        "\n",
        "  temp_data = pd.read_csv(path_csv,  sep=\";\", encoding=\"ISO-8859-1\", dtype=str, chunksize=250000)\n",
        "\n",
        "  for data in temp_data:\n",
        "\n",
        "    ano = 2024\n",
        "\n",
        "    path_output = Path(\"output\")\n",
        "    path_output.mkdir(parents=True, exist_ok=True)\n",
        "\n",
        "    tabela_resultados_municipio_secao = pd.concat([make_turno_table_partido_secao(data, turno, ano) for turno in data.NR_TURNO.unique()])\n",
        "\n",
        "    to_partitions(tabela_resultados_municipio_secao,\n",
        "                  savepath=\"/content/output\",\n",
        "                  partition_columns=[\"ano\", \"sigla_uf\"],\n",
        "                  name_file=\"resultados_partido_secao\")\n"
      ],
      "metadata": {
        "id": "kVuWyScpIxBH"
      },
      "execution_count": 36,
      "outputs": []
    },
    {
      "cell_type": "code",
      "source": [
        "csv_file_match = None # Atualizar o caminho para onde está seus CSVs. Exemplo: \"/content/input/secao_input/secao_input/*.csv\"\n",
        "csv_files = glob.glob(csv_file_match)\n",
        "\n",
        "for path_file in csv_files:\n",
        "  processing_chunk_partitions_partido_secao(path_file)\n",
        "  print(f\"Finalizado com sucesso {path_file}\")"
      ],
      "metadata": {
        "id": "Z9VDIBdPIxBJ"
      },
      "execution_count": null,
      "outputs": []
    },
    {
      "cell_type": "code",
      "source": [
        "# Esses dados tem a ter muitas duplicadas e foi colocada uma nova camada de remoção deles\n",
        "csv_file_match = None # Atualizar o caminho para onde está seus CSVs. Exemplo: \"/content/output/ano=2024/**/*.csv\"\n",
        "csv_files = glob.glob(csv_file_match)\n",
        "\n",
        "for csv in csv_files:\n",
        "  drop_dupli = pd.read_csv(csv, dtype=str)\n",
        "  colunas_drop = [\"turno\", 'id_eleicao', 'id_municipio_tse', 'zona', 'secao', 'cargo', 'numero_partido']\n",
        "\n",
        "  drop_dupli.drop_duplicates(subset=colunas_drop, inplace=True)\n",
        "\n",
        "  drop_dupli.to_csv(csv, index=False)\n",
        "  print(f\"Tirei duplicados do {csv}\")"
      ],
      "metadata": {
        "id": "HEUk4giYh9f0"
      },
      "execution_count": null,
      "outputs": []
    }
  ]
}
