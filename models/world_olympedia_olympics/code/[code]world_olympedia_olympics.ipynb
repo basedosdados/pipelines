{
 "cells": [
  {
   "cell_type": "markdown",
   "metadata": {
    "id": "DdcVtltbUNlc"
   },
   "source": [
    "# Download datasets (Necessario chave api kaggle)\n",
    "\n",
    "- Crie uma conta em [Kaggle](https://www.kaggle.com/)\n",
    "- Settings\n",
    "- Api\n",
    "- Create New Token\n"
   ]
  },
  {
   "cell_type": "code",
   "execution_count": null,
   "metadata": {},
   "outputs": [],
   "source": [
    "! pip install -q opendatasets"
   ]
  },
  {
   "cell_type": "code",
   "execution_count": null,
   "metadata": {
    "id": "rtDRFJrQT2sj"
   },
   "outputs": [],
   "source": [
    "import os\n",
    "import re\n",
    "from datetime import datetime\n",
    "\n",
    "import numpy as np\n",
    "import opendatasets as od\n",
    "import pandas as pd\n",
    "from IPython.display import clear_output"
   ]
  },
  {
   "cell_type": "code",
   "execution_count": null,
   "metadata": {},
   "outputs": [],
   "source": [
    "clear_output()\n",
    "\n",
    "\n",
    "od.download(\n",
    "    \"https://www.kaggle.com/datasets/josephcheng123456/olympic-historical-dataset-from-olympediaorg\"\n",
    ")"
   ]
  },
  {
   "cell_type": "markdown",
   "metadata": {
    "id": "HdWEm92kP4QX"
   },
   "source": [
    "# Codigos\n"
   ]
  },
  {
   "cell_type": "markdown",
   "metadata": {
    "id": "5Spt1SLjgu50"
   },
   "source": [
    "## imports\n"
   ]
  },
  {
   "cell_type": "code",
   "execution_count": null,
   "metadata": {
    "id": "Jw9dHrsn6bho"
   },
   "outputs": [],
   "source": [
    "def conv_data(valor: str) -> str | None:\n",
    "    try:\n",
    "        data_datetime = datetime.strptime(valor, \"%d %B %Y\")\n",
    "        return data_datetime\n",
    "    except:  # noqa: E722\n",
    "        return None\n",
    "\n",
    "\n",
    "def get_year(valor: str) -> str | None:\n",
    "    try:\n",
    "        year = re.findall(r\"\\d{4}\", valor)[0]\n",
    "        return np.int64(year)\n",
    "    except:  # noqa: E722\n",
    "        return pd.NA"
   ]
  },
  {
   "cell_type": "markdown",
   "metadata": {
    "id": "iFii9f1GewTE"
   },
   "source": [
    "## athlete_bio\n"
   ]
  },
  {
   "cell_type": "code",
   "execution_count": null,
   "metadata": {
    "id": "dtuptL0DZ3dL"
   },
   "outputs": [],
   "source": [
    "def conv_data(valor: str) -> str | None:  # noqa: F811\n",
    "    try:\n",
    "        data_datetime = datetime.strptime(valor, \"%d %B %Y\")\n",
    "        return data_datetime\n",
    "    except:  # noqa: E722\n",
    "        return None\n",
    "\n",
    "\n",
    "def get_year(valor: str) -> str | None:  # noqa: F811\n",
    "    try:\n",
    "        year = re.findall(r\"\\d{4}\", valor)[0]\n",
    "        return np.int64(year)\n",
    "    except:  # noqa: E722\n",
    "        return pd.NA\n",
    "\n",
    "\n",
    "dtypes = {\n",
    "    \"athlete_id\": str,\n",
    "    \"name\": str,\n",
    "    \"sex\": str,\n",
    "    \"born\": str,\n",
    "    \"height\": float,\n",
    "    \"country\": str,\n",
    "    \"country_noc\": str,\n",
    "    \"description\": str,\n",
    "    \"special_notes\": str,\n",
    "}\n",
    "\n",
    "df = pd.read_csv(\n",
    "    \"/content/olympic-historical-dataset-from-olympediaorg/Olympic_Athlete_Bio.csv\",\n",
    "    dtype=dtypes,\n",
    ")\n",
    "\n",
    "df.weight = pd.to_numeric(df.weight, errors=\"coerce\")\n",
    "\n",
    "tdata = df[\"born\"].apply(conv_data)\n",
    "anos = df[\"born\"].apply(get_year)\n",
    "\n",
    "tdata = tdata.dt.strftime(\"%Y-%m-%d\")\n",
    "df.born = tdata\n",
    "\n",
    "df[\"year_born\"] = anos\n",
    "\n",
    "os.makedirs(\"output\", exist_ok=True)\n",
    "\n",
    "df.to_csv(\"output/athlete_bio.csv\", index=False)"
   ]
  },
  {
   "cell_type": "markdown",
   "metadata": {
    "id": "q_GAqd9pezNj"
   },
   "source": [
    "## athlete_event_result\n"
   ]
  },
  {
   "cell_type": "code",
   "execution_count": null,
   "metadata": {
    "id": "Jp7kH493eVnf"
   },
   "outputs": [],
   "source": [
    "df = pd.read_csv(\n",
    "    \"/content/olympic-historical-dataset-from-olympediaorg/Olympic_Athlete_Event_Results.csv\",\n",
    "    dtype=str,\n",
    ")\n",
    "\n",
    "dicionario = {\n",
    "    \"DNF\": \"Did not finish\",\n",
    "    \"DNS\": \"Did not start\",\n",
    "    \"DQ\": \"Disqualified\",\n",
    "    \"AC\": \"Also competed, no definite place known or possibly given\",\n",
    "    \"NH\": \"No height\",\n",
    "    \"NM\": \"No mark\",\n",
    "    \"NP\": \"Not placed, no definite place given\",\n",
    "    \"NVL\": \"No valid lift\",\n",
    "    \"MNK\": \"Mark not known\",\n",
    "    \"TNK\": \"Time not known\",\n",
    "    \"DNQ\": \"Did not qualify\",\n",
    "    \"HC\": \"Hors concours (art)\",\n",
    "}\n",
    "\n",
    "os.makedirs(\"output\", exist_ok=True)\n",
    "\n",
    "mask = df.pos.isin(dicionario.keys())\n",
    "\n",
    "for place, replace in dicionario.items():\n",
    "    df.loc[mask, \"pos\"] = df.loc[mask, \"pos\"].str.replace(place, replace)\n",
    "\n",
    "df.to_csv(\"/content/output/athlete_event_result.csv\", index=False)"
   ]
  },
  {
   "cell_type": "markdown",
   "metadata": {
    "id": "7H7N6J8bgVfc"
   },
   "source": [
    "## game_medal_tally\n"
   ]
  },
  {
   "cell_type": "code",
   "execution_count": null,
   "metadata": {
    "id": "qY7T15cRgd7-"
   },
   "outputs": [],
   "source": [
    "df = pd.read_csv(\n",
    "    \"/content/olympic-historical-dataset-from-olympediaorg/Olympic_Games_Medal_Tally.csv\",\n",
    "    dtype={\"edition_id\": str},\n",
    ")\n",
    "\n",
    "os.makedirs(\"output\", exist_ok=True)\n",
    "\n",
    "df.to_csv(\"output/game_medal_tally.csv\", index=False)"
   ]
  },
  {
   "cell_type": "markdown",
   "metadata": {
    "id": "VfhzG5k3xo5F"
   },
   "source": [
    "## result\n"
   ]
  },
  {
   "cell_type": "code",
   "execution_count": null,
   "metadata": {
    "id": "KG0GjZUoxrzV"
   },
   "outputs": [],
   "source": [
    "df = pd.read_csv(\n",
    "    \"/content/olympic-historical-dataset-from-olympediaorg/Olympic_Results.csv\",\n",
    "    dtype=str,\n",
    ")\n",
    "\n",
    "os.makedirs(\"output\", exist_ok=True)\n",
    "\n",
    "df.to_csv(\"output/result.csv\", index=False)"
   ]
  },
  {
   "cell_type": "markdown",
   "metadata": {
    "id": "PgOFkMmD2oYW"
   },
   "source": [
    "## country\n"
   ]
  },
  {
   "cell_type": "code",
   "execution_count": null,
   "metadata": {
    "id": "jVqnhaHklYIm"
   },
   "outputs": [],
   "source": [
    "df = pd.read_csv(\n",
    "    \"/content/olympic-historical-dataset-from-olympediaorg/Olympics_Country.csv\",\n",
    "    dtype=str,\n",
    ")\n",
    "\n",
    "os.makedirs(\"output\", exist_ok=True)\n",
    "\n",
    "df.to_csv(\"output/country.csv\", index=False)"
   ]
  },
  {
   "cell_type": "markdown",
   "metadata": {
    "id": "3PJoF3tQ6WHm"
   },
   "source": [
    "## game\n"
   ]
  },
  {
   "cell_type": "code",
   "execution_count": null,
   "metadata": {
    "id": "8iVD-Xom6Xp_"
   },
   "outputs": [],
   "source": [
    "df = pd.read_csv(\n",
    "    \"/content/olympic-historical-dataset-from-olympediaorg/Olympics_Games.csv\",\n",
    "    dtype={\"edition_id\": str},\n",
    ")\n",
    "\n",
    "start_tdata = (\n",
    "    df.start_date.str.replace(\" 2021\", \"\") + \" \" + df.year.astype(str)\n",
    ")  # Uma das datas já se encontra com o ano de 2021, necessario remoção\n",
    "end_tdata = df.end_date.str.replace(\" 2021\", \"\") + \" \" + df.year.astype(str)\n",
    "\n",
    "start_tdata = start_tdata.apply(conv_data)\n",
    "end_tdata = end_tdata.apply(conv_data)\n",
    "\n",
    "df[\"start_date\"] = start_tdata\n",
    "df[\"end_date\"] = end_tdata\n",
    "\n",
    "os.makedirs(\"output\", exist_ok=True)\n",
    "\n",
    "df.to_csv(\"output/game.csv\", index=False)"
   ]
  }
 ],
 "metadata": {
  "colab": {
   "provenance": []
  },
  "kernelspec": {
   "display_name": "Python 3",
   "name": "python3"
  },
  "language_info": {
   "name": "python"
  }
 },
 "nbformat": 4,
 "nbformat_minor": 0
}
