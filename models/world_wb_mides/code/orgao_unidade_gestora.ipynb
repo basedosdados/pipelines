{
 "cells": [
  {
   "cell_type": "code",
   "execution_count": null,
   "metadata": {
    "colab": {
     "base_uri": "https://localhost:8080/"
    },
    "id": "NshV2eruh1cV",
    "outputId": "cfbd6cda-bee8-4cf1-d22f-68223798f103"
   },
   "outputs": [
    {
     "name": "stdout",
     "output_type": "stream",
     "text": [
      "Mounted at /content/gdrive\n"
     ]
    }
   ],
   "source": [
    "from google.colab import drive\n",
    "\n",
    "drive.mount(\"/content/gdrive\")"
   ]
  },
  {
   "cell_type": "code",
   "execution_count": null,
   "metadata": {
    "id": "rgfd_Lt8hiN7"
   },
   "outputs": [],
   "source": [
    "import os\n",
    "from io import StringIO\n",
    "from zipfile import ZipFile\n",
    "\n",
    "import ftfy\n",
    "import pandas as pd"
   ]
  },
  {
   "cell_type": "code",
   "execution_count": null,
   "metadata": {
    "id": "ltSFpesF5jTJ"
   },
   "outputs": [],
   "source": [
    "!pip install ftfy"
   ]
  },
  {
   "cell_type": "code",
   "execution_count": null,
   "metadata": {
    "id": "wtjADIzwnIaI"
   },
   "outputs": [],
   "source": [
    "pd.set_option(\"display.max_columns\", None)\n",
    "pd.options.display.float_format = \"{:.2f}\".format"
   ]
  },
  {
   "cell_type": "code",
   "execution_count": null,
   "metadata": {
    "id": "Wh4SZN5ODHuz"
   },
   "outputs": [],
   "source": [
    "id_tce = pd.read_csv(\n",
    "    \"/content/gdrive/MyDrive/ComprasPublicas_Brasil/input/PE/municipios.csv\",\n",
    "    encoding=\"latin-1\",\n",
    "    dtype=str,\n",
    ")\n",
    "id_tce.rename(\n",
    "    columns={\n",
    "        \"CODIGOIBGE\": \"id_municipio\",\n",
    "        \"CODIGO\": \"id_municipio_tce\",\n",
    "        \"UNIDADEFEDERATIVA\": \"sigla_uf\",\n",
    "    },\n",
    "    inplace=True,\n",
    ")\n",
    "id_tce.drop([\"MUNICIPIO\", \"CODIGOSAGRES\"], axis=1, inplace=True)\n",
    "municipio = pd.read_csv(\n",
    "    \"/content/gdrive/MyDrive/ComprasPublicas_Brasil/auxiliary_files/municipio.csv\",\n",
    "    encoding=\"latin-1\",\n",
    "    dtype=str,\n",
    ")\n",
    "municipio = pd.merge(\n",
    "    municipio,\n",
    "    id_tce,\n",
    "    how=\"left\",\n",
    "    left_on=[\"id_municipio\", \"sigla_uf\"],\n",
    "    right_on=[\"id_municipio\", \"sigla_uf\"],\n",
    ")\n",
    "ufs = municipio[\"sigla_uf\"].tolist()"
   ]
  },
  {
   "cell_type": "code",
   "execution_count": null,
   "metadata": {
    "id": "cOTX_Q9QMd3S"
   },
   "outputs": [],
   "source": [
    "ordem = [\n",
    "    \"id_municipio\",\n",
    "    \"ano\",\n",
    "    \"sigla_uf\",\n",
    "    \"orgao\",\n",
    "    \"nome_orgao\",\n",
    "    \"id_unidade_gestora\",\n",
    "    \"nome_unidade_gestora\",\n",
    "    \"esfera\",\n",
    "]"
   ]
  },
  {
   "cell_type": "markdown",
   "metadata": {
    "id": "oQTkCCFQYlqC"
   },
   "source": [
    "# PE\n"
   ]
  },
  {
   "cell_type": "code",
   "execution_count": null,
   "metadata": {
    "id": "mxN5m_MyZFbR"
   },
   "outputs": [],
   "source": [
    "with open(\n",
    "    \"/content/gdrive/MyDrive/ComprasPublicas_Brasil/input/PE/unidadesjurisdicionadas.csv\",\n",
    "    \"r\",\n",
    "    encoding=\"utf-8\",\n",
    ") as f:\n",
    "    text = f.read()\n",
    "\n",
    "# Corrigir o texto\n",
    "fixed_text = ftfy.fix_text(text)\n",
    "\n",
    "# Em seguida, pode tentar ler o texto corrigido usando pandas\n",
    "id_tce = pd.read_csv(StringIO(fixed_text))\n",
    "\n",
    "# id_tce = pd.read_csv('/content/gdrive/MyDrive/ComprasPublicas_Brasil/input/PE/unidadesjurisdicionadas.csv', sep=',', encoding='latin-1',dtype=str)\n",
    "\n",
    "tce_drop = [\n",
    "    \"CODIGOTCE\",\n",
    "    \"PODER\",\n",
    "    \"UNIDADEFEDERATIVA\",\n",
    "    \"NATUREZA\",\n",
    "    \"TIPOPESSOAJURIDICA\",\n",
    "    \"MUNICIPIO\",\n",
    "    \"SIGLA\",\n",
    "    \"SITUACAO\",\n",
    "    \"CNPJ\",\n",
    "]\n",
    "\n",
    "rename = {\n",
    "    \"CODIGOMUNICIPIO\": \"id_municipio_tce\",\n",
    "    \"ID_UNIDADE_GESTORA\": \"id_unidade_gestora\",\n",
    "    \"ESFERA\": \"esfera\",\n",
    "    \"ORGAO\": \"nome_unidade_gestora\",\n",
    "}\n",
    "\n",
    "id_tce.drop(tce_drop, axis=1, inplace=True)\n",
    "id_tce.rename(columns=rename, inplace=True)\n",
    "\n",
    "# merge to get id_municipio (ibge)\n",
    "\n",
    "pe = pd.merge(\n",
    "    id_tce,\n",
    "    municipio,\n",
    "    how=\"left\",\n",
    "    left_on=\"id_municipio_tce\",\n",
    "    right_on=\"id_municipio_tce\",\n",
    ")\n",
    "\n",
    "pe.drop([\"nome\", \"id_municipio_6\", \"id_municipio_tce\"], axis=1, inplace=True)\n",
    "\n",
    "pe.drop_duplicates(subset=[\"id_municipio\", \"id_unidade_gestora\"], inplace=True)\n",
    "\n",
    "pe = pe.reindex(columns=ordem)"
   ]
  },
  {
   "cell_type": "markdown",
   "metadata": {
    "id": "lqe_6sPoYkfZ"
   },
   "source": [
    "# MG\n"
   ]
  },
  {
   "cell_type": "code",
   "execution_count": null,
   "metadata": {
    "id": "SrpyjurfYtba"
   },
   "outputs": [],
   "source": [
    "municipio_mg = municipio.query('sigla_uf==\"MG\"')\n",
    "municipios_mg = municipio_mg[\"id_municipio\"].tolist()\n",
    "\n",
    "anos_mg = [\"2014\", \"2015\", \"2016\", \"2017\", \"2018\", \"2019\", \"2020\", \"2021\"]\n",
    "\n",
    "pasta = \"/content/gdrive/MyDrive/ComprasPublicas_Brasil/input/MG/\"\n",
    "\n",
    "all_df_mg = []\n",
    "for a in anos_mg:\n",
    "    for m in municipios_mg:\n",
    "        df = os.path.join(pasta, \"{}/orgao_{}.zip\".format(a, a))\n",
    "        with ZipFile(df) as z:\n",
    "            with z.open(\"orgao/{}/{}.{}.orgao.orgao.csv\".format(m, a, m)) as f:\n",
    "                mg1 = pd.read_csv(f, sep=\";\", encoding=\"utf-8\", dtype=str)\n",
    "\n",
    "            with z.open(\n",
    "                \"orgao/{}/{}.{}.orgao.orgaoUnidade.csv\".format(m, a, m)\n",
    "            ) as f:\n",
    "                mg2 = pd.read_csv(f, sep=\";\", encoding=\"utf-8\", dtype=str)\n",
    "\n",
    "        mg = pd.merge(\n",
    "            mg1, mg2, how=\"left\", left_on=[\"seq_orgao\"], right_on=[\"seq_orgao\"]\n",
    "        )\n",
    "\n",
    "        mg.drop(\n",
    "            [\n",
    "                \"nom_uf\",\n",
    "                \"dsc_regiaoplanejamento\",\n",
    "                \"cod_subunidade\",\n",
    "                \"dsc_subunidade\",\n",
    "                \"num_anoexercicio\",\n",
    "                \"num_versao_arq_x\",\n",
    "                \"num_versao_arq_y\",\n",
    "                \"nom_municipio\",\n",
    "                \"cod_orgao\",\n",
    "                \"cod_uf\",\n",
    "                \"cod_unidade\",\n",
    "                \"tipo_orgao\",\n",
    "                \"num_mes_referencia\",\n",
    "            ],\n",
    "            axis=1,\n",
    "            inplace=True,\n",
    "        )\n",
    "\n",
    "        mg.rename(\n",
    "            {\n",
    "                \"cod_municipio\": \"id_municipio\",\n",
    "                \"sgl_uf\": \"sigla_uf\",\n",
    "                \"dsc_unidade\": \"nome_unidade_gestora\",\n",
    "                \"nom_orgao\": \"nome_orgao\",\n",
    "                \"seq_orgao\": \"orgao\",\n",
    "                \"seq_unidade\": \"id_unidade_gestora\",\n",
    "                \"num_ano_referencia\": \"ano\",\n",
    "            },\n",
    "            axis=1,\n",
    "            inplace=True,\n",
    "        )\n",
    "\n",
    "        all_df_mg.append(mg)\n",
    "\n",
    "mg = pd.concat(all_df_mg, ignore_index=True, sort=True)\n",
    "\n",
    "mg = mg.drop_duplicates()\n",
    "\n",
    "mg = mg.reindex(columns=ordem)"
   ]
  },
  {
   "cell_type": "markdown",
   "metadata": {
    "id": "vQ2vjipmnFMv"
   },
   "source": [
    "# PR\n"
   ]
  },
  {
   "cell_type": "code",
   "execution_count": null,
   "metadata": {
    "id": "x0cX3LwsfxNs"
   },
   "outputs": [],
   "source": [
    "# PR\n",
    "\n",
    "municipio_pr = municipio.query('sigla_uf==\"PR\"')\n",
    "municipio_pr = municipio_pr.query(\n",
    "    'id_municipio_6 != \"411915\" & id_municipio_6 != \"411370\" & id_municipio_6 != \"411535\" & id_municipio_6 != \"411710\" & id_municipio_6 != \"412627\" & id_municipio_6 != \"410140\" &  id_municipio_6 != \"410350\"'\n",
    ")\n",
    "municipios_pr = municipio_pr[\"id_municipio_6\"].tolist()\n",
    "\n",
    "anos_pr = [\n",
    "    \"2013\",\n",
    "    \"2014\",\n",
    "    \"2015\",\n",
    "    \"2016\",\n",
    "    \"2017\",\n",
    "    \"2018\",\n",
    "    \"2019\",\n",
    "    \"2020\",\n",
    "    \"2021\",\n",
    "]\n",
    "\n",
    "all_files_pr = []\n",
    "for a in anos_pr:\n",
    "    for m in municipios_pr:\n",
    "        exec(\n",
    "            \"path = '/content/gdrive/MyDrive/ComprasPublicas_Brasil/input/PR/{}/Licitacao/{}/{}_{}_Licitacao.csv'\".format(\n",
    "                a, m, a, m\n",
    "            )\n",
    "        )\n",
    "        all_files_pr.append(path)  # type: ignore  # noqa: F821\n",
    "\n",
    "# cria coluna arquivo que especifica a origem do dado\n",
    "all_df_pr = []\n",
    "for f in all_files_pr:\n",
    "    df1 = pd.read_csv(f, sep=\",\", encoding=\"utf-8\", dtype=str)\n",
    "    df1[\"arquivo\"] = f.split(\"/\")[-1]\n",
    "    all_df_pr.append(df1)\n",
    "\n",
    "pr = pd.concat(\n",
    "    all_df_pr, ignore_index=True, sort=True\n",
    ")  # junta dfs por variáveis iguais\n",
    "\n",
    "pr_drop = [\n",
    "    \"DataReferencia\",\n",
    "    \"arquivo\",\n",
    "    \"dsClausulaProrrogacao\",\n",
    "    \"dsRegimeExecucaoLicitacao\",\n",
    "    \"dtAbertura\",\n",
    "    \"nrEditalOrigem\",\n",
    "    \"nrLicitacao\",\n",
    "    \"nranoEditalOrigem\",\n",
    "    \"ultimoEnvioSIMAMNesteExercicio\",\n",
    "    \"dtEnvio\",\n",
    "    \"nmMunicipio\",\n",
    "    \"vlLicitacao\",\n",
    "    \"dsAvaliacaoLicitacao\",\n",
    "    \"dsModalidadeLicitacao\",\n",
    "    \"dsNaturezaLicitacao\",\n",
    "    \"dsClassificacaoObjetoLicitacao\",\n",
    "    \"idLicitacao\",\n",
    "    \"dsObjeto\",\n",
    "    \"dsTipoSituacaoLicitacao\",\n",
    "    \"dtEdital\",\n",
    "    \"dtOcorrencia\",\n",
    "    \"nrAnoLicitacao\",\n",
    "]\n",
    "\n",
    "pr.drop(pr_drop, axis=1, inplace=True)\n",
    "\n",
    "pr_rename = {\n",
    "    \"cdIBGE\": \"id_municipio\",\n",
    "    \"idPessoa\": \"id_unidade_gestora\",\n",
    "    \"nmEntidade\": \"nome_unidade_gestora\",\n",
    "}\n",
    "\n",
    "pr.rename(pr_rename, axis=1, inplace=True)\n",
    "\n",
    "# merge id_municipio 6 and 7 digits\n",
    "\n",
    "pr = pd.merge(\n",
    "    pr,\n",
    "    municipio,\n",
    "    how=\"left\",\n",
    "    left_on=\"id_municipio\",\n",
    "    right_on=\"id_municipio_6\",\n",
    ")\n",
    "\n",
    "pr.drop(\n",
    "    [\"id_municipio_x\", \"id_municipio_6\", \"nome\", \"id_municipio_tce\"],\n",
    "    axis=1,\n",
    "    inplace=True,\n",
    ")\n",
    "pr.rename({\"id_municipio_y\": \"id_municipio\"}, axis=1, inplace=True)\n",
    "\n",
    "pr = pr.drop_duplicates()\n",
    "\n",
    "pr = pr.reindex(columns=ordem)"
   ]
  },
  {
   "cell_type": "markdown",
   "metadata": {
    "id": "FtoobE7aL-Ol"
   },
   "source": [
    "# SP\n"
   ]
  },
  {
   "cell_type": "code",
   "execution_count": null,
   "metadata": {
    "id": "75GKX9IgMFvz"
   },
   "outputs": [],
   "source": [
    "sp = pd.read_csv(\n",
    "    \"/content/gdrive/MyDrive/ComprasPublicas_Brasil/input/SP/aux_municipio_sp.csv\",\n",
    "    sep=\",\",\n",
    "    encoding=\"utf-8\",\n",
    "    dtype=str,\n",
    ")\n",
    "\n",
    "sp_rename = {\"ds_orgao\": \"nome_orgao\", \"codigo_orgao\": \"orgao\"}\n",
    "\n",
    "sp.rename(sp_rename, axis=1, inplace=True)\n",
    "\n",
    "sp = sp.drop_duplicates()\n",
    "\n",
    "sp = sp.reindex(columns=ordem)"
   ]
  },
  {
   "cell_type": "markdown",
   "metadata": {
    "id": "Zvhu5-l4adTT"
   },
   "source": [
    "# RS\n"
   ]
  },
  {
   "cell_type": "code",
   "execution_count": null,
   "metadata": {
    "id": "aAJhzuweaeh_"
   },
   "outputs": [],
   "source": [
    "rs = pd.read_csv(\n",
    "    \"/content/gdrive/MyDrive/ComprasPublicas_Brasil/input/RS/orgaos_auditados_rs.csv\",\n",
    "    sep=\",\",\n",
    "    encoding=\"utf-8\",\n",
    "    dtype=str,\n",
    ")\n",
    "\n",
    "rs_rename = {\n",
    "    \"NOME_ORGAO\": \"nome_orgao\",\n",
    "    \"CD_ORGAO\": \"orgao\",\n",
    "    \"ESFERA\": \"esfera\",\n",
    "    \"CD_MUNICIPIO_IBGE\": \"id_municipio\",\n",
    "}\n",
    "\n",
    "rs.rename(rs_rename, axis=1, inplace=True)\n",
    "\n",
    "rs[\"sigla_uf\"] = \"RS\"\n",
    "\n",
    "rs = rs.drop_duplicates()\n",
    "\n",
    "rs = rs.reindex(columns=ordem)"
   ]
  },
  {
   "cell_type": "markdown",
   "metadata": {
    "id": "MN5R4mTKdUFM"
   },
   "source": [
    "# PB\n"
   ]
  },
  {
   "cell_type": "code",
   "execution_count": null,
   "metadata": {
    "id": "24JYLoJcdVmu"
   },
   "outputs": [],
   "source": [
    "pb = pd.read_csv(\n",
    "    \"/content/gdrive/MyDrive/ComprasPublicas_Brasil/input/PB/aux_municipio_pb.csv\",\n",
    "    sep=\",\",\n",
    "    encoding=\"utf-8\",\n",
    "    dtype=str,\n",
    ")\n",
    "\n",
    "pb_rename = {\"de_ugestora\": \"nome_unidade_gestora\"}\n",
    "\n",
    "pb.rename(pb_rename, axis=1, inplace=True)\n",
    "\n",
    "pb = pb.drop_duplicates()\n",
    "\n",
    "pb = pb.reindex(columns=ordem)"
   ]
  },
  {
   "cell_type": "markdown",
   "metadata": {
    "id": "xODE3TcSek3Q"
   },
   "source": [
    "# CE\n"
   ]
  },
  {
   "cell_type": "code",
   "execution_count": null,
   "metadata": {
    "id": "CqKtf91M3ZoD"
   },
   "outputs": [],
   "source": [
    "ce = pd.read_csv(\n",
    "    \"/content/gdrive/MyDrive/ComprasPublicas_Brasil/input/CE/Dicionário/orgao_ce.csv\",\n",
    "    sep=\",\",\n",
    "    encoding=\"utf-8\",\n",
    "    dtype=str,\n",
    ")\n",
    "\n",
    "id_mun = pd.read_csv(\n",
    "    \"/content/gdrive/MyDrive/ComprasPublicas_Brasil/input/CE/municipios.csv\",\n",
    "    sep=\";\",\n",
    "    dtype=str,\n",
    "    encoding=\"latin-1\",\n",
    "    usecols=[\"geoibgeId\", \"codigo_municipio\"],\n",
    ")\n",
    "\n",
    "# merge to get id_municipio\n",
    "\n",
    "ce = pd.merge(\n",
    "    ce,\n",
    "    id_mun,\n",
    "    how=\"left\",\n",
    "    left_on=[\"codigo_municipio\"],\n",
    "    right_on=[\"codigo_municipio\"],\n",
    ")\n",
    "\n",
    "ce_rename = {\n",
    "    \"geoibgeId\": \"id_municipio\",\n",
    "    \"codigo_orgao\": \"orgao\",\n",
    "    \"codigo_tipo_unidade\": \"id_unidade_gestora\",\n",
    "}\n",
    "\n",
    "ce.rename(ce_rename, axis=1, inplace=True)\n",
    "\n",
    "ce.drop_duplicates(\n",
    "    subset=[\"id_municipio\", \"orgao\", \"id_unidade_gestora\"], inplace=True\n",
    ")\n",
    "\n",
    "ce[\"sigla_uf\"] = \"CE\"\n",
    "\n",
    "ce[\"ano\"] = ce[\"exercicio_orcamento\"].str[:4]\n",
    "\n",
    "ce = ce.reindex(columns=ordem)"
   ]
  },
  {
   "cell_type": "markdown",
   "metadata": {
    "id": "rEoY7O4z6aOY"
   },
   "source": [
    "# Join\n"
   ]
  },
  {
   "cell_type": "code",
   "execution_count": null,
   "metadata": {
    "id": "-CKlrkiQ6cRj"
   },
   "outputs": [],
   "source": [
    "orgao_ug = pd.concat([pe, ce, pb, mg, pr, rs])\n",
    "\n",
    "orgao_ug[\"nome_orgao\"] = orgao_ug[\"nome_orgao\"].str.upper()\n",
    "orgao_ug[\"nome_unidade_gestora\"] = orgao_ug[\"nome_unidade_gestora\"].str.upper()\n",
    "orgao_ug[\"esfera\"] = orgao_ug[\"esfera\"].str.lower()"
   ]
  },
  {
   "cell_type": "code",
   "execution_count": null,
   "metadata": {
    "id": "q-XuyCuu7e5H"
   },
   "outputs": [],
   "source": [
    "orgao_ug.to_csv(\n",
    "    \"/content/gdrive/MyDrive/ComprasPublicas_Brasil/output/dicionarios/orgao_ug_auxiliar.csv\",\n",
    "    index=False,\n",
    "    na_rep=\"\",\n",
    "    float_format=\"%.2f\",\n",
    ")"
   ]
  }
 ],
 "metadata": {
  "colab": {
   "provenance": []
  },
  "kernelspec": {
   "display_name": "Python 3",
   "name": "python3"
  },
  "language_info": {
   "name": "python"
  }
 },
 "nbformat": 4,
 "nbformat_minor": 0
}
