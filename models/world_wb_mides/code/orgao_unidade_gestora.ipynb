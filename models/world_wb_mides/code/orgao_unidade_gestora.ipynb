{
  "nbformat": 4,
  "nbformat_minor": 0,
  "metadata": {
    "colab": {
      "provenance": []
    },
    "kernelspec": {
      "name": "python3",
      "display_name": "Python 3"
    },
    "language_info": {
      "name": "python"
    }
  },
  "cells": [
    {
      "cell_type": "code",
      "source": [
        "from google.colab import drive\n",
        "drive.mount('/content/gdrive')"
      ],
      "metadata": {
        "id": "NshV2eruh1cV",
        "colab": {
          "base_uri": "https://localhost:8080/"
        },
        "outputId": "cfbd6cda-bee8-4cf1-d22f-68223798f103"
      },
      "execution_count": null,
      "outputs": [
        {
          "output_type": "stream",
          "name": "stdout",
          "text": [
            "Mounted at /content/gdrive\n"
          ]
        }
      ]
    },
    {
      "cell_type": "code",
      "source": [
        "import pandas as pd\n",
        "import numpy as np\n",
        "import os\n",
        "import glob\n",
        "from zipfile import ZipFile\n",
        "import gzip\n",
        "import ftfy\n",
        "from io import StringIO"
      ],
      "metadata": {
        "id": "rgfd_Lt8hiN7"
      },
      "execution_count": null,
      "outputs": []
    },
    {
      "cell_type": "code",
      "source": [
        "!pip install ftfy"
      ],
      "metadata": {
        "id": "ltSFpesF5jTJ"
      },
      "execution_count": null,
      "outputs": []
    },
    {
      "cell_type": "code",
      "source": [
        "pd.set_option('display.max_columns', None)\n",
        "pd.options.display.float_format = '{:.2f}'.format"
      ],
      "metadata": {
        "id": "wtjADIzwnIaI"
      },
      "execution_count": null,
      "outputs": []
    },
    {
      "cell_type": "code",
      "source": [
        "id_tce = pd.read_csv('/content/gdrive/MyDrive/ComprasPublicas_Brasil/input/PE/municipios.csv', encoding='latin-1',dtype=str)\n",
        "id_tce.rename(columns={'CODIGOIBGE':'id_municipio', 'CODIGO':'id_municipio_tce', 'UNIDADEFEDERATIVA':'sigla_uf'}, inplace=True)\n",
        "id_tce.drop(['MUNICIPIO', 'CODIGOSAGRES'], axis=1, inplace=True)\n",
        "municipio = pd.read_csv('/content/gdrive/MyDrive/ComprasPublicas_Brasil/auxiliary_files/municipio.csv',encoding='latin-1', dtype=str)\n",
        "municipio = pd.merge(municipio, id_tce, how='left', left_on=['id_municipio', 'sigla_uf'], right_on=['id_municipio', 'sigla_uf'])\n",
        "ufs = municipio['sigla_uf'].tolist()"
      ],
      "metadata": {
        "id": "Wh4SZN5ODHuz"
      },
      "execution_count": null,
      "outputs": []
    },
    {
      "cell_type": "code",
      "source": [
        "ordem = ['id_municipio','ano','sigla_uf','orgao','nome_orgao','id_unidade_gestora','nome_unidade_gestora','esfera']"
      ],
      "metadata": {
        "id": "cOTX_Q9QMd3S"
      },
      "execution_count": null,
      "outputs": []
    },
    {
      "cell_type": "markdown",
      "source": [
        "# PE"
      ],
      "metadata": {
        "id": "oQTkCCFQYlqC"
      }
    },
    {
      "cell_type": "code",
      "source": [
        "with open('/content/gdrive/MyDrive/ComprasPublicas_Brasil/input/PE/unidadesjurisdicionadas.csv', 'r', encoding='utf-8') as f:\n",
        "    text = f.read()\n",
        "\n",
        "# Corrigir o texto\n",
        "fixed_text = ftfy.fix_text(text)\n",
        "\n",
        "# Em seguida, pode tentar ler o texto corrigido usando pandas\n",
        "id_tce  = pd.read_csv(StringIO(fixed_text))\n",
        "\n",
        "#id_tce = pd.read_csv('/content/gdrive/MyDrive/ComprasPublicas_Brasil/input/PE/unidadesjurisdicionadas.csv', sep=',', encoding='latin-1',dtype=str)\n",
        "\n",
        "tce_drop = ['CODIGOTCE', 'PODER','UNIDADEFEDERATIVA', 'NATUREZA', 'TIPOPESSOAJURIDICA', 'MUNICIPIO', 'SIGLA', 'SITUACAO', 'CNPJ']\n",
        "\n",
        "rename = {'CODIGOMUNICIPIO':'id_municipio_tce','ID_UNIDADE_GESTORA': 'id_unidade_gestora', 'ESFERA':'esfera', 'ORGAO':'nome_unidade_gestora'}\n",
        "\n",
        "id_tce.drop(tce_drop, axis=1, inplace=True)\n",
        "id_tce.rename(columns = rename, inplace=True)\n",
        "\n",
        "# merge to get id_municipio (ibge)\n",
        "\n",
        "pe = pd.merge(id_tce, municipio, how='left', left_on='id_municipio_tce', right_on='id_municipio_tce')\n",
        "\n",
        "pe.drop(['nome','id_municipio_6','id_municipio_tce'],axis=1, inplace=True)\n",
        "\n",
        "pe.drop_duplicates(subset=['id_municipio','id_unidade_gestora'], inplace=True)\n",
        "\n",
        "pe = pe.reindex(columns=ordem)"
      ],
      "metadata": {
        "id": "mxN5m_MyZFbR"
      },
      "execution_count": null,
      "outputs": []
    },
    {
      "cell_type": "markdown",
      "source": [
        "# MG"
      ],
      "metadata": {
        "id": "lqe_6sPoYkfZ"
      }
    },
    {
      "cell_type": "code",
      "source": [
        "municipio_mg = municipio.query('sigla_uf==\"MG\"')\n",
        "municipios_mg = municipio_mg['id_municipio'].tolist()\n",
        "\n",
        "anos_mg = ['2014','2015','2016','2017','2018','2019','2020','2021']\n",
        "\n",
        "pasta = '/content/gdrive/MyDrive/ComprasPublicas_Brasil/input/MG/'\n",
        "\n",
        "all_df_mg=[]\n",
        "for a in anos_mg:\n",
        "  for m in municipios_mg:\n",
        "    df = os.path.join(pasta, '{}/orgao_{}.zip'.format(a,a))\n",
        "    with ZipFile(df) as z:\n",
        "      with z.open('orgao/{}/{}.{}.orgao.orgao.csv'.format(m,a,m)) as f:\n",
        "        mg1 = pd.read_csv(f,sep=';', encoding='utf-8', dtype=str)\n",
        "\n",
        "      with z.open('orgao/{}/{}.{}.orgao.orgaoUnidade.csv'.format(m,a,m)) as f:\n",
        "        mg2 = pd.read_csv(f,sep=';', encoding='utf-8', dtype=str)\n",
        "\n",
        "    mg = pd.merge(mg1, mg2, how='left', left_on=['seq_orgao'], right_on=['seq_orgao'])\n",
        "\n",
        "    mg.drop(['nom_uf','dsc_regiaoplanejamento','cod_subunidade','dsc_subunidade','num_anoexercicio','num_versao_arq_x','num_versao_arq_y',\n",
        "             'nom_municipio','cod_orgao','cod_uf','cod_unidade','tipo_orgao','num_mes_referencia'],axis=1,inplace=True)\n",
        "\n",
        "    mg.rename({'cod_municipio':'id_municipio', 'sgl_uf':'sigla_uf','dsc_unidade':'nome_unidade_gestora','nom_orgao':'nome_orgao',\n",
        "               'seq_orgao':'orgao','seq_unidade':'id_unidade_gestora','num_ano_referencia':'ano'},axis=1,inplace=True)\n",
        "\n",
        "    all_df_mg.append(mg)\n",
        "\n",
        "mg = pd.concat(all_df_mg, ignore_index=True, sort=True)\n",
        "\n",
        "mg = mg.drop_duplicates()\n",
        "\n",
        "mg = mg.reindex(columns=ordem)"
      ],
      "metadata": {
        "id": "SrpyjurfYtba"
      },
      "execution_count": null,
      "outputs": []
    },
    {
      "cell_type": "markdown",
      "source": [
        "# PR"
      ],
      "metadata": {
        "id": "vQ2vjipmnFMv"
      }
    },
    {
      "cell_type": "code",
      "execution_count": null,
      "metadata": {
        "id": "x0cX3LwsfxNs"
      },
      "outputs": [],
      "source": [
        "#PR\n",
        "\n",
        "municipio_pr = municipio.query('sigla_uf==\"PR\"')\n",
        "municipio_pr = municipio_pr.query('id_municipio_6 != \"411915\" & id_municipio_6 != \"411370\" & id_municipio_6 != \"411535\" & id_municipio_6 != \"411710\" & id_municipio_6 != \"412627\" & id_municipio_6 != \"410140\" &  id_municipio_6 != \"410350\"')\n",
        "municipios_pr = municipio_pr['id_municipio_6'].tolist()\n",
        "\n",
        "anos_pr = ['2013','2014','2015','2016','2017','2018','2019','2020','2021']\n",
        "\n",
        "all_files_pr = []\n",
        "for a in anos_pr:\n",
        "  for m in municipios_pr:\n",
        "    exec(\"path = '/content/gdrive/MyDrive/ComprasPublicas_Brasil/input/PR/{}/Licitacao/{}/{}_{}_Licitacao.csv'\".format(a, m, a, m))\n",
        "    all_files_pr.append(path)\n",
        "\n",
        "#cria coluna arquivo que especifica a origem do dado\n",
        "all_df_pr = []\n",
        "for f in all_files_pr:\n",
        "    df1 = pd.read_csv(f, sep=',', encoding='utf-8', dtype=str)\n",
        "    df1['arquivo'] = f.split('/')[-1]\n",
        "    all_df_pr.append(df1)\n",
        "\n",
        "pr = pd.concat(all_df_pr, ignore_index=True, sort=True) #junta dfs por variáveis iguais\n",
        "\n",
        "pr_drop = ['DataReferencia','arquivo', 'dsClausulaProrrogacao','dsRegimeExecucaoLicitacao',\n",
        "           'dtAbertura','nrEditalOrigem','nrLicitacao','nranoEditalOrigem',\n",
        "           'ultimoEnvioSIMAMNesteExercicio','dtEnvio','nmMunicipio','vlLicitacao',\n",
        "           'dsAvaliacaoLicitacao','dsModalidadeLicitacao','dsNaturezaLicitacao',\n",
        "           'dsClassificacaoObjetoLicitacao','idLicitacao','dsObjeto','dsTipoSituacaoLicitacao',\n",
        "           'dtEdital','dtOcorrencia','nrAnoLicitacao']\n",
        "\n",
        "pr.drop(pr_drop, axis=1, inplace=True)\n",
        "\n",
        "pr_rename = {'cdIBGE':'id_municipio','idPessoa':'id_unidade_gestora',\n",
        "             'nmEntidade':'nome_unidade_gestora'}\n",
        "\n",
        "pr.rename(pr_rename, axis=1, inplace=True)\n",
        "\n",
        "# merge id_municipio 6 and 7 digits\n",
        "\n",
        "pr = pd.merge(pr, municipio, how='left', left_on='id_municipio', right_on='id_municipio_6')\n",
        "\n",
        "pr.drop(['id_municipio_x','id_municipio_6','nome','id_municipio_tce'],axis=1, inplace=True)\n",
        "pr.rename({'id_municipio_y':'id_municipio'},axis=1, inplace=True)\n",
        "\n",
        "pr=pr.drop_duplicates()\n",
        "\n",
        "pr = pr.reindex(columns=ordem)"
      ]
    },
    {
      "cell_type": "markdown",
      "source": [
        "# SP"
      ],
      "metadata": {
        "id": "FtoobE7aL-Ol"
      }
    },
    {
      "cell_type": "code",
      "source": [
        "sp = pd.read_csv('/content/gdrive/MyDrive/ComprasPublicas_Brasil/input/SP/aux_municipio_sp.csv', sep=',', encoding='utf-8',dtype=str)\n",
        "\n",
        "sp_rename = {'ds_orgao':'nome_orgao','codigo_orgao':'orgao'}\n",
        "\n",
        "sp.rename(sp_rename, axis=1, inplace=True)\n",
        "\n",
        "sp=sp.drop_duplicates()\n",
        "\n",
        "sp = sp.reindex(columns=ordem)"
      ],
      "metadata": {
        "id": "75GKX9IgMFvz"
      },
      "execution_count": null,
      "outputs": []
    },
    {
      "cell_type": "markdown",
      "source": [
        "# RS"
      ],
      "metadata": {
        "id": "Zvhu5-l4adTT"
      }
    },
    {
      "cell_type": "code",
      "source": [
        "rs = pd.read_csv('/content/gdrive/MyDrive/ComprasPublicas_Brasil/input/RS/orgaos_auditados_rs.csv', sep=',', encoding='utf-8',dtype=str)\n",
        "\n",
        "rs_rename = {'NOME_ORGAO':'nome_orgao','CD_ORGAO':'orgao','ESFERA':'esfera','CD_MUNICIPIO_IBGE':'id_municipio'}\n",
        "\n",
        "rs.rename(rs_rename, axis=1, inplace=True)\n",
        "\n",
        "rs['sigla_uf'] = \"RS\"\n",
        "\n",
        "rs=rs.drop_duplicates()\n",
        "\n",
        "rs = rs.reindex(columns=ordem)"
      ],
      "metadata": {
        "id": "aAJhzuweaeh_"
      },
      "execution_count": null,
      "outputs": []
    },
    {
      "cell_type": "markdown",
      "source": [
        "# PB"
      ],
      "metadata": {
        "id": "MN5R4mTKdUFM"
      }
    },
    {
      "cell_type": "code",
      "source": [
        "pb = pd.read_csv('/content/gdrive/MyDrive/ComprasPublicas_Brasil/input/PB/aux_municipio_pb.csv', sep=',', encoding='utf-8',dtype=str)\n",
        "\n",
        "pb_rename = {'de_ugestora':'nome_unidade_gestora'}\n",
        "\n",
        "pb.rename(pb_rename, axis=1, inplace=True)\n",
        "\n",
        "pb=pb.drop_duplicates()\n",
        "\n",
        "pb = pb.reindex(columns=ordem)"
      ],
      "metadata": {
        "id": "24JYLoJcdVmu"
      },
      "execution_count": null,
      "outputs": []
    },
    {
      "cell_type": "markdown",
      "source": [
        "# CE"
      ],
      "metadata": {
        "id": "xODE3TcSek3Q"
      }
    },
    {
      "cell_type": "code",
      "source": [
        "ce = pd.read_csv('/content/gdrive/MyDrive/ComprasPublicas_Brasil/input/CE/Dicionário/orgao_ce.csv', sep=',', encoding='utf-8',dtype=str)\n",
        "\n",
        "id_mun = pd.read_csv('/content/gdrive/MyDrive/ComprasPublicas_Brasil/input/CE/municipios.csv', sep=';', dtype=str, encoding='latin-1',\n",
        "                     usecols=['geoibgeId','codigo_municipio'])\n",
        "\n",
        "# merge to get id_municipio\n",
        "\n",
        "ce = pd.merge(ce, id_mun, how='left', left_on = ['codigo_municipio'], right_on = ['codigo_municipio'])\n",
        "\n",
        "ce_rename = {'geoibgeId':'id_municipio', 'codigo_orgao':'orgao', 'codigo_tipo_unidade':'id_unidade_gestora'}\n",
        "\n",
        "ce.rename(ce_rename, axis=1, inplace=True)\n",
        "\n",
        "ce.drop_duplicates(subset=['id_municipio','orgao','id_unidade_gestora'], inplace=True)\n",
        "\n",
        "ce['sigla_uf'] = 'CE'\n",
        "\n",
        "ce['ano'] = ce['exercicio_orcamento'].str[:4]\n",
        "\n",
        "ce = ce.reindex(columns=ordem)"
      ],
      "metadata": {
        "id": "CqKtf91M3ZoD"
      },
      "execution_count": null,
      "outputs": []
    },
    {
      "cell_type": "markdown",
      "source": [
        "# Join"
      ],
      "metadata": {
        "id": "rEoY7O4z6aOY"
      }
    },
    {
      "cell_type": "code",
      "source": [
        "orgao_ug = pd.concat([pe, ce, pb, mg, pr, rs])\n",
        "\n",
        "orgao_ug['nome_orgao'] = orgao_ug['nome_orgao'].str.upper()\n",
        "orgao_ug['nome_unidade_gestora'] = orgao_ug['nome_unidade_gestora'].str.upper()\n",
        "orgao_ug['esfera'] = orgao_ug['esfera'].str.lower()"
      ],
      "metadata": {
        "id": "-CKlrkiQ6cRj"
      },
      "execution_count": null,
      "outputs": []
    },
    {
      "cell_type": "code",
      "source": [
        "orgao_ug.to_csv('/content/gdrive/MyDrive/ComprasPublicas_Brasil/output/dicionarios/orgao_ug_auxiliar.csv', index=False, na_rep='', float_format='%.2f')"
      ],
      "metadata": {
        "id": "q-XuyCuu7e5H"
      },
      "execution_count": null,
      "outputs": []
    }
  ]
}
