{
 "cells": [
  {
   "cell_type": "code",
   "execution_count": null,
   "metadata": {
    "colab": {
     "base_uri": "https://localhost:8080/"
    },
    "id": "-IPLnj5ocyNm",
    "outputId": "fb03913b-3264-471b-9103-491a9cf32e8a"
   },
   "outputs": [
    {
     "name": "stdout",
     "output_type": "stream",
     "text": [
      "Mounted at /content/drive\n"
     ]
    }
   ],
   "source": [
    "from google.colab import drive\n",
    "\n",
    "drive.mount(\"/content/drive\")"
   ]
  },
  {
   "cell_type": "code",
   "execution_count": null,
   "metadata": {
    "id": "ttcqngQqdXWh"
   },
   "outputs": [],
   "source": [
    "import os\n",
    "from zipfile import ZipFile\n",
    "\n",
    "import basedosdados as bd\n",
    "import numpy as np\n",
    "import pandas as pd"
   ]
  },
  {
   "cell_type": "markdown",
   "metadata": {
    "id": "1fnt_SnhZNq0"
   },
   "source": [
    "### Setup inicial\n",
    "\n",
    "_necessário rodar apenas uma vez_\n",
    "\n",
    "- Download dos arquivos\n",
    "- Criação das pastas de partição (ano) em output\n",
    "- Como os municípios são listados por nome, substituímos pelo id_municipio (ID Município - IBGE 7 Dígitos). Tal check cria a lista de todos os municípios que não dão match com a base de compatibilização extraída do diretório de município. Baseado nessa lista, faz-se o replace para um match 1:1\n"
   ]
  },
  {
   "cell_type": "code",
   "execution_count": null,
   "metadata": {
    "id": "7KCkQkVHJV8n"
   },
   "outputs": [],
   "source": [
    "# download dos dados originais\n",
    "for ano in [*range(2000, 2020)]:\n",
    "    if ano == 2018:\n",
    "        !wget --no-check-certificate -P /content/drive/MyDrive/basedosdados/br_inpe_sisam/input https://dataserver-coids.inpe.br/queimadas/queimadas/sisam/dados_sisam-{ano}.zip"
   ]
  },
  {
   "cell_type": "code",
   "execution_count": null,
   "metadata": {
    "id": "Kl0G_5N7JZO4"
   },
   "outputs": [],
   "source": [
    "# cria pastas particionadas por ano\n",
    "for ano in [*range(2000, 2020)]:\n",
    "    directory = (\n",
    "        f\"/content/drive/MyDrive/basedosdados/br_inpe_sisam/output/ano={ano}\"\n",
    "    )\n",
    "    if not os.path.exists(directory):\n",
    "        os.makedirs(directory)"
   ]
  },
  {
   "cell_type": "code",
   "execution_count": null,
   "metadata": {
    "colab": {
     "base_uri": "https://localhost:8080/"
    },
    "id": "GZ7gqHQXJpi4",
    "outputId": "ce2f42e7-887f-463d-f6e1-caf7b0a2c758"
   },
   "outputs": [
    {
     "name": "stderr",
     "output_type": "stream",
     "text": [
      "Downloading: 100%|██████████| 5570/5570 [00:00<00:00, 9604.05rows/s]\n"
     ]
    }
   ],
   "source": [
    "# compatibilização da base entre nomes, siglas e ids\n",
    "query = \"\"\"\n",
    "SELECT\n",
    "  sigla_uf,\n",
    "  UPPER(nome_uf) AS uf_nome,\n",
    "  id_municipio,\n",
    "  UPPER(nome) AS municipio_nome\n",
    "FROM basedosdados.br_bd_diretorios_brasil.municipio\n",
    "\"\"\"\n",
    "\n",
    "comp = bd.read_sql(query, billing_project_id=\"input-dados\")"
   ]
  },
  {
   "cell_type": "code",
   "execution_count": null,
   "metadata": {
    "id": "9CWB-i0UCDsI"
   },
   "outputs": [],
   "source": [
    "# check de match para municipios\n",
    "unmatch_list = []\n",
    "\n",
    "for ano in [*range(2000, 2020)]:\n",
    "    file = f\"/content/drive/MyDrive/basedosdados/br_inpe_sisam/input/dados_sisam-{ano}.zip\"\n",
    "    # descompacta o arquivo csv\n",
    "    with ZipFile(file) as z, z.open(f\"task_9045.dados_sisam.{ano}.csv\") as f:\n",
    "        df = pd.read_csv(f)\n",
    "        # merge com diretorio\n",
    "        df = df.merge(\n",
    "            comp,\n",
    "            how=\"left\",\n",
    "            on=[\"uf_nome\", \"municipio_nome\"],\n",
    "            indicator=True,\n",
    "        )\n",
    "        # cria lista de municipios com typos\n",
    "        unmatch = (\n",
    "            df.query('_merge == \"left_only\"')[\"municipio_nome\"]\n",
    "            .drop_duplicates()\n",
    "            .to_list()\n",
    "        )\n",
    "        # join entre anos\n",
    "        unmatch_list = unmatch_list + unmatch\n",
    "\n",
    "unmatch_list_unique = list(\n",
    "    set(unmatch_list)\n",
    ")  # lista conta com 28 municipios e typos para dados até 2019"
   ]
  },
  {
   "cell_type": "markdown",
   "metadata": {
    "id": "gLvxFJ9UZ629"
   },
   "source": [
    "### Tratamento\n"
   ]
  },
  {
   "cell_type": "code",
   "execution_count": null,
   "metadata": {
    "id": "BSL7hoyDgZCs"
   },
   "outputs": [],
   "source": [
    "for ano in [*range(2000, 2020)]:\n",
    "    if ano == 2019:\n",
    "        file = f\"/content/drive/MyDrive/basedosdados/br_inpe_sisam/input/dados_sisam-{ano}.zip\"\n",
    "        # descompacta o arquivo csv\n",
    "        with (\n",
    "            ZipFile(file) as z,\n",
    "            z.open(f\"task_9045.dados_sisam.{ano}.csv\") as f,\n",
    "        ):\n",
    "            df = pd.read_csv(f)\n",
    "            df[\"municipio_nome\"] = df[\"municipio_nome\"].replace(\n",
    "                {\n",
    "                    \"ARAÇÁS\": \"ARAÇAS\",\n",
    "                    \"ATÍLIO VIVACQUA\": \"ATILIO VIVACQUA\",\n",
    "                    \"AUGUSTO SEVERO\": \"CAMPO GRANDE\",\n",
    "                    \"BIRITIBA MIRIM\": \"BIRITIBA-MIRIM\",\n",
    "                    \"FLORÍNEA\": \"FLORÍNIA\",\n",
    "                    \"IGUARACY\": \"IGUARACI\",\n",
    "                    \"ITAOCA\": \"ITAÓCA\",\n",
    "                    \"ITAPAJÉ\": \"ITAPAGÉ\",\n",
    "                    \"IUIU\": \"IUIÚ\",\n",
    "                    \"JANUÁRIO CICCO\": \"BOA SAÚDE\",\n",
    "                    \"LAURO MÜLLER\": \"LAURO MULLER\",\n",
    "                    \"MUQUÉM DO SÃO FRANCISCO\": \"MUQUÉM DE SÃO FRANCISCO\",\n",
    "                    \"OLHO D'ÁGUA DO BORGES\": \"OLHO-D'ÁGUA DO BORGES\",\n",
    "                    \"PASSA VINTE\": \"PASSA-VINTE\",\n",
    "                    \"PINGO D'ÁGUA\": \"PINGO-D'ÁGUA\",\n",
    "                    \"POXORÉU\": \"POXORÉO\",\n",
    "                    \"RESTINGA SÊCA\": \"RESTINGA SECA\",\n",
    "                    \"SANTA IZABEL DO PARÁ\": \"SANTA ISABEL DO PARÁ\",\n",
    "                    \"SÃO CRISTÓVÃO DO SUL\": \"SÃO CRISTOVÃO DO SUL\",\n",
    "                    \"SÃO LUIZ DO NORTE\": \"SÃO LUÍZ DO NORTE\",\n",
    "                    \"SÃO LUIZ DO PARAITINGA\": \"SÃO LUÍS DO PARAITINGA\",\n",
    "                    \"SÃO VICENTE FÉRRER\": \"SÃO VICENTE FERRER\",\n",
    "                    \"VESPASIANO CORRÊA\": \"VESPASIANO CORREA\",\n",
    "                    \"WESTFÁLIA\": \"WESTFALIA\",\n",
    "                },\n",
    "            )\n",
    "            df[\"municipio_nome\"] = np.where(\n",
    "                (df[\"uf_nome\"] == \"BAHIA\")\n",
    "                & (df[\"municipio_nome\"] == \"SANTA TEREZINHA\"),\n",
    "                \"SANTA TERESINHA\",\n",
    "                df[\"municipio_nome\"],\n",
    "            )\n",
    "            df[\"municipio_nome\"] = np.where(\n",
    "                (df[\"uf_nome\"] == \"PARAÍBA\")\n",
    "                & (df[\"municipio_nome\"] == \"QUIXABA\"),\n",
    "                \"QUIXABÁ\",\n",
    "                df[\"municipio_nome\"],\n",
    "            )\n",
    "            df = df.merge(\n",
    "                comp,\n",
    "                how=\"left\",\n",
    "                on=[\"uf_nome\", \"municipio_nome\"],\n",
    "                indicator=True,\n",
    "            )\n",
    "            df[\"sigla_uf\"] = np.where(\n",
    "                (df[\"uf_nome\"] == \"RIO GRANDE DO SUL\")\n",
    "                & (df[\"municipio_nome\"] == \"LAGOA MIRIM\"),\n",
    "                \"RS\",\n",
    "                df[\"sigla_uf\"],\n",
    "            )\n",
    "            df[\"sigla_uf\"] = np.where(\n",
    "                (df[\"uf_nome\"] == \"RIO GRANDE DO SUL\")\n",
    "                & (df[\"municipio_nome\"] == \"LAGOA DOS PATOS\"),\n",
    "                \"RS\",\n",
    "                df[\"sigla_uf\"],\n",
    "            )\n",
    "            df[\"id_municipio\"] = np.where(\n",
    "                (df[\"uf_nome\"] == \"RIO GRANDE DO SUL\")\n",
    "                & (df[\"municipio_nome\"] == \"LAGOA MIRIM\"),\n",
    "                \"4300001\",\n",
    "                df[\"id_municipio\"],\n",
    "            )\n",
    "            df[\"id_municipio\"] = np.where(\n",
    "                (df[\"uf_nome\"] == \"RIO GRANDE DO SUL\")\n",
    "                & (df[\"municipio_nome\"] == \"LAGOA DOS PATOS\"),\n",
    "                \"4300002\",\n",
    "                df[\"id_municipio\"],\n",
    "            )\n",
    "            df = df.rename(\n",
    "                columns={\n",
    "                    \"precipitacao_mmdia\": \"precipitacao_dia\",\n",
    "                    \"temperatura_c\": \"temperatura\",\n",
    "                    \"datahora\": \"data_hora\",\n",
    "                    \"umidade_relativa_percentual\": \"umidade_relativa\",\n",
    "                    \"vento_direcao_grau\": \"vento_direcao\",\n",
    "                    \"vento_velocidade_ms\": \"vento_velocidade\",\n",
    "                },\n",
    "            )\n",
    "            # df = df.query('_merge == \"both\"')\n",
    "            # df = df[['sigla_uf', 'id_municipio', 'data_hora', 'co_ppb', 'no2_ppb', 'o3_ppb', 'pm25_ugm3', 'so2_ugm3',\n",
    "            #          'precipitacao_dia', 'temperatura', 'umidade_relativa', 'vento_direcao', 'vento_velocidade']]\n",
    "            # df.to_csv('/content/drive/MyDrive/basedosdados/br_inpe_sisam/output/ano={}/microdados.csv'.format(ano), index=False, na_rep='')"
   ]
  },
  {
   "cell_type": "code",
   "execution_count": null,
   "metadata": {
    "id": "MR7j62bklBUg"
   },
   "outputs": [],
   "source": [
    "df2 = df.dropna(subset=\"id_municipio\")"
   ]
  },
  {
   "cell_type": "code",
   "execution_count": null,
   "metadata": {
    "colab": {
     "base_uri": "https://localhost:8080/"
    },
    "id": "eB-Mt-FknguK",
    "outputId": "cd27c2da-6097-4549-9933-a4c4f8836fa1"
   },
   "outputs": [
    {
     "data": {
      "text/plain": [
       "(8135120, 18)"
      ]
     },
     "execution_count": 23,
     "metadata": {},
     "output_type": "execute_result"
    }
   ],
   "source": [
    "df.shape"
   ]
  },
  {
   "cell_type": "code",
   "execution_count": null,
   "metadata": {
    "colab": {
     "base_uri": "https://localhost:8080/"
    },
    "id": "rbk94P37niCh",
    "outputId": "9ec05c6f-d780-40dc-f45f-d0f09d400f8c"
   },
   "outputs": [
    {
     "data": {
      "text/plain": [
       "(4067560, 18)"
      ]
     },
     "execution_count": 24,
     "metadata": {},
     "output_type": "execute_result"
    }
   ],
   "source": [
    "df2.shape"
   ]
  },
  {
   "cell_type": "code",
   "execution_count": null,
   "metadata": {
    "colab": {
     "base_uri": "https://localhost:8080/"
    },
    "id": "SP3F_ZUen_qS",
    "outputId": "d87b2644-6b74-4d06-85a5-da0779d0ec8c"
   },
   "outputs": [
    {
     "name": "stdout",
     "output_type": "stream",
     "text": [
      "(8135120, 18)\n",
      "(8135120, 18)\n"
     ]
    }
   ],
   "source": [
    "df2 = df.dropna(subset=\"id_municipio\")\n",
    "print(df.shape)\n",
    "print(df2.shape)"
   ]
  }
 ],
 "metadata": {
  "colab": {
   "provenance": []
  },
  "kernelspec": {
   "display_name": "Python 3",
   "name": "python3"
  },
  "language_info": {
   "name": "python"
  }
 },
 "nbformat": 4,
 "nbformat_minor": 0
}
