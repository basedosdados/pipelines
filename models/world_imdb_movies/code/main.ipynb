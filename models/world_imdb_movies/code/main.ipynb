{
 "cells": [
  {
   "cell_type": "code",
   "execution_count": 48,
   "metadata": {},
   "outputs": [],
   "source": [
    "\n",
    "# import kagglehub\n",
    "\n",
    "# # Download latest version\n",
    "# path = kagglehub.dataset_download(\"raedaddala/top-500-600-movies-of-each-year-from-1960-to-2024\")\n",
    "\n",
    "# print(\"Path to dataset files:\", path)"
   ]
  },
  {
   "cell_type": "code",
   "execution_count": 78,
   "metadata": {},
   "outputs": [],
   "source": [
    "import pandas as pd\n",
    "import re\n",
    "import numpy as np\n",
    "import os\n",
    "pd.set_option('display.max_columns', None)\n",
    "pd.set_option('display.max_rows', None)\n",
    "df = pd.read_csv(\"/mnt/d/basedosdados/world_imdb_movies/final_dataset.csv\")"
   ]
  },
  {
   "cell_type": "code",
   "execution_count": 79,
   "metadata": {},
   "outputs": [],
   "source": [
    "df = df.rename(columns={\n",
    "'id':'id',\n",
    "'Title':'title',\n",
    "'Movie Link':'link',\n",
    "'Year':'year',\n",
    "'Duration':'duration',\n",
    "'MPA':'rating_mpa',\n",
    "'Rating':'rating_imdb',\n",
    "'Votes':'vote',\n",
    "'budget':'budget',\n",
    "'grossWorldWide':'gross_world_wide',\n",
    "'gross_US_Canada':'gross_us_canada',\n",
    "'opening_weekend_Gross':'opening_weekend_gross',\n",
    "'directors':'director',\n",
    "'writers':'writer',\n",
    "'stars':'star',\n",
    "'genres':'genre',\n",
    "'countries_origin':'country_origin',\n",
    "'filming_locations':'filming_location',\n",
    "'production_companies':'production_company',\n",
    "'Languages':'language',\n",
    "'wins':'win',\n",
    "'nominations':'nomination',\n",
    "'oscars':'oscar',\n",
    "})"
   ]
  },
  {
   "cell_type": "code",
   "execution_count": 80,
   "metadata": {},
   "outputs": [],
   "source": [
    "list_columns = [\n",
    "    \"director\",\n",
    "    \"writer\",\n",
    "    \"star\",\n",
    "    \"genre\",\n",
    "    \"country_origin\",\n",
    "    \"filming_location\",\n",
    "    \"production_company\",\n",
    "    \"language\"\n",
    "]\n",
    "\n",
    "for columns in list_columns:\n",
    "    df[columns] = df[columns].astype(str)\n",
    "    df[columns] = df[columns].apply(lambda x: re.sub(\"[^a-zA-Z0-9, ]\", \"\", x))\n",
    "    df[columns] = df[columns].replace(\"nan\", np.nan)"
   ]
  },
  {
   "cell_type": "code",
   "execution_count": 81,
   "metadata": {},
   "outputs": [],
   "source": [
    "df['vote'] = df['vote'].astype(str)\n",
    "df['vote'] = df['vote'].apply(lambda x: x.replace('K', '000').replace('M', '000000'))\n",
    "df['vote'] = df['vote'].apply(lambda x: x.replace(\"nan\", \"\").replace(\".\", \"\"))"
   ]
  },
  {
   "cell_type": "code",
   "execution_count": 82,
   "metadata": {},
   "outputs": [],
   "source": [
    "path = os.getcwd()\n",
    "os.makedirs(f\"{path}/output/\", exist_ok=True)\n",
    "df.to_csv(f\"{path}/output/data.csv\", sep=',', encoding='latin1', index=False)"
   ]
  }
 ],
 "metadata": {
  "kernelspec": {
   "display_name": "pipelines-pGDxvxDg-py3.10 (3.10.16)",
   "language": "python",
   "name": "python3"
  },
  "language_info": {
   "codemirror_mode": {
    "name": "ipython",
    "version": 3
   },
   "file_extension": ".py",
   "mimetype": "text/x-python",
   "name": "python",
   "nbconvert_exporter": "python",
   "pygments_lexer": "ipython3",
   "version": "3.10.16"
  }
 },
 "nbformat": 4,
 "nbformat_minor": 2
}
