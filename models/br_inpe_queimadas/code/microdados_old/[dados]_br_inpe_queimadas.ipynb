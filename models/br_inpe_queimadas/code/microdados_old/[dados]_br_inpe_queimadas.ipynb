{
 "cells": [
  {
   "cell_type": "code",
   "execution_count": null,
   "metadata": {
    "colab": {
     "base_uri": "https://localhost:8080/"
    },
    "id": "-IPLnj5ocyNm",
    "outputId": "01b85e04-3feb-4469-f60d-61f4c944f06d"
   },
   "outputs": [
    {
     "name": "stdout",
     "output_type": "stream",
     "text": [
      "Mounted at /content/drive\n"
     ]
    }
   ],
   "source": [
    "from google.colab import drive\n",
    "\n",
    "drive.mount(\"/content/drive\")"
   ]
  },
  {
   "cell_type": "code",
   "execution_count": 3,
   "metadata": {
    "id": "ttcqngQqdXWh"
   },
   "outputs": [],
   "source": [
    "import os\n",
    "from zipfile import ZipFile\n",
    "\n",
    "import basedosdados as bd\n",
    "import numpy as np\n",
    "import pandas as pd"
   ]
  },
  {
   "cell_type": "markdown",
   "metadata": {
    "id": "1fnt_SnhZNq0"
   },
   "source": [
    "### Setup inicial\n",
    "\n",
    "_necessário rodar apenas uma vez_\n",
    "\n",
    "- Download dos arquivos\n",
    "- Criação das pastas de partição (ano) em output\n",
    "- Como os municípios são listados por nome, substituímos pelo id_municipio (ID Município - IBGE 7 Dígitos). Tal check cria a lista de todos os municípios que não dão match com a base de compatibilização extraída do diretório de município. Baseado nessa lista, faz-se o replace para um match 1:1\n"
   ]
  },
  {
   "cell_type": "code",
   "execution_count": null,
   "metadata": {
    "id": "7KCkQkVHJV8n"
   },
   "outputs": [],
   "source": [
    "# download dos dados originais\n",
    "for ano in [*range(2003, 2023)]:  # noqa: B007\n",
    "    !wget --no-check-certificate -P /content/drive/MyDrive/basedosdados/br_inpe_queimadas/input https://dataserver-coids.inpe.br/queimadas/queimadas/focos/csv/anual/Brasil_sat_ref/focos_br_ref_{ano}.zip"
   ]
  },
  {
   "cell_type": "code",
   "execution_count": null,
   "metadata": {
    "id": "Kl0G_5N7JZO4"
   },
   "outputs": [],
   "source": [
    "# cria pastas particionadas por ano\n",
    "for ano in [*range(2003, 2023)]:\n",
    "    directory = f\"/content/drive/MyDrive/basedosdados/br_inpe_queimadas/output/ano={ano}\"\n",
    "    if not os.path.exists(directory):\n",
    "        os.makedirs(directory)"
   ]
  },
  {
   "cell_type": "code",
   "execution_count": null,
   "metadata": {
    "id": "GZ7gqHQXJpi4"
   },
   "outputs": [],
   "source": [
    "# compatibilização da base entre nomes, siglas e ids\n",
    "query = \"\"\"\n",
    "SELECT\n",
    "  sigla_uf,\n",
    "  UPPER(nome_uf) AS estado,\n",
    "  id_municipio,\n",
    "  UPPER(nome) AS municipio\n",
    "FROM basedosdados.br_bd_diretorios_brasil.municipio\n",
    "\"\"\"\n",
    "\n",
    "comp = bd.read_sql(query, billing_project_id=\"input-dados\")"
   ]
  },
  {
   "cell_type": "code",
   "execution_count": null,
   "metadata": {
    "id": "9CWB-i0UCDsI"
   },
   "outputs": [],
   "source": [
    "# check de match para municipios\n",
    "unmatch_list = []\n",
    "\n",
    "for ano in [*range(2003, 2023)]:\n",
    "    file = f\"/content/drive/MyDrive/basedosdados/br_inpe_queimadas/input/focos_br_ref_{ano}.zip\"\n",
    "    # descompacta o arquivo csv\n",
    "    with ZipFile(file) as z, z.open(f\"focos_br_ref_{ano}.csv\") as f:\n",
    "        df = pd.read_csv(f)\n",
    "        # merge com diretorio\n",
    "        df = df.merge(\n",
    "            comp,\n",
    "            how=\"left\",\n",
    "            on=[\"estado\", \"municipio\"],\n",
    "            indicator=True,\n",
    "        )\n",
    "        # cria lista de municipios com typos\n",
    "        unmatch = (\n",
    "            df.query('_merge == \"left_only\"')[\"municipio\"]\n",
    "            .drop_duplicates()\n",
    "            .to_list()\n",
    "        )\n",
    "        # join entre anos\n",
    "        unmatch_list = unmatch_list + unmatch\n",
    "\n",
    "\n",
    "# função que remove duplicados na lista\n",
    "def remove_repetidos(lista):\n",
    "    l = []  # noqa: E741\n",
    "    for i in lista:\n",
    "        if i not in l:\n",
    "            l.append(i)\n",
    "    l.sort()\n",
    "    return l\n",
    "\n",
    "\n",
    "unmatch_list_unique = remove_repetidos(\n",
    "    unmatch_list\n",
    ")  # lista conta com 26 municipios e typos para dados até 2022"
   ]
  },
  {
   "cell_type": "markdown",
   "metadata": {
    "id": "gLvxFJ9UZ629"
   },
   "source": [
    "### Tratamento\n"
   ]
  },
  {
   "cell_type": "code",
   "execution_count": null,
   "metadata": {
    "id": "BSL7hoyDgZCs"
   },
   "outputs": [],
   "source": [
    "for ano in [*range(2003, 2023)]:\n",
    "    # if ano == 2003:\n",
    "    file = f\"/content/drive/MyDrive/basedosdados/br_inpe_queimadas/input/focos_br_ref_{ano}.zip\"\n",
    "    # descompacta o arquivo csv\n",
    "    with ZipFile(file) as z, z.open(f\"focos_br_ref_{ano}.csv\") as f:\n",
    "        df = pd.read_csv(f)\n",
    "        df[\"municipio\"] = df[\"municipio\"].replace(\n",
    "            {\n",
    "                \"ARAÇÁS\": \"ARAÇAS\",\n",
    "                \"ATÍLIO VIVACQUA\": \"ATILIO VIVACQUA\",\n",
    "                \"AUGUSTO SEVERO\": \"CAMPO GRANDE\",\n",
    "                \"BIRITIBA MIRIM\": \"BIRITIBA-MIRIM\",\n",
    "                \"FLORÍNEA\": \"FLORÍNIA\",\n",
    "                \"IGUARACY\": \"IGUARACI\",\n",
    "                \"ITAOCA\": \"ITAÓCA\",\n",
    "                \"ITAPAJÉ\": \"ITAPAGÉ\",\n",
    "                \"IUIU\": \"IUIÚ\",\n",
    "                \"JANUÁRIO CICCO\": \"BOA SAÚDE\",\n",
    "                \"LAURO MÜLLER\": \"LAURO MULLER\",\n",
    "                \"MUQUÉM DO SÃO FRANCISCO\": \"MUQUÉM DE SÃO FRANCISCO\",\n",
    "                \"OLHO D'ÁGUA DO BORGES\": \"OLHO-D'ÁGUA DO BORGES\",\n",
    "                \"PASSA VINTE\": \"PASSA-VINTE\",\n",
    "                \"PINGO D'ÁGUA\": \"PINGO-D'ÁGUA\",\n",
    "                \"POXORÉU\": \"POXORÉO\",\n",
    "                \"RESTINGA SÊCA\": \"RESTINGA SECA\",\n",
    "                \"SANTA IZABEL DO PARÁ\": \"SANTA ISABEL DO PARÁ\",\n",
    "                \"SÃO CRISTÓVÃO DO SUL\": \"SÃO CRISTOVÃO DO SUL\",\n",
    "                \"SÃO LUIZ DO NORTE\": \"SÃO LUÍZ DO NORTE\",\n",
    "                \"SÃO LUIZ DO PARAITINGA\": \"SÃO LUÍS DO PARAITINGA\",\n",
    "                \"SÃO VICENTE FÉRRER\": \"SÃO VICENTE FERRER\",\n",
    "                \"VESPASIANO CORRÊA\": \"VESPASIANO CORREA\",\n",
    "                \"WESTFÁLIA\": \"WESTFALIA\",\n",
    "            },\n",
    "        )\n",
    "        df[\"municipio\"] = np.where(\n",
    "            (df[\"estado\"] == \"BAHIA\") & (df[\"municipio\"] == \"SANTA TEREZINHA\"),\n",
    "            \"SANTA TERESINHA\",\n",
    "            df[\"municipio\"],\n",
    "        )\n",
    "        df[\"municipio\"] = np.where(\n",
    "            (df[\"estado\"] == \"PARAÍBA\") & (df[\"municipio\"] == \"QUIXABA\"),\n",
    "            \"QUIXABÁ\",\n",
    "            df[\"municipio\"],\n",
    "        )\n",
    "        df = df.merge(\n",
    "            comp,\n",
    "            how=\"left\",\n",
    "            on=[\"estado\", \"municipio\"],\n",
    "            indicator=True,\n",
    "        )\n",
    "        df = df.rename(\n",
    "            columns={\n",
    "                \"lat\": \"latitude\",\n",
    "                \"lon\": \"longitude\",\n",
    "                \"data_pas\": \"data_hora\",\n",
    "                \"foco_id\": \"id_foco\",\n",
    "            },\n",
    "        )\n",
    "        df = df[\n",
    "            [\n",
    "                \"sigla_uf\",\n",
    "                \"id_municipio\",\n",
    "                \"bioma\",\n",
    "                \"id_bdq\",\n",
    "                \"id_foco\",\n",
    "                \"data_hora\",\n",
    "                \"latitude\",\n",
    "                \"longitude\",\n",
    "            ]\n",
    "        ]\n",
    "        df.to_csv(\n",
    "            f\"/content/drive/MyDrive/basedosdados/br_inpe_queimadas/output/ano={ano}/microdados.csv\",\n",
    "            index=False,\n",
    "            na_rep=\"\",\n",
    "        )"
   ]
  }
 ],
 "metadata": {
  "colab": {
   "provenance": []
  },
  "kernelspec": {
   "display_name": "Python 3",
   "name": "python3"
  },
  "language_info": {
   "name": "python"
  }
 },
 "nbformat": 4,
 "nbformat_minor": 0
}
