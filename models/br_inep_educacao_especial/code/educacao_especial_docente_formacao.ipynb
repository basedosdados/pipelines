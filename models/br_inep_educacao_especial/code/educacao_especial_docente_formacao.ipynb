{
 "cells": [
  {
   "cell_type": "code",
   "execution_count": 1,
   "metadata": {},
   "outputs": [],
   "source": [
    "import os\n",
    "import zipfile\n",
    "import pandas as pd\n",
    "import basedosdados as bd\n",
    "\n",
    "INPUT = os.path.join(os.getcwd(), \"input\")\n",
    "OUTPUT = os.path.join(os.getcwd(), \"output\")\n",
    "\n",
    "os.makedirs(INPUT, exist_ok=True)\n",
    "os.makedirs(OUTPUT, exist_ok=True)"
   ]
  },
  {
   "cell_type": "code",
   "execution_count": 2,
   "metadata": {},
   "outputs": [],
   "source": [
    "def read_sheet(sheet_name: str, skiprows: int = 9) -> pd.DataFrame:\n",
    "    return pd.read_excel(\n",
    "        os.path.join(\n",
    "            INPUT,\n",
    "            \"Demanda_23546-049990_2024_06_DOC_EDU_ESPECIAL_BAS__2012_A_2023.xlsx\"\n",
    "        ),\n",
    "        skiprows=skiprows,\n",
    "        sheet_name=sheet_name,\n",
    "        dtype=str\n",
    "    )"
   ]
  },
  {
   "cell_type": "code",
   "execution_count": 3,
   "metadata": {},
   "outputs": [],
   "source": [
    "excel_data = pd.ExcelFile(os.path.join(\n",
    "            INPUT,\n",
    "            \"Demanda_23546-049990_2024_06_DOC_EDU_ESPECIAL_BAS__2012_A_2023.xlsx\"\n",
    "        ))\n",
    "\n",
    "# Get the sheet names\n",
    "sheet_names = excel_data.sheet_names"
   ]
  },
  {
   "cell_type": "code",
   "execution_count": 4,
   "metadata": {},
   "outputs": [],
   "source": [
    "dfs = {\n",
    "    sheet_name: read_sheet(sheet_name)\n",
    "    for sheet_name in sheet_names\n",
    "}"
   ]
  },
  {
   "cell_type": "code",
   "execution_count": 5,
   "metadata": {},
   "outputs": [
    {
     "data": {
      "text/plain": [
       "{'Planilha1':                                             NU_ANO_CENSO CO_REGIAO NO_REGIAO  \\\n",
       " 0                                                   2012       NaN    Brasil   \n",
       " 1                                                   2012         1     Norte   \n",
       " 2                                                   2012         1     Norte   \n",
       " 3                                                   2012         1     Norte   \n",
       " 4                                                   2012         1     Norte   \n",
       " ...                                                  ...       ...       ...   \n",
       " 57988                                                NaN       NaN       NaN   \n",
       " 57989     Fonte: INEP – Censo Escolar da Educação Básica       NaN       NaN   \n",
       " 57990  Notas:  1 - Os docentes referem-se aos indivíd...       NaN       NaN   \n",
       " 57991                  2 - Os docentes são contados u...       NaN       NaN   \n",
       " 57992                  3 - Não inclui auxiliares da E...       NaN       NaN   \n",
       " \n",
       "       CO_UF SG_UF     NO_UF CO_MUNICIPIO           NO_MUNICIPIO  DOCEE DOCFED  \\\n",
       " 0       NaN   NaN       NaN          NaN                    NaN  88244    255   \n",
       " 1       NaN   NaN       NaN          NaN                    NaN   5954     41   \n",
       " 2        11    RO  Rondônia          NaN                    NaN    593      8   \n",
       " 3        11    RO  Rondônia      1100015  Alta Floresta D'Oeste     12      0   \n",
       " 4        11    RO  Rondônia      1100403           Alto Paraíso      2      0   \n",
       " ...     ...   ...       ...          ...                    ...    ...    ...   \n",
       " 57988   NaN   NaN       NaN          NaN                    NaN    NaN    NaN   \n",
       " 57989   NaN   NaN       NaN          NaN                    NaN    NaN    NaN   \n",
       " 57990   NaN   NaN       NaN          NaN                    NaN    NaN    NaN   \n",
       " 57991   NaN   NaN       NaN          NaN                    NaN    NaN    NaN   \n",
       " 57992   NaN   NaN       NaN          NaN                    NaN    NaN    NaN   \n",
       " \n",
       "       DOCEST DOCMUNI DOCPRIV  \n",
       " 0      23762   52541   21635  \n",
       " 1       2328    3490     739  \n",
       " 2        244     243     161  \n",
       " 3          2       9       1  \n",
       " 4          2       0       0  \n",
       " ...      ...     ...     ...  \n",
       " 57988    NaN     NaN     NaN  \n",
       " 57989    NaN     NaN     NaN  \n",
       " 57990    NaN     NaN     NaN  \n",
       " 57991    NaN     NaN     NaN  \n",
       " 57992    NaN     NaN     NaN  \n",
       " \n",
       " [57993 rows x 13 columns]}"
      ]
     },
     "execution_count": 5,
     "metadata": {},
     "output_type": "execute_result"
    }
   ],
   "source": [
    "dfs"
   ]
  },
  {
   "cell_type": "code",
   "execution_count": 6,
   "metadata": {},
   "outputs": [
    {
     "name": "stdout",
     "output_type": "stream",
     "text": [
      "Sheet: Planilha1\n",
      "Index(['NU_ANO_CENSO', 'CO_REGIAO', 'NO_REGIAO', 'CO_UF', 'SG_UF', 'NO_UF',\n",
      "       'CO_MUNICIPIO', 'NO_MUNICIPIO', 'DOCEE', 'DOCFED', 'DOCEST', 'DOCMUNI',\n",
      "       'DOCPRIV'],\n",
      "      dtype='object')\n",
      "\n"
     ]
    }
   ],
   "source": [
    "for sheet_name, df in dfs.items():\n",
    "    print(f\"Sheet: {sheet_name}\")\n",
    "    print(df.columns)  # This will print the column names of each DataFrame\n",
    "    print()  # Adds a blank line for readability"
   ]
  },
  {
   "cell_type": "code",
   "execution_count": 7,
   "metadata": {},
   "outputs": [],
   "source": [
    "RENAME_COLUMNS = {\n",
    "    'NU_ANO_CENSO':'ano', \n",
    "    'SG_UF':'sigla_uf', \n",
    "    'CO_MUNICIPIO':'id_municipio', \n",
    "    'DOCFED':'Federal', \n",
    "    'DOCEST':'Estadual', \n",
    "    'DOCMUNI':'Municipal',\n",
    "    'DOCPRIV':'Privada'  \n",
    "}"
   ]
  },
  {
   "cell_type": "code",
   "execution_count": 8,
   "metadata": {},
   "outputs": [],
   "source": [
    "def drop_unused_columns(df: pd.DataFrame) -> pd.DataFrame:\n",
    "    cols_drop = [\n",
    "        col\n",
    "        for col in df.columns\n",
    "        if col.startswith(\"NO_\") \n",
    "        or col.startswith(\"CO_\")\n",
    "        or col.startswith('DOCEE') \n",
    "    ]\n",
    "\n",
    "    return df.drop(columns=cols_drop)\n",
    "\n",
    "dfs = {\n",
    "    name: drop_unused_columns(\n",
    "        df.rename(columns=RENAME_COLUMNS, errors=\"raise\")\n",
    "    )\n",
    "    for name, df in dfs.items()\n",
    "}"
   ]
  },
  {
   "cell_type": "code",
   "execution_count": 9,
   "metadata": {},
   "outputs": [
    {
     "name": "stdout",
     "output_type": "stream",
     "text": [
      "Sheet: Planilha1\n",
      "Index(['ano', 'sigla_uf', 'id_municipio', 'Federal', 'Estadual', 'Municipal',\n",
      "       'Privada'],\n",
      "      dtype='object')\n",
      "\n"
     ]
    }
   ],
   "source": [
    "for sheet_name, df in dfs.items():\n",
    "    print(f\"Sheet: {sheet_name}\")\n",
    "    print(df.columns)  # This will print the column names of each DataFrame\n",
    "    print()  # Adds a blank line for readability"
   ]
  },
  {
   "cell_type": "code",
   "execution_count": 10,
   "metadata": {},
   "outputs": [],
   "source": [
    "melted_dataframe = pd.concat(\n",
    "    [\n",
    "        df.pipe(\n",
    "            lambda d: d.loc[(d[\"id_municipio\"].notna()) & (d[\"id_municipio\"] != \" \")]\n",
    "        )\n",
    "        .pipe(\n",
    "            lambda d: pd.melt(\n",
    "                d,\n",
    "                id_vars=[\"ano\", \"sigla_uf\", 'id_municipio'],\n",
    "                value_vars=d.columns.difference([\"id_uf\", \"nome\"]).tolist(),  # Convert to list\n",
    "                var_name=\"rede\",\n",
    "                value_name=\"quantidade_docente_formacao_continuada\",\n",
    "            )\n",
    "        )\n",
    "    ]\n",
    ")"
   ]
  },
  {
   "cell_type": "code",
   "execution_count": 11,
   "metadata": {},
   "outputs": [],
   "source": [
    "melted_dataframe = melted_dataframe.sort_values(\n",
    "    by=['ano', 'sigla_uf','id_municipio', 'rede'], \n",
    "    ascending=[True, True, True, True])"
   ]
  },
  {
   "cell_type": "code",
   "execution_count": 12,
   "metadata": {},
   "outputs": [
    {
     "data": {
      "text/html": [
       "<div>\n",
       "<style scoped>\n",
       "    .dataframe tbody tr th:only-of-type {\n",
       "        vertical-align: middle;\n",
       "    }\n",
       "\n",
       "    .dataframe tbody tr th {\n",
       "        vertical-align: top;\n",
       "    }\n",
       "\n",
       "    .dataframe thead th {\n",
       "        text-align: right;\n",
       "    }\n",
       "</style>\n",
       "<table border=\"1\" class=\"dataframe\">\n",
       "  <thead>\n",
       "    <tr style=\"text-align: right;\">\n",
       "      <th></th>\n",
       "      <th>ano</th>\n",
       "      <th>sigla_uf</th>\n",
       "      <th>id_municipio</th>\n",
       "      <th>rede</th>\n",
       "      <th>quantidade_docente_formacao_continuada</th>\n",
       "    </tr>\n",
       "  </thead>\n",
       "  <tbody>\n",
       "    <tr>\n",
       "      <th>45</th>\n",
       "      <td>2012</td>\n",
       "      <td>AC</td>\n",
       "      <td>1200013</td>\n",
       "      <td>Estadual</td>\n",
       "      <td>2</td>\n",
       "    </tr>\n",
       "    <tr>\n",
       "      <th>57638</th>\n",
       "      <td>2012</td>\n",
       "      <td>AC</td>\n",
       "      <td>1200013</td>\n",
       "      <td>Federal</td>\n",
       "      <td>0</td>\n",
       "    </tr>\n",
       "    <tr>\n",
       "      <th>115231</th>\n",
       "      <td>2012</td>\n",
       "      <td>AC</td>\n",
       "      <td>1200013</td>\n",
       "      <td>Municipal</td>\n",
       "      <td>12</td>\n",
       "    </tr>\n",
       "    <tr>\n",
       "      <th>172824</th>\n",
       "      <td>2012</td>\n",
       "      <td>AC</td>\n",
       "      <td>1200013</td>\n",
       "      <td>Privada</td>\n",
       "      <td>0</td>\n",
       "    </tr>\n",
       "    <tr>\n",
       "      <th>46</th>\n",
       "      <td>2012</td>\n",
       "      <td>AC</td>\n",
       "      <td>1200104</td>\n",
       "      <td>Estadual</td>\n",
       "      <td>3</td>\n",
       "    </tr>\n",
       "    <tr>\n",
       "      <th>...</th>\n",
       "      <td>...</td>\n",
       "      <td>...</td>\n",
       "      <td>...</td>\n",
       "      <td>...</td>\n",
       "      <td>...</td>\n",
       "    </tr>\n",
       "    <tr>\n",
       "      <th>225613</th>\n",
       "      <td>2023</td>\n",
       "      <td>TO</td>\n",
       "      <td>1721307</td>\n",
       "      <td>Privada</td>\n",
       "      <td>0</td>\n",
       "    </tr>\n",
       "    <tr>\n",
       "      <th>52835</th>\n",
       "      <td>2023</td>\n",
       "      <td>TO</td>\n",
       "      <td>1722107</td>\n",
       "      <td>Estadual</td>\n",
       "      <td>0</td>\n",
       "    </tr>\n",
       "    <tr>\n",
       "      <th>110428</th>\n",
       "      <td>2023</td>\n",
       "      <td>TO</td>\n",
       "      <td>1722107</td>\n",
       "      <td>Federal</td>\n",
       "      <td>0</td>\n",
       "    </tr>\n",
       "    <tr>\n",
       "      <th>168021</th>\n",
       "      <td>2023</td>\n",
       "      <td>TO</td>\n",
       "      <td>1722107</td>\n",
       "      <td>Municipal</td>\n",
       "      <td>1</td>\n",
       "    </tr>\n",
       "    <tr>\n",
       "      <th>225614</th>\n",
       "      <td>2023</td>\n",
       "      <td>TO</td>\n",
       "      <td>1722107</td>\n",
       "      <td>Privada</td>\n",
       "      <td>0</td>\n",
       "    </tr>\n",
       "  </tbody>\n",
       "</table>\n",
       "<p>230372 rows × 5 columns</p>\n",
       "</div>"
      ],
      "text/plain": [
       "         ano sigla_uf id_municipio       rede  \\\n",
       "45      2012       AC      1200013   Estadual   \n",
       "57638   2012       AC      1200013    Federal   \n",
       "115231  2012       AC      1200013  Municipal   \n",
       "172824  2012       AC      1200013    Privada   \n",
       "46      2012       AC      1200104   Estadual   \n",
       "...      ...      ...          ...        ...   \n",
       "225613  2023       TO      1721307    Privada   \n",
       "52835   2023       TO      1722107   Estadual   \n",
       "110428  2023       TO      1722107    Federal   \n",
       "168021  2023       TO      1722107  Municipal   \n",
       "225614  2023       TO      1722107    Privada   \n",
       "\n",
       "       quantidade_docente_formacao_continuada  \n",
       "45                                          2  \n",
       "57638                                       0  \n",
       "115231                                     12  \n",
       "172824                                      0  \n",
       "46                                          3  \n",
       "...                                       ...  \n",
       "225613                                      0  \n",
       "52835                                       0  \n",
       "110428                                      0  \n",
       "168021                                      1  \n",
       "225614                                      0  \n",
       "\n",
       "[230372 rows x 5 columns]"
      ]
     },
     "execution_count": 12,
     "metadata": {},
     "output_type": "execute_result"
    }
   ],
   "source": [
    "melted_dataframe"
   ]
  },
  {
   "cell_type": "code",
   "execution_count": 28,
   "metadata": {},
   "outputs": [],
   "source": [
    "path = os.path.join(\n",
    "        OUTPUT, \"educacao_especial_formacao_docente\"\n",
    "    )\n",
    "\n",
    "os.makedirs(path, exist_ok=True)\n",
    "melted_dataframe.astype(str).to_csv(os.path.join(path, \"data.csv\"), index=False)"
   ]
  },
  {
   "cell_type": "code",
   "execution_count": null,
   "metadata": {},
   "outputs": [],
   "source": []
  }
 ],
 "metadata": {
  "kernelspec": {
   "display_name": "Python 3",
   "language": "python",
   "name": "python3"
  },
  "language_info": {
   "codemirror_mode": {
    "name": "ipython",
    "version": 3
   },
   "file_extension": ".py",
   "mimetype": "text/x-python",
   "name": "python",
   "nbconvert_exporter": "python",
   "pygments_lexer": "ipython3",
   "version": "3.9.17"
  }
 },
 "nbformat": 4,
 "nbformat_minor": 2
}
