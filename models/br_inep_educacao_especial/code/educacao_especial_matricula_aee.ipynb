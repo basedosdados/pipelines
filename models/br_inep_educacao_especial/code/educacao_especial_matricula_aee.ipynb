{
 "cells": [
  {
   "cell_type": "code",
   "execution_count": 2,
   "metadata": {},
   "outputs": [],
   "source": [
    "import os\n",
    "import zipfile\n",
    "import pandas as pd\n",
    "import basedosdados as bd\n",
    "\n",
    "INPUT = os.path.join(os.getcwd(), \"input\")\n",
    "OUTPUT = os.path.join(os.getcwd(), \"output\")\n",
    "\n",
    "os.makedirs(INPUT, exist_ok=True)\n",
    "os.makedirs(OUTPUT, exist_ok=True)"
   ]
  },
  {
   "cell_type": "code",
   "execution_count": 39,
   "metadata": {},
   "outputs": [],
   "source": [
    "def read_sheet(sheet_name: str, skiprows: int = 7) -> pd.DataFrame:\n",
    "    return pd.read_excel(\n",
    "        os.path.join(\n",
    "            INPUT,\n",
    "            \"mat_ed_especial_aee_uf_rede_2019_2022.xlsx\"\n",
    "        ),\n",
    "        skiprows=skiprows,\n",
    "        sheet_name=sheet_name\n",
    "    )"
   ]
  },
  {
   "cell_type": "code",
   "execution_count": 40,
   "metadata": {},
   "outputs": [],
   "source": [
    "excel_data = pd.ExcelFile(os.path.join(\n",
    "            INPUT,\n",
    "            \"mat_ed_especial_aee_uf_rede_2019_2022.xlsx\"\n",
    "        ))\n",
    "\n",
    "# Get the sheet names\n",
    "sheet_names = excel_data.sheet_names"
   ]
  },
  {
   "cell_type": "code",
   "execution_count": 41,
   "metadata": {},
   "outputs": [],
   "source": [
    "dfs = {\n",
    "    sheet_name: read_sheet(sheet_name)\n",
    "    for sheet_name in sheet_names\n",
    "}"
   ]
  },
  {
   "cell_type": "code",
   "execution_count": 42,
   "metadata": {},
   "outputs": [
    {
     "data": {
      "text/plain": [
       "{'tabmat':                                       NU_ANO_CENSO     NO_REGIAO  CO_REGIAO  \\\n",
       " 0                                             2022        Brasil        NaN   \n",
       " 1                                             2022        Brasil        NaN   \n",
       " 2                                             2022        Brasil        NaN   \n",
       " 3                                             2022         Norte        1.0   \n",
       " 4                                             2022         Norte        1.0   \n",
       " ..                                             ...           ...        ...   \n",
       " 333                                           2019  Centro-Oeste        5.0   \n",
       " 334                                           2019  Centro-Oeste        5.0   \n",
       " 335                                           2019  Centro-Oeste        5.0   \n",
       " 336                                            NaN           NaN        NaN   \n",
       " 337  Fonte: Censo Escolar da Educação Básica/Inep.           NaN        NaN   \n",
       " \n",
       "                 NO_UF SG_UF  CO_UF     rede     MatEsp  MatEspAee  \n",
       " 0                 NaN   NaN    NaN      NaN  1527794.0   568200.0  \n",
       " 1                 NaN   NaN    NaN  Pública  1301961.0   525868.0  \n",
       " 2                 NaN   NaN    NaN  Privada   225833.0    42332.0  \n",
       " 3            Rondônia    RO   11.0      NaN    14341.0     8328.0  \n",
       " 4            Rondônia    RO   11.0  Pública    12803.0     6965.0  \n",
       " ..                ...   ...    ...      ...        ...        ...  \n",
       " 333  Distrito Federal    DF   53.0      NaN    16580.0     8967.0  \n",
       " 334  Distrito Federal    DF   53.0  Pública    14362.0     8702.0  \n",
       " 335  Distrito Federal    DF   53.0  Privada     2218.0      265.0  \n",
       " 336               NaN   NaN    NaN      NaN        NaN        NaN  \n",
       " 337               NaN   NaN    NaN      NaN        NaN        NaN  \n",
       " \n",
       " [338 rows x 9 columns]}"
      ]
     },
     "execution_count": 42,
     "metadata": {},
     "output_type": "execute_result"
    }
   ],
   "source": [
    "dfs"
   ]
  },
  {
   "cell_type": "code",
   "execution_count": 43,
   "metadata": {},
   "outputs": [
    {
     "name": "stdout",
     "output_type": "stream",
     "text": [
      "Sheet: tabmat\n",
      "Index(['NU_ANO_CENSO', 'NO_REGIAO', 'CO_REGIAO', 'NO_UF', 'SG_UF', 'CO_UF',\n",
      "       'rede', 'MatEsp', 'MatEspAee'],\n",
      "      dtype='object')\n",
      "\n"
     ]
    }
   ],
   "source": [
    "for sheet_name, df in dfs.items():\n",
    "    print(f\"Sheet: {sheet_name}\")\n",
    "    print(df.columns)  # This will print the column names of each DataFrame\n",
    "    print()  # Adds a blank line for readability"
   ]
  },
  {
   "cell_type": "code",
   "execution_count": 44,
   "metadata": {},
   "outputs": [],
   "source": [
    "RENAME_COLUMNS = {\n",
    "    'NU_ANO_CENSO':'ano',\n",
    "    'SG_UF':'sigla_uf',  \n",
    "    'MatEsp':'quantidade_matricula', \n",
    "    'MatEspAee':'quantidade_matricula_aee'}"
   ]
  },
  {
   "cell_type": "code",
   "execution_count": 45,
   "metadata": {},
   "outputs": [],
   "source": [
    "def drop_unused_columns(df: pd.DataFrame) -> pd.DataFrame:\n",
    "    cols_drop = [\n",
    "        col\n",
    "        for col in df.columns\n",
    "        if col.startswith(\"NO_\") \n",
    "        or col.startswith(\"CO\") \n",
    "    ]\n",
    "\n",
    "    return df.drop(columns=cols_drop)\n",
    "\n",
    "dfs = {\n",
    "    name: drop_unused_columns(\n",
    "        df.rename(columns=RENAME_COLUMNS, errors=\"raise\")\n",
    "    )\n",
    "    for name, df in dfs.items()\n",
    "}"
   ]
  },
  {
   "cell_type": "code",
   "execution_count": 46,
   "metadata": {},
   "outputs": [
    {
     "data": {
      "text/plain": [
       "{'tabmat':                                                ano sigla_uf     rede  \\\n",
       " 0                                             2022      NaN      NaN   \n",
       " 1                                             2022      NaN  Pública   \n",
       " 2                                             2022      NaN  Privada   \n",
       " 3                                             2022       RO      NaN   \n",
       " 4                                             2022       RO  Pública   \n",
       " ..                                             ...      ...      ...   \n",
       " 333                                           2019       DF      NaN   \n",
       " 334                                           2019       DF  Pública   \n",
       " 335                                           2019       DF  Privada   \n",
       " 336                                            NaN      NaN      NaN   \n",
       " 337  Fonte: Censo Escolar da Educação Básica/Inep.      NaN      NaN   \n",
       " \n",
       "      quantidade_matricula  quantidade_matricula_aee  \n",
       " 0               1527794.0                  568200.0  \n",
       " 1               1301961.0                  525868.0  \n",
       " 2                225833.0                   42332.0  \n",
       " 3                 14341.0                    8328.0  \n",
       " 4                 12803.0                    6965.0  \n",
       " ..                    ...                       ...  \n",
       " 333               16580.0                    8967.0  \n",
       " 334               14362.0                    8702.0  \n",
       " 335                2218.0                     265.0  \n",
       " 336                   NaN                       NaN  \n",
       " 337                   NaN                       NaN  \n",
       " \n",
       " [338 rows x 5 columns]}"
      ]
     },
     "execution_count": 46,
     "metadata": {},
     "output_type": "execute_result"
    }
   ],
   "source": [
    "dfs"
   ]
  },
  {
   "cell_type": "code",
   "execution_count": 47,
   "metadata": {},
   "outputs": [
    {
     "name": "stdout",
     "output_type": "stream",
     "text": [
      "Sheet: tabmat\n",
      "Index(['ano', 'sigla_uf', 'rede', 'quantidade_matricula',\n",
      "       'quantidade_matricula_aee'],\n",
      "      dtype='object')\n",
      "\n"
     ]
    }
   ],
   "source": [
    "for sheet_name, df in dfs.items():\n",
    "    print(f\"Sheet: {sheet_name}\")\n",
    "    print(df.columns)  # This will print the column names of each DataFrame\n",
    "    print() "
   ]
  },
  {
   "cell_type": "code",
   "execution_count": 48,
   "metadata": {},
   "outputs": [],
   "source": [
    "dataframe = pd.DataFrame(dfs['tabmat']).dropna(subset=['sigla_uf', 'rede']).loc[lambda df: (df['sigla_uf'] != \" \") & (df['rede'] != \" \")]"
   ]
  },
  {
   "cell_type": "code",
   "execution_count": 49,
   "metadata": {},
   "outputs": [],
   "source": [
    "dataframe[['quantidade_matricula','quantidade_matricula_aee']] = dataframe[['quantidade_matricula','quantidade_matricula_aee']].astype(int)"
   ]
  },
  {
   "cell_type": "code",
   "execution_count": 50,
   "metadata": {},
   "outputs": [],
   "source": [
    "dataframe = dataframe.sort_values(by=['ano', 'sigla_uf'], ascending=[True, True])"
   ]
  },
  {
   "cell_type": "code",
   "execution_count": 51,
   "metadata": {},
   "outputs": [
    {
     "data": {
      "text/html": [
       "<div>\n",
       "<style scoped>\n",
       "    .dataframe tbody tr th:only-of-type {\n",
       "        vertical-align: middle;\n",
       "    }\n",
       "\n",
       "    .dataframe tbody tr th {\n",
       "        vertical-align: top;\n",
       "    }\n",
       "\n",
       "    .dataframe thead th {\n",
       "        text-align: right;\n",
       "    }\n",
       "</style>\n",
       "<table border=\"1\" class=\"dataframe\">\n",
       "  <thead>\n",
       "    <tr style=\"text-align: right;\">\n",
       "      <th></th>\n",
       "      <th>ano</th>\n",
       "      <th>sigla_uf</th>\n",
       "      <th>rede</th>\n",
       "      <th>quantidade_matricula</th>\n",
       "      <th>quantidade_matricula_aee</th>\n",
       "    </tr>\n",
       "  </thead>\n",
       "  <tbody>\n",
       "    <tr>\n",
       "      <th>259</th>\n",
       "      <td>2019</td>\n",
       "      <td>AC</td>\n",
       "      <td>Pública</td>\n",
       "      <td>10782</td>\n",
       "      <td>6395</td>\n",
       "    </tr>\n",
       "    <tr>\n",
       "      <th>260</th>\n",
       "      <td>2019</td>\n",
       "      <td>AC</td>\n",
       "      <td>Privada</td>\n",
       "      <td>325</td>\n",
       "      <td>261</td>\n",
       "    </tr>\n",
       "    <tr>\n",
       "      <th>295</th>\n",
       "      <td>2019</td>\n",
       "      <td>AL</td>\n",
       "      <td>Pública</td>\n",
       "      <td>21838</td>\n",
       "      <td>10145</td>\n",
       "    </tr>\n",
       "    <tr>\n",
       "      <th>296</th>\n",
       "      <td>2019</td>\n",
       "      <td>AL</td>\n",
       "      <td>Privada</td>\n",
       "      <td>1314</td>\n",
       "      <td>1832</td>\n",
       "    </tr>\n",
       "    <tr>\n",
       "      <th>262</th>\n",
       "      <td>2019</td>\n",
       "      <td>AM</td>\n",
       "      <td>Pública</td>\n",
       "      <td>17216</td>\n",
       "      <td>5074</td>\n",
       "    </tr>\n",
       "    <tr>\n",
       "      <th>...</th>\n",
       "      <td>...</td>\n",
       "      <td>...</td>\n",
       "      <td>...</td>\n",
       "      <td>...</td>\n",
       "      <td>...</td>\n",
       "    </tr>\n",
       "    <tr>\n",
       "      <th>47</th>\n",
       "      <td>2022</td>\n",
       "      <td>SE</td>\n",
       "      <td>Privada</td>\n",
       "      <td>1604</td>\n",
       "      <td>227</td>\n",
       "    </tr>\n",
       "    <tr>\n",
       "      <th>61</th>\n",
       "      <td>2022</td>\n",
       "      <td>SP</td>\n",
       "      <td>Pública</td>\n",
       "      <td>191708</td>\n",
       "      <td>68563</td>\n",
       "    </tr>\n",
       "    <tr>\n",
       "      <th>62</th>\n",
       "      <td>2022</td>\n",
       "      <td>SP</td>\n",
       "      <td>Privada</td>\n",
       "      <td>52146</td>\n",
       "      <td>942</td>\n",
       "    </tr>\n",
       "    <tr>\n",
       "      <th>22</th>\n",
       "      <td>2022</td>\n",
       "      <td>TO</td>\n",
       "      <td>Pública</td>\n",
       "      <td>15977</td>\n",
       "      <td>7222</td>\n",
       "    </tr>\n",
       "    <tr>\n",
       "      <th>23</th>\n",
       "      <td>2022</td>\n",
       "      <td>TO</td>\n",
       "      <td>Privada</td>\n",
       "      <td>567</td>\n",
       "      <td>28</td>\n",
       "    </tr>\n",
       "  </tbody>\n",
       "</table>\n",
       "<p>216 rows × 5 columns</p>\n",
       "</div>"
      ],
      "text/plain": [
       "      ano sigla_uf     rede  quantidade_matricula  quantidade_matricula_aee\n",
       "259  2019       AC  Pública                 10782                      6395\n",
       "260  2019       AC  Privada                   325                       261\n",
       "295  2019       AL  Pública                 21838                     10145\n",
       "296  2019       AL  Privada                  1314                      1832\n",
       "262  2019       AM  Pública                 17216                      5074\n",
       "..    ...      ...      ...                   ...                       ...\n",
       "47   2022       SE  Privada                  1604                       227\n",
       "61   2022       SP  Pública                191708                     68563\n",
       "62   2022       SP  Privada                 52146                       942\n",
       "22   2022       TO  Pública                 15977                      7222\n",
       "23   2022       TO  Privada                   567                        28\n",
       "\n",
       "[216 rows x 5 columns]"
      ]
     },
     "execution_count": 51,
     "metadata": {},
     "output_type": "execute_result"
    }
   ],
   "source": [
    "dataframe"
   ]
  },
  {
   "cell_type": "code",
   "execution_count": 52,
   "metadata": {},
   "outputs": [],
   "source": [
    "path = os.path.join(\n",
    "        OUTPUT, \"educacao_especial_aee_matricula\"\n",
    "    )\n",
    "\n",
    "os.makedirs(path, exist_ok=True)\n",
    "dataframe.astype(str).to_csv(os.path.join(path, \"data.csv\"), index=False)"
   ]
  }
 ],
 "metadata": {
  "kernelspec": {
   "display_name": "Python 3",
   "language": "python",
   "name": "python3"
  },
  "language_info": {
   "codemirror_mode": {
    "name": "ipython",
    "version": 3
   },
   "file_extension": ".py",
   "mimetype": "text/x-python",
   "name": "python",
   "nbconvert_exporter": "python",
   "pygments_lexer": "ipython3",
   "version": "3.9.17"
  }
 },
 "nbformat": 4,
 "nbformat_minor": 2
}
