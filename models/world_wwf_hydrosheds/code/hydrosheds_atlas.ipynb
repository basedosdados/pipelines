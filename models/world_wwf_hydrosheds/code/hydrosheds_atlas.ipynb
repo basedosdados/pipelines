{
 "cells": [
  {
   "cell_type": "markdown",
   "metadata": {
    "id": "wpHkRnNHJJdE"
   },
   "source": [
    "https://www.hydrosheds.org/products\n"
   ]
  },
  {
   "cell_type": "code",
   "execution_count": null,
   "metadata": {
    "id": "5b33Qz9CJSVX"
   },
   "outputs": [],
   "source": [
    "pip install pyogrio"
   ]
  },
  {
   "cell_type": "code",
   "execution_count": null,
   "metadata": {
    "id": "TtxthjyEJVD-"
   },
   "outputs": [],
   "source": [
    "import concurrent.futures\n",
    "import os\n",
    "import re\n",
    "from zipfile import ZipFile\n",
    "\n",
    "import geopandas as gpd\n",
    "import pandas as pd\n",
    "import requests\n",
    "from pyogrio import read_dataframe\n",
    "\n",
    "\n",
    "def download_url(url, save_path, chunk_size=128):\n",
    "    r = requests.get(url, stream=True)\n",
    "    with open(save_path, \"wb\") as fd:\n",
    "        for chunk in r.iter_content(chunk_size=chunk_size):\n",
    "            fd.write(chunk)\n",
    "\n",
    "\n",
    "def extrair(path, path_output):\n",
    "    # loading the temp.zip and creating a zip object\n",
    "    with ZipFile(path, \"r\") as zObject:\n",
    "        # Extracting all the members of the zip\n",
    "        # into a specific location.\n",
    "        zObject.extractall(path=path_output)\n",
    "\n",
    "\n",
    "def threads_tasks(funcion, list1, list2):\n",
    "    with concurrent.futures.ThreadPoolExecutor() as executor:\n",
    "        future = executor.map(funcion, list1, list2)  # noqa: F841\n",
    "\n",
    "\n",
    "def tables(\n",
    "    zip_names: list,\n",
    "    links: list,\n",
    "    skip: bool = False,\n",
    "    flagment: bool = False,\n",
    "    re_pattern: str = \"\",\n",
    "    partition: str = \"\",\n",
    "):\n",
    "    if not skip:\n",
    "        threads_tasks(download_url, links, zip_names)\n",
    "        output_folders = [\n",
    "            folder.replace(\".zip\", \"\") + \"/\" for folder in zip_names\n",
    "        ]\n",
    "        threads_tasks(extrair, zip_names, output_folders)\n",
    "    folder_zip = zip_name[0].replace(\".zip\", \"\")\n",
    "    folders_snp = [\n",
    "        f\"{folder_zip}/\" + folder\n",
    "        for folder in os.listdir(folder_zip)\n",
    "        if folder.count(\"_shp\")\n",
    "    ]\n",
    "    files_snp = [\n",
    "        folders_snp[0] + \"/\" + folder\n",
    "        for folder in os.listdir(folders_snp[0])\n",
    "        if folder.count(\".shp\")\n",
    "    ]\n",
    "\n",
    "    if flagment:\n",
    "        for file in files_snp:\n",
    "            df_gio_fragment = read_dataframe(\"/content/\" + file)\n",
    "            df_gio_fragment.columns = df_gio_fragment.columns.str.lower()\n",
    "\n",
    "            region_name = re.findall(re_pattern, file)[0]\n",
    "            folder_name = f\"output/{partition}=\" + region_name\n",
    "            create_folder([folder_name])\n",
    "\n",
    "            df_gio_fragment.to_csv(\n",
    "                folder_name + f\"/{region_name}.csv\", index=False\n",
    "            )\n",
    "\n",
    "    else:\n",
    "        dfs = pd.concat(\n",
    "            [read_dataframe(\"/content/\" + file) for file in files_snp[:1]]\n",
    "        )\n",
    "        df_gio = gpd.GeoDataFrame(dfs)\n",
    "        return df_gio\n",
    "\n",
    "\n",
    "def create_folder(name_folders: list) -> None:\n",
    "    for folder in name_folders:\n",
    "        try:\n",
    "            os.mkdir(folder)\n",
    "        except:  # noqa: E722\n",
    "            pass"
   ]
  },
  {
   "cell_type": "markdown",
   "metadata": {
    "id": "Ap__vD7LJ-We"
   },
   "source": [
    "# RiverAtlas\n"
   ]
  },
  {
   "cell_type": "code",
   "execution_count": null,
   "metadata": {
    "id": "EP5KIxJbJxX2"
   },
   "outputs": [],
   "source": [
    "link = [\"https://figshare.com/ndownloader/files/20087486\"]\n",
    "zip_name = [\"Global_RiverATLAS.zip\"]\n",
    "create_folder([\"output\", \"input\"])\n",
    "RiverATLASTESTE = tables(zip_name, link, False, True)"
   ]
  },
  {
   "cell_type": "markdown",
   "metadata": {
    "id": "BTFtQtjBKC7e"
   },
   "source": [
    "#BasinAtlas\n"
   ]
  },
  {
   "cell_type": "code",
   "execution_count": null,
   "metadata": {
    "id": "-ay26hSvJzRG"
   },
   "outputs": [],
   "source": [
    "link = [\"https://figshare.com/ndownloader/files/20087237\"]\n",
    "zip_name = [\"Global_BasinATLAS.zip\"]\n",
    "create_folder([\"output\", \"input\"])\n",
    "BasinATLASTESTE = tables(\n",
    "    zip_name, link, False, True, re_pattern=\"lev(\\d*).shp\", partition=\"level\"\n",
    ")"
   ]
  },
  {
   "cell_type": "markdown",
   "metadata": {
    "id": "IgD_tMfIKFem"
   },
   "source": [
    "# LakeAtlas\n"
   ]
  },
  {
   "cell_type": "code",
   "execution_count": null,
   "metadata": {
    "id": "aN89ppSBJ06_"
   },
   "outputs": [],
   "source": [
    "link = [\"https://figshare.com/ndownloader/files/35959547\"]\n",
    "zip_name = [\"Global_LakeATLAS.zip\"]\n",
    "create_folder([\"output\", \"input\"])\n",
    "LakeATLASTESTE = tables(\n",
    "    zip_name,\n",
    "    link,\n",
    "    False,\n",
    "    True,\n",
    "    re_pattern=\"_([a-z]{3}_[a-z]{4}).shp\",\n",
    "    partition=\"region\",\n",
    ")"
   ]
  }
 ],
 "metadata": {
  "colab": {
   "provenance": []
  },
  "kernelspec": {
   "display_name": "Python 3",
   "name": "python3"
  },
  "language_info": {
   "name": "python"
  }
 },
 "nbformat": 4,
 "nbformat_minor": 0
}
