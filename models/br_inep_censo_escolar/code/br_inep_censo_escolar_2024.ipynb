{
 "cells": [
  {
   "cell_type": "markdown",
   "metadata": {},
   "source": [
    "Script para subir os dados do censo escolar de 2024\n",
    "\n",
    "Apenas a tabela `escola`\n"
   ]
  },
  {
   "cell_type": "code",
   "execution_count": 1,
   "metadata": {},
   "outputs": [],
   "source": [
    "import os\n",
    "import sys"
   ]
  },
  {
   "cell_type": "code",
   "execution_count": 2,
   "metadata": {},
   "outputs": [],
   "source": [
    "if \"google.colab\" in sys.modules:\n",
    "    %pip install -q \"basedosdados[upload]\"\n",
    "    from google.colab import drive  # type: ignore\n",
    "\n",
    "    drive.mount(\"/content/drive\")\n",
    "    ROOT = \"/content/drive/MyDrive/Base dos Dados <> Fundação Lemann/Demandas/SAEB - Análise - Redes Pares/PSM\"\n",
    "else:\n",
    "    ROOT = os.getcwd()"
   ]
  },
  {
   "cell_type": "code",
   "execution_count": 3,
   "metadata": {
    "id": "BdoYpE48-J0C"
   },
   "outputs": [],
   "source": [
    "import csv\n",
    "import zipfile\n",
    "from io import StringIO\n",
    "\n",
    "import basedosdados as bd\n",
    "import numpy as np\n",
    "import pandas as pd\n",
    "import requests"
   ]
  },
  {
   "cell_type": "code",
   "execution_count": 4,
   "metadata": {},
   "outputs": [],
   "source": [
    "INPUT = os.path.join(os.getcwd(), \"input\")\n",
    "OUTPUT = os.path.join(os.getcwd(), \"output\")"
   ]
  },
  {
   "cell_type": "code",
   "execution_count": 12,
   "metadata": {},
   "outputs": [],
   "source": [
    "os.makedirs(INPUT, exist_ok=True)\n",
    "os.makedirs(OUTPUT, exist_ok=True)"
   ]
  },
  {
   "cell_type": "code",
   "execution_count": 5,
   "metadata": {},
   "outputs": [],
   "source": [
    "ZIP_FILE = os.path.join(INPUT, \"microdados_censo_escolar_2024.zip\")"
   ]
  },
  {
   "cell_type": "code",
   "execution_count": 16,
   "metadata": {},
   "outputs": [],
   "source": [
    "with zipfile.ZipFile(ZIP_FILE, \"r\") as zip_ref:\n",
    "    zip_ref.extractall(INPUT)"
   ]
  },
  {
   "cell_type": "code",
   "execution_count": 6,
   "metadata": {},
   "outputs": [],
   "source": [
    "csv_path = os.path.join(\n",
    "    INPUT,\n",
    "    \"microdados_censo_escolar_2024\",\n",
    "    \"dados\",\n",
    "    \"microdados_ed_basica_2024.csv\",\n",
    ")"
   ]
  },
  {
   "cell_type": "code",
   "execution_count": 7,
   "metadata": {
    "colab": {
     "base_uri": "https://localhost:8080/"
    },
    "id": "tFGjOzh0TN4k",
    "outputId": "6551cc63-c7f1-479a-b354-24a2efe67e6f"
   },
   "outputs": [
    {
     "name": "stdout",
     "output_type": "stream",
     "text": [
      "The detected delimiter is: ;\n"
     ]
    }
   ],
   "source": [
    "def detect_delimiter(file_path):\n",
    "    with open(file_path, \"r\", encoding=\"iso-8859-1\") as file:\n",
    "        sample = file.read(1024)  # Read a sample of the file\n",
    "        sniffer = csv.Sniffer()\n",
    "        delimiter = sniffer.sniff(sample).delimiter\n",
    "        return delimiter\n",
    "\n",
    "\n",
    "detected_delimiter = detect_delimiter(csv_path)\n",
    "print(f\"The detected delimiter is: {detected_delimiter}\")"
   ]
  },
  {
   "cell_type": "code",
   "execution_count": 8,
   "metadata": {
    "id": "1rkjdIz6-MoW"
   },
   "outputs": [],
   "source": [
    "censo = pd.read_csv(\n",
    "    csv_path,\n",
    "    delimiter=\";\",\n",
    "    dtype=\"string\",\n",
    "    encoding=\"iso-8859-1\",\n",
    ")"
   ]
  },
  {
   "cell_type": "code",
   "execution_count": 9,
   "metadata": {},
   "outputs": [],
   "source": [
    "censo_raw_columns = censo.columns.to_list()"
   ]
  },
  {
   "cell_type": "code",
   "execution_count": 10,
   "metadata": {},
   "outputs": [
    {
     "data": {
      "text/plain": [
       "(215545, 426)"
      ]
     },
     "execution_count": 10,
     "metadata": {},
     "output_type": "execute_result"
    }
   ],
   "source": [
    "censo.shape"
   ]
  },
  {
   "cell_type": "code",
   "execution_count": 11,
   "metadata": {
    "colab": {
     "base_uri": "https://localhost:8080/",
     "height": 530
    },
    "id": "gQe4I6KwPNrs",
    "outputId": "0524a7f0-60a5-45ad-abf2-1631460e63cf"
   },
   "outputs": [
    {
     "data": {
      "application/vnd.microsoft.datawrangler.viewer.v0+json": {
       "columns": [
        {
         "name": "index",
         "rawType": "int64",
         "type": "integer"
        },
        {
         "name": "NU_ANO_CENSO",
         "rawType": "string",
         "type": "string"
        },
        {
         "name": "NO_REGIAO",
         "rawType": "string",
         "type": "string"
        },
        {
         "name": "CO_REGIAO",
         "rawType": "string",
         "type": "string"
        },
        {
         "name": "NO_UF",
         "rawType": "string",
         "type": "string"
        },
        {
         "name": "SG_UF",
         "rawType": "string",
         "type": "string"
        },
        {
         "name": "CO_UF",
         "rawType": "string",
         "type": "string"
        },
        {
         "name": "NO_MUNICIPIO",
         "rawType": "string",
         "type": "string"
        },
        {
         "name": "CO_MUNICIPIO",
         "rawType": "string",
         "type": "string"
        },
        {
         "name": "NO_REGIAO_GEOG_INTERM",
         "rawType": "string",
         "type": "string"
        },
        {
         "name": "CO_REGIAO_GEOG_INTERM",
         "rawType": "string",
         "type": "string"
        },
        {
         "name": "NO_REGIAO_GEOG_IMED",
         "rawType": "string",
         "type": "string"
        },
        {
         "name": "CO_REGIAO_GEOG_IMED",
         "rawType": "string",
         "type": "string"
        },
        {
         "name": "NO_MESORREGIAO",
         "rawType": "string",
         "type": "string"
        },
        {
         "name": "CO_MESORREGIAO",
         "rawType": "string",
         "type": "string"
        },
        {
         "name": "NO_MICRORREGIAO",
         "rawType": "string",
         "type": "string"
        },
        {
         "name": "CO_MICRORREGIAO",
         "rawType": "string",
         "type": "string"
        },
        {
         "name": "NO_DISTRITO",
         "rawType": "string",
         "type": "string"
        },
        {
         "name": "CO_DISTRITO",
         "rawType": "string",
         "type": "string"
        },
        {
         "name": "NO_ENTIDADE",
         "rawType": "string",
         "type": "string"
        },
        {
         "name": "CO_ENTIDADE",
         "rawType": "string",
         "type": "string"
        },
        {
         "name": "TP_DEPENDENCIA",
         "rawType": "string",
         "type": "string"
        },
        {
         "name": "TP_CATEGORIA_ESCOLA_PRIVADA",
         "rawType": "string",
         "type": "string"
        },
        {
         "name": "TP_LOCALIZACAO",
         "rawType": "string",
         "type": "string"
        },
        {
         "name": "TP_LOCALIZACAO_DIFERENCIADA",
         "rawType": "string",
         "type": "string"
        },
        {
         "name": "DS_ENDERECO",
         "rawType": "string",
         "type": "string"
        },
        {
         "name": "NU_ENDERECO",
         "rawType": "string",
         "type": "string"
        },
        {
         "name": "DS_COMPLEMENTO",
         "rawType": "string",
         "type": "string"
        },
        {
         "name": "NO_BAIRRO",
         "rawType": "string",
         "type": "string"
        },
        {
         "name": "CO_CEP",
         "rawType": "string",
         "type": "string"
        },
        {
         "name": "NU_DDD",
         "rawType": "string",
         "type": "string"
        },
        {
         "name": "NU_TELEFONE",
         "rawType": "string",
         "type": "string"
        },
        {
         "name": "TP_SITUACAO_FUNCIONAMENTO",
         "rawType": "string",
         "type": "string"
        },
        {
         "name": "CO_ORGAO_REGIONAL",
         "rawType": "string",
         "type": "string"
        },
        {
         "name": "DT_ANO_LETIVO_INICIO",
         "rawType": "string",
         "type": "string"
        },
        {
         "name": "DT_ANO_LETIVO_TERMINO",
         "rawType": "string",
         "type": "string"
        },
        {
         "name": "IN_VINCULO_SECRETARIA_EDUCACAO",
         "rawType": "string",
         "type": "string"
        },
        {
         "name": "IN_VINCULO_SEGURANCA_PUBLICA",
         "rawType": "string",
         "type": "string"
        },
        {
         "name": "IN_VINCULO_SECRETARIA_SAUDE",
         "rawType": "string",
         "type": "string"
        },
        {
         "name": "IN_VINCULO_OUTRO_ORGAO",
         "rawType": "string",
         "type": "string"
        },
        {
         "name": "IN_PODER_PUBLICO_PARCERIA",
         "rawType": "string",
         "type": "string"
        },
        {
         "name": "TP_PODER_PUBLICO_PARCERIA",
         "rawType": "string",
         "type": "string"
        },
        {
         "name": "IN_FORMA_CONT_TERMO_COLABORA",
         "rawType": "string",
         "type": "string"
        },
        {
         "name": "IN_FORMA_CONT_TERMO_FOMENTO",
         "rawType": "string",
         "type": "string"
        },
        {
         "name": "IN_FORMA_CONT_ACORDO_COOP",
         "rawType": "string",
         "type": "string"
        },
        {
         "name": "IN_FORMA_CONT_PRESTACAO_SERV",
         "rawType": "string",
         "type": "string"
        },
        {
         "name": "IN_FORMA_CONT_COOP_TEC_FIN",
         "rawType": "string",
         "type": "string"
        },
        {
         "name": "IN_FORMA_CONT_CONSORCIO_PUB",
         "rawType": "string",
         "type": "string"
        },
        {
         "name": "IN_FORMA_CONT_MU_TERMO_COLAB",
         "rawType": "string",
         "type": "string"
        },
        {
         "name": "IN_FORMA_CONT_MU_TERMO_FOMENTO",
         "rawType": "string",
         "type": "string"
        },
        {
         "name": "IN_FORMA_CONT_MU_ACORDO_COOP",
         "rawType": "string",
         "type": "string"
        },
        {
         "name": "IN_FORMA_CONT_MU_PREST_SERV",
         "rawType": "string",
         "type": "string"
        },
        {
         "name": "IN_FORMA_CONT_MU_COOP_TEC_FIN",
         "rawType": "string",
         "type": "string"
        },
        {
         "name": "IN_FORMA_CONT_MU_CONSORCIO_PUB",
         "rawType": "string",
         "type": "string"
        },
        {
         "name": "IN_FORMA_CONT_ES_TERMO_COLAB",
         "rawType": "string",
         "type": "string"
        },
        {
         "name": "IN_FORMA_CONT_ES_TERMO_FOMENTO",
         "rawType": "string",
         "type": "string"
        },
        {
         "name": "IN_FORMA_CONT_ES_ACORDO_COOP",
         "rawType": "string",
         "type": "string"
        },
        {
         "name": "IN_FORMA_CONT_ES_PREST_SERV",
         "rawType": "string",
         "type": "string"
        },
        {
         "name": "IN_FORMA_CONT_ES_COOP_TEC_FIN",
         "rawType": "string",
         "type": "string"
        },
        {
         "name": "IN_FORMA_CONT_ES_CONSORCIO_PUB",
         "rawType": "string",
         "type": "string"
        },
        {
         "name": "IN_MANT_ESCOLA_PRIVADA_EMP",
         "rawType": "string",
         "type": "string"
        },
        {
         "name": "IN_MANT_ESCOLA_PRIVADA_ONG",
         "rawType": "string",
         "type": "string"
        },
        {
         "name": "IN_MANT_ESCOLA_PRIVADA_OSCIP",
         "rawType": "string",
         "type": "string"
        },
        {
         "name": "IN_MANT_ESCOLA_PRIV_ONG_OSCIP",
         "rawType": "string",
         "type": "string"
        },
        {
         "name": "IN_MANT_ESCOLA_PRIVADA_SIND",
         "rawType": "string",
         "type": "string"
        },
        {
         "name": "IN_MANT_ESCOLA_PRIVADA_SIST_S",
         "rawType": "string",
         "type": "string"
        },
        {
         "name": "IN_MANT_ESCOLA_PRIVADA_S_FINS",
         "rawType": "string",
         "type": "string"
        },
        {
         "name": "NU_CNPJ_ESCOLA_PRIVADA",
         "rawType": "string",
         "type": "string"
        },
        {
         "name": "NU_CNPJ_MANTENEDORA",
         "rawType": "string",
         "type": "string"
        },
        {
         "name": "TP_REGULAMENTACAO",
         "rawType": "string",
         "type": "string"
        },
        {
         "name": "TP_RESPONSAVEL_REGULAMENTACAO",
         "rawType": "string",
         "type": "string"
        },
        {
         "name": "CO_ESCOLA_SEDE_VINCULADA",
         "rawType": "string",
         "type": "string"
        },
        {
         "name": "CO_IES_OFERTANTE",
         "rawType": "string",
         "type": "string"
        },
        {
         "name": "IN_LOCAL_FUNC_PREDIO_ESCOLAR",
         "rawType": "string",
         "type": "string"
        },
        {
         "name": "TP_OCUPACAO_PREDIO_ESCOLAR",
         "rawType": "string",
         "type": "string"
        },
        {
         "name": "IN_LOCAL_FUNC_SOCIOEDUCATIVO",
         "rawType": "string",
         "type": "string"
        },
        {
         "name": "IN_LOCAL_FUNC_UNID_PRISIONAL",
         "rawType": "string",
         "type": "string"
        },
        {
         "name": "IN_LOCAL_FUNC_PRISIONAL_SOCIO",
         "rawType": "string",
         "type": "string"
        },
        {
         "name": "IN_LOCAL_FUNC_GALPAO",
         "rawType": "string",
         "type": "string"
        },
        {
         "name": "TP_OCUPACAO_GALPAO",
         "rawType": "string",
         "type": "string"
        },
        {
         "name": "IN_LOCAL_FUNC_SALAS_OUTRA_ESC",
         "rawType": "string",
         "type": "string"
        },
        {
         "name": "IN_LOCAL_FUNC_OUTROS",
         "rawType": "string",
         "type": "string"
        },
        {
         "name": "IN_PREDIO_COMPARTILHADO",
         "rawType": "string",
         "type": "string"
        },
        {
         "name": "IN_AGUA_POTAVEL",
         "rawType": "string",
         "type": "string"
        },
        {
         "name": "IN_AGUA_REDE_PUBLICA",
         "rawType": "string",
         "type": "string"
        },
        {
         "name": "IN_AGUA_POCO_ARTESIANO",
         "rawType": "string",
         "type": "string"
        },
        {
         "name": "IN_AGUA_CACIMBA",
         "rawType": "string",
         "type": "string"
        },
        {
         "name": "IN_AGUA_FONTE_RIO",
         "rawType": "string",
         "type": "string"
        },
        {
         "name": "IN_AGUA_INEXISTENTE",
         "rawType": "string",
         "type": "string"
        },
        {
         "name": "IN_AGUA_CARRO_PIPA",
         "rawType": "string",
         "type": "string"
        },
        {
         "name": "IN_ENERGIA_REDE_PUBLICA",
         "rawType": "string",
         "type": "string"
        },
        {
         "name": "IN_ENERGIA_GERADOR_FOSSIL",
         "rawType": "string",
         "type": "string"
        },
        {
         "name": "IN_ENERGIA_RENOVAVEL",
         "rawType": "string",
         "type": "string"
        },
        {
         "name": "IN_ENERGIA_INEXISTENTE",
         "rawType": "string",
         "type": "string"
        },
        {
         "name": "IN_ESGOTO_REDE_PUBLICA",
         "rawType": "string",
         "type": "string"
        },
        {
         "name": "IN_ESGOTO_FOSSA_SEPTICA",
         "rawType": "string",
         "type": "string"
        },
        {
         "name": "IN_ESGOTO_FOSSA_COMUM",
         "rawType": "string",
         "type": "string"
        },
        {
         "name": "IN_ESGOTO_FOSSA",
         "rawType": "string",
         "type": "string"
        },
        {
         "name": "IN_ESGOTO_INEXISTENTE",
         "rawType": "string",
         "type": "string"
        },
        {
         "name": "IN_LIXO_SERVICO_COLETA",
         "rawType": "string",
         "type": "string"
        },
        {
         "name": "IN_LIXO_QUEIMA",
         "rawType": "string",
         "type": "string"
        },
        {
         "name": "IN_LIXO_ENTERRA",
         "rawType": "string",
         "type": "string"
        },
        {
         "name": "IN_LIXO_DESTINO_FINAL_PUBLICO",
         "rawType": "string",
         "type": "string"
        },
        {
         "name": "IN_LIXO_DESCARTA_OUTRA_AREA",
         "rawType": "string",
         "type": "string"
        },
        {
         "name": "IN_TRATAMENTO_LIXO_SEPARACAO",
         "rawType": "string",
         "type": "string"
        },
        {
         "name": "IN_TRATAMENTO_LIXO_REUTILIZA",
         "rawType": "string",
         "type": "string"
        },
        {
         "name": "IN_TRATAMENTO_LIXO_RECICLAGEM",
         "rawType": "string",
         "type": "string"
        },
        {
         "name": "IN_TRATAMENTO_LIXO_INEXISTENTE",
         "rawType": "string",
         "type": "string"
        },
        {
         "name": "IN_ALMOXARIFADO",
         "rawType": "string",
         "type": "string"
        },
        {
         "name": "IN_AREA_VERDE",
         "rawType": "string",
         "type": "string"
        },
        {
         "name": "IN_AREA_PLANTIO",
         "rawType": "string",
         "type": "string"
        },
        {
         "name": "IN_AUDITORIO",
         "rawType": "string",
         "type": "string"
        },
        {
         "name": "IN_BANHEIRO",
         "rawType": "string",
         "type": "string"
        },
        {
         "name": "IN_BANHEIRO_EI",
         "rawType": "string",
         "type": "string"
        },
        {
         "name": "IN_BANHEIRO_PNE",
         "rawType": "string",
         "type": "string"
        },
        {
         "name": "IN_BANHEIRO_FUNCIONARIOS",
         "rawType": "string",
         "type": "string"
        },
        {
         "name": "IN_BANHEIRO_CHUVEIRO",
         "rawType": "string",
         "type": "string"
        },
        {
         "name": "IN_BIBLIOTECA",
         "rawType": "string",
         "type": "string"
        },
        {
         "name": "IN_BIBLIOTECA_SALA_LEITURA",
         "rawType": "string",
         "type": "string"
        },
        {
         "name": "IN_COZINHA",
         "rawType": "string",
         "type": "string"
        },
        {
         "name": "IN_DESPENSA",
         "rawType": "string",
         "type": "string"
        },
        {
         "name": "IN_DORMITORIO_ALUNO",
         "rawType": "string",
         "type": "string"
        },
        {
         "name": "IN_DORMITORIO_PROFESSOR",
         "rawType": "string",
         "type": "string"
        },
        {
         "name": "IN_LABORATORIO_CIENCIAS",
         "rawType": "string",
         "type": "string"
        },
        {
         "name": "IN_LABORATORIO_INFORMATICA",
         "rawType": "string",
         "type": "string"
        },
        {
         "name": "IN_LABORATORIO_EDUC_PROF",
         "rawType": "string",
         "type": "string"
        },
        {
         "name": "IN_PATIO_COBERTO",
         "rawType": "string",
         "type": "string"
        },
        {
         "name": "IN_PATIO_DESCOBERTO",
         "rawType": "string",
         "type": "string"
        },
        {
         "name": "IN_PARQUE_INFANTIL",
         "rawType": "string",
         "type": "string"
        },
        {
         "name": "IN_PISCINA",
         "rawType": "string",
         "type": "string"
        },
        {
         "name": "IN_QUADRA_ESPORTES",
         "rawType": "string",
         "type": "string"
        },
        {
         "name": "IN_QUADRA_ESPORTES_COBERTA",
         "rawType": "string",
         "type": "string"
        },
        {
         "name": "IN_QUADRA_ESPORTES_DESCOBERTA",
         "rawType": "string",
         "type": "string"
        },
        {
         "name": "IN_REFEITORIO",
         "rawType": "string",
         "type": "string"
        },
        {
         "name": "IN_SALA_ATELIE_ARTES",
         "rawType": "string",
         "type": "string"
        },
        {
         "name": "IN_SALA_MUSICA_CORAL",
         "rawType": "string",
         "type": "string"
        },
        {
         "name": "IN_SALA_ESTUDIO_DANCA",
         "rawType": "string",
         "type": "string"
        },
        {
         "name": "IN_SALA_MULTIUSO",
         "rawType": "string",
         "type": "string"
        },
        {
         "name": "IN_SALA_ESTUDIO_GRAVACAO",
         "rawType": "string",
         "type": "string"
        },
        {
         "name": "IN_SALA_OFICINAS_EDUC_PROF",
         "rawType": "string",
         "type": "string"
        },
        {
         "name": "IN_SALA_DIRETORIA",
         "rawType": "string",
         "type": "string"
        },
        {
         "name": "IN_SALA_LEITURA",
         "rawType": "string",
         "type": "string"
        },
        {
         "name": "IN_SALA_PROFESSOR",
         "rawType": "string",
         "type": "string"
        },
        {
         "name": "IN_SALA_REPOUSO_ALUNO",
         "rawType": "string",
         "type": "string"
        },
        {
         "name": "IN_SECRETARIA",
         "rawType": "string",
         "type": "string"
        },
        {
         "name": "IN_SALA_ATENDIMENTO_ESPECIAL",
         "rawType": "string",
         "type": "string"
        },
        {
         "name": "IN_TERREIRAO",
         "rawType": "string",
         "type": "string"
        },
        {
         "name": "IN_VIVEIRO",
         "rawType": "string",
         "type": "string"
        },
        {
         "name": "IN_DEPENDENCIAS_OUTRAS",
         "rawType": "string",
         "type": "string"
        },
        {
         "name": "IN_ACESSIBILIDADE_CORRIMAO",
         "rawType": "string",
         "type": "string"
        },
        {
         "name": "IN_ACESSIBILIDADE_ELEVADOR",
         "rawType": "string",
         "type": "string"
        },
        {
         "name": "IN_ACESSIBILIDADE_PISOS_TATEIS",
         "rawType": "string",
         "type": "string"
        },
        {
         "name": "IN_ACESSIBILIDADE_VAO_LIVRE",
         "rawType": "string",
         "type": "string"
        },
        {
         "name": "IN_ACESSIBILIDADE_RAMPAS",
         "rawType": "string",
         "type": "string"
        },
        {
         "name": "IN_ACESSIBILIDADE_SINAL_SONORO",
         "rawType": "string",
         "type": "string"
        },
        {
         "name": "IN_ACESSIBILIDADE_SINAL_TATIL",
         "rawType": "string",
         "type": "string"
        },
        {
         "name": "IN_ACESSIBILIDADE_SINAL_VISUAL",
         "rawType": "string",
         "type": "string"
        },
        {
         "name": "IN_ACESSIBILIDADE_INEXISTENTE",
         "rawType": "string",
         "type": "string"
        },
        {
         "name": "IN_ACESSIBILIDADE_SINALIZACAO",
         "rawType": "string",
         "type": "string"
        },
        {
         "name": "QT_SALAS_UTILIZADAS_DENTRO",
         "rawType": "string",
         "type": "string"
        },
        {
         "name": "QT_SALAS_UTILIZADAS_FORA",
         "rawType": "string",
         "type": "string"
        },
        {
         "name": "QT_SALAS_UTILIZADAS",
         "rawType": "string",
         "type": "string"
        },
        {
         "name": "QT_SALAS_UTILIZA_CLIMATIZADAS",
         "rawType": "string",
         "type": "string"
        },
        {
         "name": "QT_SALAS_UTILIZADAS_ACESSIVEIS",
         "rawType": "string",
         "type": "string"
        },
        {
         "name": "IN_EQUIP_PARABOLICA",
         "rawType": "string",
         "type": "string"
        },
        {
         "name": "IN_COMPUTADOR",
         "rawType": "string",
         "type": "string"
        },
        {
         "name": "IN_EQUIP_COPIADORA",
         "rawType": "string",
         "type": "string"
        },
        {
         "name": "IN_EQUIP_IMPRESSORA",
         "rawType": "string",
         "type": "string"
        },
        {
         "name": "IN_EQUIP_IMPRESSORA_MULT",
         "rawType": "string",
         "type": "string"
        },
        {
         "name": "IN_EQUIP_SCANNER",
         "rawType": "string",
         "type": "string"
        },
        {
         "name": "IN_EQUIP_NENHUM",
         "rawType": "string",
         "type": "string"
        },
        {
         "name": "IN_EQUIP_DVD",
         "rawType": "string",
         "type": "string"
        },
        {
         "name": "QT_EQUIP_DVD",
         "rawType": "string",
         "type": "string"
        },
        {
         "name": "IN_EQUIP_SOM",
         "rawType": "string",
         "type": "string"
        },
        {
         "name": "QT_EQUIP_SOM",
         "rawType": "string",
         "type": "string"
        },
        {
         "name": "IN_EQUIP_TV",
         "rawType": "string",
         "type": "string"
        },
        {
         "name": "QT_EQUIP_TV",
         "rawType": "string",
         "type": "string"
        },
        {
         "name": "IN_EQUIP_LOUSA_DIGITAL",
         "rawType": "string",
         "type": "string"
        },
        {
         "name": "QT_EQUIP_LOUSA_DIGITAL",
         "rawType": "string",
         "type": "string"
        },
        {
         "name": "IN_EQUIP_MULTIMIDIA",
         "rawType": "string",
         "type": "string"
        },
        {
         "name": "QT_EQUIP_MULTIMIDIA",
         "rawType": "string",
         "type": "string"
        },
        {
         "name": "IN_DESKTOP_ALUNO",
         "rawType": "string",
         "type": "string"
        },
        {
         "name": "QT_DESKTOP_ALUNO",
         "rawType": "string",
         "type": "string"
        },
        {
         "name": "IN_COMP_PORTATIL_ALUNO",
         "rawType": "string",
         "type": "string"
        },
        {
         "name": "QT_COMP_PORTATIL_ALUNO",
         "rawType": "string",
         "type": "string"
        },
        {
         "name": "IN_TABLET_ALUNO",
         "rawType": "string",
         "type": "string"
        },
        {
         "name": "QT_TABLET_ALUNO",
         "rawType": "string",
         "type": "string"
        },
        {
         "name": "IN_INTERNET",
         "rawType": "string",
         "type": "string"
        },
        {
         "name": "IN_INTERNET_ALUNOS",
         "rawType": "string",
         "type": "string"
        },
        {
         "name": "IN_INTERNET_ADMINISTRATIVO",
         "rawType": "string",
         "type": "string"
        },
        {
         "name": "IN_INTERNET_APRENDIZAGEM",
         "rawType": "string",
         "type": "string"
        },
        {
         "name": "IN_INTERNET_COMUNIDADE",
         "rawType": "string",
         "type": "string"
        },
        {
         "name": "IN_ACESSO_INTERNET_COMPUTADOR",
         "rawType": "string",
         "type": "string"
        },
        {
         "name": "IN_ACES_INTERNET_DISP_PESSOAIS",
         "rawType": "string",
         "type": "string"
        },
        {
         "name": "TP_REDE_LOCAL",
         "rawType": "string",
         "type": "string"
        },
        {
         "name": "IN_BANDA_LARGA",
         "rawType": "string",
         "type": "string"
        },
        {
         "name": "IN_PROF_ADMINISTRATIVOS",
         "rawType": "string",
         "type": "string"
        },
        {
         "name": "QT_PROF_ADMINISTRATIVOS",
         "rawType": "string",
         "type": "string"
        },
        {
         "name": "IN_PROF_SERVICOS_GERAIS",
         "rawType": "string",
         "type": "string"
        },
        {
         "name": "QT_PROF_SERVICOS_GERAIS",
         "rawType": "string",
         "type": "string"
        },
        {
         "name": "IN_PROF_BIBLIOTECARIO",
         "rawType": "string",
         "type": "string"
        },
        {
         "name": "QT_PROF_BIBLIOTECARIO",
         "rawType": "string",
         "type": "string"
        },
        {
         "name": "IN_PROF_SAUDE",
         "rawType": "string",
         "type": "string"
        },
        {
         "name": "QT_PROF_SAUDE",
         "rawType": "string",
         "type": "string"
        },
        {
         "name": "IN_PROF_COORDENADOR",
         "rawType": "string",
         "type": "string"
        },
        {
         "name": "QT_PROF_COORDENADOR",
         "rawType": "string",
         "type": "string"
        },
        {
         "name": "IN_PROF_FONAUDIOLOGO",
         "rawType": "string",
         "type": "string"
        },
        {
         "name": "QT_PROF_FONAUDIOLOGO",
         "rawType": "string",
         "type": "string"
        },
        {
         "name": "IN_PROF_NUTRICIONISTA",
         "rawType": "string",
         "type": "string"
        },
        {
         "name": "QT_PROF_NUTRICIONISTA",
         "rawType": "string",
         "type": "string"
        },
        {
         "name": "IN_PROF_PSICOLOGO",
         "rawType": "string",
         "type": "string"
        },
        {
         "name": "QT_PROF_PSICOLOGO",
         "rawType": "string",
         "type": "string"
        },
        {
         "name": "IN_PROF_ALIMENTACAO",
         "rawType": "string",
         "type": "string"
        },
        {
         "name": "QT_PROF_ALIMENTACAO",
         "rawType": "string",
         "type": "string"
        },
        {
         "name": "IN_PROF_PEDAGOGIA",
         "rawType": "string",
         "type": "string"
        },
        {
         "name": "QT_PROF_PEDAGOGIA",
         "rawType": "string",
         "type": "string"
        },
        {
         "name": "IN_PROF_SECRETARIO",
         "rawType": "string",
         "type": "string"
        },
        {
         "name": "QT_PROF_SECRETARIO",
         "rawType": "string",
         "type": "string"
        },
        {
         "name": "IN_PROF_SEGURANCA",
         "rawType": "string",
         "type": "string"
        },
        {
         "name": "QT_PROF_SEGURANCA",
         "rawType": "string",
         "type": "string"
        },
        {
         "name": "IN_PROF_MONITORES",
         "rawType": "string",
         "type": "string"
        },
        {
         "name": "QT_PROF_MONITORES",
         "rawType": "string",
         "type": "string"
        },
        {
         "name": "IN_PROF_GESTAO",
         "rawType": "string",
         "type": "string"
        },
        {
         "name": "QT_PROF_GESTAO",
         "rawType": "string",
         "type": "string"
        },
        {
         "name": "IN_PROF_ASSIST_SOCIAL",
         "rawType": "string",
         "type": "string"
        },
        {
         "name": "QT_PROF_ASSIST_SOCIAL",
         "rawType": "string",
         "type": "string"
        },
        {
         "name": "IN_PROF_TRAD_LIBRAS",
         "rawType": "string",
         "type": "string"
        },
        {
         "name": "QT_PROF_TRAD_LIBRAS",
         "rawType": "string",
         "type": "string"
        },
        {
         "name": "IN_PROF_AGRICOLA",
         "rawType": "string",
         "type": "string"
        },
        {
         "name": "QT_PROF_AGRICOLA",
         "rawType": "string",
         "type": "string"
        },
        {
         "name": "IN_PROF_REVISOR_BRAILLE",
         "rawType": "string",
         "type": "string"
        },
        {
         "name": "QT_PROF_REVISOR_BRAILLE",
         "rawType": "string",
         "type": "string"
        },
        {
         "name": "IN_ALIMENTACAO",
         "rawType": "string",
         "type": "string"
        },
        {
         "name": "IN_MATERIAL_PED_MULTIMIDIA",
         "rawType": "string",
         "type": "string"
        },
        {
         "name": "IN_MATERIAL_PED_INFANTIL",
         "rawType": "string",
         "type": "string"
        },
        {
         "name": "IN_MATERIAL_PED_CIENTIFICO",
         "rawType": "string",
         "type": "string"
        },
        {
         "name": "IN_MATERIAL_PED_DIFUSAO",
         "rawType": "string",
         "type": "string"
        },
        {
         "name": "IN_MATERIAL_PED_MUSICAL",
         "rawType": "string",
         "type": "string"
        },
        {
         "name": "IN_MATERIAL_PED_JOGOS",
         "rawType": "string",
         "type": "string"
        },
        {
         "name": "IN_MATERIAL_PED_ARTISTICAS",
         "rawType": "string",
         "type": "string"
        },
        {
         "name": "IN_MATERIAL_PED_PROFISSIONAL",
         "rawType": "string",
         "type": "string"
        },
        {
         "name": "IN_MATERIAL_PED_DESPORTIVA",
         "rawType": "string",
         "type": "string"
        },
        {
         "name": "IN_MATERIAL_PED_INDIGENA",
         "rawType": "string",
         "type": "string"
        },
        {
         "name": "IN_MATERIAL_PED_ETNICO",
         "rawType": "string",
         "type": "string"
        },
        {
         "name": "IN_MATERIAL_PED_CAMPO",
         "rawType": "string",
         "type": "string"
        },
        {
         "name": "IN_MATERIAL_PED_BIL_SURDOS",
         "rawType": "string",
         "type": "string"
        },
        {
         "name": "IN_MATERIAL_PED_AGRICOLA",
         "rawType": "string",
         "type": "string"
        },
        {
         "name": "IN_MATERIAL_PED_QUILOMBOLA",
         "rawType": "string",
         "type": "string"
        },
        {
         "name": "IN_MATERIAL_PED_EDU_ESP",
         "rawType": "string",
         "type": "string"
        },
        {
         "name": "IN_MATERIAL_PED_NENHUM",
         "rawType": "string",
         "type": "string"
        },
        {
         "name": "IN_EDUCACAO_INDIGENA",
         "rawType": "string",
         "type": "string"
        },
        {
         "name": "TP_INDIGENA_LINGUA",
         "rawType": "string",
         "type": "string"
        },
        {
         "name": "CO_LINGUA_INDIGENA_1",
         "rawType": "string",
         "type": "string"
        },
        {
         "name": "CO_LINGUA_INDIGENA_2",
         "rawType": "string",
         "type": "string"
        },
        {
         "name": "CO_LINGUA_INDIGENA_3",
         "rawType": "string",
         "type": "string"
        },
        {
         "name": "IN_EXAME_SELECAO",
         "rawType": "string",
         "type": "string"
        },
        {
         "name": "IN_RESERVA_PPI",
         "rawType": "string",
         "type": "string"
        },
        {
         "name": "IN_RESERVA_RENDA",
         "rawType": "string",
         "type": "string"
        },
        {
         "name": "IN_RESERVA_PUBLICA",
         "rawType": "string",
         "type": "string"
        },
        {
         "name": "IN_RESERVA_PCD",
         "rawType": "string",
         "type": "string"
        },
        {
         "name": "IN_RESERVA_OUTROS",
         "rawType": "string",
         "type": "string"
        },
        {
         "name": "IN_RESERVA_NENHUMA",
         "rawType": "string",
         "type": "string"
        },
        {
         "name": "IN_REDES_SOCIAIS",
         "rawType": "string",
         "type": "string"
        },
        {
         "name": "IN_ESPACO_ATIVIDADE",
         "rawType": "string",
         "type": "string"
        },
        {
         "name": "IN_ESPACO_EQUIPAMENTO",
         "rawType": "string",
         "type": "string"
        },
        {
         "name": "IN_ORGAO_ASS_PAIS",
         "rawType": "string",
         "type": "string"
        },
        {
         "name": "IN_ORGAO_ASS_PAIS_MESTRES",
         "rawType": "string",
         "type": "string"
        },
        {
         "name": "IN_ORGAO_CONSELHO_ESCOLAR",
         "rawType": "string",
         "type": "string"
        },
        {
         "name": "IN_ORGAO_GREMIO_ESTUDANTIL",
         "rawType": "string",
         "type": "string"
        },
        {
         "name": "IN_ORGAO_OUTROS",
         "rawType": "string",
         "type": "string"
        },
        {
         "name": "IN_ORGAO_NENHUM",
         "rawType": "string",
         "type": "string"
        },
        {
         "name": "TP_PROPOSTA_PEDAGOGICA",
         "rawType": "string",
         "type": "string"
        },
        {
         "name": "IN_EDUC_AMBIENTAL",
         "rawType": "string",
         "type": "string"
        },
        {
         "name": "IN_EDUC_AMB_CONTEUDO",
         "rawType": "string",
         "type": "string"
        },
        {
         "name": "IN_EDUC_AMB_CURRICULAR",
         "rawType": "string",
         "type": "string"
        },
        {
         "name": "IN_EDUC_AMB_EIXO",
         "rawType": "string",
         "type": "string"
        },
        {
         "name": "IN_EDUC_AMB_EVENTOS",
         "rawType": "string",
         "type": "string"
        },
        {
         "name": "IN_EDUC_AMB_PROJETOS",
         "rawType": "string",
         "type": "string"
        },
        {
         "name": "IN_EDUC_AMB_NENHUMA",
         "rawType": "string",
         "type": "string"
        },
        {
         "name": "TP_AEE",
         "rawType": "string",
         "type": "string"
        },
        {
         "name": "TP_ATIVIDADE_COMPLEMENTAR",
         "rawType": "string",
         "type": "string"
        },
        {
         "name": "IN_MEDIACAO_PRESENCIAL",
         "rawType": "string",
         "type": "string"
        },
        {
         "name": "IN_MEDIACAO_SEMIPRESENCIAL",
         "rawType": "string",
         "type": "string"
        },
        {
         "name": "IN_MEDIACAO_EAD",
         "rawType": "string",
         "type": "string"
        },
        {
         "name": "IN_REGULAR",
         "rawType": "string",
         "type": "string"
        },
        {
         "name": "IN_DIURNO",
         "rawType": "string",
         "type": "string"
        },
        {
         "name": "IN_NOTURNO",
         "rawType": "string",
         "type": "string"
        },
        {
         "name": "IN_EAD",
         "rawType": "string",
         "type": "string"
        },
        {
         "name": "IN_ESCOLARIZACAO",
         "rawType": "string",
         "type": "string"
        },
        {
         "name": "IN_INF",
         "rawType": "string",
         "type": "string"
        },
        {
         "name": "IN_INF_CRE",
         "rawType": "string",
         "type": "string"
        },
        {
         "name": "IN_INF_PRE",
         "rawType": "string",
         "type": "string"
        },
        {
         "name": "IN_FUND",
         "rawType": "string",
         "type": "string"
        },
        {
         "name": "IN_FUND_AI",
         "rawType": "string",
         "type": "string"
        },
        {
         "name": "IN_FUND_AF",
         "rawType": "string",
         "type": "string"
        },
        {
         "name": "IN_MED",
         "rawType": "string",
         "type": "string"
        },
        {
         "name": "IN_PROF",
         "rawType": "string",
         "type": "string"
        },
        {
         "name": "IN_PROF_TEC",
         "rawType": "string",
         "type": "string"
        },
        {
         "name": "IN_EJA",
         "rawType": "string",
         "type": "string"
        },
        {
         "name": "IN_EJA_FUND",
         "rawType": "string",
         "type": "string"
        },
        {
         "name": "IN_EJA_MED",
         "rawType": "string",
         "type": "string"
        },
        {
         "name": "IN_ESP",
         "rawType": "string",
         "type": "string"
        },
        {
         "name": "IN_ESP_CC",
         "rawType": "string",
         "type": "string"
        },
        {
         "name": "IN_ESP_CE",
         "rawType": "string",
         "type": "string"
        },
        {
         "name": "QT_MAT_BAS",
         "rawType": "string",
         "type": "string"
        },
        {
         "name": "QT_MAT_INF",
         "rawType": "string",
         "type": "string"
        },
        {
         "name": "QT_MAT_INF_CRE",
         "rawType": "string",
         "type": "string"
        },
        {
         "name": "QT_MAT_INF_PRE",
         "rawType": "string",
         "type": "string"
        },
        {
         "name": "QT_MAT_FUND",
         "rawType": "string",
         "type": "string"
        },
        {
         "name": "QT_MAT_FUND_AI",
         "rawType": "string",
         "type": "string"
        },
        {
         "name": "QT_MAT_FUND_AI_1",
         "rawType": "string",
         "type": "string"
        },
        {
         "name": "QT_MAT_FUND_AI_2",
         "rawType": "string",
         "type": "string"
        },
        {
         "name": "QT_MAT_FUND_AI_3",
         "rawType": "string",
         "type": "string"
        },
        {
         "name": "QT_MAT_FUND_AI_4",
         "rawType": "string",
         "type": "string"
        },
        {
         "name": "QT_MAT_FUND_AI_5",
         "rawType": "string",
         "type": "string"
        },
        {
         "name": "QT_MAT_FUND_AF",
         "rawType": "string",
         "type": "string"
        },
        {
         "name": "QT_MAT_FUND_AF_6",
         "rawType": "string",
         "type": "string"
        },
        {
         "name": "QT_MAT_FUND_AF_7",
         "rawType": "string",
         "type": "string"
        },
        {
         "name": "QT_MAT_FUND_AF_8",
         "rawType": "string",
         "type": "string"
        },
        {
         "name": "QT_MAT_FUND_AF_9",
         "rawType": "string",
         "type": "string"
        },
        {
         "name": "QT_MAT_MED",
         "rawType": "string",
         "type": "string"
        },
        {
         "name": "QT_MAT_MED_PROP",
         "rawType": "string",
         "type": "string"
        },
        {
         "name": "QT_MAT_MED_PROP_1",
         "rawType": "string",
         "type": "string"
        },
        {
         "name": "QT_MAT_MED_PROP_2",
         "rawType": "string",
         "type": "string"
        },
        {
         "name": "QT_MAT_MED_PROP_3",
         "rawType": "string",
         "type": "string"
        },
        {
         "name": "QT_MAT_MED_PROP_4",
         "rawType": "string",
         "type": "string"
        },
        {
         "name": "QT_MAT_MED_PROP_NS",
         "rawType": "string",
         "type": "string"
        },
        {
         "name": "QT_MAT_MED_CT",
         "rawType": "string",
         "type": "string"
        },
        {
         "name": "QT_MAT_MED_CT_1",
         "rawType": "string",
         "type": "string"
        },
        {
         "name": "QT_MAT_MED_CT_2",
         "rawType": "string",
         "type": "string"
        },
        {
         "name": "QT_MAT_MED_CT_3",
         "rawType": "string",
         "type": "string"
        },
        {
         "name": "QT_MAT_MED_CT_4",
         "rawType": "string",
         "type": "string"
        },
        {
         "name": "QT_MAT_MED_CT_NS",
         "rawType": "string",
         "type": "string"
        },
        {
         "name": "QT_MAT_MED_NM",
         "rawType": "string",
         "type": "string"
        },
        {
         "name": "QT_MAT_MED_NM_1",
         "rawType": "string",
         "type": "string"
        },
        {
         "name": "QT_MAT_MED_NM_2",
         "rawType": "string",
         "type": "string"
        },
        {
         "name": "QT_MAT_MED_NM_3",
         "rawType": "string",
         "type": "string"
        },
        {
         "name": "QT_MAT_MED_NM_4",
         "rawType": "string",
         "type": "string"
        },
        {
         "name": "QT_MAT_PROF",
         "rawType": "string",
         "type": "string"
        },
        {
         "name": "QT_MAT_PROF_TEC",
         "rawType": "string",
         "type": "string"
        },
        {
         "name": "QT_MAT_PROF_TEC_CONC",
         "rawType": "string",
         "type": "string"
        },
        {
         "name": "QT_MAT_PROF_TEC_SUBS",
         "rawType": "string",
         "type": "string"
        },
        {
         "name": "QT_MAT_PROF_FIC_CONC",
         "rawType": "string",
         "type": "string"
        },
        {
         "name": "QT_MAT_EJA",
         "rawType": "string",
         "type": "string"
        },
        {
         "name": "QT_MAT_EJA_FUND",
         "rawType": "string",
         "type": "string"
        },
        {
         "name": "QT_MAT_EJA_FUND_AI",
         "rawType": "string",
         "type": "string"
        },
        {
         "name": "QT_MAT_EJA_FUND_AF",
         "rawType": "string",
         "type": "string"
        },
        {
         "name": "QT_MAT_EJA_FUND_FIC",
         "rawType": "string",
         "type": "string"
        },
        {
         "name": "QT_MAT_EJA_MED",
         "rawType": "string",
         "type": "string"
        },
        {
         "name": "QT_MAT_EJA_MED_NPROF",
         "rawType": "string",
         "type": "string"
        },
        {
         "name": "QT_MAT_EJA_MED_FIC",
         "rawType": "string",
         "type": "string"
        },
        {
         "name": "QT_MAT_EJA_MED_TEC",
         "rawType": "string",
         "type": "string"
        },
        {
         "name": "QT_MAT_ESP",
         "rawType": "string",
         "type": "string"
        },
        {
         "name": "QT_MAT_ESP_CC",
         "rawType": "string",
         "type": "string"
        },
        {
         "name": "QT_MAT_ESP_CE",
         "rawType": "string",
         "type": "string"
        },
        {
         "name": "QT_MAT_BAS_FEM",
         "rawType": "string",
         "type": "string"
        },
        {
         "name": "QT_MAT_BAS_MASC",
         "rawType": "string",
         "type": "string"
        },
        {
         "name": "QT_MAT_BAS_ND",
         "rawType": "string",
         "type": "string"
        },
        {
         "name": "QT_MAT_BAS_BRANCA",
         "rawType": "string",
         "type": "string"
        },
        {
         "name": "QT_MAT_BAS_PRETA",
         "rawType": "string",
         "type": "string"
        },
        {
         "name": "QT_MAT_BAS_PARDA",
         "rawType": "string",
         "type": "string"
        },
        {
         "name": "QT_MAT_BAS_AMARELA",
         "rawType": "string",
         "type": "string"
        },
        {
         "name": "QT_MAT_BAS_INDIGENA",
         "rawType": "string",
         "type": "string"
        },
        {
         "name": "QT_MAT_BAS_0_3",
         "rawType": "string",
         "type": "string"
        },
        {
         "name": "QT_MAT_BAS_4_5",
         "rawType": "string",
         "type": "string"
        },
        {
         "name": "QT_MAT_BAS_6_10",
         "rawType": "string",
         "type": "string"
        },
        {
         "name": "QT_MAT_BAS_11_14",
         "rawType": "string",
         "type": "string"
        },
        {
         "name": "QT_MAT_BAS_15_17",
         "rawType": "string",
         "type": "string"
        },
        {
         "name": "QT_MAT_BAS_18_MAIS",
         "rawType": "string",
         "type": "string"
        },
        {
         "name": "QT_MAT_BAS_D",
         "rawType": "string",
         "type": "string"
        },
        {
         "name": "QT_MAT_BAS_N",
         "rawType": "string",
         "type": "string"
        },
        {
         "name": "QT_MAT_BAS_EAD",
         "rawType": "string",
         "type": "string"
        },
        {
         "name": "QT_MAT_INF_INT",
         "rawType": "string",
         "type": "string"
        },
        {
         "name": "QT_MAT_INF_CRE_INT",
         "rawType": "string",
         "type": "string"
        },
        {
         "name": "QT_MAT_INF_PRE_INT",
         "rawType": "string",
         "type": "string"
        },
        {
         "name": "QT_MAT_FUND_INT",
         "rawType": "string",
         "type": "string"
        },
        {
         "name": "QT_MAT_FUND_AI_INT",
         "rawType": "string",
         "type": "string"
        },
        {
         "name": "QT_MAT_FUND_AF_INT",
         "rawType": "string",
         "type": "string"
        },
        {
         "name": "QT_MAT_MED_INT",
         "rawType": "string",
         "type": "string"
        },
        {
         "name": "QT_MAT_ZR_URB",
         "rawType": "string",
         "type": "string"
        },
        {
         "name": "QT_MAT_ZR_RUR",
         "rawType": "string",
         "type": "string"
        },
        {
         "name": "QT_MAT_ZR_NA",
         "rawType": "string",
         "type": "string"
        },
        {
         "name": "QT_TRANSP_PUBLICO",
         "rawType": "string",
         "type": "string"
        },
        {
         "name": "QT_TRANSP_RESP_EST",
         "rawType": "string",
         "type": "string"
        },
        {
         "name": "QT_TRANSP_RESP_MUN",
         "rawType": "string",
         "type": "string"
        },
        {
         "name": "QT_DOC_BAS",
         "rawType": "string",
         "type": "string"
        },
        {
         "name": "QT_DOC_INF",
         "rawType": "string",
         "type": "string"
        },
        {
         "name": "QT_DOC_INF_CRE",
         "rawType": "string",
         "type": "string"
        },
        {
         "name": "QT_DOC_INF_PRE",
         "rawType": "string",
         "type": "string"
        },
        {
         "name": "QT_DOC_FUND",
         "rawType": "string",
         "type": "string"
        },
        {
         "name": "QT_DOC_FUND_AI",
         "rawType": "string",
         "type": "string"
        },
        {
         "name": "QT_DOC_FUND_AF",
         "rawType": "string",
         "type": "string"
        },
        {
         "name": "QT_DOC_MED",
         "rawType": "string",
         "type": "string"
        },
        {
         "name": "QT_DOC_PROF",
         "rawType": "string",
         "type": "string"
        },
        {
         "name": "QT_DOC_PROF_TEC",
         "rawType": "string",
         "type": "string"
        },
        {
         "name": "QT_DOC_EJA",
         "rawType": "string",
         "type": "string"
        },
        {
         "name": "QT_DOC_EJA_FUND",
         "rawType": "string",
         "type": "string"
        },
        {
         "name": "QT_DOC_EJA_MED",
         "rawType": "string",
         "type": "string"
        },
        {
         "name": "QT_DOC_ESP",
         "rawType": "string",
         "type": "string"
        },
        {
         "name": "QT_DOC_ESP_CC",
         "rawType": "string",
         "type": "string"
        },
        {
         "name": "QT_DOC_ESP_CE",
         "rawType": "string",
         "type": "string"
        },
        {
         "name": "QT_TUR_BAS",
         "rawType": "string",
         "type": "string"
        },
        {
         "name": "QT_TUR_INF",
         "rawType": "string",
         "type": "string"
        },
        {
         "name": "QT_TUR_INF_CRE",
         "rawType": "string",
         "type": "string"
        },
        {
         "name": "QT_TUR_INF_PRE",
         "rawType": "string",
         "type": "string"
        },
        {
         "name": "QT_TUR_FUND",
         "rawType": "string",
         "type": "string"
        },
        {
         "name": "QT_TUR_FUND_AI",
         "rawType": "string",
         "type": "string"
        },
        {
         "name": "QT_TUR_FUND_AF",
         "rawType": "string",
         "type": "string"
        },
        {
         "name": "QT_TUR_MED",
         "rawType": "string",
         "type": "string"
        },
        {
         "name": "QT_TUR_PROF",
         "rawType": "string",
         "type": "string"
        },
        {
         "name": "QT_TUR_PROF_TEC",
         "rawType": "string",
         "type": "string"
        },
        {
         "name": "QT_TUR_EJA",
         "rawType": "string",
         "type": "string"
        },
        {
         "name": "QT_TUR_EJA_FUND",
         "rawType": "string",
         "type": "string"
        },
        {
         "name": "QT_TUR_EJA_MED",
         "rawType": "string",
         "type": "string"
        },
        {
         "name": "QT_TUR_ESP",
         "rawType": "string",
         "type": "string"
        },
        {
         "name": "QT_TUR_ESP_CC",
         "rawType": "string",
         "type": "string"
        },
        {
         "name": "QT_TUR_ESP_CE",
         "rawType": "string",
         "type": "string"
        },
        {
         "name": "QT_TUR_BAS_D",
         "rawType": "string",
         "type": "string"
        },
        {
         "name": "QT_TUR_BAS_N",
         "rawType": "string",
         "type": "string"
        },
        {
         "name": "QT_TUR_BAS_EAD",
         "rawType": "string",
         "type": "string"
        },
        {
         "name": "QT_TUR_INF_INT",
         "rawType": "string",
         "type": "string"
        },
        {
         "name": "QT_TUR_INF_CRE_INT",
         "rawType": "string",
         "type": "string"
        },
        {
         "name": "QT_TUR_INF_PRE_INT",
         "rawType": "string",
         "type": "string"
        },
        {
         "name": "QT_TUR_FUND_INT",
         "rawType": "string",
         "type": "string"
        },
        {
         "name": "QT_TUR_FUND_AI_INT",
         "rawType": "string",
         "type": "string"
        },
        {
         "name": "QT_TUR_FUND_AF_INT",
         "rawType": "string",
         "type": "string"
        },
        {
         "name": "QT_TUR_MED_INT",
         "rawType": "string",
         "type": "string"
        }
       ],
       "conversionMethod": "pd.DataFrame",
       "ref": "13cd601a-223f-45f1-b85e-d67639cea2aa",
       "rows": [
        [
         "0",
         "2024",
         "Norte",
         "1",
         "Rondônia",
         "RO",
         "11",
         "Alta Floresta D'Oeste",
         "1100015",
         "Ji-Paraná",
         "1102",
         "Cacoal",
         "110005",
         "Leste Rondoniense",
         "2",
         "Cacoal",
         "6",
         "Alta Floresta D'Oeste",
         "110001505",
         "EIEEF HAP BITT TUPARI",
         "11022558",
         "2",
         null,
         "2",
         "2",
         "TERRA INDIGENA RIO BRANCO",
         null,
         "ALDEIA COLORADO",
         "RURAL",
         "76954000",
         "69",
         "993784647",
         "1",
         "00015",
         "12FEB2024:00:00:00",
         "13DEC2024:00:00:00",
         "1",
         "0",
         "0",
         "0",
         "0",
         null,
         null,
         null,
         null,
         null,
         null,
         null,
         null,
         null,
         null,
         null,
         null,
         null,
         null,
         null,
         null,
         null,
         null,
         null,
         null,
         null,
         null,
         null,
         null,
         null,
         null,
         null,
         null,
         "1",
         "2",
         null,
         null,
         "1",
         "1",
         "0",
         "0",
         "0",
         "0",
         null,
         "0",
         "0",
         "0",
         "1",
         "0",
         "1",
         "0",
         "0",
         "0",
         "0",
         "0",
         "0",
         "1",
         "0",
         "0",
         "0",
         "1",
         "1",
         "0",
         "0",
         "1",
         "1",
         "0",
         "0",
         "0",
         "0",
         "0",
         "1",
         "0",
         "0",
         "0",
         "0",
         "1",
         "0",
         "0",
         "0",
         "0",
         "0",
         "0",
         "1",
         "0",
         "0",
         "0",
         "0",
         "0",
         "0",
         "0",
         "0",
         "0",
         "0",
         "0",
         "0",
         "0",
         "0",
         "0",
         "0",
         "0",
         "0",
         "0",
         "0",
         "0",
         "0",
         "0",
         "0",
         "0",
         "0",
         "1",
         "0",
         "0",
         "0",
         "0",
         "0",
         "0",
         "0",
         "0",
         "0",
         "0",
         "1",
         "0",
         "1",
         "0",
         "1",
         "0",
         "0",
         "0",
         "0",
         "0",
         "1",
         "0",
         "0",
         "0",
         "0",
         "0",
         "1",
         "1",
         "0",
         "0",
         "0",
         "0",
         "0",
         "0",
         "0",
         "0",
         "1",
         "1",
         "0",
         "0",
         "1",
         "0",
         "1",
         "0",
         "0",
         "0",
         "0",
         "9",
         "0",
         "0",
         "0",
         "0",
         "0",
         "0",
         "0",
         "0",
         "0",
         "0",
         "0",
         "0",
         "0",
         "0",
         "0",
         "0",
         "0",
         "0",
         "0",
         "0",
         "0",
         "0",
         "0",
         "0",
         "0",
         "0",
         "0",
         "0",
         "0",
         "0",
         "0",
         "0",
         "0",
         "0",
         "0",
         "0",
         "0",
         "1",
         "0",
         "0",
         "0",
         "0",
         "0",
         "1",
         "0",
         "0",
         "1",
         "1",
         "0",
         "0",
         "0",
         "0",
         "0",
         "0",
         "0",
         "1",
         "3",
         "171",
         null,
         null,
         "0",
         null,
         null,
         null,
         null,
         null,
         null,
         "0",
         "1",
         "1",
         "0",
         "0",
         "1",
         "0",
         "0",
         "0",
         "1",
         "1",
         "1",
         "0",
         "0",
         "0",
         "0",
         "0",
         "0",
         "0",
         "1",
         "0",
         "0",
         "1",
         "1",
         "0",
         "0",
         "1",
         "0",
         "0",
         "0",
         "1",
         "1",
         "0",
         "0",
         "0",
         "0",
         "0",
         "0",
         "0",
         "0",
         "0",
         "0",
         "4",
         "0",
         "0",
         "0",
         "4",
         "4",
         "1",
         "1",
         "0",
         "1",
         "1",
         "0",
         "0",
         "0",
         "0",
         "0",
         "0",
         "0",
         "0",
         "0",
         "0",
         "0",
         "0",
         "0",
         "0",
         "0",
         "0",
         "0",
         "0",
         "0",
         "0",
         "0",
         "0",
         "0",
         "0",
         "0",
         "0",
         "0",
         "0",
         "0",
         "0",
         "0",
         "0",
         "0",
         "0",
         "0",
         "0",
         "0",
         "0",
         "0",
         "0",
         "2",
         "2",
         "0",
         "0",
         "0",
         "0",
         "0",
         "4",
         "0",
         "0",
         "3",
         "1",
         "0",
         "0",
         "4",
         "0",
         "0",
         "0",
         "0",
         "0",
         "0",
         "0",
         "0",
         "0",
         "0",
         "4",
         "0",
         "0",
         "0",
         "0",
         "1",
         "0",
         "0",
         "0",
         "1",
         "1",
         "0",
         "0",
         "0",
         "0",
         "0",
         "0",
         "0",
         "0",
         "0",
         "0",
         "4",
         "0",
         "0",
         "0",
         "4",
         "4",
         "0",
         "0",
         "0",
         "0",
         "0",
         "0",
         "0",
         "0",
         "0",
         "0",
         "4",
         "0",
         "0",
         "0",
         "0",
         "0",
         "0",
         "0",
         "0",
         "0"
        ],
        [
         "1",
         "2024",
         "Norte",
         "1",
         "Rondônia",
         "RO",
         "11",
         "Alta Floresta D'Oeste",
         "1100015",
         "Ji-Paraná",
         "1102",
         "Cacoal",
         "110005",
         "Leste Rondoniense",
         "2",
         "Cacoal",
         "6",
         "Alta Floresta D'Oeste",
         "110001505",
         "CEEJA LUIZ VAZ DE CAMOES",
         "11024275",
         "2",
         null,
         "1",
         "0",
         "AVENIDA RIO DE JANEIRO",
         "4776",
         "ESCOLA",
         "CIDADE ALTA",
         "76954000",
         "69",
         "36412656",
         "1",
         "00015",
         "09FEB2024:00:00:00",
         "19DEC2024:00:00:00",
         "1",
         "0",
         "0",
         "0",
         "0",
         null,
         null,
         null,
         null,
         null,
         null,
         null,
         null,
         null,
         null,
         null,
         null,
         null,
         null,
         null,
         null,
         null,
         null,
         null,
         null,
         null,
         null,
         null,
         null,
         null,
         null,
         null,
         null,
         "1",
         "2",
         null,
         null,
         "1",
         "1",
         "0",
         "0",
         "0",
         "0",
         null,
         "1",
         "0",
         "1",
         "1",
         "1",
         "0",
         "0",
         "0",
         "0",
         "0",
         "1",
         "0",
         "0",
         "0",
         "0",
         "1",
         "0",
         "1",
         "0",
         "1",
         "0",
         "0",
         "0",
         "0",
         "0",
         "0",
         "0",
         "1",
         "0",
         "1",
         "0",
         "0",
         "1",
         "0",
         "1",
         "1",
         "1",
         "1",
         "1",
         "1",
         "1",
         "0",
         "0",
         "0",
         "1",
         "0",
         "1",
         "0",
         "0",
         "0",
         "1",
         "1",
         "0",
         "1",
         "0",
         "0",
         "0",
         "0",
         "0",
         "0",
         "1",
         "1",
         "1",
         "0",
         "1",
         "0",
         "0",
         "0",
         "0",
         "1",
         "0",
         "1",
         "1",
         "0",
         "0",
         "0",
         "1",
         "0",
         "0",
         "9",
         "4",
         "13",
         "13",
         "13",
         "0",
         "1",
         "0",
         "1",
         "1",
         "0",
         "0",
         "0",
         "0",
         "1",
         "12",
         "1",
         "3",
         "1",
         "2",
         "1",
         "12",
         "1",
         "19",
         "1",
         "4",
         "0",
         "0",
         "1",
         "1",
         "1",
         "1",
         "0",
         "1",
         "1",
         "3",
         "1",
         "1",
         "2",
         "1",
         "1",
         "1",
         "4",
         "0",
         "0",
         "0",
         "0",
         "0",
         "0",
         "0",
         "0",
         "0",
         "0",
         "1",
         "1",
         "1",
         "3",
         "1",
         "1",
         "0",
         "0",
         "1",
         "2",
         "1",
         "1",
         "0",
         "0",
         "0",
         "0",
         "0",
         "0",
         "0",
         "0",
         "1",
         "0",
         "0",
         "1",
         "1",
         "0",
         "1",
         "1",
         "0",
         "1",
         "0",
         "0",
         "0",
         "0",
         "0",
         "0",
         "0",
         "0",
         "0",
         null,
         null,
         null,
         null,
         "0",
         null,
         null,
         null,
         null,
         null,
         null,
         "1",
         "0",
         "0",
         "0",
         "0",
         "1",
         "0",
         "0",
         "0",
         "1",
         "1",
         "0",
         "1",
         "0",
         "0",
         "1",
         "0",
         "0",
         "0",
         "1",
         "0",
         "0",
         "0",
         "0",
         "1",
         "0",
         "1",
         "0",
         "0",
         "0",
         "0",
         "0",
         "0",
         "0",
         "0",
         "0",
         "1",
         "1",
         "1",
         "1",
         "1",
         "0",
         "131",
         "0",
         "0",
         "0",
         "0",
         "0",
         "0",
         "0",
         "0",
         "0",
         "0",
         "0",
         "0",
         "0",
         "0",
         "0",
         "0",
         "0",
         "0",
         "0",
         "0",
         "0",
         "0",
         "0",
         "0",
         "0",
         "0",
         "0",
         "0",
         "0",
         "0",
         "0",
         "0",
         "0",
         "0",
         "0",
         "0",
         "0",
         "0",
         "131",
         "54",
         "0",
         "54",
         "0",
         "77",
         "77",
         "0",
         "0",
         "2",
         "2",
         "0",
         "84",
         "47",
         "0",
         "33",
         "6",
         "88",
         "0",
         "4",
         "0",
         "0",
         "0",
         "0",
         "13",
         "118",
         "0",
         "131",
         "0",
         "0",
         "0",
         "0",
         "0",
         "0",
         "0",
         "0",
         "80",
         "51",
         "0",
         "0",
         "0",
         "0",
         "8",
         "0",
         "0",
         "0",
         "0",
         "0",
         "0",
         "0",
         "0",
         "0",
         "8",
         "6",
         "8",
         "6",
         "6",
         "0",
         "4",
         "0",
         "0",
         "0",
         "0",
         "0",
         "0",
         "0",
         "0",
         "0",
         "4",
         "2",
         "2",
         "2",
         "2",
         "0",
         "0",
         "4",
         "0",
         "0",
         "0",
         "0",
         "0",
         "0",
         "0",
         "0"
        ],
        [
         "2",
         "2024",
         "Norte",
         "1",
         "Rondônia",
         "RO",
         "11",
         "Alta Floresta D'Oeste",
         "1100015",
         "Ji-Paraná",
         "1102",
         "Cacoal",
         "110005",
         "Leste Rondoniense",
         "2",
         "Cacoal",
         "6",
         "Alta Floresta D'Oeste",
         "110001505",
         "EMMEF 7 DE SETEMBRO",
         "11024291",
         "3",
         null,
         "2",
         null,
         "LINHA 60 COM A 140",
         null,
         null,
         null,
         "76954000",
         "69",
         "36413630",
         "2",
         "00015",
         null,
         null,
         null,
         null,
         null,
         null,
         null,
         null,
         null,
         null,
         null,
         null,
         null,
         null,
         null,
         null,
         null,
         null,
         null,
         null,
         null,
         null,
         null,
         null,
         null,
         null,
         null,
         null,
         null,
         null,
         null,
         null,
         null,
         null,
         null,
         null,
         null,
         null,
         null,
         null,
         null,
         null,
         null,
         null,
         null,
         null,
         null,
         null,
         null,
         null,
         null,
         null,
         null,
         null,
         null,
         null,
         null,
         null,
         null,
         null,
         null,
         null,
         null,
         null,
         null,
         null,
         null,
         null,
         null,
         null,
         null,
         null,
         null,
         null,
         null,
         null,
         null,
         null,
         null,
         null,
         null,
         null,
         null,
         null,
         null,
         null,
         null,
         null,
         null,
         null,
         null,
         null,
         null,
         null,
         null,
         null,
         null,
         null,
         null,
         null,
         null,
         null,
         null,
         null,
         null,
         null,
         null,
         null,
         null,
         null,
         null,
         null,
         null,
         null,
         null,
         null,
         null,
         null,
         null,
         null,
         null,
         null,
         null,
         null,
         null,
         null,
         null,
         null,
         null,
         null,
         null,
         null,
         null,
         null,
         null,
         null,
         null,
         null,
         null,
         null,
         null,
         null,
         null,
         null,
         null,
         null,
         null,
         null,
         null,
         null,
         null,
         null,
         null,
         null,
         null,
         null,
         null,
         null,
         null,
         null,
         null,
         null,
         null,
         null,
         null,
         null,
         null,
         null,
         null,
         null,
         null,
         null,
         null,
         null,
         null,
         null,
         null,
         null,
         null,
         null,
         null,
         null,
         null,
         null,
         null,
         null,
         null,
         null,
         null,
         null,
         null,
         null,
         null,
         null,
         null,
         null,
         null,
         null,
         null,
         null,
         null,
         null,
         null,
         null,
         null,
         null,
         null,
         null,
         null,
         null,
         null,
         null,
         null,
         null,
         null,
         null,
         null,
         null,
         null,
         null,
         null,
         null,
         null,
         null,
         null,
         null,
         null,
         null,
         null,
         null,
         null,
         null,
         null,
         null,
         null,
         null,
         null,
         null,
         null,
         null,
         null,
         null,
         null,
         null,
         null,
         null,
         null,
         null,
         null,
         null,
         null,
         null,
         null,
         null,
         null,
         null,
         null,
         null,
         null,
         null,
         null,
         null,
         null,
         null,
         null,
         null,
         null,
         null,
         null,
         null,
         null,
         null,
         null,
         null,
         null,
         null,
         null,
         null,
         null,
         null,
         null,
         null,
         null,
         null,
         null,
         null,
         null,
         null,
         null,
         null,
         null,
         null,
         null,
         null,
         null,
         null,
         null,
         null,
         null,
         null,
         null,
         null,
         null,
         null,
         null,
         null,
         null,
         null,
         null,
         null,
         null,
         null,
         null,
         null,
         null,
         null,
         null,
         null,
         null,
         null,
         null,
         null,
         null,
         null,
         null,
         null,
         null,
         null,
         null,
         null,
         null,
         null,
         null,
         null,
         null,
         null,
         null,
         null,
         null,
         null,
         null,
         null,
         null,
         null,
         null,
         null,
         null,
         null,
         null,
         null,
         null,
         null,
         null,
         null,
         null,
         null,
         null,
         null,
         null,
         null,
         null,
         null,
         null,
         null,
         null,
         null,
         null,
         null,
         null,
         null,
         null,
         null,
         null,
         null,
         null,
         null,
         null,
         null,
         null,
         null,
         null,
         null,
         null,
         null,
         null,
         null,
         null,
         null,
         null,
         null,
         null,
         null,
         null
        ],
        [
         "3",
         "2024",
         "Norte",
         "1",
         "Rondônia",
         "RO",
         "11",
         "Alta Floresta D'Oeste",
         "1100015",
         "Ji-Paraná",
         "1102",
         "Cacoal",
         "110005",
         "Leste Rondoniense",
         "2",
         "Cacoal",
         "6",
         "Alta Floresta D'Oeste",
         "110001505",
         "EMEIEF BOA ESPERANCA",
         "11024666",
         "3",
         null,
         "2",
         "0",
         "LINHA P 50 KM 22",
         null,
         "ZONA RURAL",
         "LINHA P.50",
         "76954000",
         "69",
         "999005110",
         "1",
         "00015",
         "08FEB2024:00:00:00",
         "14DEC2024:00:00:00",
         "1",
         "0",
         "0",
         "0",
         "0",
         null,
         null,
         null,
         null,
         null,
         null,
         null,
         null,
         null,
         null,
         null,
         null,
         null,
         null,
         null,
         null,
         null,
         null,
         null,
         null,
         null,
         null,
         null,
         null,
         null,
         null,
         null,
         null,
         "1",
         "3",
         null,
         null,
         "1",
         "1",
         "0",
         "0",
         "0",
         "0",
         null,
         "0",
         "0",
         "1",
         "1",
         "0",
         "1",
         "0",
         "0",
         "0",
         "0",
         "1",
         "0",
         "0",
         "0",
         "0",
         "1",
         "0",
         "1",
         "0",
         "0",
         "1",
         "0",
         "0",
         "0",
         "0",
         "0",
         "0",
         "1",
         "0",
         "0",
         "0",
         "0",
         "1",
         "0",
         "1",
         "0",
         "1",
         "0",
         "0",
         "1",
         "1",
         "0",
         "0",
         "0",
         "0",
         "0",
         "1",
         "0",
         "0",
         "0",
         "1",
         "1",
         "0",
         "0",
         "0",
         "0",
         "0",
         "0",
         "0",
         "0",
         "0",
         "0",
         "1",
         "0",
         "0",
         "0",
         "0",
         "0",
         "0",
         "0",
         "0",
         "0",
         "0",
         "0",
         "0",
         "0",
         "0",
         "1",
         "0",
         "9",
         "0",
         "9",
         "7",
         "0",
         "0",
         "1",
         "0",
         "0",
         "1",
         "0",
         "0",
         "0",
         "0",
         "1",
         "1",
         "1",
         "2",
         "0",
         "0",
         "0",
         "0",
         "0",
         "0",
         "0",
         "0",
         "0",
         "0",
         "1",
         "0",
         "1",
         "0",
         "0",
         "0",
         "0",
         "1",
         "0",
         "0",
         "0",
         "1",
         "1",
         "0",
         "0",
         "0",
         "0",
         "0",
         "0",
         "0",
         "0",
         "0",
         "0",
         "0",
         "0",
         "1",
         "4",
         "1",
         "1",
         "0",
         "0",
         "1",
         "2",
         "0",
         "0",
         "0",
         "0",
         "0",
         "0",
         "0",
         "0",
         "0",
         "0",
         "0",
         "0",
         "1",
         "1",
         "0",
         "0",
         "1",
         "0",
         "1",
         "0",
         "0",
         "0",
         "0",
         "0",
         "0",
         "0",
         "0",
         "0",
         "0",
         "0",
         "0",
         null,
         null,
         null,
         null,
         "0",
         null,
         null,
         null,
         null,
         null,
         null,
         "0",
         "0",
         "1",
         "0",
         "0",
         "1",
         "0",
         "0",
         "0",
         "1",
         "0",
         "9",
         "9",
         "9",
         "9",
         "9",
         "9",
         "0",
         "0",
         "1",
         "0",
         "0",
         "1",
         "1",
         "0",
         "0",
         "1",
         "1",
         "0",
         "1",
         "1",
         "1",
         "1",
         "0",
         "0",
         "0",
         "0",
         "0",
         "0",
         "1",
         "1",
         "0",
         "169",
         "32",
         "0",
         "32",
         "137",
         "66",
         "17",
         "15",
         "18",
         "13",
         "3",
         "71",
         "18",
         "16",
         "21",
         "16",
         "0",
         "0",
         "0",
         "0",
         "0",
         "0",
         "0",
         "0",
         "0",
         "0",
         "0",
         "0",
         "0",
         "0",
         "0",
         "0",
         "0",
         "0",
         "0",
         "0",
         "0",
         "0",
         "0",
         "0",
         "0",
         "0",
         "0",
         "0",
         "0",
         "0",
         "0",
         "0",
         "8",
         "8",
         "0",
         "76",
         "93",
         "0",
         "73",
         "3",
         "89",
         "0",
         "4",
         "0",
         "29",
         "73",
         "63",
         "4",
         "0",
         "169",
         "0",
         "0",
         "0",
         "0",
         "0",
         "0",
         "0",
         "0",
         "0",
         "0",
         "169",
         "0",
         "132",
         "0",
         "132",
         "13",
         "2",
         "0",
         "2",
         "11",
         "3",
         "8",
         "0",
         "0",
         "0",
         "0",
         "0",
         "0",
         "10",
         "10",
         "0",
         "10",
         "2",
         "0",
         "2",
         "8",
         "3",
         "5",
         "0",
         "0",
         "0",
         "0",
         "0",
         "0",
         "7",
         "7",
         "0",
         "10",
         "0",
         "0",
         "0",
         "0",
         "0",
         "0",
         "0",
         "0",
         "0"
        ],
        [
         "4",
         "2024",
         "Norte",
         "1",
         "Rondônia",
         "RO",
         "11",
         "Alta Floresta D'Oeste",
         "1100015",
         "Ji-Paraná",
         "1102",
         "Cacoal",
         "110005",
         "Leste Rondoniense",
         "2",
         "Cacoal",
         "6",
         "Alta Floresta D'Oeste",
         "110001505",
         "EEEFM EURIDICE LOPES PEDROSO",
         "11024682",
         "2",
         null,
         "1",
         "0",
         "AVENIDA MATO GROSSO",
         "3861",
         null,
         "CENTRO",
         "76954000",
         "69",
         "36412015",
         "1",
         "00015",
         "09FEB2024:00:00:00",
         "14DEC2024:00:00:00",
         "1",
         "0",
         "0",
         "0",
         "0",
         null,
         null,
         null,
         null,
         null,
         null,
         null,
         null,
         null,
         null,
         null,
         null,
         null,
         null,
         null,
         null,
         null,
         null,
         null,
         null,
         null,
         null,
         null,
         null,
         null,
         null,
         null,
         null,
         "1",
         "2",
         null,
         null,
         "1",
         "1",
         "0",
         "0",
         "0",
         "0",
         null,
         "1",
         "0",
         "0",
         "1",
         "1",
         "1",
         "0",
         "0",
         "0",
         "0",
         "1",
         "0",
         "0",
         "0",
         "0",
         "1",
         "0",
         "1",
         "0",
         "1",
         "0",
         "0",
         "0",
         "0",
         "0",
         "1",
         "1",
         "0",
         "1",
         "0",
         "0",
         "0",
         "1",
         "0",
         "1",
         "1",
         "1",
         "1",
         "1",
         "1",
         "1",
         "0",
         "0",
         "0",
         "1",
         "0",
         "1",
         "1",
         "0",
         "0",
         "1",
         "1",
         "0",
         "1",
         "0",
         "0",
         "0",
         "0",
         "0",
         "0",
         "1",
         "1",
         "1",
         "0",
         "1",
         "1",
         "0",
         "0",
         "0",
         "1",
         "0",
         "1",
         "1",
         "1",
         "0",
         "0",
         "0",
         "0",
         "0",
         "9",
         "24",
         "33",
         "9",
         "33",
         "0",
         "1",
         "0",
         "1",
         "1",
         "1",
         "0",
         "0",
         "0",
         "1",
         "7",
         "1",
         "19",
         "0",
         "0",
         "1",
         "7",
         "1",
         "19",
         "0",
         "0",
         "0",
         "0",
         "1",
         "1",
         "1",
         "1",
         "0",
         "1",
         "0",
         "3",
         "1",
         "1",
         "3",
         "1",
         "14",
         "1",
         "3",
         "0",
         "0",
         "0",
         "0",
         "0",
         "0",
         "0",
         "0",
         "0",
         "0",
         "1",
         "14",
         "1",
         "10",
         "1",
         "1",
         "0",
         "0",
         "1",
         "2",
         "1",
         "1",
         "0",
         "0",
         "0",
         "0",
         "0",
         "0",
         "0",
         "0",
         "1",
         "0",
         "0",
         "1",
         "1",
         "1",
         "1",
         "1",
         "0",
         "1",
         "0",
         "0",
         "0",
         "0",
         "0",
         "0",
         "1",
         "0",
         "0",
         null,
         null,
         null,
         null,
         "0",
         null,
         null,
         null,
         null,
         null,
         null,
         "1",
         "1",
         "0",
         "0",
         "0",
         "1",
         "0",
         "0",
         "0",
         "1",
         "1",
         "1",
         "0",
         "0",
         "1",
         "0",
         "0",
         "1",
         "0",
         "1",
         "0",
         "0",
         "1",
         "1",
         "1",
         "0",
         "1",
         "0",
         "0",
         "0",
         "1",
         "0",
         "1",
         "1",
         "0",
         "0",
         "0",
         "0",
         "0",
         "1",
         "1",
         "0",
         "598",
         "0",
         "0",
         "0",
         "237",
         "0",
         "0",
         "0",
         "0",
         "0",
         "0",
         "237",
         "62",
         "65",
         "59",
         "51",
         "361",
         "361",
         "111",
         "148",
         "102",
         "0",
         "0",
         "0",
         "0",
         "0",
         "0",
         "0",
         "0",
         "0",
         "0",
         "0",
         "0",
         "0",
         "0",
         "0",
         "0",
         "0",
         "0",
         "0",
         "0",
         "0",
         "0",
         "0",
         "0",
         "0",
         "0",
         "0",
         "27",
         "27",
         "0",
         "281",
         "317",
         "4",
         "191",
         "21",
         "371",
         "1",
         "10",
         "0",
         "0",
         "24",
         "217",
         "310",
         "47",
         "481",
         "117",
         "0",
         "0",
         "0",
         "0",
         "13",
         "0",
         "13",
         "0",
         "302",
         "296",
         "0",
         "254",
         "0",
         "254",
         "43",
         "0",
         "0",
         "0",
         "13",
         "0",
         "13",
         "38",
         "0",
         "0",
         "0",
         "0",
         "0",
         "42",
         "42",
         "0",
         "40",
         "0",
         "0",
         "0",
         "11",
         "0",
         "11",
         "29",
         "0",
         "0",
         "0",
         "0",
         "0",
         "16",
         "16",
         "0",
         "35",
         "5",
         "0",
         "0",
         "0",
         "0",
         "0",
         "0",
         "0",
         "0"
        ]
       ],
       "shape": {
        "columns": 426,
        "rows": 5
       }
      },
      "text/html": [
       "<div>\n",
       "<style scoped>\n",
       "    .dataframe tbody tr th:only-of-type {\n",
       "        vertical-align: middle;\n",
       "    }\n",
       "\n",
       "    .dataframe tbody tr th {\n",
       "        vertical-align: top;\n",
       "    }\n",
       "\n",
       "    .dataframe thead th {\n",
       "        text-align: right;\n",
       "    }\n",
       "</style>\n",
       "<table border=\"1\" class=\"dataframe\">\n",
       "  <thead>\n",
       "    <tr style=\"text-align: right;\">\n",
       "      <th></th>\n",
       "      <th>NU_ANO_CENSO</th>\n",
       "      <th>NO_REGIAO</th>\n",
       "      <th>CO_REGIAO</th>\n",
       "      <th>NO_UF</th>\n",
       "      <th>SG_UF</th>\n",
       "      <th>CO_UF</th>\n",
       "      <th>NO_MUNICIPIO</th>\n",
       "      <th>CO_MUNICIPIO</th>\n",
       "      <th>NO_REGIAO_GEOG_INTERM</th>\n",
       "      <th>CO_REGIAO_GEOG_INTERM</th>\n",
       "      <th>...</th>\n",
       "      <th>QT_TUR_BAS_D</th>\n",
       "      <th>QT_TUR_BAS_N</th>\n",
       "      <th>QT_TUR_BAS_EAD</th>\n",
       "      <th>QT_TUR_INF_INT</th>\n",
       "      <th>QT_TUR_INF_CRE_INT</th>\n",
       "      <th>QT_TUR_INF_PRE_INT</th>\n",
       "      <th>QT_TUR_FUND_INT</th>\n",
       "      <th>QT_TUR_FUND_AI_INT</th>\n",
       "      <th>QT_TUR_FUND_AF_INT</th>\n",
       "      <th>QT_TUR_MED_INT</th>\n",
       "    </tr>\n",
       "  </thead>\n",
       "  <tbody>\n",
       "    <tr>\n",
       "      <th>0</th>\n",
       "      <td>2024</td>\n",
       "      <td>Norte</td>\n",
       "      <td>1</td>\n",
       "      <td>Rondônia</td>\n",
       "      <td>RO</td>\n",
       "      <td>11</td>\n",
       "      <td>Alta Floresta D'Oeste</td>\n",
       "      <td>1100015</td>\n",
       "      <td>Ji-Paraná</td>\n",
       "      <td>1102</td>\n",
       "      <td>...</td>\n",
       "      <td>4</td>\n",
       "      <td>0</td>\n",
       "      <td>0</td>\n",
       "      <td>0</td>\n",
       "      <td>0</td>\n",
       "      <td>0</td>\n",
       "      <td>0</td>\n",
       "      <td>0</td>\n",
       "      <td>0</td>\n",
       "      <td>0</td>\n",
       "    </tr>\n",
       "    <tr>\n",
       "      <th>1</th>\n",
       "      <td>2024</td>\n",
       "      <td>Norte</td>\n",
       "      <td>1</td>\n",
       "      <td>Rondônia</td>\n",
       "      <td>RO</td>\n",
       "      <td>11</td>\n",
       "      <td>Alta Floresta D'Oeste</td>\n",
       "      <td>1100015</td>\n",
       "      <td>Ji-Paraná</td>\n",
       "      <td>1102</td>\n",
       "      <td>...</td>\n",
       "      <td>0</td>\n",
       "      <td>4</td>\n",
       "      <td>0</td>\n",
       "      <td>0</td>\n",
       "      <td>0</td>\n",
       "      <td>0</td>\n",
       "      <td>0</td>\n",
       "      <td>0</td>\n",
       "      <td>0</td>\n",
       "      <td>0</td>\n",
       "    </tr>\n",
       "    <tr>\n",
       "      <th>2</th>\n",
       "      <td>2024</td>\n",
       "      <td>Norte</td>\n",
       "      <td>1</td>\n",
       "      <td>Rondônia</td>\n",
       "      <td>RO</td>\n",
       "      <td>11</td>\n",
       "      <td>Alta Floresta D'Oeste</td>\n",
       "      <td>1100015</td>\n",
       "      <td>Ji-Paraná</td>\n",
       "      <td>1102</td>\n",
       "      <td>...</td>\n",
       "      <td>&lt;NA&gt;</td>\n",
       "      <td>&lt;NA&gt;</td>\n",
       "      <td>&lt;NA&gt;</td>\n",
       "      <td>&lt;NA&gt;</td>\n",
       "      <td>&lt;NA&gt;</td>\n",
       "      <td>&lt;NA&gt;</td>\n",
       "      <td>&lt;NA&gt;</td>\n",
       "      <td>&lt;NA&gt;</td>\n",
       "      <td>&lt;NA&gt;</td>\n",
       "      <td>&lt;NA&gt;</td>\n",
       "    </tr>\n",
       "    <tr>\n",
       "      <th>3</th>\n",
       "      <td>2024</td>\n",
       "      <td>Norte</td>\n",
       "      <td>1</td>\n",
       "      <td>Rondônia</td>\n",
       "      <td>RO</td>\n",
       "      <td>11</td>\n",
       "      <td>Alta Floresta D'Oeste</td>\n",
       "      <td>1100015</td>\n",
       "      <td>Ji-Paraná</td>\n",
       "      <td>1102</td>\n",
       "      <td>...</td>\n",
       "      <td>10</td>\n",
       "      <td>0</td>\n",
       "      <td>0</td>\n",
       "      <td>0</td>\n",
       "      <td>0</td>\n",
       "      <td>0</td>\n",
       "      <td>0</td>\n",
       "      <td>0</td>\n",
       "      <td>0</td>\n",
       "      <td>0</td>\n",
       "    </tr>\n",
       "    <tr>\n",
       "      <th>4</th>\n",
       "      <td>2024</td>\n",
       "      <td>Norte</td>\n",
       "      <td>1</td>\n",
       "      <td>Rondônia</td>\n",
       "      <td>RO</td>\n",
       "      <td>11</td>\n",
       "      <td>Alta Floresta D'Oeste</td>\n",
       "      <td>1100015</td>\n",
       "      <td>Ji-Paraná</td>\n",
       "      <td>1102</td>\n",
       "      <td>...</td>\n",
       "      <td>35</td>\n",
       "      <td>5</td>\n",
       "      <td>0</td>\n",
       "      <td>0</td>\n",
       "      <td>0</td>\n",
       "      <td>0</td>\n",
       "      <td>0</td>\n",
       "      <td>0</td>\n",
       "      <td>0</td>\n",
       "      <td>0</td>\n",
       "    </tr>\n",
       "  </tbody>\n",
       "</table>\n",
       "<p>5 rows × 426 columns</p>\n",
       "</div>"
      ],
      "text/plain": [
       "  NU_ANO_CENSO NO_REGIAO CO_REGIAO     NO_UF SG_UF CO_UF  \\\n",
       "0         2024     Norte         1  Rondônia    RO    11   \n",
       "1         2024     Norte         1  Rondônia    RO    11   \n",
       "2         2024     Norte         1  Rondônia    RO    11   \n",
       "3         2024     Norte         1  Rondônia    RO    11   \n",
       "4         2024     Norte         1  Rondônia    RO    11   \n",
       "\n",
       "            NO_MUNICIPIO CO_MUNICIPIO NO_REGIAO_GEOG_INTERM  \\\n",
       "0  Alta Floresta D'Oeste      1100015             Ji-Paraná   \n",
       "1  Alta Floresta D'Oeste      1100015             Ji-Paraná   \n",
       "2  Alta Floresta D'Oeste      1100015             Ji-Paraná   \n",
       "3  Alta Floresta D'Oeste      1100015             Ji-Paraná   \n",
       "4  Alta Floresta D'Oeste      1100015             Ji-Paraná   \n",
       "\n",
       "  CO_REGIAO_GEOG_INTERM  ... QT_TUR_BAS_D QT_TUR_BAS_N QT_TUR_BAS_EAD  \\\n",
       "0                  1102  ...            4            0              0   \n",
       "1                  1102  ...            0            4              0   \n",
       "2                  1102  ...         <NA>         <NA>           <NA>   \n",
       "3                  1102  ...           10            0              0   \n",
       "4                  1102  ...           35            5              0   \n",
       "\n",
       "  QT_TUR_INF_INT QT_TUR_INF_CRE_INT QT_TUR_INF_PRE_INT QT_TUR_FUND_INT  \\\n",
       "0              0                  0                  0               0   \n",
       "1              0                  0                  0               0   \n",
       "2           <NA>               <NA>               <NA>            <NA>   \n",
       "3              0                  0                  0               0   \n",
       "4              0                  0                  0               0   \n",
       "\n",
       "  QT_TUR_FUND_AI_INT QT_TUR_FUND_AF_INT QT_TUR_MED_INT  \n",
       "0                  0                  0              0  \n",
       "1                  0                  0              0  \n",
       "2               <NA>               <NA>           <NA>  \n",
       "3                  0                  0              0  \n",
       "4                  0                  0              0  \n",
       "\n",
       "[5 rows x 426 columns]"
      ]
     },
     "execution_count": 11,
     "metadata": {},
     "output_type": "execute_result"
    }
   ],
   "source": [
    "censo.head()"
   ]
  },
  {
   "cell_type": "code",
   "execution_count": 12,
   "metadata": {
    "id": "XKa2igbeUWKq"
   },
   "outputs": [],
   "source": [
    "def apply_architecture_to_dataframe(\n",
    "    df: pd.DataFrame,\n",
    "    url_architecture: str,\n",
    "    apply_rename_columns: bool = True,\n",
    "    apply_column_order_and_selection: bool = True,\n",
    "    apply_include_missing_columns: bool = True,\n",
    "):\n",
    "    \"\"\"\n",
    "    Transforms a DataFrame based on the specified architecture.\n",
    "\n",
    "    Args:\n",
    "        df (pandas DataFrame): The input DataFrame.\n",
    "        url_architecture (str): The URL of the architecture.\n",
    "        apply_rename_columns (bool, optional): Flag to apply column renaming. Defaults to True.\n",
    "        apply_column_order_and_selection (bool, optional): Flag to apply column order and selection. Defaults to True.\n",
    "        apply_include_missing_columns (bool, optional): Flag to include missing columns. Defaults to True.\n",
    "\n",
    "    Returns:\n",
    "        pandas DataFrame: The transformed DataFrame.\n",
    "\n",
    "    Raises:\n",
    "        Exception: If an error occurs during the transformation process.\n",
    "    \"\"\"\n",
    "    architecture = read_architecture_table(url_architecture=url_architecture)\n",
    "\n",
    "    if apply_rename_columns:\n",
    "        df = rename_columns(df, architecture)\n",
    "\n",
    "    if apply_include_missing_columns:\n",
    "        df = include_missing_columns(df, architecture)\n",
    "\n",
    "    if apply_column_order_and_selection:\n",
    "        df = column_order_and_selection(df, architecture)\n",
    "\n",
    "    return df\n",
    "\n",
    "\n",
    "def read_architecture_table(url_architecture: str) -> pd.DataFrame:\n",
    "    \"\"\"URL contendo a tabela de arquitetura no formato da base dos dados\n",
    "    Args:\n",
    "        url_architecture (str): url de tabela de arquitetura no padrão da base dos dados\n",
    "    Returns:\n",
    "        df: um df com a tabela de arquitetura\n",
    "    \"\"\"\n",
    "    # Converte a URL de edição para um link de exportação em formato csv\n",
    "    url = url_architecture.replace(\"edit#gid=\", \"export?format=csv&gid=\")\n",
    "\n",
    "    # Coloca a arquitetura em um dataframe\n",
    "    df_architecture = pd.read_csv(\n",
    "        StringIO(requests.get(url, timeout=10).content.decode(\"utf-8\"))\n",
    "    )\n",
    "\n",
    "    df_architecture.query(\"name != '(excluido)'\", inplace=True)\n",
    "\n",
    "    return df_architecture.replace(np.nan, \"\", regex=True)\n",
    "\n",
    "\n",
    "def get_order(architecture: pd.DataFrame) -> list:\n",
    "    \"\"\"\n",
    "    Retrieves the column order from an architecture table.\n",
    "    Args:\n",
    "        architecture (pd.DataFrame): The architecture table containing column information.\n",
    "    Returns:\n",
    "        list: The list of column names representing the order.\n",
    "    \"\"\"\n",
    "\n",
    "    # Return the list of column names from the 'name' column of the architecture table\n",
    "    return list(architecture[\"name\"])\n",
    "\n",
    "\n",
    "def rename_columns(\n",
    "    df: pd.DataFrame, architecture: pd.DataFrame\n",
    ") -> pd.DataFrame:\n",
    "    \"\"\"\n",
    "    Renames the columns of a DataFrame based on an architecture table.\n",
    "    Args:\n",
    "        df (pd.DataFrame): The DataFrame to rename columns.\n",
    "        architecture (pd.DataFrame): The architecture table containing column mappings.\n",
    "    Returns:\n",
    "        pd.DataFrame: The DataFrame with renamed columns.\n",
    "    \"\"\"\n",
    "\n",
    "    # Create a DataFrame 'aux' with unique mappings of column names from the architecture table\n",
    "    aux = architecture[[\"name\", \"original_name\"]].drop_duplicates(\n",
    "        subset=[\"original_name\"], keep=False\n",
    "    )\n",
    "\n",
    "    # Create a dictionary 'dict_columns' with column name mappings\n",
    "    dict_columns = dict(zip(aux.original_name, aux.name))\n",
    "\n",
    "    # Rename columns of the DataFrame 'df' based on the dictionary 'dict_columns'\n",
    "    return df.rename(columns=dict_columns)\n",
    "\n",
    "\n",
    "def include_missing_columns(df, architecture):\n",
    "    \"\"\"\n",
    "    Includes missing columns in the DataFrame based on the specified architecture.\n",
    "\n",
    "    Args:\n",
    "        df (pandas DataFrame): The input DataFrame.\n",
    "        architecture (str): The specified architecture.\n",
    "\n",
    "    Returns:\n",
    "        pandas DataFrame: The modified DataFrame with missing columns included.\n",
    "    \"\"\"\n",
    "    df_missing_columns = missing_columns(df.columns, get_order(architecture))\n",
    "    if df_missing_columns:\n",
    "        df[df_missing_columns] = \"\"\n",
    "        print(\n",
    "            f\"The following columns were included into the df: {df_missing_columns}\"\n",
    "        )\n",
    "    else:\n",
    "        print(\"No columns were included into the df\")\n",
    "    return df\n",
    "\n",
    "\n",
    "def missing_columns(current_columns, specified_columns):\n",
    "    \"\"\"\n",
    "    Determines the missing columns between the current columns and the specified columns.\n",
    "\n",
    "    Args:\n",
    "        current_columns (list): The list of current columns.\n",
    "        specified_columns (list): The list of specified columns.\n",
    "\n",
    "    Returns:\n",
    "        list: The list of missing columns.\n",
    "    \"\"\"\n",
    "    missing_columns = []\n",
    "    for col in specified_columns:\n",
    "        if col not in current_columns:\n",
    "            missing_columns.append(col)\n",
    "\n",
    "    return missing_columns\n",
    "\n",
    "\n",
    "def column_order_and_selection(df, architecture):\n",
    "    \"\"\"\n",
    "    Performs column order and selection on the DataFrame based on the specified architecture.\n",
    "\n",
    "    Args:\n",
    "        df (pandas DataFrame): The input DataFrame.\n",
    "        architecture (str): The specified architecture.\n",
    "\n",
    "    Returns:\n",
    "        pandas DataFrame: The DataFrame with columns ordered and selected according to the architecture.\n",
    "    \"\"\"\n",
    "    architecture_columns = get_order(architecture)\n",
    "    list_missing_columns = missing_columns(\n",
    "        current_columns=architecture_columns, specified_columns=df\n",
    "    )\n",
    "    if list_missing_columns:\n",
    "        print(\n",
    "            f\"The following columns were discarded from the df: {list_missing_columns}\"\n",
    "        )\n",
    "    else:\n",
    "        print(\"No columns were discarded from the df\")\n",
    "    return df[architecture_columns]"
   ]
  },
  {
   "cell_type": "code",
   "execution_count": 13,
   "metadata": {
    "id": "Q2ZGg22ZW_ey"
   },
   "outputs": [],
   "source": [
    "url_architecture = \"https://docs.google.com/spreadsheets/d/1WmKRJjOmcG9uFL0LaBx4EwZUA_o2VpZK2MO3hFfTnmM/edit#gid=0\""
   ]
  },
  {
   "cell_type": "code",
   "execution_count": 14,
   "metadata": {
    "colab": {
     "base_uri": "https://localhost:8080/"
    },
    "id": "uOLd3ftBVQir",
    "outputId": "66620369-6b5f-4b3f-9f9d-d32390b802ab"
   },
   "outputs": [
    {
     "name": "stdout",
     "output_type": "stream",
     "text": [
      "The following columns were included into the df: ['conveniada_poder_publico', 'tipo_convenio_poder_publico', 'tipo_atendimento_escolarizacao', 'tipo_atendimento_atividade_complementar', 'tipo_atendimento_aee', 'local_funcionamento_sala_empresa', 'local_funcionamento_templo_igreja', 'local_funcionamento_casa_professor', 'agua_filtrada', 'energia_gerador', 'energia_outros', 'lixo_joga_outra_area', 'lixo_outros', 'lixo_reciclagem', 'banheiro_fora_predio', 'banheiro_dentro_predio', 'bercario', 'dependencia_pne', 'lavanderia', 'quantidade_sala_existente', 'quantidade_equipamento_parabolica', 'quantidade_equipamento_copiadora', 'quantidade_equipamento_impressora', 'quantidade_equipamento_impressora_multifuncional', 'equipamento_videocassete', 'quantidade_equipamento_videocassete', 'equipamento_retroprojetor', 'quantidade_equipamento_retroprojetor', 'equipamento_fax', 'quantidade_equipamento_fax', 'equipamento_foto', 'quantidade_equipamento_foto', 'quantidade_computador_aluno', 'quantidade_computador', 'quantidade_computador_administrativo', 'quantidade_funcionario', 'organizacao_serie_ano', 'organizacao_semestre', 'organizacao_fundamental_ciclo', 'organizacao_grupo_nao_seriado', 'organizacao_modulo', 'organizacao_alternancia', 'material_especifico_quilombola', 'material_especifico_indigena', 'material_especifico_nao_utiliza', 'programa_brasil_alfabetizado', 'final_semana', 'educacao_basica', 'etapa_ensino_creche_comum', 'etapa_ensino_pre_escola_comum', 'etapa_ensino_fundamental_anos_iniciais_comum', 'etapa_ensino_fundamental_anos_finais_comum', 'etapa_ensino_medio_comum', 'etapa_ensino_medio_integrado_comum', 'etapa_ensino_medio_normal_comum', 'etapa_ensino_profissional_comum', 'etapa_ensino_eja_fundamental_comum', 'etapa_ensino_eja_medio_comum', 'etapa_ensino_eja_profissional_comum', 'etapa_ensino_creche_especial_exclusiva', 'etapa_ensino_pre_escola_especial_exclusiva', 'etapa_ensino_fundamental_anos_iniciais_especial_exclusiva', 'etapa_ensino_fundamental_anos_finais_especial_exclusiva', 'etapa_ensino_medio_especial_exclusiva', 'etapa_ensino_medio_integrado_especial_exclusiva', 'etapa_ensino_medio_normal_especial_exclusiva', 'etapa_ensino_profissional_especial_exclusiva', 'etapa_ensino_eja_fundamental_especial_exclusiva', 'etapa_ensino_eja_medio_especial_exclusiva']\n",
      "The following columns were discarded from the df: ['NO_REGIAO', 'CO_REGIAO', 'NO_UF', 'CO_UF', 'NO_MUNICIPIO', 'NO_REGIAO_GEOG_INTERM', 'CO_REGIAO_GEOG_INTERM', 'NO_REGIAO_GEOG_IMED', 'CO_REGIAO_GEOG_IMED', 'NO_MESORREGIAO', 'CO_MESORREGIAO', 'NO_MICRORREGIAO', 'CO_MICRORREGIAO', 'NO_DISTRITO', 'NO_ENTIDADE', 'DS_ENDERECO', 'NU_ENDERECO', 'DS_COMPLEMENTO', 'NO_BAIRRO', 'CO_CEP', 'NU_DDD', 'NU_TELEFONE', 'IN_AGUA_CARRO_PIPA', 'IN_AREA_PLANTIO', 'IN_ACESSIBILIDADE_SINALIZACAO', 'IN_PROF_AGRICOLA', 'QT_PROF_AGRICOLA', 'IN_PROF_REVISOR_BRAILLE', 'QT_PROF_REVISOR_BRAILLE', 'IN_MATERIAL_PED_AGRICOLA', 'IN_MATERIAL_PED_QUILOMBOLA', 'IN_MATERIAL_PED_EDU_ESP', 'IN_EDUC_AMBIENTAL', 'IN_EDUC_AMB_CONTEUDO', 'IN_EDUC_AMB_CURRICULAR', 'IN_EDUC_AMB_EIXO', 'IN_EDUC_AMB_EVENTOS', 'IN_EDUC_AMB_PROJETOS', 'IN_EDUC_AMB_NENHUMA']\n"
     ]
    }
   ],
   "source": [
    "censo = apply_architecture_to_dataframe(\n",
    "    df=censo,\n",
    "    url_architecture=url_architecture,\n",
    "    apply_rename_columns=True,\n",
    "    apply_column_order_and_selection=True,\n",
    "    apply_include_missing_columns=True,\n",
    ")"
   ]
  },
  {
   "cell_type": "code",
   "execution_count": 16,
   "metadata": {
    "colab": {
     "base_uri": "https://localhost:8080/",
     "height": 444
    },
    "id": "_2ID2Q5Sj5mB",
    "outputId": "6d1529fa-1093-4be9-f890-41f7bf27b5c7"
   },
   "outputs": [
    {
     "data": {
      "application/vnd.microsoft.datawrangler.viewer.v0+json": {
       "columns": [
        {
         "name": "index",
         "rawType": "int64",
         "type": "integer"
        },
        {
         "name": "ano",
         "rawType": "string",
         "type": "string"
        },
        {
         "name": "sigla_uf",
         "rawType": "string",
         "type": "string"
        },
        {
         "name": "id_municipio",
         "rawType": "string",
         "type": "string"
        },
        {
         "name": "id_distrito",
         "rawType": "string",
         "type": "string"
        },
        {
         "name": "id_escola",
         "rawType": "string",
         "type": "string"
        },
        {
         "name": "rede",
         "rawType": "string",
         "type": "string"
        },
        {
         "name": "tipo_categoria_escola_privada",
         "rawType": "string",
         "type": "string"
        },
        {
         "name": "tipo_localizacao",
         "rawType": "string",
         "type": "string"
        },
        {
         "name": "tipo_localizacao_diferenciada",
         "rawType": "string",
         "type": "string"
        },
        {
         "name": "tipo_situacao_funcionamento",
         "rawType": "string",
         "type": "string"
        },
        {
         "name": "id_orgao_regional",
         "rawType": "string",
         "type": "string"
        },
        {
         "name": "data_ano_letivo_inicio",
         "rawType": "string",
         "type": "string"
        },
        {
         "name": "data_ano_letivo_termino",
         "rawType": "string",
         "type": "string"
        },
        {
         "name": "vinculo_secretaria_educacao",
         "rawType": "string",
         "type": "string"
        },
        {
         "name": "vinculo_seguranca_publica",
         "rawType": "string",
         "type": "string"
        },
        {
         "name": "vinculo_secretaria_saude",
         "rawType": "string",
         "type": "string"
        },
        {
         "name": "vinculo_outro_orgao",
         "rawType": "string",
         "type": "string"
        },
        {
         "name": "poder_publico_parceria",
         "rawType": "string",
         "type": "string"
        },
        {
         "name": "tipo_poder_publico_parceria",
         "rawType": "string",
         "type": "string"
        },
        {
         "name": "conveniada_poder_publico",
         "rawType": "object",
         "type": "string"
        },
        {
         "name": "tipo_convenio_poder_publico",
         "rawType": "object",
         "type": "string"
        },
        {
         "name": "forma_contratacao_termo_colaboracao",
         "rawType": "string",
         "type": "string"
        },
        {
         "name": "forma_contratacao_termo_fomento",
         "rawType": "string",
         "type": "string"
        },
        {
         "name": "forma_contratacao_acordo_cooperacao",
         "rawType": "string",
         "type": "string"
        },
        {
         "name": "forma_contratacao_prestacao_servico",
         "rawType": "string",
         "type": "string"
        },
        {
         "name": "forma_contratacao_cooperacao_tecnica_financeira",
         "rawType": "string",
         "type": "string"
        },
        {
         "name": "forma_contratacao_consorcio_publico",
         "rawType": "string",
         "type": "string"
        },
        {
         "name": "forma_contratacao_parceria_municipal_termo_colaboracao",
         "rawType": "string",
         "type": "string"
        },
        {
         "name": "forma_contratacao_parceria_municipal_termo_fomento",
         "rawType": "string",
         "type": "string"
        },
        {
         "name": "forma_contratacao_parceria_municipal_acordo_cooperacao",
         "rawType": "string",
         "type": "string"
        },
        {
         "name": "forma_contratacao_parceria_municipal_prestacao_servico",
         "rawType": "string",
         "type": "string"
        },
        {
         "name": "forma_contratacao_parceria_municipal_cooperacao_tecnica_financeira",
         "rawType": "string",
         "type": "string"
        },
        {
         "name": "forma_contratacao_parceria_municipal_consorcio_publico",
         "rawType": "string",
         "type": "string"
        },
        {
         "name": "forma_contratacao_parceria_estadual_termo_colaboracao",
         "rawType": "string",
         "type": "string"
        },
        {
         "name": "forma_contratacao_parceria_estadual_termo_fomento",
         "rawType": "string",
         "type": "string"
        },
        {
         "name": "forma_contratacao_parceria_estadual_acordo_cooperacao",
         "rawType": "string",
         "type": "string"
        },
        {
         "name": "forma_contratacao_parceria_estadual_prestacao_servico",
         "rawType": "string",
         "type": "string"
        },
        {
         "name": "forma_contratacao_parceria_estadual_cooperacao_tecnica_financeira",
         "rawType": "string",
         "type": "string"
        },
        {
         "name": "forma_contratacao_parceria_estadual_consorcio_publico",
         "rawType": "string",
         "type": "string"
        },
        {
         "name": "tipo_atendimento_escolarizacao",
         "rawType": "object",
         "type": "string"
        },
        {
         "name": "tipo_atendimento_atividade_complementar",
         "rawType": "object",
         "type": "string"
        },
        {
         "name": "tipo_atendimento_aee",
         "rawType": "object",
         "type": "string"
        },
        {
         "name": "mantenedora_escola_privada_empresa",
         "rawType": "string",
         "type": "string"
        },
        {
         "name": "mantenedora_escola_privada_ong",
         "rawType": "string",
         "type": "string"
        },
        {
         "name": "mantenedora_escola_privada_oscip",
         "rawType": "string",
         "type": "string"
        },
        {
         "name": "mantenedora_escola_privada_ong_oscip",
         "rawType": "string",
         "type": "string"
        },
        {
         "name": "mantenedora_escola_privada_sindicato",
         "rawType": "string",
         "type": "string"
        },
        {
         "name": "mantenedora_escola_privada_sistema_s",
         "rawType": "string",
         "type": "string"
        },
        {
         "name": "mantenedora_escola_privada_sem_fins",
         "rawType": "string",
         "type": "string"
        },
        {
         "name": "cnpj_escola_privada",
         "rawType": "string",
         "type": "string"
        },
        {
         "name": "cnpj_mantenedora",
         "rawType": "string",
         "type": "string"
        },
        {
         "name": "tipo_regulamentacao",
         "rawType": "string",
         "type": "string"
        },
        {
         "name": "tipo_responsavel_regulamentacao",
         "rawType": "string",
         "type": "string"
        },
        {
         "name": "id_escola_sede",
         "rawType": "string",
         "type": "string"
        },
        {
         "name": "id_ies_ofertante",
         "rawType": "string",
         "type": "string"
        },
        {
         "name": "local_funcionamento_predio_escolar",
         "rawType": "string",
         "type": "string"
        },
        {
         "name": "tipo_local_funcionamento_predio_escolar",
         "rawType": "string",
         "type": "string"
        },
        {
         "name": "local_funcionamento_sala_empresa",
         "rawType": "object",
         "type": "string"
        },
        {
         "name": "local_funcionamento_socioeducativo",
         "rawType": "string",
         "type": "string"
        },
        {
         "name": "local_funcionamento_unidade_prisional",
         "rawType": "string",
         "type": "string"
        },
        {
         "name": "local_funcionamento_prisional_socio",
         "rawType": "string",
         "type": "string"
        },
        {
         "name": "local_funcionamento_templo_igreja",
         "rawType": "object",
         "type": "string"
        },
        {
         "name": "local_funcionamento_casa_professor",
         "rawType": "object",
         "type": "string"
        },
        {
         "name": "local_funcionamento_galpao",
         "rawType": "string",
         "type": "string"
        },
        {
         "name": "tipo_local_funcionamento_galpao",
         "rawType": "string",
         "type": "string"
        },
        {
         "name": "local_funcionamento_outra_escola",
         "rawType": "string",
         "type": "string"
        },
        {
         "name": "local_funcionamento_outros",
         "rawType": "string",
         "type": "string"
        },
        {
         "name": "predio_compartilhado",
         "rawType": "string",
         "type": "string"
        },
        {
         "name": "agua_filtrada",
         "rawType": "object",
         "type": "string"
        },
        {
         "name": "agua_potavel",
         "rawType": "string",
         "type": "string"
        },
        {
         "name": "agua_rede_publica",
         "rawType": "string",
         "type": "string"
        },
        {
         "name": "agua_poco_artesiano",
         "rawType": "string",
         "type": "string"
        },
        {
         "name": "agua_cacimba",
         "rawType": "string",
         "type": "string"
        },
        {
         "name": "agua_fonte_rio",
         "rawType": "string",
         "type": "string"
        },
        {
         "name": "agua_inexistente",
         "rawType": "string",
         "type": "string"
        },
        {
         "name": "energia_rede_publica",
         "rawType": "string",
         "type": "string"
        },
        {
         "name": "energia_gerador",
         "rawType": "object",
         "type": "string"
        },
        {
         "name": "energia_gerador_fossil",
         "rawType": "string",
         "type": "string"
        },
        {
         "name": "energia_outros",
         "rawType": "object",
         "type": "string"
        },
        {
         "name": "energia_renovavel",
         "rawType": "string",
         "type": "string"
        },
        {
         "name": "energia_inexistente",
         "rawType": "string",
         "type": "string"
        },
        {
         "name": "esgoto_rede_publica",
         "rawType": "string",
         "type": "string"
        },
        {
         "name": "esgoto_fossa",
         "rawType": "string",
         "type": "string"
        },
        {
         "name": "esgoto_fossa_septica",
         "rawType": "string",
         "type": "string"
        },
        {
         "name": "esgoto_fossa_comum",
         "rawType": "string",
         "type": "string"
        },
        {
         "name": "esgoto_inexistente",
         "rawType": "string",
         "type": "string"
        },
        {
         "name": "lixo_servico_coleta",
         "rawType": "string",
         "type": "string"
        },
        {
         "name": "lixo_queima",
         "rawType": "string",
         "type": "string"
        },
        {
         "name": "lixo_enterrado",
         "rawType": "string",
         "type": "string"
        },
        {
         "name": "lixo_destino_final_publico",
         "rawType": "string",
         "type": "string"
        },
        {
         "name": "lixo_descarta_outra_area",
         "rawType": "string",
         "type": "string"
        },
        {
         "name": "lixo_joga_outra_area",
         "rawType": "object",
         "type": "string"
        },
        {
         "name": "lixo_outros",
         "rawType": "object",
         "type": "string"
        },
        {
         "name": "lixo_reciclagem",
         "rawType": "object",
         "type": "string"
        },
        {
         "name": "tratamento_lixo_separacao",
         "rawType": "string",
         "type": "string"
        },
        {
         "name": "tratamento_lixo_reutilizacao",
         "rawType": "string",
         "type": "string"
        },
        {
         "name": "tratamento_lixo_reciclagem",
         "rawType": "string",
         "type": "string"
        },
        {
         "name": "tratamento_lixo_inexistente",
         "rawType": "string",
         "type": "string"
        },
        {
         "name": "almoxarifado",
         "rawType": "string",
         "type": "string"
        },
        {
         "name": "area_verde",
         "rawType": "string",
         "type": "string"
        },
        {
         "name": "auditorio",
         "rawType": "string",
         "type": "string"
        },
        {
         "name": "banheiro_fora_predio",
         "rawType": "object",
         "type": "string"
        },
        {
         "name": "banheiro_dentro_predio",
         "rawType": "object",
         "type": "string"
        },
        {
         "name": "banheiro",
         "rawType": "string",
         "type": "string"
        },
        {
         "name": "banheiro_educacao_infantil",
         "rawType": "string",
         "type": "string"
        },
        {
         "name": "banheiro_pne",
         "rawType": "string",
         "type": "string"
        },
        {
         "name": "banheiro_funcionarios",
         "rawType": "string",
         "type": "string"
        },
        {
         "name": "banheiro_chuveiro",
         "rawType": "string",
         "type": "string"
        },
        {
         "name": "bercario",
         "rawType": "object",
         "type": "string"
        },
        {
         "name": "biblioteca",
         "rawType": "string",
         "type": "string"
        },
        {
         "name": "biblioteca_sala_leitura",
         "rawType": "string",
         "type": "string"
        },
        {
         "name": "cozinha",
         "rawType": "string",
         "type": "string"
        },
        {
         "name": "despensa",
         "rawType": "string",
         "type": "string"
        },
        {
         "name": "dormitorio_aluno",
         "rawType": "string",
         "type": "string"
        },
        {
         "name": "dormitorio_professor",
         "rawType": "string",
         "type": "string"
        },
        {
         "name": "laboratorio_ciencias",
         "rawType": "string",
         "type": "string"
        },
        {
         "name": "laboratorio_informatica",
         "rawType": "string",
         "type": "string"
        },
        {
         "name": "laboratorio_educacao_profissional",
         "rawType": "string",
         "type": "string"
        },
        {
         "name": "patio_coberto",
         "rawType": "string",
         "type": "string"
        },
        {
         "name": "patio_descoberto",
         "rawType": "string",
         "type": "string"
        },
        {
         "name": "parque_infantil",
         "rawType": "string",
         "type": "string"
        },
        {
         "name": "piscina",
         "rawType": "string",
         "type": "string"
        },
        {
         "name": "quadra_esportes",
         "rawType": "string",
         "type": "string"
        },
        {
         "name": "quadra_esportes_coberta",
         "rawType": "string",
         "type": "string"
        },
        {
         "name": "quadra_esportes_descoberta",
         "rawType": "string",
         "type": "string"
        },
        {
         "name": "refeitorio",
         "rawType": "string",
         "type": "string"
        },
        {
         "name": "sala_atelie_artes",
         "rawType": "string",
         "type": "string"
        },
        {
         "name": "sala_musica_coral",
         "rawType": "string",
         "type": "string"
        },
        {
         "name": "sala_estudio_danca",
         "rawType": "string",
         "type": "string"
        },
        {
         "name": "sala_multiuso",
         "rawType": "string",
         "type": "string"
        },
        {
         "name": "sala_estudio_gravacao",
         "rawType": "string",
         "type": "string"
        },
        {
         "name": "sala_oficinas_educacao_profissional",
         "rawType": "string",
         "type": "string"
        },
        {
         "name": "sala_diretoria",
         "rawType": "string",
         "type": "string"
        },
        {
         "name": "sala_leitura",
         "rawType": "string",
         "type": "string"
        },
        {
         "name": "sala_professor",
         "rawType": "string",
         "type": "string"
        },
        {
         "name": "sala_repouso_aluno",
         "rawType": "string",
         "type": "string"
        },
        {
         "name": "secretaria",
         "rawType": "string",
         "type": "string"
        },
        {
         "name": "sala_atendimento_especial",
         "rawType": "string",
         "type": "string"
        },
        {
         "name": "terreirao",
         "rawType": "string",
         "type": "string"
        },
        {
         "name": "viveiro",
         "rawType": "string",
         "type": "string"
        },
        {
         "name": "dependencia_pne",
         "rawType": "object",
         "type": "string"
        },
        {
         "name": "lavanderia",
         "rawType": "object",
         "type": "string"
        },
        {
         "name": "dependencia_outras",
         "rawType": "string",
         "type": "string"
        },
        {
         "name": "acessibilidade_corrimao",
         "rawType": "string",
         "type": "string"
        },
        {
         "name": "acessibilidade_elevador",
         "rawType": "string",
         "type": "string"
        },
        {
         "name": "acessibilidade_pisos_tateis",
         "rawType": "string",
         "type": "string"
        },
        {
         "name": "acessibilidade_vao_livre",
         "rawType": "string",
         "type": "string"
        },
        {
         "name": "acessibilidade_rampas",
         "rawType": "string",
         "type": "string"
        },
        {
         "name": "acessibilidade_sinal_sonoro",
         "rawType": "string",
         "type": "string"
        },
        {
         "name": "acessibilidade_sinal_tatil",
         "rawType": "string",
         "type": "string"
        },
        {
         "name": "acessibilidade_sinal_visual",
         "rawType": "string",
         "type": "string"
        },
        {
         "name": "acessibilidade_inexistente",
         "rawType": "string",
         "type": "string"
        },
        {
         "name": "quantidade_sala_existente",
         "rawType": "object",
         "type": "string"
        },
        {
         "name": "quantidade_sala_utilizada",
         "rawType": "string",
         "type": "string"
        },
        {
         "name": "quantidade_sala_utilizada_dentro",
         "rawType": "string",
         "type": "string"
        },
        {
         "name": "quantidade_sala_utilizada_fora",
         "rawType": "string",
         "type": "string"
        },
        {
         "name": "quantidade_sala_utilizada_climatizada",
         "rawType": "string",
         "type": "string"
        },
        {
         "name": "quantidade_sala_utilizada_acessivel",
         "rawType": "string",
         "type": "string"
        },
        {
         "name": "equipamento_parabolica",
         "rawType": "string",
         "type": "string"
        },
        {
         "name": "quantidade_equipamento_parabolica",
         "rawType": "object",
         "type": "string"
        },
        {
         "name": "equipamento_computador",
         "rawType": "string",
         "type": "string"
        },
        {
         "name": "equipamento_copiadora",
         "rawType": "string",
         "type": "string"
        },
        {
         "name": "quantidade_equipamento_copiadora",
         "rawType": "object",
         "type": "string"
        },
        {
         "name": "equipamento_impressora",
         "rawType": "string",
         "type": "string"
        },
        {
         "name": "quantidade_equipamento_impressora",
         "rawType": "object",
         "type": "string"
        },
        {
         "name": "equipamento_impressora_multifuncional",
         "rawType": "string",
         "type": "string"
        },
        {
         "name": "quantidade_equipamento_impressora_multifuncional",
         "rawType": "object",
         "type": "string"
        },
        {
         "name": "equipamento_scanner",
         "rawType": "string",
         "type": "string"
        },
        {
         "name": "equipamento_nenhum",
         "rawType": "string",
         "type": "string"
        },
        {
         "name": "equipamento_dvd",
         "rawType": "string",
         "type": "string"
        },
        {
         "name": "quantidade_equipamento_dvd",
         "rawType": "string",
         "type": "string"
        },
        {
         "name": "equipamento_som",
         "rawType": "string",
         "type": "string"
        },
        {
         "name": "quantidade_equipamento_som",
         "rawType": "string",
         "type": "string"
        },
        {
         "name": "equipamento_tv",
         "rawType": "string",
         "type": "string"
        },
        {
         "name": "quantidade_equipamento_tv",
         "rawType": "string",
         "type": "string"
        },
        {
         "name": "equipamento_lousa_digital",
         "rawType": "string",
         "type": "string"
        },
        {
         "name": "quantidade_equipamento_lousa_digital",
         "rawType": "string",
         "type": "string"
        },
        {
         "name": "equipamento_multimidia",
         "rawType": "string",
         "type": "string"
        },
        {
         "name": "quantidade_equipamento_multimidia",
         "rawType": "string",
         "type": "string"
        },
        {
         "name": "equipamento_videocassete",
         "rawType": "object",
         "type": "string"
        },
        {
         "name": "quantidade_equipamento_videocassete",
         "rawType": "object",
         "type": "string"
        },
        {
         "name": "equipamento_retroprojetor",
         "rawType": "object",
         "type": "string"
        },
        {
         "name": "quantidade_equipamento_retroprojetor",
         "rawType": "object",
         "type": "string"
        },
        {
         "name": "equipamento_fax",
         "rawType": "object",
         "type": "string"
        },
        {
         "name": "quantidade_equipamento_fax",
         "rawType": "object",
         "type": "string"
        },
        {
         "name": "equipamento_foto",
         "rawType": "object",
         "type": "string"
        },
        {
         "name": "quantidade_equipamento_foto",
         "rawType": "object",
         "type": "string"
        },
        {
         "name": "quantidade_computador_aluno",
         "rawType": "object",
         "type": "string"
        },
        {
         "name": "desktop_aluno",
         "rawType": "string",
         "type": "string"
        },
        {
         "name": "quantidade_desktop_aluno",
         "rawType": "string",
         "type": "string"
        },
        {
         "name": "computador_portatil_aluno",
         "rawType": "string",
         "type": "string"
        },
        {
         "name": "quantidade_computador_portatil_aluno",
         "rawType": "string",
         "type": "string"
        },
        {
         "name": "tablet_aluno",
         "rawType": "string",
         "type": "string"
        },
        {
         "name": "quantidade_tablet_aluno",
         "rawType": "string",
         "type": "string"
        },
        {
         "name": "quantidade_computador",
         "rawType": "object",
         "type": "string"
        },
        {
         "name": "quantidade_computador_administrativo",
         "rawType": "object",
         "type": "string"
        },
        {
         "name": "internet",
         "rawType": "string",
         "type": "string"
        },
        {
         "name": "internet_alunos",
         "rawType": "string",
         "type": "string"
        },
        {
         "name": "internet_administrativo",
         "rawType": "string",
         "type": "string"
        },
        {
         "name": "internet_aprendizagem",
         "rawType": "string",
         "type": "string"
        },
        {
         "name": "internet_comunidade",
         "rawType": "string",
         "type": "string"
        },
        {
         "name": "acesso_internet_computador",
         "rawType": "string",
         "type": "string"
        },
        {
         "name": "acesso_internet_dispositivo_pessoal",
         "rawType": "string",
         "type": "string"
        },
        {
         "name": "tipo_rede_local",
         "rawType": "string",
         "type": "string"
        },
        {
         "name": "banda_larga",
         "rawType": "string",
         "type": "string"
        },
        {
         "name": "quantidade_funcionario",
         "rawType": "object",
         "type": "string"
        },
        {
         "name": "profissional_administrativo",
         "rawType": "string",
         "type": "string"
        },
        {
         "name": "quantidade_profissional_administrativo",
         "rawType": "string",
         "type": "string"
        },
        {
         "name": "profissional_servico_geral",
         "rawType": "string",
         "type": "string"
        },
        {
         "name": "quantidade_profissional_servico_geral",
         "rawType": "string",
         "type": "string"
        },
        {
         "name": "profissional_bibliotecario",
         "rawType": "string",
         "type": "string"
        },
        {
         "name": "quantidade_profissional_bibliotecario",
         "rawType": "string",
         "type": "string"
        },
        {
         "name": "profissional_saude",
         "rawType": "string",
         "type": "string"
        },
        {
         "name": "quantidade_profissional_saude",
         "rawType": "string",
         "type": "string"
        },
        {
         "name": "profissional_coordenador",
         "rawType": "string",
         "type": "string"
        },
        {
         "name": "quantidade_profissional_coordenador",
         "rawType": "string",
         "type": "string"
        },
        {
         "name": "profissional_fonaudiologo",
         "rawType": "string",
         "type": "string"
        },
        {
         "name": "quantidade_profissional_fonaudiologo",
         "rawType": "string",
         "type": "string"
        },
        {
         "name": "profissional_nutricionista",
         "rawType": "string",
         "type": "string"
        },
        {
         "name": "quantidade_profissional_nutricionista",
         "rawType": "string",
         "type": "string"
        },
        {
         "name": "profissional_psicologo",
         "rawType": "string",
         "type": "string"
        },
        {
         "name": "quantidade_profissional_psicologo",
         "rawType": "string",
         "type": "string"
        },
        {
         "name": "profissional_alimentacao",
         "rawType": "string",
         "type": "string"
        },
        {
         "name": "quantidade_profissional_alimentacao",
         "rawType": "string",
         "type": "string"
        },
        {
         "name": "profissional_pedagogia",
         "rawType": "string",
         "type": "string"
        },
        {
         "name": "quantidade_profissional_pedagogia",
         "rawType": "string",
         "type": "string"
        },
        {
         "name": "profissional_secretario",
         "rawType": "string",
         "type": "string"
        },
        {
         "name": "quantidade_profissional_secretario",
         "rawType": "string",
         "type": "string"
        },
        {
         "name": "profissional_seguranca",
         "rawType": "string",
         "type": "string"
        },
        {
         "name": "quantidade_profissional_seguranca",
         "rawType": "string",
         "type": "string"
        },
        {
         "name": "profissional_monitor",
         "rawType": "string",
         "type": "string"
        },
        {
         "name": "quantidade_profissional_monitor",
         "rawType": "string",
         "type": "string"
        },
        {
         "name": "profissional_gestao",
         "rawType": "string",
         "type": "string"
        },
        {
         "name": "quantidade_profissional_gestao",
         "rawType": "string",
         "type": "string"
        },
        {
         "name": "profissional_assistente_social",
         "rawType": "string",
         "type": "string"
        },
        {
         "name": "quantidade_profissional_assistente_social",
         "rawType": "string",
         "type": "string"
        },
        {
         "name": "profissional_tradutor_libras",
         "rawType": "string",
         "type": "string"
        },
        {
         "name": "quantidade_profissional_tradutor_libras",
         "rawType": "string",
         "type": "string"
        },
        {
         "name": "alimentacao",
         "rawType": "string",
         "type": "string"
        },
        {
         "name": "organizacao_serie_ano",
         "rawType": "object",
         "type": "string"
        },
        {
         "name": "organizacao_semestre",
         "rawType": "object",
         "type": "string"
        },
        {
         "name": "organizacao_fundamental_ciclo",
         "rawType": "object",
         "type": "string"
        },
        {
         "name": "organizacao_grupo_nao_seriado",
         "rawType": "object",
         "type": "string"
        },
        {
         "name": "organizacao_modulo",
         "rawType": "object",
         "type": "string"
        },
        {
         "name": "organizacao_alternancia",
         "rawType": "object",
         "type": "string"
        },
        {
         "name": "material_pedagogico_multimidia",
         "rawType": "string",
         "type": "string"
        },
        {
         "name": "material_pedagogico_infantil",
         "rawType": "string",
         "type": "string"
        },
        {
         "name": "material_pedagogico_cientifico",
         "rawType": "string",
         "type": "string"
        },
        {
         "name": "material_pedagogico_difusao",
         "rawType": "string",
         "type": "string"
        },
        {
         "name": "material_pedagogico_musical",
         "rawType": "string",
         "type": "string"
        },
        {
         "name": "material_pedagogico_jogo",
         "rawType": "string",
         "type": "string"
        },
        {
         "name": "material_pedagogico_artistica",
         "rawType": "string",
         "type": "string"
        },
        {
         "name": "material_pedagogico_profissional",
         "rawType": "string",
         "type": "string"
        },
        {
         "name": "material_pedagogico_desportiva",
         "rawType": "string",
         "type": "string"
        },
        {
         "name": "material_pedagogico_indigena",
         "rawType": "string",
         "type": "string"
        },
        {
         "name": "material_pedagogico_etnico",
         "rawType": "string",
         "type": "string"
        },
        {
         "name": "material_pedagogico_campo",
         "rawType": "string",
         "type": "string"
        },
        {
         "name": "material_pedagogico_surdo",
         "rawType": "string",
         "type": "string"
        },
        {
         "name": "material_pedagogico_nenhum",
         "rawType": "string",
         "type": "string"
        },
        {
         "name": "material_especifico_quilombola",
         "rawType": "object",
         "type": "string"
        },
        {
         "name": "material_especifico_indigena",
         "rawType": "object",
         "type": "string"
        },
        {
         "name": "material_especifico_nao_utiliza",
         "rawType": "object",
         "type": "string"
        },
        {
         "name": "educacao_indigena",
         "rawType": "string",
         "type": "string"
        },
        {
         "name": "tipo_lingua_indigena",
         "rawType": "string",
         "type": "string"
        },
        {
         "name": "id_lingua_indigena_1",
         "rawType": "string",
         "type": "string"
        },
        {
         "name": "id_lingua_indigena_2",
         "rawType": "string",
         "type": "string"
        },
        {
         "name": "id_lingua_indigena_3",
         "rawType": "string",
         "type": "string"
        },
        {
         "name": "programa_brasil_alfabetizado",
         "rawType": "object",
         "type": "string"
        },
        {
         "name": "final_semana",
         "rawType": "object",
         "type": "string"
        },
        {
         "name": "exame_selecao",
         "rawType": "string",
         "type": "string"
        },
        {
         "name": "reserva_vaga_raca_cor",
         "rawType": "string",
         "type": "string"
        },
        {
         "name": "reserva_vaga_renda",
         "rawType": "string",
         "type": "string"
        },
        {
         "name": "reserva_vaga_publica",
         "rawType": "string",
         "type": "string"
        },
        {
         "name": "reserva_vaga_pcd",
         "rawType": "string",
         "type": "string"
        },
        {
         "name": "reserva_vaga_outros",
         "rawType": "string",
         "type": "string"
        },
        {
         "name": "reserva_vaga_nenhuma",
         "rawType": "string",
         "type": "string"
        },
        {
         "name": "redes_sociais",
         "rawType": "string",
         "type": "string"
        },
        {
         "name": "espaco_atividade_comunidade",
         "rawType": "string",
         "type": "string"
        },
        {
         "name": "espaco_equipamento_alunos",
         "rawType": "string",
         "type": "string"
        },
        {
         "name": "orgao_associacao_pais",
         "rawType": "string",
         "type": "string"
        },
        {
         "name": "orgao_associacao_pais_mestres",
         "rawType": "string",
         "type": "string"
        },
        {
         "name": "orgao_conselho_escolar",
         "rawType": "string",
         "type": "string"
        },
        {
         "name": "orgao_gremio_estudantil",
         "rawType": "string",
         "type": "string"
        },
        {
         "name": "orgao_outros",
         "rawType": "string",
         "type": "string"
        },
        {
         "name": "orgao_nenhum",
         "rawType": "string",
         "type": "string"
        },
        {
         "name": "tipo_proposta_pedagogica",
         "rawType": "string",
         "type": "string"
        },
        {
         "name": "tipo_aee",
         "rawType": "string",
         "type": "string"
        },
        {
         "name": "tipo_atividade_complementar",
         "rawType": "string",
         "type": "string"
        },
        {
         "name": "escolarizacao",
         "rawType": "string",
         "type": "string"
        },
        {
         "name": "mediacao_presencial",
         "rawType": "string",
         "type": "string"
        },
        {
         "name": "mediacao_semipresencial",
         "rawType": "string",
         "type": "string"
        },
        {
         "name": "mediacao_ead",
         "rawType": "string",
         "type": "string"
        },
        {
         "name": "regular",
         "rawType": "string",
         "type": "string"
        },
        {
         "name": "diurno",
         "rawType": "string",
         "type": "string"
        },
        {
         "name": "noturno",
         "rawType": "string",
         "type": "string"
        },
        {
         "name": "ead",
         "rawType": "string",
         "type": "string"
        },
        {
         "name": "educacao_basica",
         "rawType": "object",
         "type": "string"
        },
        {
         "name": "etapa_ensino_infantil",
         "rawType": "string",
         "type": "string"
        },
        {
         "name": "etapa_ensino_infantil_creche",
         "rawType": "string",
         "type": "string"
        },
        {
         "name": "etapa_ensino_infantil_pre_escola",
         "rawType": "string",
         "type": "string"
        },
        {
         "name": "etapa_ensino_fundamental",
         "rawType": "string",
         "type": "string"
        },
        {
         "name": "etapa_ensino_fundamental_anos_iniciais",
         "rawType": "string",
         "type": "string"
        },
        {
         "name": "etapa_ensino_fundamental_anos_finais",
         "rawType": "string",
         "type": "string"
        },
        {
         "name": "etapa_ensino_medio",
         "rawType": "string",
         "type": "string"
        },
        {
         "name": "etapa_ensino_profissional",
         "rawType": "string",
         "type": "string"
        },
        {
         "name": "etapa_ensino_profissional_tecnica",
         "rawType": "string",
         "type": "string"
        },
        {
         "name": "etapa_ensino_eja",
         "rawType": "string",
         "type": "string"
        },
        {
         "name": "etapa_ensino_eja_fundamental",
         "rawType": "string",
         "type": "string"
        },
        {
         "name": "etapa_ensino_eja_medio",
         "rawType": "string",
         "type": "string"
        },
        {
         "name": "etapa_ensino_especial",
         "rawType": "string",
         "type": "string"
        },
        {
         "name": "etapa_ensino_especial_comum",
         "rawType": "string",
         "type": "string"
        },
        {
         "name": "etapa_ensino_especial_exclusiva",
         "rawType": "string",
         "type": "string"
        },
        {
         "name": "etapa_ensino_creche_comum",
         "rawType": "object",
         "type": "string"
        },
        {
         "name": "etapa_ensino_pre_escola_comum",
         "rawType": "object",
         "type": "string"
        },
        {
         "name": "etapa_ensino_fundamental_anos_iniciais_comum",
         "rawType": "object",
         "type": "string"
        },
        {
         "name": "etapa_ensino_fundamental_anos_finais_comum",
         "rawType": "object",
         "type": "string"
        },
        {
         "name": "etapa_ensino_medio_comum",
         "rawType": "object",
         "type": "string"
        },
        {
         "name": "etapa_ensino_medio_integrado_comum",
         "rawType": "object",
         "type": "string"
        },
        {
         "name": "etapa_ensino_medio_normal_comum",
         "rawType": "object",
         "type": "string"
        },
        {
         "name": "etapa_ensino_profissional_comum",
         "rawType": "object",
         "type": "string"
        },
        {
         "name": "etapa_ensino_eja_fundamental_comum",
         "rawType": "object",
         "type": "string"
        },
        {
         "name": "etapa_ensino_eja_medio_comum",
         "rawType": "object",
         "type": "string"
        },
        {
         "name": "etapa_ensino_eja_profissional_comum",
         "rawType": "object",
         "type": "string"
        },
        {
         "name": "etapa_ensino_creche_especial_exclusiva",
         "rawType": "object",
         "type": "string"
        },
        {
         "name": "etapa_ensino_pre_escola_especial_exclusiva",
         "rawType": "object",
         "type": "string"
        },
        {
         "name": "etapa_ensino_fundamental_anos_iniciais_especial_exclusiva",
         "rawType": "object",
         "type": "string"
        },
        {
         "name": "etapa_ensino_fundamental_anos_finais_especial_exclusiva",
         "rawType": "object",
         "type": "string"
        },
        {
         "name": "etapa_ensino_medio_especial_exclusiva",
         "rawType": "object",
         "type": "string"
        },
        {
         "name": "etapa_ensino_medio_integrado_especial_exclusiva",
         "rawType": "object",
         "type": "string"
        },
        {
         "name": "etapa_ensino_medio_normal_especial_exclusiva",
         "rawType": "object",
         "type": "string"
        },
        {
         "name": "etapa_ensino_profissional_especial_exclusiva",
         "rawType": "object",
         "type": "string"
        },
        {
         "name": "etapa_ensino_eja_fundamental_especial_exclusiva",
         "rawType": "object",
         "type": "string"
        },
        {
         "name": "etapa_ensino_eja_medio_especial_exclusiva",
         "rawType": "object",
         "type": "string"
        },
        {
         "name": "quantidade_matricula_educacao_basica",
         "rawType": "string",
         "type": "string"
        },
        {
         "name": "quantidade_matricula_infantil",
         "rawType": "string",
         "type": "string"
        },
        {
         "name": "quantidade_matricula_infantil_creche",
         "rawType": "string",
         "type": "string"
        },
        {
         "name": "quantidade_matricula_infantil_pre_escola",
         "rawType": "string",
         "type": "string"
        },
        {
         "name": "quantidade_matricula_fundamental",
         "rawType": "string",
         "type": "string"
        },
        {
         "name": "quantidade_matricula_fundamental_anos_iniciais",
         "rawType": "string",
         "type": "string"
        },
        {
         "name": "quantidade_matricula_fundamental_1_ano",
         "rawType": "string",
         "type": "string"
        },
        {
         "name": "quantidade_matricula_fundamental_2_ano",
         "rawType": "string",
         "type": "string"
        },
        {
         "name": "quantidade_matricula_fundamental_3_ano",
         "rawType": "string",
         "type": "string"
        },
        {
         "name": "quantidade_matricula_fundamental_4_ano",
         "rawType": "string",
         "type": "string"
        },
        {
         "name": "quantidade_matricula_fundamental_5_ano",
         "rawType": "string",
         "type": "string"
        },
        {
         "name": "quantidade_matricula_fundamental_anos_finais",
         "rawType": "string",
         "type": "string"
        },
        {
         "name": "quantidade_matricula_fundamental_6_ano",
         "rawType": "string",
         "type": "string"
        },
        {
         "name": "quantidade_matricula_fundamental_7_ano",
         "rawType": "string",
         "type": "string"
        },
        {
         "name": "quantidade_matricula_fundamental_8_ano",
         "rawType": "string",
         "type": "string"
        },
        {
         "name": "quantidade_matricula_fundamental_9_ano",
         "rawType": "string",
         "type": "string"
        },
        {
         "name": "quantidade_matricula_medio",
         "rawType": "string",
         "type": "string"
        },
        {
         "name": "quantidade_matricula_medio_propedeutico",
         "rawType": "string",
         "type": "string"
        },
        {
         "name": "quantidade_matricula_medio_propedeutico_1_ano",
         "rawType": "string",
         "type": "string"
        },
        {
         "name": "quantidade_matricula_medio_propedeutico_2_ano",
         "rawType": "string",
         "type": "string"
        },
        {
         "name": "quantidade_matricula_medio_propedeutico_3_ano",
         "rawType": "string",
         "type": "string"
        },
        {
         "name": "quantidade_matricula_medio_propedeutico_4_ano",
         "rawType": "string",
         "type": "string"
        },
        {
         "name": "quantidade_matricula_medio_propedeutico_nao_seriado",
         "rawType": "string",
         "type": "string"
        },
        {
         "name": "quantidade_matricula_medio_tecnico",
         "rawType": "string",
         "type": "string"
        },
        {
         "name": "quantidade_matricula_medio_tecnico_1_ano",
         "rawType": "string",
         "type": "string"
        },
        {
         "name": "quantidade_matricula_medio_tecnico_2_ano",
         "rawType": "string",
         "type": "string"
        },
        {
         "name": "quantidade_matricula_medio_tecnico_3_ano",
         "rawType": "string",
         "type": "string"
        },
        {
         "name": "quantidade_matricula_medio_tecnico_4_ano",
         "rawType": "string",
         "type": "string"
        },
        {
         "name": "quantidade_matricula_medio_tecnico_nao_seriado",
         "rawType": "string",
         "type": "string"
        },
        {
         "name": "quantidade_matricula_medio_magisterio",
         "rawType": "string",
         "type": "string"
        },
        {
         "name": "quantidade_matricula_medio_magisterio_1_ano",
         "rawType": "string",
         "type": "string"
        },
        {
         "name": "quantidade_matricula_medio_magisterio_2_ano",
         "rawType": "string",
         "type": "string"
        },
        {
         "name": "quantidade_matricula_medio_magisterio_3_ano",
         "rawType": "string",
         "type": "string"
        },
        {
         "name": "quantidade_matricula_medio_magisterio_4_ano",
         "rawType": "string",
         "type": "string"
        },
        {
         "name": "quantidade_matricula_profissional",
         "rawType": "string",
         "type": "string"
        },
        {
         "name": "quantidade_matricula_profissional_tecnica",
         "rawType": "string",
         "type": "string"
        },
        {
         "name": "quantidade_matricula_profissional_tecnica_concomitante",
         "rawType": "string",
         "type": "string"
        },
        {
         "name": "quantidade_matricula_profissional_tecnica_subsequente",
         "rawType": "string",
         "type": "string"
        },
        {
         "name": "quantidade_matricula_profissional_fic_concomitante",
         "rawType": "string",
         "type": "string"
        },
        {
         "name": "quantidade_matricula_eja",
         "rawType": "string",
         "type": "string"
        },
        {
         "name": "quantidade_matricula_eja_fundamental",
         "rawType": "string",
         "type": "string"
        },
        {
         "name": "quantidade_matricula_eja_fundamental_anos_iniciais",
         "rawType": "string",
         "type": "string"
        },
        {
         "name": "quantidade_matricula_eja_fundamental_anos_finais",
         "rawType": "string",
         "type": "string"
        },
        {
         "name": "quantidade_matricula_eja_fundamental_fic",
         "rawType": "string",
         "type": "string"
        },
        {
         "name": "quantidade_matricula_eja_medio",
         "rawType": "string",
         "type": "string"
        },
        {
         "name": "quantidade_matricula_eja_medio_nao_profissionalizante",
         "rawType": "string",
         "type": "string"
        },
        {
         "name": "quantidade_matricula_eja_medio_fic",
         "rawType": "string",
         "type": "string"
        },
        {
         "name": "quantidade_matricula_eja_medio_tecnico",
         "rawType": "string",
         "type": "string"
        },
        {
         "name": "quantidade_matricula_especial",
         "rawType": "string",
         "type": "string"
        },
        {
         "name": "quantidade_matricula_especial_comum",
         "rawType": "string",
         "type": "string"
        },
        {
         "name": "quantidade_matricula_especial_exclusiva",
         "rawType": "string",
         "type": "string"
        },
        {
         "name": "quantidade_matricula_feminino",
         "rawType": "string",
         "type": "string"
        },
        {
         "name": "quantidade_matricula_masculino",
         "rawType": "string",
         "type": "string"
        },
        {
         "name": "quantidade_matricula_nao_declarada",
         "rawType": "string",
         "type": "string"
        },
        {
         "name": "quantidade_matricula_branca",
         "rawType": "string",
         "type": "string"
        },
        {
         "name": "quantidade_matricula_preta",
         "rawType": "string",
         "type": "string"
        },
        {
         "name": "quantidade_matricula_parda",
         "rawType": "string",
         "type": "string"
        },
        {
         "name": "quantidade_matricula_amarela",
         "rawType": "string",
         "type": "string"
        },
        {
         "name": "quantidade_matricula_indigena",
         "rawType": "string",
         "type": "string"
        },
        {
         "name": "quantidade_matricula_idade_0_3",
         "rawType": "string",
         "type": "string"
        },
        {
         "name": "quantidade_matricula_idade_4_5",
         "rawType": "string",
         "type": "string"
        },
        {
         "name": "quantidade_matricula_idade_6_10",
         "rawType": "string",
         "type": "string"
        },
        {
         "name": "quantidade_matricula_idade_11_14",
         "rawType": "string",
         "type": "string"
        },
        {
         "name": "quantidade_matricula_idade_15_17",
         "rawType": "string",
         "type": "string"
        },
        {
         "name": "quantidade_matricula_idade_18",
         "rawType": "string",
         "type": "string"
        },
        {
         "name": "quantidade_matricula_diurno",
         "rawType": "string",
         "type": "string"
        },
        {
         "name": "quantidade_matricula_noturno",
         "rawType": "string",
         "type": "string"
        },
        {
         "name": "quantidade_matricula_ead",
         "rawType": "string",
         "type": "string"
        },
        {
         "name": "quantidade_matricula_infantil_integral",
         "rawType": "string",
         "type": "string"
        },
        {
         "name": "quantidade_matricula_infantil_creche_integral",
         "rawType": "string",
         "type": "string"
        },
        {
         "name": "quantidade_matricula_infantil_pre_escola_integral",
         "rawType": "string",
         "type": "string"
        },
        {
         "name": "quantidade_matricula_fundamental_integral",
         "rawType": "string",
         "type": "string"
        },
        {
         "name": "quantidade_matricula_fundamental_anos_iniciais_integral",
         "rawType": "string",
         "type": "string"
        },
        {
         "name": "quantidade_matricula_fundamental_anos_finais_integral",
         "rawType": "string",
         "type": "string"
        },
        {
         "name": "quantidade_matricula_medio_integral",
         "rawType": "string",
         "type": "string"
        },
        {
         "name": "quantidade_matricula_zona_residencia_urbana",
         "rawType": "string",
         "type": "string"
        },
        {
         "name": "quantidade_matricula_zona_residencia_rural",
         "rawType": "string",
         "type": "string"
        },
        {
         "name": "quantidade_matricula_zona_residencia_nao_aplicavel",
         "rawType": "string",
         "type": "string"
        },
        {
         "name": "quantidade_matricula_utiliza_transporte_publico",
         "rawType": "string",
         "type": "string"
        },
        {
         "name": "quantidade_matricula_transporte_estadual",
         "rawType": "string",
         "type": "string"
        },
        {
         "name": "quantidade_matricula_transporte_municipal",
         "rawType": "string",
         "type": "string"
        },
        {
         "name": "quantidade_docente_educacao_basica",
         "rawType": "string",
         "type": "string"
        },
        {
         "name": "quantidade_docente_infantil",
         "rawType": "string",
         "type": "string"
        },
        {
         "name": "quantidade_docente_infantil_creche",
         "rawType": "string",
         "type": "string"
        },
        {
         "name": "quantidade_docente_infantil_pre_escola",
         "rawType": "string",
         "type": "string"
        },
        {
         "name": "quantidade_docente_fundamental",
         "rawType": "string",
         "type": "string"
        },
        {
         "name": "quantidade_docente_fundamental_anos_iniciais",
         "rawType": "string",
         "type": "string"
        },
        {
         "name": "quantidade_docente_fundamental_anos_finais",
         "rawType": "string",
         "type": "string"
        },
        {
         "name": "quantidade_docente_medio",
         "rawType": "string",
         "type": "string"
        },
        {
         "name": "quantidade_docente_profissional",
         "rawType": "string",
         "type": "string"
        },
        {
         "name": "quantidade_docente_profissional_tecnica",
         "rawType": "string",
         "type": "string"
        },
        {
         "name": "quantidade_docente_eja",
         "rawType": "string",
         "type": "string"
        },
        {
         "name": "quantidade_docente_eja_fundamental",
         "rawType": "string",
         "type": "string"
        },
        {
         "name": "quantidade_docente_eja_medio",
         "rawType": "string",
         "type": "string"
        },
        {
         "name": "quantidade_docente_especial",
         "rawType": "string",
         "type": "string"
        },
        {
         "name": "quantidade_docente_especial_comum",
         "rawType": "string",
         "type": "string"
        },
        {
         "name": "quantidade_docente_especial_exclusiva",
         "rawType": "string",
         "type": "string"
        },
        {
         "name": "quantidade_turma_educacao_basica",
         "rawType": "string",
         "type": "string"
        },
        {
         "name": "quantidade_turma_infantil",
         "rawType": "string",
         "type": "string"
        },
        {
         "name": "quantidade_turma_infantil_integral",
         "rawType": "string",
         "type": "string"
        },
        {
         "name": "quantidade_turma_infantil_creche",
         "rawType": "string",
         "type": "string"
        },
        {
         "name": "quantidade_turma_infantil_creche_integral",
         "rawType": "string",
         "type": "string"
        },
        {
         "name": "quantidade_turma_infantil_pre_escola",
         "rawType": "string",
         "type": "string"
        },
        {
         "name": "quantidade_turma_infantil_pre_escola_integral",
         "rawType": "string",
         "type": "string"
        },
        {
         "name": "quantidade_turma_fundamental",
         "rawType": "string",
         "type": "string"
        },
        {
         "name": "quantidade_turma_fundamental_integral",
         "rawType": "string",
         "type": "string"
        },
        {
         "name": "quantidade_turma_fundamental_anos_iniciais",
         "rawType": "string",
         "type": "string"
        },
        {
         "name": "quantidade_turma_fundamental_anos_iniciais_integral",
         "rawType": "string",
         "type": "string"
        },
        {
         "name": "quantidade_turma_fundamental_anos_finais",
         "rawType": "string",
         "type": "string"
        },
        {
         "name": "quantidade_turma_fundamental_anos_finais_integral",
         "rawType": "string",
         "type": "string"
        },
        {
         "name": "quantidade_turma_medio",
         "rawType": "string",
         "type": "string"
        },
        {
         "name": "quantidade_turma_medio_integral",
         "rawType": "string",
         "type": "string"
        },
        {
         "name": "quantidade_turma_profissional",
         "rawType": "string",
         "type": "string"
        },
        {
         "name": "quantidade_turma_profissional_tecnica",
         "rawType": "string",
         "type": "string"
        },
        {
         "name": "quantidade_turma_eja",
         "rawType": "string",
         "type": "string"
        },
        {
         "name": "quantidade_turma_eja_fundamental",
         "rawType": "string",
         "type": "string"
        },
        {
         "name": "quantidade_turma_eja_medio",
         "rawType": "string",
         "type": "string"
        },
        {
         "name": "quantidade_turma_especial",
         "rawType": "string",
         "type": "string"
        },
        {
         "name": "quantidade_turma_especial_comum",
         "rawType": "string",
         "type": "string"
        },
        {
         "name": "quantidade_turma_especial_exclusiva",
         "rawType": "string",
         "type": "string"
        },
        {
         "name": "quantidade_turma_diurno",
         "rawType": "string",
         "type": "string"
        },
        {
         "name": "quantidade_turma_noturno",
         "rawType": "string",
         "type": "string"
        },
        {
         "name": "quantidade_turma_ead",
         "rawType": "string",
         "type": "string"
        }
       ],
       "conversionMethod": "pd.DataFrame",
       "ref": "c29c12dd-faa8-4daa-8241-7889bfb43061",
       "rows": [
        [
         "0",
         "2024",
         "RO",
         "1100015",
         "110001505",
         "11022558",
         "2",
         null,
         "2",
         "2",
         "1",
         "00015",
         "12FEB2024:00:00:00",
         "13DEC2024:00:00:00",
         "1",
         "0",
         "0",
         "0",
         "0",
         null,
         "",
         "",
         null,
         null,
         null,
         null,
         null,
         null,
         null,
         null,
         null,
         null,
         null,
         null,
         null,
         null,
         null,
         null,
         null,
         null,
         "",
         "",
         "",
         null,
         null,
         null,
         null,
         null,
         null,
         null,
         null,
         null,
         "1",
         "2",
         null,
         null,
         "1",
         "1",
         "",
         "0",
         "0",
         "0",
         "",
         "",
         "0",
         null,
         "0",
         "0",
         "0",
         "",
         "1",
         "0",
         "1",
         "0",
         "0",
         "0",
         "0",
         "",
         "0",
         "",
         "1",
         "0",
         "0",
         "1",
         "0",
         "1",
         "0",
         "0",
         "1",
         "1",
         "0",
         "0",
         "",
         "",
         "",
         "0",
         "0",
         "0",
         "1",
         "0",
         "0",
         "0",
         "",
         "",
         "1",
         "0",
         "0",
         "0",
         "0",
         "",
         "0",
         "0",
         "1",
         "0",
         "0",
         "0",
         "0",
         "0",
         "0",
         "0",
         "0",
         "0",
         "0",
         "0",
         "0",
         "0",
         "0",
         "0",
         "0",
         "0",
         "0",
         "0",
         "0",
         "0",
         "0",
         "0",
         "0",
         "0",
         "0",
         "1",
         "0",
         "",
         "",
         "0",
         "0",
         "0",
         "0",
         "0",
         "0",
         "0",
         "0",
         "0",
         "1",
         "",
         "1",
         "1",
         "0",
         "0",
         "0",
         "0",
         "",
         "0",
         "0",
         "",
         "1",
         "",
         "0",
         "",
         "0",
         "0",
         "0",
         "0",
         "1",
         "1",
         "0",
         "0",
         "0",
         "0",
         "0",
         "0",
         "",
         "",
         "",
         "",
         "",
         "",
         "",
         "",
         "",
         "0",
         "0",
         "1",
         "1",
         "0",
         "0",
         "",
         "",
         "1",
         "0",
         "1",
         "0",
         "0",
         "0",
         "0",
         "9",
         "0",
         "",
         "0",
         "0",
         "0",
         "0",
         "0",
         "0",
         "0",
         "0",
         "0",
         "0",
         "0",
         "0",
         "0",
         "0",
         "0",
         "0",
         "0",
         "0",
         "0",
         "0",
         "0",
         "0",
         "0",
         "0",
         "0",
         "0",
         "0",
         "0",
         "0",
         "0",
         "0",
         "0",
         "1",
         "",
         "",
         "",
         "",
         "",
         "",
         "0",
         "0",
         "0",
         "0",
         "0",
         "1",
         "0",
         "0",
         "1",
         "1",
         "0",
         "0",
         "0",
         "0",
         "",
         "",
         "",
         "1",
         "3",
         "171",
         null,
         null,
         "",
         "",
         "0",
         null,
         null,
         null,
         null,
         null,
         null,
         "0",
         "1",
         "1",
         "0",
         "0",
         "1",
         "0",
         "0",
         "0",
         "1",
         "0",
         "0",
         "1",
         "1",
         "0",
         "0",
         "1",
         "1",
         "0",
         "0",
         "",
         "0",
         "0",
         "0",
         "1",
         "1",
         "0",
         "0",
         "0",
         "0",
         "0",
         "0",
         "0",
         "0",
         "0",
         "0",
         "",
         "",
         "",
         "",
         "",
         "",
         "",
         "",
         "",
         "",
         "",
         "",
         "",
         "",
         "",
         "",
         "",
         "",
         "",
         "",
         "",
         "4",
         "0",
         "0",
         "0",
         "4",
         "4",
         "1",
         "1",
         "0",
         "1",
         "1",
         "0",
         "0",
         "0",
         "0",
         "0",
         "0",
         "0",
         "0",
         "0",
         "0",
         "0",
         "0",
         "0",
         "0",
         "0",
         "0",
         "0",
         "0",
         "0",
         "0",
         "0",
         "0",
         "0",
         "0",
         "0",
         "0",
         "0",
         "0",
         "0",
         "0",
         "0",
         "0",
         "0",
         "0",
         "0",
         "0",
         "0",
         "0",
         "0",
         "0",
         "2",
         "2",
         "0",
         "0",
         "0",
         "0",
         "0",
         "4",
         "0",
         "0",
         "3",
         "1",
         "0",
         "0",
         "4",
         "0",
         "0",
         "0",
         "0",
         "0",
         "0",
         "0",
         "0",
         "0",
         "0",
         "4",
         "0",
         "0",
         "0",
         "0",
         "1",
         "0",
         "0",
         "0",
         "1",
         "1",
         "0",
         "0",
         "0",
         "0",
         "0",
         "0",
         "0",
         "0",
         "0",
         "0",
         "4",
         "0",
         "0",
         "0",
         "0",
         "0",
         "0",
         "4",
         "0",
         "4",
         "0",
         "0",
         "0",
         "0",
         "0",
         "0",
         "0",
         "0",
         "0",
         "0",
         "0",
         "0",
         "0",
         "4",
         "0",
         "0"
        ],
        [
         "1",
         "2024",
         "RO",
         "1100015",
         "110001505",
         "11024275",
         "2",
         null,
         "1",
         "0",
         "1",
         "00015",
         "09FEB2024:00:00:00",
         "19DEC2024:00:00:00",
         "1",
         "0",
         "0",
         "0",
         "0",
         null,
         "",
         "",
         null,
         null,
         null,
         null,
         null,
         null,
         null,
         null,
         null,
         null,
         null,
         null,
         null,
         null,
         null,
         null,
         null,
         null,
         "",
         "",
         "",
         null,
         null,
         null,
         null,
         null,
         null,
         null,
         null,
         null,
         "1",
         "2",
         null,
         null,
         "1",
         "1",
         "",
         "0",
         "0",
         "0",
         "",
         "",
         "0",
         null,
         "1",
         "0",
         "1",
         "",
         "1",
         "1",
         "0",
         "0",
         "0",
         "0",
         "1",
         "",
         "0",
         "",
         "0",
         "0",
         "0",
         "1",
         "1",
         "0",
         "0",
         "1",
         "0",
         "0",
         "0",
         "0",
         "",
         "",
         "",
         "0",
         "0",
         "0",
         "1",
         "0",
         "1",
         "0",
         "",
         "",
         "1",
         "0",
         "1",
         "1",
         "1",
         "",
         "1",
         "1",
         "1",
         "1",
         "0",
         "0",
         "0",
         "1",
         "0",
         "1",
         "0",
         "0",
         "0",
         "1",
         "1",
         "0",
         "1",
         "0",
         "0",
         "0",
         "0",
         "0",
         "0",
         "1",
         "1",
         "1",
         "0",
         "1",
         "0",
         "0",
         "0",
         "",
         "",
         "0",
         "1",
         "0",
         "1",
         "1",
         "0",
         "0",
         "0",
         "1",
         "0",
         "",
         "13",
         "9",
         "4",
         "13",
         "13",
         "0",
         "",
         "1",
         "0",
         "",
         "1",
         "",
         "1",
         "",
         "0",
         "0",
         "0",
         "0",
         "1",
         "12",
         "1",
         "3",
         "1",
         "2",
         "1",
         "12",
         "",
         "",
         "",
         "",
         "",
         "",
         "",
         "",
         "",
         "1",
         "19",
         "1",
         "4",
         "0",
         "0",
         "",
         "",
         "1",
         "1",
         "1",
         "1",
         "0",
         "1",
         "1",
         "3",
         "1",
         "",
         "1",
         "2",
         "1",
         "1",
         "1",
         "4",
         "0",
         "0",
         "0",
         "0",
         "0",
         "0",
         "0",
         "0",
         "0",
         "0",
         "1",
         "1",
         "1",
         "3",
         "1",
         "1",
         "0",
         "0",
         "1",
         "2",
         "1",
         "1",
         "0",
         "0",
         "0",
         "0",
         "1",
         "",
         "",
         "",
         "",
         "",
         "",
         "0",
         "0",
         "1",
         "1",
         "0",
         "1",
         "1",
         "0",
         "1",
         "0",
         "0",
         "0",
         "0",
         "0",
         "",
         "",
         "",
         "0",
         null,
         null,
         null,
         null,
         "",
         "",
         "0",
         null,
         null,
         null,
         null,
         null,
         null,
         "1",
         "0",
         "0",
         "0",
         "0",
         "1",
         "0",
         "0",
         "0",
         "1",
         "0",
         "0",
         "1",
         "1",
         "0",
         "0",
         "0",
         "0",
         "1",
         "0",
         "",
         "0",
         "0",
         "0",
         "0",
         "0",
         "0",
         "0",
         "0",
         "0",
         "1",
         "1",
         "1",
         "1",
         "1",
         "0",
         "",
         "",
         "",
         "",
         "",
         "",
         "",
         "",
         "",
         "",
         "",
         "",
         "",
         "",
         "",
         "",
         "",
         "",
         "",
         "",
         "",
         "131",
         "0",
         "0",
         "0",
         "0",
         "0",
         "0",
         "0",
         "0",
         "0",
         "0",
         "0",
         "0",
         "0",
         "0",
         "0",
         "0",
         "0",
         "0",
         "0",
         "0",
         "0",
         "0",
         "0",
         "0",
         "0",
         "0",
         "0",
         "0",
         "0",
         "0",
         "0",
         "0",
         "0",
         "0",
         "0",
         "0",
         "0",
         "0",
         "131",
         "54",
         "0",
         "54",
         "0",
         "77",
         "77",
         "0",
         "0",
         "2",
         "2",
         "0",
         "84",
         "47",
         "0",
         "33",
         "6",
         "88",
         "0",
         "4",
         "0",
         "0",
         "0",
         "0",
         "13",
         "118",
         "0",
         "131",
         "0",
         "0",
         "0",
         "0",
         "0",
         "0",
         "0",
         "0",
         "80",
         "51",
         "0",
         "0",
         "0",
         "0",
         "8",
         "0",
         "0",
         "0",
         "0",
         "0",
         "0",
         "0",
         "0",
         "0",
         "8",
         "6",
         "8",
         "6",
         "6",
         "0",
         "4",
         "0",
         "0",
         "0",
         "0",
         "0",
         "0",
         "0",
         "0",
         "0",
         "0",
         "0",
         "0",
         "0",
         "0",
         "0",
         "0",
         "4",
         "2",
         "2",
         "2",
         "2",
         "0",
         "0",
         "4",
         "0"
        ],
        [
         "2",
         "2024",
         "RO",
         "1100015",
         "110001505",
         "11024291",
         "3",
         null,
         "2",
         null,
         "2",
         "00015",
         null,
         null,
         null,
         null,
         null,
         null,
         null,
         null,
         "",
         "",
         null,
         null,
         null,
         null,
         null,
         null,
         null,
         null,
         null,
         null,
         null,
         null,
         null,
         null,
         null,
         null,
         null,
         null,
         "",
         "",
         "",
         null,
         null,
         null,
         null,
         null,
         null,
         null,
         null,
         null,
         null,
         null,
         null,
         null,
         null,
         null,
         "",
         null,
         null,
         null,
         "",
         "",
         null,
         null,
         null,
         null,
         null,
         "",
         null,
         null,
         null,
         null,
         null,
         null,
         null,
         "",
         null,
         "",
         null,
         null,
         null,
         null,
         null,
         null,
         null,
         null,
         null,
         null,
         null,
         null,
         "",
         "",
         "",
         null,
         null,
         null,
         null,
         null,
         null,
         null,
         "",
         "",
         null,
         null,
         null,
         null,
         null,
         "",
         null,
         null,
         null,
         null,
         null,
         null,
         null,
         null,
         null,
         null,
         null,
         null,
         null,
         null,
         null,
         null,
         null,
         null,
         null,
         null,
         null,
         null,
         null,
         null,
         null,
         null,
         null,
         null,
         null,
         null,
         null,
         "",
         "",
         null,
         null,
         null,
         null,
         null,
         null,
         null,
         null,
         null,
         null,
         "",
         null,
         null,
         null,
         null,
         null,
         null,
         "",
         null,
         null,
         "",
         null,
         "",
         null,
         "",
         null,
         null,
         null,
         null,
         null,
         null,
         null,
         null,
         null,
         null,
         null,
         null,
         "",
         "",
         "",
         "",
         "",
         "",
         "",
         "",
         "",
         null,
         null,
         null,
         null,
         null,
         null,
         "",
         "",
         null,
         null,
         null,
         null,
         null,
         null,
         null,
         null,
         null,
         "",
         null,
         null,
         null,
         null,
         null,
         null,
         null,
         null,
         null,
         null,
         null,
         null,
         null,
         null,
         null,
         null,
         null,
         null,
         null,
         null,
         null,
         null,
         null,
         null,
         null,
         null,
         null,
         null,
         null,
         null,
         null,
         null,
         null,
         "",
         "",
         "",
         "",
         "",
         "",
         null,
         null,
         null,
         null,
         null,
         null,
         null,
         null,
         null,
         null,
         null,
         null,
         null,
         null,
         "",
         "",
         "",
         null,
         null,
         null,
         null,
         null,
         "",
         "",
         null,
         null,
         null,
         null,
         null,
         null,
         null,
         null,
         null,
         null,
         null,
         null,
         null,
         null,
         null,
         null,
         null,
         null,
         null,
         null,
         null,
         null,
         null,
         null,
         null,
         null,
         null,
         "",
         null,
         null,
         null,
         null,
         null,
         null,
         null,
         null,
         null,
         null,
         null,
         null,
         null,
         null,
         null,
         "",
         "",
         "",
         "",
         "",
         "",
         "",
         "",
         "",
         "",
         "",
         "",
         "",
         "",
         "",
         "",
         "",
         "",
         "",
         "",
         "",
         null,
         null,
         null,
         null,
         null,
         null,
         null,
         null,
         null,
         null,
         null,
         null,
         null,
         null,
         null,
         null,
         null,
         null,
         null,
         null,
         null,
         null,
         null,
         null,
         null,
         null,
         null,
         null,
         null,
         null,
         null,
         null,
         null,
         null,
         null,
         null,
         null,
         null,
         null,
         null,
         null,
         null,
         null,
         null,
         null,
         null,
         null,
         null,
         null,
         null,
         null,
         null,
         null,
         null,
         null,
         null,
         null,
         null,
         null,
         null,
         null,
         null,
         null,
         null,
         null,
         null,
         null,
         null,
         null,
         null,
         null,
         null,
         null,
         null,
         null,
         null,
         null,
         null,
         null,
         null,
         null,
         null,
         null,
         null,
         null,
         null,
         null,
         null,
         null,
         null,
         null,
         null,
         null,
         null,
         null,
         null,
         null,
         null,
         null,
         null,
         null,
         null,
         null,
         null,
         null,
         null,
         null,
         null,
         null,
         null,
         null,
         null,
         null,
         null,
         null,
         null,
         null,
         null,
         null,
         null,
         null,
         null,
         null
        ],
        [
         "3",
         "2024",
         "RO",
         "1100015",
         "110001505",
         "11024666",
         "3",
         null,
         "2",
         "0",
         "1",
         "00015",
         "08FEB2024:00:00:00",
         "14DEC2024:00:00:00",
         "1",
         "0",
         "0",
         "0",
         "0",
         null,
         "",
         "",
         null,
         null,
         null,
         null,
         null,
         null,
         null,
         null,
         null,
         null,
         null,
         null,
         null,
         null,
         null,
         null,
         null,
         null,
         "",
         "",
         "",
         null,
         null,
         null,
         null,
         null,
         null,
         null,
         null,
         null,
         "1",
         "3",
         null,
         null,
         "1",
         "1",
         "",
         "0",
         "0",
         "0",
         "",
         "",
         "0",
         null,
         "0",
         "0",
         "1",
         "",
         "1",
         "0",
         "1",
         "0",
         "0",
         "0",
         "1",
         "",
         "0",
         "",
         "0",
         "0",
         "0",
         "1",
         "1",
         "0",
         "0",
         "0",
         "1",
         "0",
         "0",
         "0",
         "",
         "",
         "",
         "0",
         "0",
         "0",
         "1",
         "0",
         "0",
         "0",
         "",
         "",
         "1",
         "0",
         "1",
         "0",
         "1",
         "",
         "0",
         "0",
         "1",
         "1",
         "0",
         "0",
         "0",
         "0",
         "0",
         "1",
         "0",
         "0",
         "0",
         "1",
         "1",
         "0",
         "0",
         "0",
         "0",
         "0",
         "0",
         "0",
         "0",
         "0",
         "0",
         "1",
         "0",
         "0",
         "0",
         "0",
         "0",
         "",
         "",
         "0",
         "0",
         "0",
         "0",
         "0",
         "0",
         "0",
         "0",
         "0",
         "1",
         "",
         "9",
         "9",
         "0",
         "7",
         "0",
         "0",
         "",
         "1",
         "0",
         "",
         "0",
         "",
         "1",
         "",
         "0",
         "0",
         "0",
         "0",
         "1",
         "1",
         "1",
         "2",
         "0",
         "0",
         "0",
         "0",
         "",
         "",
         "",
         "",
         "",
         "",
         "",
         "",
         "",
         "0",
         "0",
         "0",
         "0",
         "0",
         "0",
         "",
         "",
         "1",
         "0",
         "1",
         "0",
         "0",
         "0",
         "0",
         "1",
         "0",
         "",
         "0",
         "0",
         "1",
         "1",
         "0",
         "0",
         "0",
         "0",
         "0",
         "0",
         "0",
         "0",
         "0",
         "0",
         "0",
         "0",
         "1",
         "4",
         "1",
         "1",
         "0",
         "0",
         "1",
         "2",
         "0",
         "0",
         "0",
         "0",
         "0",
         "0",
         "0",
         "0",
         "1",
         "",
         "",
         "",
         "",
         "",
         "",
         "1",
         "0",
         "0",
         "1",
         "0",
         "1",
         "0",
         "0",
         "0",
         "0",
         "0",
         "0",
         "0",
         "0",
         "",
         "",
         "",
         "0",
         null,
         null,
         null,
         null,
         "",
         "",
         "0",
         null,
         null,
         null,
         null,
         null,
         null,
         "0",
         "0",
         "1",
         "0",
         "0",
         "1",
         "0",
         "0",
         "0",
         "1",
         "0",
         "0",
         "1",
         "1",
         "0",
         "0",
         "1",
         "1",
         "0",
         "0",
         "",
         "1",
         "0",
         "1",
         "1",
         "1",
         "1",
         "0",
         "0",
         "0",
         "0",
         "0",
         "0",
         "1",
         "1",
         "0",
         "",
         "",
         "",
         "",
         "",
         "",
         "",
         "",
         "",
         "",
         "",
         "",
         "",
         "",
         "",
         "",
         "",
         "",
         "",
         "",
         "",
         "169",
         "32",
         "0",
         "32",
         "137",
         "66",
         "17",
         "15",
         "18",
         "13",
         "3",
         "71",
         "18",
         "16",
         "21",
         "16",
         "0",
         "0",
         "0",
         "0",
         "0",
         "0",
         "0",
         "0",
         "0",
         "0",
         "0",
         "0",
         "0",
         "0",
         "0",
         "0",
         "0",
         "0",
         "0",
         "0",
         "0",
         "0",
         "0",
         "0",
         "0",
         "0",
         "0",
         "0",
         "0",
         "0",
         "0",
         "0",
         "8",
         "8",
         "0",
         "76",
         "93",
         "0",
         "73",
         "3",
         "89",
         "0",
         "4",
         "0",
         "29",
         "73",
         "63",
         "4",
         "0",
         "169",
         "0",
         "0",
         "0",
         "0",
         "0",
         "0",
         "0",
         "0",
         "0",
         "0",
         "169",
         "0",
         "132",
         "0",
         "132",
         "13",
         "2",
         "0",
         "2",
         "11",
         "3",
         "8",
         "0",
         "0",
         "0",
         "0",
         "0",
         "0",
         "10",
         "10",
         "0",
         "10",
         "2",
         "0",
         "0",
         "0",
         "2",
         "0",
         "8",
         "0",
         "3",
         "0",
         "5",
         "0",
         "0",
         "0",
         "0",
         "0",
         "0",
         "0",
         "0",
         "7",
         "7",
         "0",
         "10",
         "0",
         "0"
        ],
        [
         "4",
         "2024",
         "RO",
         "1100015",
         "110001505",
         "11024682",
         "2",
         null,
         "1",
         "0",
         "1",
         "00015",
         "09FEB2024:00:00:00",
         "14DEC2024:00:00:00",
         "1",
         "0",
         "0",
         "0",
         "0",
         null,
         "",
         "",
         null,
         null,
         null,
         null,
         null,
         null,
         null,
         null,
         null,
         null,
         null,
         null,
         null,
         null,
         null,
         null,
         null,
         null,
         "",
         "",
         "",
         null,
         null,
         null,
         null,
         null,
         null,
         null,
         null,
         null,
         "1",
         "2",
         null,
         null,
         "1",
         "1",
         "",
         "0",
         "0",
         "0",
         "",
         "",
         "0",
         null,
         "1",
         "0",
         "0",
         "",
         "1",
         "1",
         "1",
         "0",
         "0",
         "0",
         "1",
         "",
         "0",
         "",
         "0",
         "0",
         "0",
         "1",
         "1",
         "0",
         "0",
         "1",
         "0",
         "0",
         "0",
         "0",
         "",
         "",
         "",
         "0",
         "1",
         "1",
         "0",
         "1",
         "0",
         "0",
         "",
         "",
         "1",
         "0",
         "1",
         "1",
         "1",
         "",
         "1",
         "1",
         "1",
         "1",
         "0",
         "0",
         "0",
         "1",
         "0",
         "1",
         "1",
         "0",
         "0",
         "1",
         "1",
         "0",
         "1",
         "0",
         "0",
         "0",
         "0",
         "0",
         "0",
         "1",
         "1",
         "1",
         "0",
         "1",
         "1",
         "0",
         "0",
         "",
         "",
         "0",
         "1",
         "0",
         "1",
         "1",
         "1",
         "0",
         "0",
         "0",
         "0",
         "",
         "33",
         "9",
         "24",
         "9",
         "33",
         "0",
         "",
         "1",
         "0",
         "",
         "1",
         "",
         "1",
         "",
         "1",
         "0",
         "0",
         "0",
         "1",
         "7",
         "1",
         "19",
         "0",
         "0",
         "1",
         "7",
         "",
         "",
         "",
         "",
         "",
         "",
         "",
         "",
         "",
         "1",
         "19",
         "0",
         "0",
         "0",
         "0",
         "",
         "",
         "1",
         "1",
         "1",
         "1",
         "0",
         "1",
         "0",
         "3",
         "1",
         "",
         "1",
         "3",
         "1",
         "14",
         "1",
         "3",
         "0",
         "0",
         "0",
         "0",
         "0",
         "0",
         "0",
         "0",
         "0",
         "0",
         "1",
         "14",
         "1",
         "10",
         "1",
         "1",
         "0",
         "0",
         "1",
         "2",
         "1",
         "1",
         "0",
         "0",
         "0",
         "0",
         "1",
         "",
         "",
         "",
         "",
         "",
         "",
         "0",
         "0",
         "1",
         "1",
         "1",
         "1",
         "1",
         "0",
         "1",
         "0",
         "0",
         "0",
         "0",
         "0",
         "",
         "",
         "",
         "0",
         null,
         null,
         null,
         null,
         "",
         "",
         "0",
         null,
         null,
         null,
         null,
         null,
         null,
         "1",
         "1",
         "0",
         "0",
         "0",
         "1",
         "0",
         "0",
         "0",
         "1",
         "1",
         "0",
         "1",
         "1",
         "0",
         "0",
         "1",
         "1",
         "1",
         "0",
         "",
         "0",
         "0",
         "0",
         "1",
         "0",
         "1",
         "1",
         "0",
         "0",
         "0",
         "0",
         "0",
         "1",
         "1",
         "0",
         "",
         "",
         "",
         "",
         "",
         "",
         "",
         "",
         "",
         "",
         "",
         "",
         "",
         "",
         "",
         "",
         "",
         "",
         "",
         "",
         "",
         "598",
         "0",
         "0",
         "0",
         "237",
         "0",
         "0",
         "0",
         "0",
         "0",
         "0",
         "237",
         "62",
         "65",
         "59",
         "51",
         "361",
         "361",
         "111",
         "148",
         "102",
         "0",
         "0",
         "0",
         "0",
         "0",
         "0",
         "0",
         "0",
         "0",
         "0",
         "0",
         "0",
         "0",
         "0",
         "0",
         "0",
         "0",
         "0",
         "0",
         "0",
         "0",
         "0",
         "0",
         "0",
         "0",
         "0",
         "0",
         "27",
         "27",
         "0",
         "281",
         "317",
         "4",
         "191",
         "21",
         "371",
         "1",
         "10",
         "0",
         "0",
         "24",
         "217",
         "310",
         "47",
         "481",
         "117",
         "0",
         "0",
         "0",
         "0",
         "13",
         "0",
         "13",
         "0",
         "302",
         "296",
         "0",
         "254",
         "0",
         "254",
         "43",
         "0",
         "0",
         "0",
         "13",
         "0",
         "13",
         "38",
         "0",
         "0",
         "0",
         "0",
         "0",
         "42",
         "42",
         "0",
         "40",
         "0",
         "0",
         "0",
         "0",
         "0",
         "0",
         "11",
         "0",
         "0",
         "0",
         "11",
         "0",
         "29",
         "0",
         "0",
         "0",
         "0",
         "0",
         "0",
         "16",
         "16",
         "0",
         "35",
         "5",
         "0"
        ]
       ],
       "shape": {
        "columns": 456,
        "rows": 5
       }
      },
      "text/html": [
       "<div>\n",
       "<style scoped>\n",
       "    .dataframe tbody tr th:only-of-type {\n",
       "        vertical-align: middle;\n",
       "    }\n",
       "\n",
       "    .dataframe tbody tr th {\n",
       "        vertical-align: top;\n",
       "    }\n",
       "\n",
       "    .dataframe thead th {\n",
       "        text-align: right;\n",
       "    }\n",
       "</style>\n",
       "<table border=\"1\" class=\"dataframe\">\n",
       "  <thead>\n",
       "    <tr style=\"text-align: right;\">\n",
       "      <th></th>\n",
       "      <th>ano</th>\n",
       "      <th>sigla_uf</th>\n",
       "      <th>id_municipio</th>\n",
       "      <th>id_distrito</th>\n",
       "      <th>id_escola</th>\n",
       "      <th>rede</th>\n",
       "      <th>tipo_categoria_escola_privada</th>\n",
       "      <th>tipo_localizacao</th>\n",
       "      <th>tipo_localizacao_diferenciada</th>\n",
       "      <th>tipo_situacao_funcionamento</th>\n",
       "      <th>...</th>\n",
       "      <th>quantidade_turma_profissional_tecnica</th>\n",
       "      <th>quantidade_turma_eja</th>\n",
       "      <th>quantidade_turma_eja_fundamental</th>\n",
       "      <th>quantidade_turma_eja_medio</th>\n",
       "      <th>quantidade_turma_especial</th>\n",
       "      <th>quantidade_turma_especial_comum</th>\n",
       "      <th>quantidade_turma_especial_exclusiva</th>\n",
       "      <th>quantidade_turma_diurno</th>\n",
       "      <th>quantidade_turma_noturno</th>\n",
       "      <th>quantidade_turma_ead</th>\n",
       "    </tr>\n",
       "  </thead>\n",
       "  <tbody>\n",
       "    <tr>\n",
       "      <th>0</th>\n",
       "      <td>2024</td>\n",
       "      <td>RO</td>\n",
       "      <td>1100015</td>\n",
       "      <td>110001505</td>\n",
       "      <td>11022558</td>\n",
       "      <td>2</td>\n",
       "      <td>&lt;NA&gt;</td>\n",
       "      <td>2</td>\n",
       "      <td>2</td>\n",
       "      <td>1</td>\n",
       "      <td>...</td>\n",
       "      <td>0</td>\n",
       "      <td>0</td>\n",
       "      <td>0</td>\n",
       "      <td>0</td>\n",
       "      <td>0</td>\n",
       "      <td>0</td>\n",
       "      <td>0</td>\n",
       "      <td>4</td>\n",
       "      <td>0</td>\n",
       "      <td>0</td>\n",
       "    </tr>\n",
       "    <tr>\n",
       "      <th>1</th>\n",
       "      <td>2024</td>\n",
       "      <td>RO</td>\n",
       "      <td>1100015</td>\n",
       "      <td>110001505</td>\n",
       "      <td>11024275</td>\n",
       "      <td>2</td>\n",
       "      <td>&lt;NA&gt;</td>\n",
       "      <td>1</td>\n",
       "      <td>0</td>\n",
       "      <td>1</td>\n",
       "      <td>...</td>\n",
       "      <td>0</td>\n",
       "      <td>4</td>\n",
       "      <td>2</td>\n",
       "      <td>2</td>\n",
       "      <td>2</td>\n",
       "      <td>2</td>\n",
       "      <td>0</td>\n",
       "      <td>0</td>\n",
       "      <td>4</td>\n",
       "      <td>0</td>\n",
       "    </tr>\n",
       "    <tr>\n",
       "      <th>2</th>\n",
       "      <td>2024</td>\n",
       "      <td>RO</td>\n",
       "      <td>1100015</td>\n",
       "      <td>110001505</td>\n",
       "      <td>11024291</td>\n",
       "      <td>3</td>\n",
       "      <td>&lt;NA&gt;</td>\n",
       "      <td>2</td>\n",
       "      <td>&lt;NA&gt;</td>\n",
       "      <td>2</td>\n",
       "      <td>...</td>\n",
       "      <td>&lt;NA&gt;</td>\n",
       "      <td>&lt;NA&gt;</td>\n",
       "      <td>&lt;NA&gt;</td>\n",
       "      <td>&lt;NA&gt;</td>\n",
       "      <td>&lt;NA&gt;</td>\n",
       "      <td>&lt;NA&gt;</td>\n",
       "      <td>&lt;NA&gt;</td>\n",
       "      <td>&lt;NA&gt;</td>\n",
       "      <td>&lt;NA&gt;</td>\n",
       "      <td>&lt;NA&gt;</td>\n",
       "    </tr>\n",
       "    <tr>\n",
       "      <th>3</th>\n",
       "      <td>2024</td>\n",
       "      <td>RO</td>\n",
       "      <td>1100015</td>\n",
       "      <td>110001505</td>\n",
       "      <td>11024666</td>\n",
       "      <td>3</td>\n",
       "      <td>&lt;NA&gt;</td>\n",
       "      <td>2</td>\n",
       "      <td>0</td>\n",
       "      <td>1</td>\n",
       "      <td>...</td>\n",
       "      <td>0</td>\n",
       "      <td>0</td>\n",
       "      <td>0</td>\n",
       "      <td>0</td>\n",
       "      <td>7</td>\n",
       "      <td>7</td>\n",
       "      <td>0</td>\n",
       "      <td>10</td>\n",
       "      <td>0</td>\n",
       "      <td>0</td>\n",
       "    </tr>\n",
       "    <tr>\n",
       "      <th>4</th>\n",
       "      <td>2024</td>\n",
       "      <td>RO</td>\n",
       "      <td>1100015</td>\n",
       "      <td>110001505</td>\n",
       "      <td>11024682</td>\n",
       "      <td>2</td>\n",
       "      <td>&lt;NA&gt;</td>\n",
       "      <td>1</td>\n",
       "      <td>0</td>\n",
       "      <td>1</td>\n",
       "      <td>...</td>\n",
       "      <td>0</td>\n",
       "      <td>0</td>\n",
       "      <td>0</td>\n",
       "      <td>0</td>\n",
       "      <td>16</td>\n",
       "      <td>16</td>\n",
       "      <td>0</td>\n",
       "      <td>35</td>\n",
       "      <td>5</td>\n",
       "      <td>0</td>\n",
       "    </tr>\n",
       "  </tbody>\n",
       "</table>\n",
       "<p>5 rows × 456 columns</p>\n",
       "</div>"
      ],
      "text/plain": [
       "    ano sigla_uf id_municipio id_distrito id_escola rede  \\\n",
       "0  2024       RO      1100015   110001505  11022558    2   \n",
       "1  2024       RO      1100015   110001505  11024275    2   \n",
       "2  2024       RO      1100015   110001505  11024291    3   \n",
       "3  2024       RO      1100015   110001505  11024666    3   \n",
       "4  2024       RO      1100015   110001505  11024682    2   \n",
       "\n",
       "  tipo_categoria_escola_privada tipo_localizacao  \\\n",
       "0                          <NA>                2   \n",
       "1                          <NA>                1   \n",
       "2                          <NA>                2   \n",
       "3                          <NA>                2   \n",
       "4                          <NA>                1   \n",
       "\n",
       "  tipo_localizacao_diferenciada tipo_situacao_funcionamento  ...  \\\n",
       "0                             2                           1  ...   \n",
       "1                             0                           1  ...   \n",
       "2                          <NA>                           2  ...   \n",
       "3                             0                           1  ...   \n",
       "4                             0                           1  ...   \n",
       "\n",
       "  quantidade_turma_profissional_tecnica quantidade_turma_eja  \\\n",
       "0                                     0                    0   \n",
       "1                                     0                    4   \n",
       "2                                  <NA>                 <NA>   \n",
       "3                                     0                    0   \n",
       "4                                     0                    0   \n",
       "\n",
       "  quantidade_turma_eja_fundamental quantidade_turma_eja_medio  \\\n",
       "0                                0                          0   \n",
       "1                                2                          2   \n",
       "2                             <NA>                       <NA>   \n",
       "3                                0                          0   \n",
       "4                                0                          0   \n",
       "\n",
       "  quantidade_turma_especial quantidade_turma_especial_comum  \\\n",
       "0                         0                               0   \n",
       "1                         2                               2   \n",
       "2                      <NA>                            <NA>   \n",
       "3                         7                               7   \n",
       "4                        16                              16   \n",
       "\n",
       "  quantidade_turma_especial_exclusiva quantidade_turma_diurno  \\\n",
       "0                                   0                       4   \n",
       "1                                   0                       0   \n",
       "2                                <NA>                    <NA>   \n",
       "3                                   0                      10   \n",
       "4                                   0                      35   \n",
       "\n",
       "  quantidade_turma_noturno quantidade_turma_ead  \n",
       "0                        0                    0  \n",
       "1                        4                    0  \n",
       "2                     <NA>                 <NA>  \n",
       "3                        0                    0  \n",
       "4                        5                    0  \n",
       "\n",
       "[5 rows x 456 columns]"
      ]
     },
     "execution_count": 16,
     "metadata": {},
     "output_type": "execute_result"
    }
   ],
   "source": [
    "censo.head()"
   ]
  },
  {
   "cell_type": "code",
   "execution_count": 18,
   "metadata": {},
   "outputs": [
    {
     "name": "stdout",
     "output_type": "stream",
     "text": [
      "Downloading: |\u001b[32m          \u001b[0m|\n"
     ]
    }
   ],
   "source": [
    "bq_censo_cols = bd.read_sql(\n",
    "    \"select * from `basedosdados.br_inep_censo_escolar.escola` limit 0\",\n",
    "    billing_project_id=\"basedosdados-dev\",\n",
    ").columns.to_list()"
   ]
  },
  {
   "cell_type": "code",
   "execution_count": 20,
   "metadata": {},
   "outputs": [
    {
     "name": "stdout",
     "output_type": "stream",
     "text": [
      "Downloading: |\u001b[32m          \u001b[0m|\n"
     ]
    }
   ],
   "source": [
    "censo_2023_cols = bd.read_sql(\n",
    "    \"select * from `basedosdados-dev.br_inep_censo_escolar_staging.escola_2023` limit 0\",\n",
    "    billing_project_id=\"basedosdados-dev\",\n",
    ").columns.to_list()"
   ]
  },
  {
   "cell_type": "code",
   "execution_count": 21,
   "metadata": {},
   "outputs": [
    {
     "data": {
      "text/plain": [
       "455"
      ]
     },
     "execution_count": 21,
     "metadata": {},
     "output_type": "execute_result"
    }
   ],
   "source": [
    "len(censo_2023_cols)"
   ]
  },
  {
   "cell_type": "code",
   "execution_count": 22,
   "metadata": {},
   "outputs": [
    {
     "data": {
      "text/plain": [
       "455"
      ]
     },
     "execution_count": 22,
     "metadata": {},
     "output_type": "execute_result"
    }
   ],
   "source": [
    "len(bq_censo_cols)"
   ]
  },
  {
   "cell_type": "code",
   "execution_count": 23,
   "metadata": {},
   "outputs": [
    {
     "data": {
      "text/plain": [
       "456"
      ]
     },
     "execution_count": 23,
     "metadata": {},
     "output_type": "execute_result"
    }
   ],
   "source": [
    "len(censo.columns)"
   ]
  },
  {
   "cell_type": "code",
   "execution_count": 24,
   "metadata": {},
   "outputs": [
    {
     "data": {
      "text/plain": [
       "426"
      ]
     },
     "execution_count": 24,
     "metadata": {},
     "output_type": "execute_result"
    }
   ],
   "source": [
    "len(censo_raw_columns)"
   ]
  },
  {
   "cell_type": "code",
   "execution_count": 26,
   "metadata": {},
   "outputs": [],
   "source": [
    "# Colunas que devemos remover porque não estão na tabela no BQ\n",
    "cols_to_drop = [i for i in censo.columns if i not in bq_censo_cols]"
   ]
  },
  {
   "cell_type": "code",
   "execution_count": 27,
   "metadata": {},
   "outputs": [
    {
     "data": {
      "text/plain": [
       "['id_distrito']"
      ]
     },
     "execution_count": 27,
     "metadata": {},
     "output_type": "execute_result"
    }
   ],
   "source": [
    "cols_to_drop"
   ]
  },
  {
   "cell_type": "code",
   "execution_count": 28,
   "metadata": {},
   "outputs": [],
   "source": [
    "censo = censo.drop(columns=cols_to_drop)"
   ]
  },
  {
   "cell_type": "code",
   "execution_count": 29,
   "metadata": {},
   "outputs": [
    {
     "data": {
      "text/plain": [
       "True"
      ]
     },
     "execution_count": 29,
     "metadata": {},
     "output_type": "execute_result"
    }
   ],
   "source": [
    "len(bq_censo_cols) == len(censo.columns)"
   ]
  },
  {
   "cell_type": "code",
   "execution_count": 30,
   "metadata": {},
   "outputs": [],
   "source": [
    "SAVE_DIR = os.path.join(OUTPUT, \"escola\", \"ano=2024\")\n",
    "os.makedirs(SAVE_DIR, exist_ok=True)"
   ]
  },
  {
   "cell_type": "code",
   "execution_count": 32,
   "metadata": {},
   "outputs": [],
   "source": [
    "for sigla_uf, df_uf in censo.groupby(\"sigla_uf\"):\n",
    "    path = os.path.join(SAVE_DIR, f\"sigla_uf={sigla_uf}\")\n",
    "    os.makedirs(path, exist_ok=True)\n",
    "    df_uf.drop(columns=[\"ano\", \"sigla_uf\"]).to_csv(\n",
    "        os.path.join(path, \"data.csv\"), index=False\n",
    "    )"
   ]
  },
  {
   "cell_type": "code",
   "execution_count": 33,
   "metadata": {},
   "outputs": [],
   "source": [
    "tb = bd.Table(dataset_id=\"br_inep_censo_escolar\", table_id=\"escola_2024\")"
   ]
  },
  {
   "cell_type": "code",
   "execution_count": 35,
   "metadata": {},
   "outputs": [
    {
     "name": "stderr",
     "output_type": "stream",
     "text": [
      "Uploading files:   0%|          | 0/27 [00:00<?, ?it/s]\u001b[32m2025-04-09 14:38:46.620\u001b[0m | \u001b[32m\u001b[1mSUCCESS \u001b[0m | \u001b[36mbasedosdados.upload.storage\u001b[0m:\u001b[36mupload\u001b[0m:\u001b[36m233\u001b[0m - \u001b[32m\u001b[1m File data.csv_staging was uploaded!\u001b[0m\n",
      "Uploading files:   4%|▎         | 1/27 [00:02<01:03,  2.44s/it]\u001b[32m2025-04-09 14:38:48.884\u001b[0m | \u001b[32m\u001b[1mSUCCESS \u001b[0m | \u001b[36mbasedosdados.upload.storage\u001b[0m:\u001b[36mupload\u001b[0m:\u001b[36m233\u001b[0m - \u001b[32m\u001b[1m File data.csv_staging was uploaded!\u001b[0m\n",
      "Uploading files:   7%|▋         | 2/27 [00:04<00:58,  2.34s/it]\u001b[32m2025-04-09 14:38:50.422\u001b[0m | \u001b[32m\u001b[1mSUCCESS \u001b[0m | \u001b[36mbasedosdados.upload.storage\u001b[0m:\u001b[36mupload\u001b[0m:\u001b[36m233\u001b[0m - \u001b[32m\u001b[1m File data.csv_staging was uploaded!\u001b[0m\n",
      "Uploading files:  11%|█         | 3/27 [00:06<00:47,  1.97s/it]\u001b[32m2025-04-09 14:38:55.469\u001b[0m | \u001b[32m\u001b[1mSUCCESS \u001b[0m | \u001b[36mbasedosdados.upload.storage\u001b[0m:\u001b[36mupload\u001b[0m:\u001b[36m233\u001b[0m - \u001b[32m\u001b[1m File data.csv_staging was uploaded!\u001b[0m\n",
      "Uploading files:  15%|█▍        | 4/27 [00:11<01:13,  3.19s/it]\u001b[32m2025-04-09 14:38:57.589\u001b[0m | \u001b[32m\u001b[1mSUCCESS \u001b[0m | \u001b[36mbasedosdados.upload.storage\u001b[0m:\u001b[36mupload\u001b[0m:\u001b[36m233\u001b[0m - \u001b[32m\u001b[1m File data.csv_staging was uploaded!\u001b[0m\n",
      "Uploading files:  19%|█▊        | 5/27 [00:13<01:01,  2.80s/it]\u001b[32m2025-04-09 14:38:59.118\u001b[0m | \u001b[32m\u001b[1mSUCCESS \u001b[0m | \u001b[36mbasedosdados.upload.storage\u001b[0m:\u001b[36mupload\u001b[0m:\u001b[36m233\u001b[0m - \u001b[32m\u001b[1m File data.csv_staging was uploaded!\u001b[0m\n",
      "Uploading files:  22%|██▏       | 6/27 [00:14<00:49,  2.37s/it]\u001b[32m2025-04-09 14:39:00.535\u001b[0m | \u001b[32m\u001b[1mSUCCESS \u001b[0m | \u001b[36mbasedosdados.upload.storage\u001b[0m:\u001b[36mupload\u001b[0m:\u001b[36m233\u001b[0m - \u001b[32m\u001b[1m File data.csv_staging was uploaded!\u001b[0m\n",
      "Uploading files:  26%|██▌       | 7/27 [00:16<00:41,  2.06s/it]\u001b[32m2025-04-09 14:39:01.992\u001b[0m | \u001b[32m\u001b[1mSUCCESS \u001b[0m | \u001b[36mbasedosdados.upload.storage\u001b[0m:\u001b[36mupload\u001b[0m:\u001b[36m233\u001b[0m - \u001b[32m\u001b[1m File data.csv_staging was uploaded!\u001b[0m\n",
      "Uploading files:  30%|██▉       | 8/27 [00:17<00:35,  1.87s/it]\u001b[32m2025-04-09 14:39:03.676\u001b[0m | \u001b[32m\u001b[1mSUCCESS \u001b[0m | \u001b[36mbasedosdados.upload.storage\u001b[0m:\u001b[36mupload\u001b[0m:\u001b[36m233\u001b[0m - \u001b[32m\u001b[1m File data.csv_staging was uploaded!\u001b[0m\n",
      "Uploading files:  33%|███▎      | 9/27 [00:19<00:32,  1.81s/it]\u001b[32m2025-04-09 14:39:05.678\u001b[0m | \u001b[32m\u001b[1mSUCCESS \u001b[0m | \u001b[36mbasedosdados.upload.storage\u001b[0m:\u001b[36mupload\u001b[0m:\u001b[36m233\u001b[0m - \u001b[32m\u001b[1m File data.csv_staging was uploaded!\u001b[0m\n",
      "Uploading files:  37%|███▋      | 10/27 [00:21<00:31,  1.87s/it]\u001b[32m2025-04-09 14:39:07.624\u001b[0m | \u001b[32m\u001b[1mSUCCESS \u001b[0m | \u001b[36mbasedosdados.upload.storage\u001b[0m:\u001b[36mupload\u001b[0m:\u001b[36m233\u001b[0m - \u001b[32m\u001b[1m File data.csv_staging was uploaded!\u001b[0m\n",
      "Uploading files:  41%|████      | 11/27 [00:23<00:30,  1.89s/it]\u001b[32m2025-04-09 14:39:09.306\u001b[0m | \u001b[32m\u001b[1mSUCCESS \u001b[0m | \u001b[36mbasedosdados.upload.storage\u001b[0m:\u001b[36mupload\u001b[0m:\u001b[36m233\u001b[0m - \u001b[32m\u001b[1m File data.csv_staging was uploaded!\u001b[0m\n",
      "Uploading files:  44%|████▍     | 12/27 [00:25<00:27,  1.83s/it]\u001b[32m2025-04-09 14:39:11.040\u001b[0m | \u001b[32m\u001b[1mSUCCESS \u001b[0m | \u001b[36mbasedosdados.upload.storage\u001b[0m:\u001b[36mupload\u001b[0m:\u001b[36m233\u001b[0m - \u001b[32m\u001b[1m File data.csv_staging was uploaded!\u001b[0m\n",
      "Uploading files:  48%|████▊     | 13/27 [00:26<00:25,  1.80s/it]\u001b[32m2025-04-09 14:39:13.256\u001b[0m | \u001b[32m\u001b[1mSUCCESS \u001b[0m | \u001b[36mbasedosdados.upload.storage\u001b[0m:\u001b[36mupload\u001b[0m:\u001b[36m233\u001b[0m - \u001b[32m\u001b[1m File data.csv_staging was uploaded!\u001b[0m\n",
      "Uploading files:  52%|█████▏    | 14/27 [00:29<00:25,  1.93s/it]\u001b[32m2025-04-09 14:39:15.038\u001b[0m | \u001b[32m\u001b[1mSUCCESS \u001b[0m | \u001b[36mbasedosdados.upload.storage\u001b[0m:\u001b[36mupload\u001b[0m:\u001b[36m233\u001b[0m - \u001b[32m\u001b[1m File data.csv_staging was uploaded!\u001b[0m\n",
      "Uploading files:  56%|█████▌    | 15/27 [00:30<00:22,  1.88s/it]\u001b[32m2025-04-09 14:39:16.738\u001b[0m | \u001b[32m\u001b[1mSUCCESS \u001b[0m | \u001b[36mbasedosdados.upload.storage\u001b[0m:\u001b[36mupload\u001b[0m:\u001b[36m233\u001b[0m - \u001b[32m\u001b[1m File data.csv_staging was uploaded!\u001b[0m\n",
      "Uploading files:  59%|█████▉    | 16/27 [00:32<00:20,  1.83s/it]\u001b[32m2025-04-09 14:39:18.085\u001b[0m | \u001b[32m\u001b[1mSUCCESS \u001b[0m | \u001b[36mbasedosdados.upload.storage\u001b[0m:\u001b[36mupload\u001b[0m:\u001b[36m233\u001b[0m - \u001b[32m\u001b[1m File data.csv_staging was uploaded!\u001b[0m\n",
      "Uploading files:  63%|██████▎   | 17/27 [00:33<00:16,  1.68s/it]\u001b[32m2025-04-09 14:39:20.220\u001b[0m | \u001b[32m\u001b[1mSUCCESS \u001b[0m | \u001b[36mbasedosdados.upload.storage\u001b[0m:\u001b[36mupload\u001b[0m:\u001b[36m233\u001b[0m - \u001b[32m\u001b[1m File data.csv_staging was uploaded!\u001b[0m\n",
      "Uploading files:  67%|██████▋   | 18/27 [00:36<00:16,  1.82s/it]\u001b[32m2025-04-09 14:39:22.003\u001b[0m | \u001b[32m\u001b[1mSUCCESS \u001b[0m | \u001b[36mbasedosdados.upload.storage\u001b[0m:\u001b[36mupload\u001b[0m:\u001b[36m233\u001b[0m - \u001b[32m\u001b[1m File data.csv_staging was uploaded!\u001b[0m\n",
      "Uploading files:  70%|███████   | 19/27 [00:37<00:14,  1.81s/it]\u001b[32m2025-04-09 14:39:23.599\u001b[0m | \u001b[32m\u001b[1mSUCCESS \u001b[0m | \u001b[36mbasedosdados.upload.storage\u001b[0m:\u001b[36mupload\u001b[0m:\u001b[36m233\u001b[0m - \u001b[32m\u001b[1m File data.csv_staging was uploaded!\u001b[0m\n",
      "Uploading files:  74%|███████▍  | 20/27 [00:39<00:12,  1.74s/it]\u001b[32m2025-04-09 14:39:25.139\u001b[0m | \u001b[32m\u001b[1mSUCCESS \u001b[0m | \u001b[36mbasedosdados.upload.storage\u001b[0m:\u001b[36mupload\u001b[0m:\u001b[36m233\u001b[0m - \u001b[32m\u001b[1m File data.csv_staging was uploaded!\u001b[0m\n",
      "Uploading files:  78%|███████▊  | 21/27 [00:40<00:10,  1.68s/it]\u001b[32m2025-04-09 14:39:26.875\u001b[0m | \u001b[32m\u001b[1mSUCCESS \u001b[0m | \u001b[36mbasedosdados.upload.storage\u001b[0m:\u001b[36mupload\u001b[0m:\u001b[36m233\u001b[0m - \u001b[32m\u001b[1m File data.csv_staging was uploaded!\u001b[0m\n",
      "Uploading files:  81%|████████▏ | 22/27 [00:42<00:08,  1.70s/it]\u001b[32m2025-04-09 14:39:29.332\u001b[0m | \u001b[32m\u001b[1mSUCCESS \u001b[0m | \u001b[36mbasedosdados.upload.storage\u001b[0m:\u001b[36mupload\u001b[0m:\u001b[36m233\u001b[0m - \u001b[32m\u001b[1m File data.csv_staging was uploaded!\u001b[0m\n",
      "Uploading files:  85%|████████▌ | 23/27 [00:45<00:07,  1.93s/it]\u001b[32m2025-04-09 14:39:30.768\u001b[0m | \u001b[32m\u001b[1mSUCCESS \u001b[0m | \u001b[36mbasedosdados.upload.storage\u001b[0m:\u001b[36mupload\u001b[0m:\u001b[36m233\u001b[0m - \u001b[32m\u001b[1m File data.csv_staging was uploaded!\u001b[0m\n",
      "Uploading files:  89%|████████▉ | 24/27 [00:46<00:05,  1.78s/it]\u001b[32m2025-04-09 14:39:33.669\u001b[0m | \u001b[32m\u001b[1mSUCCESS \u001b[0m | \u001b[36mbasedosdados.upload.storage\u001b[0m:\u001b[36mupload\u001b[0m:\u001b[36m233\u001b[0m - \u001b[32m\u001b[1m File data.csv_staging was uploaded!\u001b[0m\n",
      "Uploading files:  93%|█████████▎| 25/27 [00:49<00:04,  2.12s/it]\u001b[32m2025-04-09 14:39:35.635\u001b[0m | \u001b[32m\u001b[1mSUCCESS \u001b[0m | \u001b[36mbasedosdados.upload.storage\u001b[0m:\u001b[36mupload\u001b[0m:\u001b[36m233\u001b[0m - \u001b[32m\u001b[1m File data.csv_staging was uploaded!\u001b[0m\n",
      "Uploading files:  96%|█████████▋| 26/27 [00:51<00:02,  2.07s/it]\u001b[32m2025-04-09 14:39:37.465\u001b[0m | \u001b[32m\u001b[1mSUCCESS \u001b[0m | \u001b[36mbasedosdados.upload.storage\u001b[0m:\u001b[36mupload\u001b[0m:\u001b[36m233\u001b[0m - \u001b[32m\u001b[1m File data.csv_staging was uploaded!\u001b[0m\n",
      "Uploading files: 100%|██████████| 27/27 [00:53<00:00,  1.97s/it]\n",
      "\u001b[32m2025-04-09 14:39:41.419\u001b[0m | \u001b[32m\u001b[1mSUCCESS \u001b[0m | \u001b[36mbasedosdados.upload.table\u001b[0m:\u001b[36mcreate\u001b[0m:\u001b[36m690\u001b[0m - \u001b[32m\u001b[1mTable escola_2024 was created in staging!\u001b[0m\n"
     ]
    }
   ],
   "source": [
    "tb.create(os.path.join(OUTPUT, \"escola\"))"
   ]
  }
 ],
 "metadata": {
  "colab": {
   "provenance": []
  },
  "kernelspec": {
   "display_name": ".venv",
   "language": "python",
   "name": "python3"
  },
  "language_info": {
   "codemirror_mode": {
    "name": "ipython",
    "version": 3
   },
   "file_extension": ".py",
   "mimetype": "text/x-python",
   "name": "python",
   "nbconvert_exporter": "python",
   "pygments_lexer": "ipython3",
   "version": "3.9.20"
  }
 },
 "nbformat": 4,
 "nbformat_minor": 1
}
