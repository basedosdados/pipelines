{
 "cells": [
  {
   "cell_type": "code",
   "execution_count": 1,
   "metadata": {
    "colab": {
     "base_uri": "https://localhost:8080/"
    },
    "id": "u68xqa7spLvJ",
    "outputId": "cad722aa-b419-4be4-e003-f4037e8a9470"
   },
   "outputs": [
    {
     "name": "stdout",
     "output_type": "stream",
     "text": [
      "Mounted at /content/gdrive\n"
     ]
    }
   ],
   "source": [
    "from google.colab import drive\n",
    "\n",
    "drive.mount(\"/content/gdrive\")"
   ]
  },
  {
   "cell_type": "code",
   "execution_count": 2,
   "metadata": {
    "id": "zPkv47Vupsaw"
   },
   "outputs": [],
   "source": [
    "import pandas as pd\n",
    "\n",
    "pd.set_option(\"display.max_columns\", None)"
   ]
  },
  {
   "cell_type": "code",
   "execution_count": 14,
   "metadata": {
    "id": "rve8JIIl2skB"
   },
   "outputs": [],
   "source": [
    "# arquivo auxilliar (id_municipio e id_municipio_6)\n",
    "municipio = pd.read_csv(\n",
    "    \"/content/gdrive/MyDrive/ComprasPublicas_Brasil/auxiliary_files/municipio.csv\"\n",
    ")\n",
    "\n",
    "\n",
    "# import do arquivo original\n",
    "df = pd.read_excel(\n",
    "    \"/content/gdrive/MyDrive/ComprasPublicas_Brasil/auxiliary_files/Evolucao_por_Indicador_2013_a_2022_IFGF_2023.xlsx\"\n",
    ")\n",
    "df = pd.merge(\n",
    "    df,\n",
    "    municipio[[\"id_municipio_6\", \"id_municipio\"]],\n",
    "    how=\"left\",\n",
    "    left_on=\"Código\",\n",
    "    right_on=\"id_municipio_6\",\n",
    ")\n",
    "\n",
    "# transformação de wide pra long\n",
    "vars = df.drop(\n",
    "    [\"Código\", \"UF\", \"Município\", \"id_municipio_6\", \"id_municipio\"], axis=1\n",
    ").columns.values\n",
    "df1 = pd.melt(df, id_vars=[\"UF\", \"id_municipio\"], value_vars=vars).rename(\n",
    "    columns={\"UF\": \"sigla_uf\"}\n",
    ")\n",
    "\n",
    "# ajuste das variáveis\n",
    "df1[\"ano\"] = df1[\"variable\"].str[-4:]\n",
    "df1[\"variable\"] = df1[\"variable\"].str[:-4]\n",
    "\n",
    "# queries com base nas categorias: índice, ranking estadual e raking nacional\n",
    "df11 = (\n",
    "    df1.query('variable == \"IFGF \"')\n",
    "    .rename(columns={\"value\": \"indice_firjan_gestao_fiscal\"})\n",
    "    .drop(\"variable\", axis=1)\n",
    ")\n",
    "df12 = (\n",
    "    df1.query('variable == \"Ranking Estadual \"')\n",
    "    .rename(columns={\"value\": \"ranking_estadual\"})\n",
    "    .drop(\"variable\", axis=1)\n",
    ")\n",
    "df13 = (\n",
    "    df1.query('variable == \"Ranking IFGF \"')\n",
    "    .rename(columns={\"value\": \"ranking_nacional\"})\n",
    "    .drop(\"variable\", axis=1)\n",
    ")\n",
    "\n",
    "# junção das queries gerando df no formato long\n",
    "df_1 = pd.merge(df11, df12, how=\"left\", on=[\"ano\", \"sigla_uf\", \"id_municipio\"])\n",
    "df_2 = pd.merge(df_1, df13, how=\"left\", on=[\"ano\", \"sigla_uf\", \"id_municipio\"])\n",
    "\n",
    "# ordenação das variáveis\n",
    "df_2 = df_2[\n",
    "    [\n",
    "        \"ano\",\n",
    "        \"sigla_uf\",\n",
    "        \"id_municipio\",\n",
    "        \"indice_firjan_gestao_fiscal\",\n",
    "        \"ranking_estadual\",\n",
    "        \"ranking_nacional\",\n",
    "    ]\n",
    "]\n",
    "\n",
    "df_2.to_csv(\n",
    "    \"/content/gdrive/MyDrive/ComprasPublicas_Brasil/auxiliary_files/ifgf.csv\",\n",
    "    index=False,\n",
    "    na_rep=\"\",\n",
    ")"
   ]
  }
 ],
 "metadata": {
  "colab": {
   "provenance": []
  },
  "kernelspec": {
   "display_name": "Python 3",
   "name": "python3"
  },
  "language_info": {
   "name": "python"
  }
 },
 "nbformat": 4,
 "nbformat_minor": 0
}
