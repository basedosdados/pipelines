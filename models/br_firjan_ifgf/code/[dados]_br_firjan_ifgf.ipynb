{
  "nbformat": 4,
  "nbformat_minor": 0,
  "metadata": {
    "colab": {
      "provenance": []
    },
    "kernelspec": {
      "name": "python3",
      "display_name": "Python 3"
    },
    "language_info": {
      "name": "python"
    }
  },
  "cells": [
    {
      "cell_type": "code",
      "execution_count": 1,
      "metadata": {
        "colab": {
          "base_uri": "https://localhost:8080/"
        },
        "id": "u68xqa7spLvJ",
        "outputId": "cad722aa-b419-4be4-e003-f4037e8a9470"
      },
      "outputs": [
        {
          "output_type": "stream",
          "name": "stdout",
          "text": [
            "Mounted at /content/gdrive\n"
          ]
        }
      ],
      "source": [
        "from google.colab import drive\n",
        "drive.mount('/content/gdrive')"
      ]
    },
    {
      "cell_type": "code",
      "source": [
        "import pandas as pd\n",
        "pd.set_option(\"display.max_columns\", None)"
      ],
      "metadata": {
        "id": "zPkv47Vupsaw"
      },
      "execution_count": 2,
      "outputs": []
    },
    {
      "cell_type": "code",
      "source": [
        "# arquivo auxilliar (id_municipio e id_municipio_6)\n",
        "municipio = pd.read_csv('/content/gdrive/MyDrive/ComprasPublicas_Brasil/auxiliary_files/municipio.csv')\n",
        "\n",
        "\n",
        "# import do arquivo original\n",
        "df = pd.read_excel('/content/gdrive/MyDrive/ComprasPublicas_Brasil/auxiliary_files/Evolucao_por_Indicador_2013_a_2022_IFGF_2023.xlsx')\n",
        "df = pd.merge(df, municipio[['id_municipio_6', 'id_municipio']], how='left', left_on='Código', right_on='id_municipio_6')\n",
        "\n",
        "# transformação de wide pra long\n",
        "vars = df.drop(['Código', 'UF', 'Município', 'id_municipio_6', 'id_municipio'], axis=1).columns.values\n",
        "df1 = pd.melt(df, id_vars=['UF', 'id_municipio'], value_vars=vars).rename(columns={'UF':'sigla_uf'})\n",
        "\n",
        "# ajuste das variáveis\n",
        "df1['ano'] = df1['variable'].str[-4:]\n",
        "df1['variable'] = df1['variable'].str[:-4]\n",
        "\n",
        "# queries com base nas categorias: índice, ranking estadual e raking nacional\n",
        "df11 = df1.query('variable == \"IFGF \"').rename(columns={'value':'indice_firjan_gestao_fiscal'}).drop('variable', axis=1)\n",
        "df12 = df1.query('variable == \"Ranking Estadual \"').rename(columns={'value':'ranking_estadual'}).drop('variable', axis=1)\n",
        "df13 = df1.query('variable == \"Ranking IFGF \"').rename(columns={'value':'ranking_nacional'}).drop('variable', axis=1)\n",
        "\n",
        "# junção das queries gerando df no formato long\n",
        "df_1 = pd.merge(df11, df12, how='left', on=['ano', 'sigla_uf', 'id_municipio'])\n",
        "df_2 = pd.merge(df_1, df13, how='left', on=['ano', 'sigla_uf', 'id_municipio'])\n",
        "\n",
        "# ordenação das variáveis\n",
        "df_2 = df_2[['ano', 'sigla_uf', 'id_municipio', 'indice_firjan_gestao_fiscal', 'ranking_estadual', 'ranking_nacional']]\n",
        "\n",
        "df_2.to_csv('/content/gdrive/MyDrive/ComprasPublicas_Brasil/auxiliary_files/ifgf.csv', index=False, na_rep='')"
      ],
      "metadata": {
        "id": "rve8JIIl2skB"
      },
      "execution_count": 14,
      "outputs": []
    }
  ]
}
