{
 "cells": [
  {
   "cell_type": "code",
   "execution_count": 6,
   "metadata": {},
   "outputs": [
    {
     "name": "stdout",
     "output_type": "stream",
     "text": [
      "Downloading: 100%|\u001b[32m██████████\u001b[0m|\n"
     ]
    },
    {
     "name": "stderr",
     "output_type": "stream",
     "text": [
      "0it [00:00, ?it/s]"
     ]
    },
    {
     "name": "stdout",
     "output_type": "stream",
     "text": [
      "Quantidade: 1\n"
     ]
    },
    {
     "name": "stderr",
     "output_type": "stream",
     "text": [
      "1it [01:04, 64.43s/it]"
     ]
    },
    {
     "name": "stdout",
     "output_type": "stream",
     "text": [
      "Quantidade: 2\n"
     ]
    },
    {
     "name": "stderr",
     "output_type": "stream",
     "text": [
      "2it [02:04, 61.70s/it]"
     ]
    },
    {
     "name": "stdout",
     "output_type": "stream",
     "text": [
      "Quantidade: 3\n"
     ]
    },
    {
     "name": "stderr",
     "output_type": "stream",
     "text": [
      "3it [03:21, 68.88s/it]"
     ]
    },
    {
     "name": "stdout",
     "output_type": "stream",
     "text": [
      "Quantidade: 4\n"
     ]
    },
    {
     "name": "stderr",
     "output_type": "stream",
     "text": [
      "4it [04:41, 73.37s/it]"
     ]
    },
    {
     "name": "stdout",
     "output_type": "stream",
     "text": [
      "Quantidade: 5\n"
     ]
    },
    {
     "name": "stderr",
     "output_type": "stream",
     "text": [
      "5it [06:03, 76.47s/it]"
     ]
    },
    {
     "name": "stdout",
     "output_type": "stream",
     "text": [
      "Quantidade: 6\n"
     ]
    },
    {
     "name": "stderr",
     "output_type": "stream",
     "text": [
      "6it [07:12, 73.71s/it]"
     ]
    },
    {
     "name": "stdout",
     "output_type": "stream",
     "text": [
      "Quantidade: 7\n"
     ]
    },
    {
     "name": "stderr",
     "output_type": "stream",
     "text": [
      "7it [08:18, 71.42s/it]"
     ]
    },
    {
     "name": "stdout",
     "output_type": "stream",
     "text": [
      "Quantidade: 8\n"
     ]
    },
    {
     "name": "stderr",
     "output_type": "stream",
     "text": [
      "8it [09:23, 69.17s/it]"
     ]
    },
    {
     "name": "stdout",
     "output_type": "stream",
     "text": [
      "Quantidade: 9\n"
     ]
    },
    {
     "name": "stderr",
     "output_type": "stream",
     "text": [
      "9it [10:25, 66.86s/it]"
     ]
    },
    {
     "name": "stdout",
     "output_type": "stream",
     "text": [
      "Quantidade: 10\n"
     ]
    },
    {
     "name": "stderr",
     "output_type": "stream",
     "text": [
      "10it [11:23, 64.31s/it]"
     ]
    },
    {
     "name": "stdout",
     "output_type": "stream",
     "text": [
      "Quantidade: 11\n"
     ]
    },
    {
     "name": "stderr",
     "output_type": "stream",
     "text": [
      "11it [12:19, 61.77s/it]"
     ]
    },
    {
     "name": "stdout",
     "output_type": "stream",
     "text": [
      "Quantidade: 12\n"
     ]
    },
    {
     "name": "stderr",
     "output_type": "stream",
     "text": [
      "12it [13:23, 62.32s/it]"
     ]
    },
    {
     "name": "stdout",
     "output_type": "stream",
     "text": [
      "Quantidade: 13\n"
     ]
    },
    {
     "name": "stderr",
     "output_type": "stream",
     "text": [
      "13it [14:25, 62.32s/it]"
     ]
    },
    {
     "name": "stdout",
     "output_type": "stream",
     "text": [
      "Quantidade: 14\n"
     ]
    },
    {
     "name": "stderr",
     "output_type": "stream",
     "text": [
      "14it [15:19, 65.66s/it]\n"
     ]
    }
   ],
   "source": [
    "import gc\n",
    "from pathlib import Path\n",
    "from typing import List\n",
    "\n",
    "import basedosdados as bd  # type: ignore\n",
    "import numpy as np\n",
    "import pandas as pd\n",
    "import tqdm\n",
    "\n",
    "\n",
    "def to_partitions(\n",
    "    data: pd.DataFrame,\n",
    "    partition_columns: List[str],\n",
    "    savepath: str,\n",
    "    file_type: str = \"csv\",\n",
    "):\n",
    "    \"\"\"Save data in to hive patitions schema, given a dataframe and a list of partition columns.\n",
    "    Args:\n",
    "        data (pandas.core.frame.DataFrame): Dataframe to be partitioned.\n",
    "        partition_columns (list): List of columns to be used as partitions.\n",
    "        savepath (str, pathlib.PosixPath): folder path to save the partitions.\n",
    "        file_type (str): default to csv. Accepts parquet.\n",
    "    Exemple:\n",
    "        data = {\n",
    "            \"ano\": [2020, 2021, 2020, 2021, 2020, 2021, 2021,2025],\n",
    "            \"mes\": [1, 2, 3, 4, 5, 6, 6,9],\n",
    "            \"sigla_uf\": [\"SP\", \"SP\", \"RJ\", \"RJ\", \"PR\", \"PR\", \"PR\",\"PR\"],\n",
    "            \"dado\": [\"a\", \"b\", \"c\", \"d\", \"e\", \"f\", \"g\",'h'],\n",
    "        }\n",
    "        to_partitions(\n",
    "            data=pd.DataFrame(data),\n",
    "            partition_columns=['ano','mes','sigla_uf'],\n",
    "            savepath='partitions/',\n",
    "        )\n",
    "    \"\"\"\n",
    "\n",
    "    if isinstance(data, (pd.core.frame.DataFrame)):\n",
    "        savepath = Path(savepath)\n",
    "        # create unique combinations between partition columns\n",
    "        unique_combinations = (\n",
    "            data[partition_columns]\n",
    "            # .astype(str)\n",
    "            .drop_duplicates(subset=partition_columns)\n",
    "            .to_dict(orient=\"records\")\n",
    "        )\n",
    "\n",
    "        for filter_combination in unique_combinations:\n",
    "            patitions_values = [\n",
    "                f\"{partition}={value}\"\n",
    "                for partition, value in filter_combination.items()\n",
    "            ]\n",
    "\n",
    "            # get filtered data\n",
    "            df_filter = data.loc[\n",
    "                data[filter_combination.keys()]\n",
    "                .isin(filter_combination.values())\n",
    "                .all(axis=1),\n",
    "                :,\n",
    "            ]\n",
    "            df_filter = df_filter.drop(columns=partition_columns)\n",
    "\n",
    "            # create folder tree\n",
    "            filter_save_path = Path(savepath / \"/\".join(patitions_values))\n",
    "            filter_save_path.mkdir(parents=True, exist_ok=True)\n",
    "\n",
    "            if file_type == \"csv\":\n",
    "                # append data to csv\n",
    "                file_filter_save_path = Path(filter_save_path) / \"data.csv\"\n",
    "                df_filter.to_csv(\n",
    "                    file_filter_save_path,\n",
    "                    sep=\",\",\n",
    "                    encoding=\"utf-8\",\n",
    "                    na_rep=\"\",\n",
    "                    index=False,\n",
    "                    mode=\"a\",\n",
    "                    header=not file_filter_save_path.exists(),\n",
    "                )\n",
    "            elif file_type == \"parquet\":\n",
    "                # append data to parquet\n",
    "                file_filter_save_path = Path(filter_save_path) / \"data.parquet\"\n",
    "                df_filter.to_parquet(\n",
    "                    file_filter_save_path, index=False, compression=\"gzip\"\n",
    "                )\n",
    "    else:\n",
    "        raise BaseException(\"Data need to be a pandas DataFrame\")\n",
    "\n",
    "\n",
    "pd.set_option(\"display.max_columns\", None)\n",
    "\n",
    "chucks = []\n",
    "\n",
    "\n",
    "df_municipio = bd.read_sql(\n",
    "    \"SELECT id_municipio, id_municipio_6, sigla_uf FROM `basedosdados.br_bd_diretorios_brasil.municipio`\",\n",
    "    billing_project_id=\"basedosdados\",\n",
    "    reauth=False,\n",
    ")\n",
    "\n",
    "valor = 0\n",
    "\n",
    "for chunk in tqdm.tqdm(\n",
    "    pd.read_csv(\n",
    "        \"models/br_me_rais/input/RAIS_VINC_PUB_SUL/RAIS_VINC_PUB_SUL.txt\",\n",
    "        sep=\";\",\n",
    "        encoding=\"latin1\",\n",
    "        low_memory=False,\n",
    "        decimal=\",\",\n",
    "        chunksize=1000000,\n",
    "        dtype=str,\n",
    "    )\n",
    "):\n",
    "    valor = valor + 1\n",
    "    print(f\"Quantidade: {valor}\")\n",
    "\n",
    "    # ints = chunk.select_dtypes(include=[\"int64\", \"int32\", \"int16\"]).columns\n",
    "    # chunk[ints] = chunk[ints].apply(pd.to_numeric, downcast=\"integer\")\n",
    "\n",
    "    # floats = chunk.select_dtypes(include=[\"float\"]).columns\n",
    "    # chunk[floats] = chunk[floats].apply(pd.to_numeric, downcast=\"float\")\n",
    "\n",
    "    # objects = chunk.select_dtypes(\"object\").columns\n",
    "    # chunk[objects] = chunk[objects].apply(lambda x: x.astype(\"category\"))\n",
    "\n",
    "    chunk.rename(\n",
    "        columns={\n",
    "            \"Tipo Vínculo\": \"tipo_vinculo\",\n",
    "            \"Vínculo Ativo 31/12\": \"vinculo_ativo_3112\",\n",
    "            \"Tipo Admissão\": \"tipo_admissao\",\n",
    "            \"Mês Admissão\": \"mes_admissao\",\n",
    "            \"Mês Desligamento\": \"mes_desligamento\",\n",
    "            \"Motivo Desligamento\": \"motivo_desligamento\",\n",
    "            \"Causa Afastamento 1\": \"causa_desligamento_1\",\n",
    "            \"Causa Afastamento 2\": \"causa_desligamento_2\",\n",
    "            \"Causa Afastamento 3\": \"causa_desligamento_3\",\n",
    "            \"Faixa Tempo Emprego\": \"faixa_tempo_emprego\",\n",
    "            \"Tempo Emprego\": \"tempo_emprego\",\n",
    "            \"Faixa Hora Contrat\": \"faixa_horas_contratadas\",\n",
    "            \"Qtd Hora Contr\": \"quantidade_horas_contratadas\",\n",
    "            \"Mun Trab\": \"id_municipio_trabalho\",\n",
    "            \"Qtd Dias Afastamento\": \"quantidade_dias_afastamento\",\n",
    "            \"Ind CEI Vinculado\": \"indicador_cei_vinculado\",\n",
    "            \"Ind Trab Parcial\": \"indicador_trabalho_parcial\",\n",
    "            \"Ind Trab Intermitente\": \"indicador_trabalho_intermitente\",\n",
    "            \"Faixa Remun Média (SM)\": \"faixa_remuneracao_media_sm\",\n",
    "            \"Vl Remun Média (SM)\": \"valor_remuneracao_media_sm\",\n",
    "            \"Vl Remun Média Nom\": \"valor_remuneracao_media\",\n",
    "            \"Faixa Remun Dezem (SM)\": \"faixa_remuneracao_dezembro_sm\",\n",
    "            \"Vl Remun Dezembro (SM)\": \"valor_remuneracao_dezembro_sm\",\n",
    "            \"Vl Rem Janeiro SC\": \"valor_remuneracao_janeiro\",\n",
    "            \"Vl Rem Fevereiro SC\": \"valor_remuneracao_fevereiro\",\n",
    "            \"Vl Rem Março SC\": \"valor_remuneracao_marco\",\n",
    "            \"Vl Rem Abril SC\": \"valor_remuneracao_abril\",\n",
    "            \"Vl Rem Maio SC\": \"valor_remuneracao_maio\",\n",
    "            \"Vl Rem Junho SC\": \"valor_remuneracao_junho\",\n",
    "            \"Vl Rem Julho SC\": \"valor_remuneracao_julho\",\n",
    "            \"Vl Rem Agosto SC\": \"valor_remuneracao_agosto\",\n",
    "            \"Vl Rem Setembro SC\": \"valor_remuneracao_setembro\",\n",
    "            \"Vl Rem Outubro SC\": \"valor_remuneracao_outubro\",\n",
    "            \"Vl Rem Novembro SC\": \"valor_remuneracao_novembro\",\n",
    "            \"Vl Remun Dezembro Nom\": \"valor_remuneracao_dezembro\",\n",
    "            \"CBO Ocupação 2002\": \"cbo_2002\",\n",
    "            \"Faixa Etária\": \"faixa_etaria\",\n",
    "            \"Idade\": \"idade\",\n",
    "            \"Escolaridade após 2005\": \"grau_instrucao_apos_2005\",\n",
    "            \"Nacionalidade\": \"nacionalidade\",\n",
    "            \"Sexo Trabalhador\": \"sexo\",\n",
    "            \"Raça Cor\": \"raca_cor\",\n",
    "            \"Ind Portador Defic\": \"indicador_portador_deficiencia\",\n",
    "            \"Tipo Defic\": \"tipo_deficiencia\",\n",
    "            \"Ano Chegada Brasil\": \"ano_chegada_brasil\",\n",
    "            \"IBGE Subsetor\": \"subsetor_ibge\",\n",
    "            \"CNAE 95 Classe\": \"cnae_1\",\n",
    "            \"CNAE 2.0 Classe\": \"cnae_2\",\n",
    "            \"CNAE 2.0 Subclasse\": \"cnae_2_subclasse\",\n",
    "            \"Tamanho Estabelecimento\": \"tamanho_estabelecimento\",\n",
    "            \"Tipo Estab\": \"tipo_estabelecimento\",\n",
    "            \"Natureza Jurídica\": \"natureza_juridica\",\n",
    "            \"Ind Simples\": \"indicador_simples\",\n",
    "            \"Bairros SP\": \"bairros_sp\",\n",
    "            \"Distritos SP\": \"distritos_sp\",\n",
    "            \"Bairros Fortaleza\": \"bairros_fortaleza\",\n",
    "            \"Bairros RJ\": \"bairros_rj\",\n",
    "            \"Regiões Adm DF\": \"regioes_administrativas_df\",\n",
    "            \"Município\": \"municipio\",\n",
    "        },\n",
    "        inplace=True,\n",
    "    )\n",
    "\n",
    "    chunk[\"ano\"] = 2024\n",
    "\n",
    "    chunk[[\"municipio\", \"id_municipio_trabalho\"]] = chunk[\n",
    "        [\"municipio\", \"id_municipio_trabalho\"]\n",
    "    ].astype(str)\n",
    "\n",
    "    # Mescla com o arquivo de municípios\n",
    "\n",
    "    chunk = pd.merge(\n",
    "        chunk,\n",
    "        df_municipio,\n",
    "        left_on=[\"municipio\"],\n",
    "        right_on=[\"id_municipio_6\"],\n",
    "        how=\"left\",\n",
    "    )\n",
    "\n",
    "    chunk = pd.merge(\n",
    "        chunk,\n",
    "        df_municipio,\n",
    "        left_on=[\"id_municipio_trabalho\"],\n",
    "        right_on=[\"id_municipio_6\"],\n",
    "        how=\"left\",\n",
    "    )\n",
    "\n",
    "    chunk.drop(\n",
    "        [\n",
    "            \"id_municipio_trabalho\",\n",
    "            \"municipio\",\n",
    "            \"id_municipio_6_x\",\n",
    "            \"id_municipio_6_y\",\n",
    "            \"sigla_uf_y\",\n",
    "        ],\n",
    "        axis=1,\n",
    "        inplace=True,\n",
    "    )\n",
    "\n",
    "    chunk.rename(\n",
    "        columns={\n",
    "            \"id_municipio_x\": \"id_municipio\",\n",
    "            \"sigla_uf_x\": \"sigla_uf\",\n",
    "            \"id_municipio_y\": \"id_municipio_trabalho\",\n",
    "        },\n",
    "        inplace=True,\n",
    "    )\n",
    "\n",
    "    chunk[\"sigla_uf\"].replace([np.nan, \"NI\"], \"IGNORADO\", inplace=True)\n",
    "\n",
    "    vars_list = [\n",
    "        \"ano\",\n",
    "        \"sigla_uf\",\n",
    "        \"id_municipio\",\n",
    "        \"tipo_vinculo\",\n",
    "        \"vinculo_ativo_3112\",\n",
    "        \"tipo_admissao\",\n",
    "        \"mes_admissao\",\n",
    "        \"mes_desligamento\",\n",
    "        \"motivo_desligamento\",\n",
    "        \"causa_desligamento_1\",\n",
    "        \"causa_desligamento_2\",\n",
    "        \"causa_desligamento_3\",\n",
    "        \"faixa_tempo_emprego\",\n",
    "        \"tempo_emprego\",\n",
    "        \"faixa_horas_contratadas\",\n",
    "        \"quantidade_horas_contratadas\",\n",
    "        \"id_municipio_trabalho\",\n",
    "        \"quantidade_dias_afastamento\",\n",
    "        \"indicador_cei_vinculado\",\n",
    "        \"indicador_trabalho_parcial\",\n",
    "        \"indicador_trabalho_intermitente\",\n",
    "        \"faixa_remuneracao_media_sm\",\n",
    "        \"valor_remuneracao_media_sm\",\n",
    "        \"valor_remuneracao_media\",\n",
    "        \"faixa_remuneracao_dezembro_sm\",\n",
    "        \"valor_remuneracao_dezembro_sm\",\n",
    "        \"valor_remuneracao_janeiro\",\n",
    "        \"valor_remuneracao_fevereiro\",\n",
    "        \"valor_remuneracao_marco\",\n",
    "        \"valor_remuneracao_abril\",\n",
    "        \"valor_remuneracao_maio\",\n",
    "        \"valor_remuneracao_junho\",\n",
    "        \"valor_remuneracao_julho\",\n",
    "        \"valor_remuneracao_agosto\",\n",
    "        \"valor_remuneracao_setembro\",\n",
    "        \"valor_remuneracao_outubro\",\n",
    "        \"valor_remuneracao_novembro\",\n",
    "        \"valor_remuneracao_dezembro\",\n",
    "        \"tipo_salario\",\n",
    "        \"valor_salario_contratual\",\n",
    "        \"subatividade_ibge\",\n",
    "        \"subsetor_ibge\",\n",
    "        \"cbo_1994\",\n",
    "        \"cbo_2002\",\n",
    "        \"cnae_1\",\n",
    "        \"cnae_2\",\n",
    "        \"cnae_2_subclasse\",\n",
    "        \"faixa_etaria\",\n",
    "        \"idade\",\n",
    "        \"grau_instrucao_1985_2005\",\n",
    "        \"grau_instrucao_apos_2005\",\n",
    "        \"nacionalidade\",\n",
    "        \"sexo\",\n",
    "        \"raca_cor\",\n",
    "        \"indicador_portador_deficiencia\",\n",
    "        \"tipo_deficiencia\",\n",
    "        \"ano_chegada_brasil\",\n",
    "        \"tamanho_estabelecimento\",\n",
    "        \"tipo_estabelecimento\",\n",
    "        \"natureza_juridica\",\n",
    "        \"indicador_simples\",\n",
    "        \"bairros_sp\",\n",
    "        \"distritos_sp\",\n",
    "        \"bairros_fortaleza\",\n",
    "        \"bairros_rj\",\n",
    "        \"regioes_administrativas_df\",\n",
    "    ]\n",
    "\n",
    "    for var in vars_list:\n",
    "        if var not in chunk.columns:\n",
    "            chunk[var] = \"\"\n",
    "\n",
    "    chunk = chunk[vars_list]\n",
    "\n",
    "    # Limpeza de variáveis\n",
    "    chunk = chunk.applymap(lambda x: x.strip() if isinstance(x, str) else x)\n",
    "\n",
    "    # Limpeza de códigos inválidos\n",
    "\n",
    "    invalid_codes_bairros = [\n",
    "        \"0000\",\n",
    "        \"00000\",\n",
    "        \"000000\",\n",
    "        \"0000000\",\n",
    "        \"0000-1\",\n",
    "        \"000-1\",\n",
    "        \"9999\",\n",
    "        \"9997\",\n",
    "    ]\n",
    "    for col in [\n",
    "        \"bairros_rj\",\n",
    "        \"bairros_sp\",\n",
    "        \"bairros_fortaleza\",\n",
    "        \"distritos_sp\",\n",
    "        \"regioes_administrativas_df\",\n",
    "    ]:\n",
    "        chunk[col].replace(invalid_codes_bairros, \"\", inplace=True)\n",
    "\n",
    "    # Mais substituições de códigos\n",
    "\n",
    "    invalid_codes_general = [\n",
    "        \"0000\",\n",
    "        \"00000\",\n",
    "        \"000000\",\n",
    "        \"0000000\",\n",
    "        \"0000-1\",\n",
    "        \"000-1\",\n",
    "    ]\n",
    "\n",
    "    for col in [\n",
    "        \"cbo_1994\",\n",
    "        \"cbo_2002\",\n",
    "        \"cnae_1\",\n",
    "        \"cnae_2\",\n",
    "        \"cnae_2_subclasse\",\n",
    "        \"ano_chegada_brasil\",\n",
    "    ]:\n",
    "        chunk[col].replace(invalid_codes_general, \"\", inplace=True)\n",
    "\n",
    "    chunk[\"mes_admissao\"].replace(\"00\", \"\", inplace=True)\n",
    "\n",
    "    chunk[\"mes_desligamento\"].replace(\"00\", \"\", inplace=True)\n",
    "\n",
    "    chunk[\"motivo_desligamento\"].replace(\"0\", \"\", inplace=True)\n",
    "\n",
    "    chunk[\"causa_desligamento_1\"].replace(\"99\", \"\", inplace=True)\n",
    "\n",
    "    chunk[\"raca_cor\"].replace(\"99\", \"9\", inplace=True)\n",
    "\n",
    "    # Ajustes adicionais\n",
    "\n",
    "    chunk[\"natureza_juridica\"].replace([\"9990\", \"9999\"], \"\", inplace=True)\n",
    "\n",
    "    chunk[\"tipo_estabelecimento\"] = chunk[\"tipo_estabelecimento\"].replace(\n",
    "        [\"CNPJ\", \"Cnpj\", \"01\", \"1\"], \"1\"\n",
    "    )\n",
    "\n",
    "    chunk[\"tipo_estabelecimento\"] = chunk[\"tipo_estabelecimento\"].replace(\n",
    "        \"CAEPF\", \"2\"\n",
    "    )\n",
    "\n",
    "    chunk[\"tipo_estabelecimento\"] = chunk[\"tipo_estabelecimento\"].replace(\n",
    "        [\"CEI\", \"Cei\", \"CEI/CNO\", \"Cei/Cno\", \"CNO\", \"Cno\", \"03\", \"3\"], \"3\"\n",
    "    )\n",
    "\n",
    "    # Conversão de valores monetários\n",
    "\n",
    "    monetary_vars = [\n",
    "        \"tempo_emprego\",\n",
    "        \"valor_remuneracao_janeiro\",\n",
    "        \"valor_remuneracao_fevereiro\",\n",
    "        \"valor_remuneracao_marco\",\n",
    "        \"valor_remuneracao_abril\",\n",
    "        \"valor_remuneracao_maio\",\n",
    "        \"valor_remuneracao_junho\",\n",
    "        \"valor_remuneracao_julho\",\n",
    "        \"valor_remuneracao_agosto\",\n",
    "        \"valor_remuneracao_setembro\",\n",
    "        \"valor_remuneracao_outubro\",\n",
    "        \"valor_remuneracao_novembro\",\n",
    "        \"valor_remuneracao_dezembro\",\n",
    "        # \"valor_salario_contratual\",\n",
    "        \"valor_remuneracao_dezembro_sm\",\n",
    "        \"valor_remuneracao_media\",\n",
    "        \"valor_remuneracao_media_sm\",\n",
    "    ]\n",
    "\n",
    "    for var in monetary_vars:\n",
    "        chunk[var] = (\n",
    "            chunk[var]\n",
    "            .astype(str)  # Converte a coluna para string\n",
    "            .str.replace(\",\", \".\", regex=False)\n",
    "            .replace(\"n/d\", np.nan)  # Substitui vírgulas por pontos\n",
    "            .astype(float)  # Converte para float\n",
    "        )\n",
    "\n",
    "    to_partitions(\n",
    "        data=chunk,\n",
    "        partition_columns=[\"ano\", \"sigla_uf\"],\n",
    "        savepath=\"models/br_me_rais/output\",\n",
    "        file_type=\"csv\",\n",
    "    )\n",
    "\n",
    "    del chunk\n",
    "\n",
    "    gc.collect()"
   ]
  },
  {
   "cell_type": "code",
   "execution_count": null,
   "metadata": {},
   "outputs": [],
   "source": [
    "df = pd.read_csv(\"models/br_me_rais/output/ano=2023/sigla_uf=SP/data.csv\")"
   ]
  },
  {
   "cell_type": "code",
   "execution_count": 16,
   "metadata": {},
   "outputs": [
    {
     "data": {
      "text/plain": [
       "mes_admissao\n",
       "10.0    1240\n",
       "9.0      769\n",
       "8.0      380\n",
       "11.0     355\n",
       "12.0     315\n",
       "6.0      237\n",
       "5.0      179\n",
       "7.0      157\n",
       "4.0      152\n",
       "3.0       73\n",
       "2.0       45\n",
       "1.0       37\n",
       "Name: count, dtype: int64"
      ]
     },
     "execution_count": 16,
     "metadata": {},
     "output_type": "execute_result"
    }
   ],
   "source": [
    "df[\"mes_admissao\"].value_counts()"
   ]
  },
  {
   "cell_type": "code",
   "execution_count": 10,
   "metadata": {},
   "outputs": [
    {
     "name": "stdout",
     "output_type": "stream",
     "text": [
      "22467129\n"
     ]
    }
   ],
   "source": [
    "import pandas as pd\n",
    "\n",
    "df = pd.read_csv(\n",
    "    \"models/br_me_rais/output/ano=2023/sigla_uf=SP/data.csv\",\n",
    "    usecols=[\"mes_admissao\"],\n",
    ")\n",
    "print(len(df))"
   ]
  },
  {
   "cell_type": "code",
   "execution_count": 12,
   "metadata": {},
   "outputs": [
    {
     "data": {
      "text/plain": [
       "array([nan,  5.,  6.,  8.,  1.,  3.,  2., 11., 12., 10.,  4.,  9.,  7.])"
      ]
     },
     "execution_count": 12,
     "metadata": {},
     "output_type": "execute_result"
    }
   ],
   "source": [
    "df[\"mes_admissao\"].unique()"
   ]
  },
  {
   "cell_type": "code",
   "execution_count": null,
   "metadata": {},
   "outputs": [
    {
     "data": {
      "text/html": [
       "<div>\n",
       "<style scoped>\n",
       "    .dataframe tbody tr th:only-of-type {\n",
       "        vertical-align: middle;\n",
       "    }\n",
       "\n",
       "    .dataframe tbody tr th {\n",
       "        vertical-align: top;\n",
       "    }\n",
       "\n",
       "    .dataframe thead th {\n",
       "        text-align: right;\n",
       "    }\n",
       "</style>\n",
       "<table border=\"1\" class=\"dataframe\">\n",
       "  <thead>\n",
       "    <tr style=\"text-align: right;\">\n",
       "      <th></th>\n",
       "      <th>id_municipio</th>\n",
       "      <th>tipo_vinculo</th>\n",
       "      <th>vinculo_ativo_3112</th>\n",
       "      <th>tipo_admissao</th>\n",
       "      <th>mes_admissao</th>\n",
       "      <th>mes_desligamento</th>\n",
       "      <th>motivo_desligamento</th>\n",
       "      <th>causa_desligamento_1</th>\n",
       "      <th>causa_desligamento_2</th>\n",
       "      <th>causa_desligamento_3</th>\n",
       "      <th>...</th>\n",
       "      <th>ano_chegada_brasil</th>\n",
       "      <th>tamanho_estabelecimento</th>\n",
       "      <th>tipo_estabelecimento</th>\n",
       "      <th>natureza_juridica</th>\n",
       "      <th>indicador_simples</th>\n",
       "      <th>bairros_sp</th>\n",
       "      <th>distritos_sp</th>\n",
       "      <th>bairros_fortaleza</th>\n",
       "      <th>bairros_rj</th>\n",
       "      <th>regioes_administrativas_df</th>\n",
       "    </tr>\n",
       "  </thead>\n",
       "  <tbody>\n",
       "    <tr>\n",
       "      <th>0</th>\n",
       "      <td>4106902</td>\n",
       "      <td>60</td>\n",
       "      <td>0</td>\n",
       "      <td>2</td>\n",
       "      <td>2.0</td>\n",
       "      <td>2</td>\n",
       "      <td>12</td>\n",
       "      <td>NaN</td>\n",
       "      <td>99</td>\n",
       "      <td>99</td>\n",
       "      <td>...</td>\n",
       "      <td>1198</td>\n",
       "      <td>9</td>\n",
       "      <td>1</td>\n",
       "      <td>2062.0</td>\n",
       "      <td>0</td>\n",
       "      <td>NaN</td>\n",
       "      <td>NaN</td>\n",
       "      <td>NaN</td>\n",
       "      <td>NaN</td>\n",
       "      <td>NaN</td>\n",
       "    </tr>\n",
       "    <tr>\n",
       "      <th>1</th>\n",
       "      <td>4119905</td>\n",
       "      <td>10</td>\n",
       "      <td>0</td>\n",
       "      <td>0</td>\n",
       "      <td>NaN</td>\n",
       "      <td>1</td>\n",
       "      <td>31</td>\n",
       "      <td>NaN</td>\n",
       "      <td>99</td>\n",
       "      <td>99</td>\n",
       "      <td>...</td>\n",
       "      <td>1198</td>\n",
       "      <td>1</td>\n",
       "      <td>1</td>\n",
       "      <td>2062.0</td>\n",
       "      <td>1</td>\n",
       "      <td>NaN</td>\n",
       "      <td>NaN</td>\n",
       "      <td>NaN</td>\n",
       "      <td>NaN</td>\n",
       "      <td>NaN</td>\n",
       "    </tr>\n",
       "    <tr>\n",
       "      <th>2</th>\n",
       "      <td>4119905</td>\n",
       "      <td>10</td>\n",
       "      <td>0</td>\n",
       "      <td>0</td>\n",
       "      <td>NaN</td>\n",
       "      <td>1</td>\n",
       "      <td>10</td>\n",
       "      <td>NaN</td>\n",
       "      <td>99</td>\n",
       "      <td>99</td>\n",
       "      <td>...</td>\n",
       "      <td>1198</td>\n",
       "      <td>9</td>\n",
       "      <td>1</td>\n",
       "      <td>2062.0</td>\n",
       "      <td>0</td>\n",
       "      <td>NaN</td>\n",
       "      <td>NaN</td>\n",
       "      <td>NaN</td>\n",
       "      <td>NaN</td>\n",
       "      <td>NaN</td>\n",
       "    </tr>\n",
       "    <tr>\n",
       "      <th>3</th>\n",
       "      <td>4106902</td>\n",
       "      <td>60</td>\n",
       "      <td>0</td>\n",
       "      <td>2</td>\n",
       "      <td>2.0</td>\n",
       "      <td>2</td>\n",
       "      <td>21</td>\n",
       "      <td>NaN</td>\n",
       "      <td>99</td>\n",
       "      <td>99</td>\n",
       "      <td>...</td>\n",
       "      <td>1198</td>\n",
       "      <td>7</td>\n",
       "      <td>1</td>\n",
       "      <td>2135.0</td>\n",
       "      <td>1</td>\n",
       "      <td>NaN</td>\n",
       "      <td>NaN</td>\n",
       "      <td>NaN</td>\n",
       "      <td>NaN</td>\n",
       "      <td>NaN</td>\n",
       "    </tr>\n",
       "    <tr>\n",
       "      <th>4</th>\n",
       "      <td>4115705</td>\n",
       "      <td>10</td>\n",
       "      <td>0</td>\n",
       "      <td>0</td>\n",
       "      <td>NaN</td>\n",
       "      <td>1</td>\n",
       "      <td>11</td>\n",
       "      <td>NaN</td>\n",
       "      <td>99</td>\n",
       "      <td>99</td>\n",
       "      <td>...</td>\n",
       "      <td>1198</td>\n",
       "      <td>3</td>\n",
       "      <td>1</td>\n",
       "      <td>2062.0</td>\n",
       "      <td>1</td>\n",
       "      <td>NaN</td>\n",
       "      <td>NaN</td>\n",
       "      <td>NaN</td>\n",
       "      <td>NaN</td>\n",
       "      <td>NaN</td>\n",
       "    </tr>\n",
       "  </tbody>\n",
       "</table>\n",
       "<p>5 rows × 64 columns</p>\n",
       "</div>"
      ],
      "text/plain": [
       "   id_municipio  tipo_vinculo  vinculo_ativo_3112  tipo_admissao  \\\n",
       "0       4106902            60                   0              2   \n",
       "1       4119905            10                   0              0   \n",
       "2       4119905            10                   0              0   \n",
       "3       4106902            60                   0              2   \n",
       "4       4115705            10                   0              0   \n",
       "\n",
       "   mes_admissao  mes_desligamento  motivo_desligamento  causa_desligamento_1  \\\n",
       "0           2.0                 2                   12                   NaN   \n",
       "1           NaN                 1                   31                   NaN   \n",
       "2           NaN                 1                   10                   NaN   \n",
       "3           2.0                 2                   21                   NaN   \n",
       "4           NaN                 1                   11                   NaN   \n",
       "\n",
       "   causa_desligamento_2  causa_desligamento_3  ...  ano_chegada_brasil  \\\n",
       "0                    99                    99  ...                1198   \n",
       "1                    99                    99  ...                1198   \n",
       "2                    99                    99  ...                1198   \n",
       "3                    99                    99  ...                1198   \n",
       "4                    99                    99  ...                1198   \n",
       "\n",
       "   tamanho_estabelecimento  tipo_estabelecimento  natureza_juridica  \\\n",
       "0                        9                     1             2062.0   \n",
       "1                        1                     1             2062.0   \n",
       "2                        9                     1             2062.0   \n",
       "3                        7                     1             2135.0   \n",
       "4                        3                     1             2062.0   \n",
       "\n",
       "   indicador_simples  bairros_sp  distritos_sp  bairros_fortaleza  bairros_rj  \\\n",
       "0                  0         NaN           NaN                NaN         NaN   \n",
       "1                  1         NaN           NaN                NaN         NaN   \n",
       "2                  0         NaN           NaN                NaN         NaN   \n",
       "3                  1         NaN           NaN                NaN         NaN   \n",
       "4                  1         NaN           NaN                NaN         NaN   \n",
       "\n",
       "   regioes_administrativas_df  \n",
       "0                         NaN  \n",
       "1                         NaN  \n",
       "2                         NaN  \n",
       "3                         NaN  \n",
       "4                         NaN  \n",
       "\n",
       "[5 rows x 64 columns]"
      ]
     },
     "execution_count": 7,
     "metadata": {},
     "output_type": "execute_result"
    }
   ],
   "source": [
    "df.head()"
   ]
  },
  {
   "cell_type": "code",
   "execution_count": 8,
   "metadata": {},
   "outputs": [
    {
     "data": {
      "text/plain": [
       "(500000, 64)"
      ]
     },
     "execution_count": 8,
     "metadata": {},
     "output_type": "execute_result"
    }
   ],
   "source": [
    "df.shape"
   ]
  },
  {
   "cell_type": "code",
   "execution_count": 8,
   "metadata": {},
   "outputs": [
    {
     "data": {
      "text/plain": [
       "mes_admissao\n",
       "2.0     30074\n",
       "1.0     29350\n",
       "3.0     26637\n",
       "4.0     26141\n",
       "5.0     22571\n",
       "6.0     22098\n",
       "7.0     21781\n",
       "8.0     19086\n",
       "9.0     17164\n",
       "10.0    14019\n",
       "11.0     7873\n",
       "12.0     2273\n",
       "Name: count, dtype: int64"
      ]
     },
     "execution_count": 9,
     "metadata": {},
     "output_type": "execute_result"
    }
   ],
   "source": [
    "df[\"mes_admissao\"].value_counts()"
   ]
  }
 ],
 "metadata": {
  "kernelspec": {
   "display_name": "pipelines-py3.10",
   "language": "python",
   "name": "python3"
  },
  "language_info": {
   "codemirror_mode": {
    "name": "ipython",
    "version": 3
   },
   "file_extension": ".py",
   "mimetype": "text/x-python",
   "name": "python",
   "nbconvert_exporter": "python",
   "pygments_lexer": "ipython3",
   "version": "3.10.12"
  }
 },
 "nbformat": 4,
 "nbformat_minor": 2
}
