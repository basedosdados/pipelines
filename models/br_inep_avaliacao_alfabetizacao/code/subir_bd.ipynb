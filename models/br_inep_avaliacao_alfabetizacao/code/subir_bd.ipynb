{
 "cells": [
  {
   "cell_type": "code",
   "execution_count": 1,
   "id": "7fb27b941602401d91542211134fc71a",
   "metadata": {},
   "outputs": [
    {
     "name": "stderr",
     "output_type": "stream",
     "text": [
      "/home/laribrito/BD/pipelines/.venv/lib/python3.10/site-packages/requests/__init__.py:102: RequestsDependencyWarning: urllib3 (1.26.20) or chardet (5.2.0)/charset_normalizer (2.0.9) doesn't match a supported version!\n",
      "  warnings.warn(\"urllib3 ({}) or chardet ({})/charset_normalizer ({}) doesn't match a supported \"\n"
     ]
    }
   ],
   "source": [
    "import os\n",
    "\n",
    "from basedosdados import Table"
   ]
  },
  {
   "cell_type": "code",
   "execution_count": 2,
   "id": "acae54e37e7d407bbb7b55eff062a284",
   "metadata": {},
   "outputs": [],
   "source": [
    "output_dir = os.path.join(\n",
    "    \"models\", \"br_inep_avaliacao_alfabetizacao\", \"output\"\n",
    ")\n",
    "os.makedirs(output_dir, exist_ok=True)"
   ]
  },
  {
   "cell_type": "code",
   "execution_count": 4,
   "id": "9a63283cbaf04dbcab1f6479b197f3a8",
   "metadata": {},
   "outputs": [
    {
     "data": {
      "text/plain": [
       "'models/br_inep_avaliacao_alfabetizacao/output'"
      ]
     },
     "execution_count": 4,
     "metadata": {},
     "output_type": "execute_result"
    }
   ],
   "source": [
    "output_dir"
   ]
  },
  {
   "cell_type": "code",
   "execution_count": 3,
   "id": "8dd0d8092fe74a7c96281538738b07e2",
   "metadata": {},
   "outputs": [],
   "source": [
    "DATASET_ID = \"br_inep_avaliacao_alfabetizacao\"  # Nome do dataset\n",
    "\n",
    "tabelas = {\n",
    "    # \"alunos\": os.path.join(output_dir, \"alunos.csv\"),\n",
    "    # \"municipio\": os.path.join(output_dir, \"municipio.csv\"),\n",
    "    # \"uf\": os.path.join(output_dir, \"uf.csv\"),\n",
    "    # \"meta_alfabetizacao_brasil\": os.path.join(output_dir, \"meta_alfabetizacao_brasil.csv\"),\n",
    "    # \"meta_alfabetizacao_municipio\": os.path.join(output_dir, \"meta_alfabetizacao_municipio.csv\"),\n",
    "    # \"meta_alfabetizacao_uf\": os.path.join(output_dir, \"meta_alfabetizacao_uf.csv\"),\n",
    "    \"dicionario\": os.path.join(output_dir, \"dicionario.csv\"),\n",
    "}"
   ]
  },
  {
   "cell_type": "code",
   "execution_count": 4,
   "id": "72eea5119410473aa328ad9291626812",
   "metadata": {},
   "outputs": [
    {
     "name": "stderr",
     "output_type": "stream",
     "text": [
      "Uploading files:   0%|          | 0/1 [00:00<?, ?it/s]\u001b[32m2025-09-26 14:31:02.489\u001b[0m | \u001b[32m\u001b[1mSUCCESS \u001b[0m | \u001b[36mbasedosdados.upload.storage\u001b[0m:\u001b[36mupload\u001b[0m:\u001b[36m233\u001b[0m - \u001b[32m\u001b[1m File dicionario.csv_staging was uploaded!\u001b[0m\n",
      "Uploading files: 100%|██████████| 1/1 [00:01<00:00,  1.43s/it]\n",
      "\u001b[32m2025-09-26 14:31:05.695\u001b[0m | \u001b[33m\u001b[1mWARNING \u001b[0m | \u001b[36mbasedosdados.upload.table\u001b[0m:\u001b[36m_load_staging_schema_from_data\u001b[0m:\u001b[36m105\u001b[0m - \u001b[33m\u001b[1m Table dicionario allready exists, replacing schema!\u001b[0m\n",
      "\u001b[32m2025-09-26 14:31:06.884\u001b[0m | \u001b[1mINFO    \u001b[0m | \u001b[36mbasedosdados.upload.table\u001b[0m:\u001b[36mdelete\u001b[0m:\u001b[36m809\u001b[0m - \u001b[1m Table dicionario_staging was deleted!\u001b[0m\n",
      "\u001b[32m2025-09-26 14:31:07.262\u001b[0m | \u001b[32m\u001b[1mSUCCESS \u001b[0m | \u001b[36mbasedosdados.upload.table\u001b[0m:\u001b[36mcreate\u001b[0m:\u001b[36m690\u001b[0m - \u001b[32m\u001b[1mTable dicionario was created in staging!\u001b[0m\n"
     ]
    },
    {
     "name": "stdout",
     "output_type": "stream",
     "text": [
      "Tabela dicionario criada com sucesso!\n"
     ]
    }
   ],
   "source": [
    "# Criar tabelas\n",
    "for table_id, path_to_data in tabelas.items():\n",
    "    tb = Table(dataset_id=DATASET_ID, table_id=table_id)\n",
    "    tb.create(\n",
    "        path=path_to_data,\n",
    "        if_storage_data_exists=\"replace\",\n",
    "        if_table_exists=\"replace\",\n",
    "        source_format=\"csv\",\n",
    "    )\n",
    "    print(f\"Tabela {table_id} criada com sucesso!\")"
   ]
  },
  {
   "cell_type": "code",
   "execution_count": null,
   "id": "8edb47106e1a46a883d545849b8ab81b",
   "metadata": {},
   "outputs": [
    {
     "name": "stdout",
     "output_type": "stream",
     "text": [
      "Files successfully created for br_inep_avaliacao_alfabetizacao at /home/laribrito/BD/pipelines/models/br_inep_avaliacao_alfabetizacao/schema.yml\n",
      "SQL files created!\n",
      "dbt_project successfully updated with br_inep_avaliacao_alfabetizacao!\n"
     ]
    }
   ],
   "source": [
    "from databasers_utils import TableArchitecture\n",
    "\n",
    "arch = TableArchitecture(\n",
    "    dataset_id=\"br_inep_avaliacao_alfabetizacao\",\n",
    "    tables={\n",
    "        # \"municipio\":\"https://docs.google.com/spreadsheets/d/1ugVFkNkotfTHxG5d8FvmQE_thoAKWA2t3DI8hIxN6HA/edit?usp=sharing\",\n",
    "        # \"uf\":\"https://docs.google.com/spreadsheets/d/1smjfhWhLJruzCdlqM15BU6VtzpNw-PwBexL-23mcY-Y/edit?gid=0#gid=0\",\n",
    "        # \"alunos\":\"https://docs.google.com/spreadsheets/d/1T8A38FT24SofmbbzQxFGLNJmva1x5w87DoBk70bXNe8/edit?gid=0#gid=0\",\n",
    "        # \"meta_alfabetizacao_brasil\":\"https://docs.google.com/spreadsheets/d/1-t5N3SE1TAyHWdjMJ5ychBh2kA0rhxRN0zIWMH0jA8k/edit?usp=sharing\",\n",
    "        # \"dicionario\":\"https://docs.google.com/spreadsheets/d/1nkojHh8IMDtoHAhWQvKLft39wVok-4OeqVI86azHbpo/edit?usp=sharing\"  ,\n",
    "        # \"meta_alfabetizacao_uf\": \"https://docs.google.com/spreadsheets/d/1L5u69GlfdbzXeXIum64_nzMw1Hd3aGiYzQ1YZNQ7eNc/edit?usp=sharing\",\n",
    "        # \"meta_alfabetizacao_municipio\": \"https://docs.google.com/spreadsheets/d/1x-g1iyF4HG8ttr-KoshXffdeL_EEmLq8_nWVrwNY_u4/edit?usp=sharing\",\n",
    "    },\n",
    ")\n",
    "\n",
    "# Cria o yaml file\n",
    "arch.create_yaml_file()\n",
    "\n",
    "# Cria os arquivos sql\n",
    "arch.create_sql_files()\n",
    "\n",
    "# Atualiza o dbt_project.yml\n",
    "arch.update_dbt_project()\n",
    "\n",
    "# Faz o upload das colunas para o DJango\n",
    "# Para essa etapa é necessário ter duas varíaveis de ambiente configurada\n",
    "# BD_DJANGO_EMAIL=\"seuemail@basedosdados.org\"\n",
    "# BD_DJANGO_PASSWORD=\"password\"\n",
    "# arch.upload_columns()"
   ]
  }
 ],
 "metadata": {
  "kernelspec": {
   "display_name": "pipelines (3.10.16)",
   "language": "python",
   "name": "python3"
  },
  "language_info": {
   "codemirror_mode": {
    "name": "ipython",
    "version": 3
   },
   "file_extension": ".py",
   "mimetype": "text/x-python",
   "name": "python",
   "nbconvert_exporter": "python",
   "pygments_lexer": "ipython3",
   "version": "3.10.16"
  }
 },
 "nbformat": 4,
 "nbformat_minor": 5
}
