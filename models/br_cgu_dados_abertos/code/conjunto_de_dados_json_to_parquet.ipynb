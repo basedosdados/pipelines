{
 "cells": [
  {
   "cell_type": "code",
   "execution_count": 1,
   "metadata": {},
   "outputs": [],
   "source": [
    "import pandas as pd\n",
    "import json\n",
    "from glob import glob\n",
    "from collections import OrderedDict\n",
    "\n",
    "data_list = []\n",
    "for temp_json_path in glob('./json/conjunto/*.json'):\n",
    "    with open(temp_json_path, 'r') as f:\n",
    "        data = json.load(f)\n",
    "        temp_dict = OrderedDict()\n",
    "        for registro in data[\"registros\"]:\n",
    "            temp_dict[\"id\"] = registro[\"id\"]\n",
    "            temp_dict[\"titulo\"] = registro[\"title\"]\n",
    "            temp_dict[\"nome\" ] = registro[\"name\"]\n",
    "            temp_dict[\"descricao\"] = registro[\"notes\"]\n",
    "            temp_dict[\"mantenedor\"] = registro[\"maintainer\"]\n",
    "            temp_dict[\"email_mantenedor\"] = registro[\"maintainerEmail\"]\n",
    "            temp_dict[\"id_organizacao_responsavel\"] = registro[\"ownerOrg\"]\n",
    "            temp_dict[\"organizacao_responsavel\"] = registro[\"organizationTitle\"]\n",
    "            temp_dict[\"data_criacao\"] = registro[\"dataCriacao\"]\n",
    "            temp_dict[\"data_atualizacao\"] = registro[\"dataAtualizacao\"]\n",
    "            temp_dict[\"quantidade_reusos\"] = registro[\"quantidadeReusos\"]\n",
    "            temp_dict[\"quantidade_recursos\"] = registro[\"quantidadeRecursos\"]\n",
    "            temp_dict[\"quantidade_downloads\"] = registro[\"quantidadeDownloads\"]\n",
    "            data_list.append(dict(temp_dict))\n",
    "            temp_dict.clear()"
   ]
  },
  {
   "cell_type": "code",
   "execution_count": 2,
   "metadata": {},
   "outputs": [],
   "source": [
    "final_df = pd.DataFrame(data_list)\n",
    "final_df.to_parquet('./parquet/conjunto.parquet', index=False)"
   ]
  },
  {
   "cell_type": "code",
   "execution_count": 12,
   "metadata": {},
   "outputs": [
    {
     "data": {
      "text/plain": [
       "id                                         09b89c7a-6b19-4cdf-934f-a96a167ed9f9\n",
       "titulo                                  Filmes e sessões da Programadora Brasil\n",
       "nome                                    filmes-e-sessoes-da-programadora-brasil\n",
       "descricao                     A Programadora Brasil nasceu em 2006, como um ...\n",
       "mantenedor                                                                     \n",
       "email_mantenedor                                                               \n",
       "id_organizacao_responsavel                 092a0be2-5ba0-4f9a-ad17-0293e302e70e\n",
       "organizacao_responsavel                          Secretaria Especial da Cultura\n",
       "data_criacao                                                25/05/2021 19:45:06\n",
       "data_atualizacao                                            25/05/2021 16:45:06\n",
       "quantidade_reusos                                                             0\n",
       "quantidade_recursos                                                           5\n",
       "quantidade_downloads                                                        137\n",
       "Name: 200, dtype: object"
      ]
     },
     "execution_count": 12,
     "metadata": {},
     "output_type": "execute_result"
    }
   ],
   "source": [
    "final_df.iloc[200, :]"
   ]
  },
  {
   "cell_type": "code",
   "execution_count": null,
   "metadata": {},
   "outputs": [],
   "source": []
  }
 ],
 "metadata": {
  "kernelspec": {
   "display_name": "Python 3",
   "language": "python",
   "name": "python3"
  },
  "language_info": {
   "codemirror_mode": {
    "name": "ipython",
    "version": 3
   },
   "file_extension": ".py",
   "mimetype": "text/x-python",
   "name": "python",
   "nbconvert_exporter": "python",
   "pygments_lexer": "ipython3",
   "version": "3.11.6"
  }
 },
 "nbformat": 4,
 "nbformat_minor": 2
}
