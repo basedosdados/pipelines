{
 "cells": [
  {
   "cell_type": "code",
   "execution_count": 5,
   "metadata": {},
   "outputs": [],
   "source": [
    "import pandas as pd\n",
    "import requests\n",
    "from io import BytesIO\n"
   ]
  },
  {
   "cell_type": "code",
   "execution_count": null,
   "metadata": {},
   "outputs": [],
   "source": [
    "urls = {\n",
    "    'ncm' : 'https://balanca.economia.gov.br/balanca/bd/tabelas/NCM.csv',\n",
    "    'sh4': 'https://balanca.economia.gov.br/balanca/bd/tabelas/NCM_SH.csv'\n",
    "    }\n",
    "\n",
    "for k in urls:\n",
    "    print(f'Baixando tabela {k}')\n",
    "    \n",
    "    response = requests.get(urls[k], verify=False)\n",
    "    if response.status_code == 200:\n",
    "        \n",
    "        data = BytesIO(response.content)\n",
    "        df = pd.read_csv(data, encoding='latin-1', sep=';', dtype = str)\n",
    "        df.to_csv(\n",
    "            f'{k}.csv',\n",
    "            index=False,\n",
    "            encoding = 'utf-8',\n",
    "            sep=',',   \n",
    "        )\n",
    "    else:\n",
    "        print(f'Erro! O status da requisição foi {response.status_code}')\n",
    "\n",
    "    "
   ]
  }
 ],
 "metadata": {
  "kernelspec": {
   "display_name": "bd_pipelines",
   "language": "python",
   "name": "python3"
  },
  "language_info": {
   "codemirror_mode": {
    "name": "ipython",
    "version": 3
   },
   "file_extension": ".py",
   "mimetype": "text/x-python",
   "name": "python",
   "nbconvert_exporter": "python",
   "pygments_lexer": "ipython3",
   "version": "3.9.15"
  }
 },
 "nbformat": 4,
 "nbformat_minor": 2
}
